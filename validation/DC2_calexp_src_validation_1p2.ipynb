{
 "cells": [
  {
   "cell_type": "markdown",
   "metadata": {},
   "source": [
    "# Validation tests for DC2 1.2i/p `calexp` and `src`"
   ]
  },
  {
   "cell_type": "markdown",
   "metadata": {},
   "source": [
    "**Author:** Javier Sánchez\n",
    "\n",
    "**Date last run:** Oct-24-2018\n",
    "\n",
    "**Goals:** Make astrometry and photometry quality checks on 1.2i/p single-epoch data"
   ]
  },
  {
   "cell_type": "markdown",
   "metadata": {},
   "source": [
    "All the plots in this notebook can be made with 1.2p as well. You just have to change the `data_imsim` variable to point to the 1.2p repository (`'/global/cscratch1/sd/desc/DC2/data/Run1.2p/rerun/210918/'`) and the kernel to `desc-stack-run1.2p`"
   ]
  },
  {
   "cell_type": "code",
   "execution_count": null,
   "metadata": {},
   "outputs": [],
   "source": [
    "%pylab inline"
   ]
  },
  {
   "cell_type": "code",
   "execution_count": null,
   "metadata": {},
   "outputs": [],
   "source": [
    "import lsst.daf.persistence\n",
    "import GCR\n",
    "import GCRCatalogs\n",
    "import healpy as hp\n",
    "import pandas as pd\n",
    "import astropy.io.fits as fits\n",
    "from astropy.wcs import WCS\n",
    "import os\n",
    "import fitsio\n",
    "from scipy.stats import binned_statistic"
   ]
  },
  {
   "cell_type": "markdown",
   "metadata": {},
   "source": [
    "We use sklearn to build the catalog matcher"
   ]
  },
  {
   "cell_type": "code",
   "execution_count": null,
   "metadata": {},
   "outputs": [],
   "source": [
    "from sklearn.neighbors import KDTree"
   ]
  },
  {
   "cell_type": "markdown",
   "metadata": {},
   "source": [
    "We check the directory where the 1.2i data calexps live"
   ]
  },
  {
   "cell_type": "code",
   "execution_count": null,
   "metadata": {},
   "outputs": [],
   "source": [
    "data_imsim = '/global/cscratch1/sd/desc/DC2/data/Run1.2i/rerun/20181007_h'"
   ]
  },
  {
   "cell_type": "code",
   "execution_count": null,
   "metadata": {},
   "outputs": [],
   "source": [
    "butler = lsst.daf.persistence.Butler(data_imsim)"
   ]
  },
  {
   "cell_type": "markdown",
   "metadata": {},
   "source": [
    "The convenience function `subset` returns a list with the dictionaries to get a specific subset (in this case a list of all the dictionaries that are used to reference the `src` catalogs using the butler)."
   ]
  },
  {
   "cell_type": "code",
   "execution_count": null,
   "metadata": {},
   "outputs": [],
   "source": [
    "datarefs = butler.subset('src')"
   ]
  },
  {
   "cell_type": "code",
   "execution_count": null,
   "metadata": {},
   "outputs": [],
   "source": [
    "print(len(datarefs.cache))"
   ]
  },
  {
   "cell_type": "markdown",
   "metadata": {},
   "source": [
    "We have over 32,000 sensor-visits available. We can check which ones have complete sensors or the number of visits per filter."
   ]
  },
  {
   "cell_type": "code",
   "execution_count": null,
   "metadata": {},
   "outputs": [],
   "source": [
    "from collections import Counter\n",
    "#Trick from @Yao:\n",
    "#print(Counter((d['filter'] for d in datarefs.cache)))\n",
    "print(Counter((d['visit'] for d in datarefs.cache)))"
   ]
  },
  {
   "cell_type": "markdown",
   "metadata": {},
   "source": [
    "Now, we are going to load the catalog that is going to act as benchmark for our validation tests. In this case, we can use either `dc2_truth_run1.2_static` or `dc2_reference_run1.2`. We can check which other catalogs are available by running `GCRCatalogs.available catalogs`."
   ]
  },
  {
   "cell_type": "code",
   "execution_count": null,
   "metadata": {},
   "outputs": [],
   "source": [
    "#GCRCatalogs.available_catalogs"
   ]
  },
  {
   "cell_type": "code",
   "execution_count": null,
   "metadata": {},
   "outputs": [],
   "source": [
    "#gc = GCRCatalogs.load_catalog('dc2_truth_run1.2_static')\n",
    "gc = GCRCatalogs.load_catalog('dc2_reference_run1.2')"
   ]
  },
  {
   "cell_type": "markdown",
   "metadata": {},
   "source": [
    "Let's see the quantities that these catalogs contain"
   ]
  },
  {
   "cell_type": "code",
   "execution_count": null,
   "metadata": {},
   "outputs": [],
   "source": [
    "gc.list_all_quantities()"
   ]
  },
  {
   "cell_type": "markdown",
   "metadata": {},
   "source": [
    "We will load position and magnitudes from the benchmark catalog(s)"
   ]
  },
  {
   "cell_type": "code",
   "execution_count": null,
   "metadata": {},
   "outputs": [],
   "source": [
    "# Uncomment the top row (and comment the bottom row) if you want to use the truth catalog instead of the reference catalog\n",
    "#data = gc.get_quantities(['ra','dec','mag_true_u','mag_true_g','mag_true_r','mag_true_i','mag_true_z','mag_true_y','object_id','star','sprinkled'])\n",
    "data = gc.get_quantities(['ra','dec','mag_u_lsst','mag_g_lsst','mag_r_lsst','mag_i_lsst','mag_z_lsst','mag_y_lsst','object_id','is_resolved'])"
   ]
  },
  {
   "cell_type": "code",
   "execution_count": null,
   "metadata": {},
   "outputs": [],
   "source": [
    "# We create some columns so we can mix and match the catalogs\n",
    "data['star']=~data['is_resolved']\n",
    "for band in ['u','g','r','i','z','y']:\n",
    "    data['mag_true_%s' %band] = data['mag_%s_lsst' %band]"
   ]
  },
  {
   "cell_type": "code",
   "execution_count": null,
   "metadata": {},
   "outputs": [],
   "source": [
    "from astropy.visualization import ZScaleInterval, ImageNormalize, SqrtStretch\n",
    "def plot_ref_image(xmin, xmax, ymin, ymax,reference,x,y,x2,y2,mag_true,mag_meas,savename, vmin=-5, vmax=5, show_marker=True):\n",
    "    \"\"\"Routine to produce plots of the image in a region from xmin\n",
    "    to xmax, and ymin to ymax of the reference image\n",
    "    and annotating the position of three more different catalogs\n",
    "    (for example input objects, detected stars, and detected galaxies)\n",
    "\n",
    "    Args:\n",
    "    ----\n",
    "        xmin: `float` minimum X position in the chip to be shown\n",
    "        xmax: `float` maximum X position in the chip to be shown\n",
    "        ymin: `float` minimum Y position in the chip to be shown\n",
    "        ymax: `float` maximum Y position in the chip to be shown\n",
    "        reference: `HDU` HDU containing the image to be analyzed\n",
    "        x, x2, x3: `float` arrays of X positions to be marked on the image\n",
    "        y, y2, y3: `float` arrays of Y positions to be marked on the image\n",
    "        vmin: `float` minimum of the color scale\n",
    "        vmax: `float` maximum of the color scale\n",
    "    \"\"\"\n",
    "    #interval = ZScaleInterval()\n",
    "    #norm = ImageNormalize(reference[ymin:ymax,xmin:xmax], interval=interval,stretch=SqrtStretch())\n",
    "    fig, ax = plt.subplots(ncols=1,figsize=(14,14))\n",
    "    plt.xlim(xmin,xmax)\n",
    "    plt.ylim(ymin,ymax)\n",
    "    if show_marker:\n",
    "        im0 = ax.scatter(x+1,y+1,c=mag_true,label='True',s=90,marker='x',vmin=vmin,vmax=vmax)\n",
    "        fig.colorbar(im0, ax=ax, shrink=1,label='mag')\n",
    "        im1 = ax.scatter(x2+1,y2+1,c=mag_meas,label='imSim',s=90,marker='+',vmin=vmin,vmax=vmax)\n",
    "    #fig.colorbar(im1, ax=ax, shrink=1,label='mag$_{PSF}$')\n",
    "    #ax.plot(x2+1,y2+1,'+',c='r',label='ImSim',markersize=12)\n",
    "    #ax.plot(x3+1,y3+1,'o',c='orange',label='ImSim',markersize=8,fillstyle='none')\n",
    "    ax.grid()\n",
    "    plt.legend(loc='best')\n",
    "    im = ax.imshow(reference[ymin:ymax,xmin:xmax],extent=[xmin,xmax,ymin,ymax],cmap='gray', origin=\"lower\",vmin=vmin,vmax=vmax, interpolation='none')\n",
    "    fig.colorbar(im, ax=ax, shrink=1,label='Pixel counts [ADU]')\n",
    "    fig.savefig(savename)"
   ]
  },
  {
   "cell_type": "markdown",
   "metadata": {},
   "source": [
    "Now we are going to load 189 sensor-visits using the butler. We just choose a subset of the columns, you can check which columns are available in the catalog using `src_cat.schema`"
   ]
  },
  {
   "cell_type": "code",
   "execution_count": null,
   "metadata": {},
   "outputs": [],
   "source": [
    "band = 'r'\n",
    "ra_true = data['ra']\n",
    "dec_true = data['dec']\n",
    "mag_true = data['mag_true_%s' %band]\n",
    "verbose=False\n",
    "ra_imsim = []\n",
    "dec_imsim = []\n",
    "nchild_imsim = []\n",
    "mag_k_imsim = []\n",
    "mag_k_err_imsim = []\n",
    "flux_k_imsim = []\n",
    "flux_k_err_imsim = []\n",
    "mag_sdss = []\n",
    "mag_sdss_err = []\n",
    "x_im = []\n",
    "y_im = []\n",
    "in_footprint = []\n",
    "mag_aper = []\n",
    "mag_psf = []\n",
    "extendedness= []\n",
    "isphoto = []\n",
    "isastro = []\n",
    "ixx_i = []\n",
    "iyy_i = []\n",
    "ixy_i = []\n",
    "ipsf_xx_i = []\n",
    "ipsf_yy_i = []\n",
    "ipsf_xy_i = []\n",
    "e1_i = []\n",
    "e2_i = []\n",
    "icount=0\n",
    "#visit_arr = [159494,185783,193824]\n",
    "# The visits in the list below are examples of visits that have all sensors simulated\n",
    "visit_arr = [32678, 181900, 185783, 191127, 191145, 193824, 197425, 200739, 200747, 204595]\n",
    "imax = 189\n",
    "for i, visitId in enumerate(datarefs.cache):\n",
    "    if ((visitId['filter']==band) & (icount<imax)) & (visitId['visit'] in visit_arr):\n",
    "        raft = visitId['raftName']\n",
    "        sensor = visitId['detectorName']\n",
    "        sensor_index = '%03d' % visitId['detector'] # Kind of a bad way to access the WCS...\n",
    "        #print(raft,sensor,sensor_index)\n",
    "        visit = '%08d' % visitId['visit']\n",
    "        filename = visit+'-'+visitId['filter']+'/'+raft+'/calexp_'+visit+'-'+visitId['filter']+'-'+raft+'-'+sensor+'-det'+sensor_index+'.fits'\n",
    "        filename = os.path.join(data_imsim,'calexp',filename)\n",
    "        if (os.path.isfile(filename)) & (icount<imax) & (visitId['visit'] in visit_arr):\n",
    "            #ref = fits.open(filename)[1].header\n",
    "            src_cat = butler.get('src',visitId)\n",
    "            calexp = butler.get('calexp',visitId)\n",
    "            calib = calexp.getCalib()\n",
    "            #print(calib.getFluxMag0(),calexp.getVariance())\n",
    "            calib.setThrowOnNegativeFlux(False)\n",
    "            w = WCS(calexp.getWcs().getFitsMetadata().toDict())\n",
    "            #w = WCS(ref)\n",
    "            #print(w.wcs.crval)\n",
    "            ra_min = w.wcs.crval[0]-0.2\n",
    "            ra_max = w.wcs.crval[0]+0.2\n",
    "            dec_min = w.wcs.crval[1]-0.2\n",
    "            dec_max = w.wcs.crval[1]+0.2\n",
    "            mask_true = np.where((ra_true>=ra_min) & (ra_true<=ra_max) & (dec_true>=dec_min) & (dec_true<=dec_max))[0]\n",
    "            #print('Selected', np.count_nonzero(mask_true))\n",
    "            x_true, y_true = w.all_world2pix(ra_true[mask_true],dec_true[mask_true],0.,ra_dec_order=True)\n",
    "            mask_2 = np.where((x_true>0) & (x_true<4001) & (y_true>0) & (y_true<4073))[0]\n",
    "            in_footprint.append(mask_true[mask_2])\n",
    "            nchild_imsim.append(src_cat.get('deblend_nChild'))\n",
    "            ra_imsim.append(np.degrees(src_cat.get('coord_ra')))\n",
    "            dec_imsim.append(np.degrees(src_cat.get('coord_dec')))\n",
    "            try:\n",
    "                mag_k_imsim.append(calib.getMagnitude(src_cat.get('ext_photometryKron_KronFlux_instFlux')))\n",
    "                mag_k_err_imsim.append(calib.getMagnitude(src_cat.get('ext_photometryKron_KronFlux_instFluxErr')))\n",
    "                flux_k_imsim.append(src_cat.get('base_PsfFlux_instFlux'))\n",
    "                flux_k_err_imsim.append(src_cat.get('base_PsfFlux_instFluxErr'))\n",
    "                mag_sdss.append(calib.getMagnitude(src_cat.get('base_SdssShape_instFlux')))\n",
    "                mag_sdss_err.append(calib.getMagnitude(src_cat.get('base_SdssShape_instFluxErr')))\n",
    "                mag_aper.append(calib.getMagnitude(src_cat.get('base_CircularApertureFlux_12_0_instFlux')))\n",
    "                mag_psf.append(calib.getMagnitude(src_cat.get('base_PsfFlux_instFlux')))\n",
    "                isphoto.append(src_cat.get('calib_photometry_used'))\n",
    "                isastro.append(src_cat.get('calib_astrometry_used'))\n",
    "            except:\n",
    "                mag_k_imsim.append(calib.getMagnitude(src_cat.get('ext_photometryKron_KronFlux_flux')))\n",
    "                mag_k_err_imsim.append(calib.getMagnitude(src_cat.get('ext_photometryKron_KronFlux_fluxSigma')))\n",
    "                flux_k_imsim.append(src_cat.get('base_PsfFlux_flux'))\n",
    "                flux_k_err_imsim.append(src_cat.get('base_PsfFlux_fluxSigma'))\n",
    "                mag_sdss.append(calib.getMagnitude(src_cat.get('base_SdssShape_flux')))\n",
    "                mag_sdss_err.append(calib.getMagnitude(src_cat.get('base_SdssShape_fluxSigma')))\n",
    "                mag_aper.append(calib.getMagnitude(src_cat.get('base_CircularApertureFlux_12_0_flux')))\n",
    "                mag_psf.append(calib.getMagnitude(src_cat.get('base_PsfFlux_flux')))\n",
    "                isphoto.append(src_cat.get('calib_photometry_used'))\n",
    "                isastro.append(src_cat.get('calib_astrometryUsed'))\n",
    "            x_im.append(src_cat.get('base_SdssCentroid_x'))\n",
    "            y_im.append(src_cat.get('base_SdssCentroid_y'))\n",
    "            extendedness.append(src_cat.get('base_ClassificationExtendedness_value'))\n",
    "            e1_i.append(src_cat.get('ext_shapeHSM_HsmShapeRegauss_e1'))\n",
    "            e2_i.append(src_cat.get('ext_shapeHSM_HsmShapeRegauss_e2'))\n",
    "            ixx_i.append(src_cat.get('base_SdssShape_xx'))\n",
    "            iyy_i.append(src_cat.get('base_SdssShape_yy'))\n",
    "            ixy_i.append(src_cat.get('base_SdssShape_xy'))\n",
    "            ipsf_xx_i.append(src_cat.get('base_SdssShape_psf_xx'))\n",
    "            ipsf_yy_i.append(src_cat.get('base_SdssShape_psf_yy'))\n",
    "            ipsf_xy_i.append(src_cat.get('base_SdssShape_psf_xy'))\n",
    "            icount=icount+1\n",
    "            if verbose:\n",
    "                print('Using', visitId)\n",
    "        else:\n",
    "            pass\n",
    "            #print('File ',filename, ' not found')"
   ]
  },
  {
   "cell_type": "markdown",
   "metadata": {},
   "source": [
    "Since we appended before, we got lists of arrays that we want to make just plain arrays using the trick below (maybe this is not the most efficient way to do it)."
   ]
  },
  {
   "cell_type": "code",
   "execution_count": null,
   "metadata": {},
   "outputs": [],
   "source": [
    "ra_imsim = np.concatenate(np.array(ra_imsim)).ravel()\n",
    "dec_imsim = np.concatenate(np.array(dec_imsim)).ravel()\n",
    "nchild_imsim = np.concatenate(np.array(nchild_imsim)).ravel()\n",
    "mag_k_imsim = np.concatenate(np.array(mag_k_imsim)).ravel()\n",
    "mag_k_err_imsim = np.concatenate(np.array(mag_k_err_imsim)).ravel()\n",
    "flux_k_imsim = np.concatenate(np.array(flux_k_imsim)).ravel()\n",
    "flux_k_err_imsim = np.concatenate(np.array(flux_k_err_imsim)).ravel()\n",
    "x_im = np.concatenate(np.array(x_im)).ravel()\n",
    "y_im = np.concatenate(np.array(y_im)).ravel()\n",
    "in_footprint = np.concatenate(np.array(in_footprint)).ravel()\n",
    "mag_sdss = np.concatenate(np.array(mag_sdss)).ravel()\n",
    "mag_sdss_err = np.concatenate(np.array(mag_sdss_err)).ravel()\n",
    "mag_aper = np.concatenate(np.array(mag_aper)).ravel()\n",
    "mag_psf = np.concatenate(np.array(mag_psf)).ravel()\n",
    "extendedness = np.concatenate(np.array(extendedness)).ravel()\n",
    "isphoto = np.concatenate(np.array(isphoto)).ravel()\n",
    "isastro = np.concatenate(np.array(isastro)).ravel()\n",
    "ixx_i = np.concatenate(np.array(ixx_i)).ravel()\n",
    "iyy_i = np.concatenate(np.array(iyy_i)).ravel()\n",
    "ixy_i = np.concatenate(np.array(ixy_i)).ravel()\n",
    "ipsf_xx_i = np.concatenate(np.array(ipsf_xx_i)).ravel()\n",
    "ipsf_yy_i = np.concatenate(np.array(ipsf_yy_i)).ravel()\n",
    "ipsf_xy_i = np.concatenate(np.array(ipsf_xy_i)).ravel()\n",
    "e1_i = np.concatenate(np.array(e1_i)).ravel()\n",
    "e2_i = np.concatenate(np.array(e2_i)).ravel()"
   ]
  },
  {
   "cell_type": "markdown",
   "metadata": {},
   "source": [
    "Let's take a look at our data!"
   ]
  },
  {
   "cell_type": "code",
   "execution_count": null,
   "metadata": {},
   "outputs": [],
   "source": [
    "plt.scatter(ra_imsim[::10],dec_imsim[::10],s=0.01)\n",
    "plt.xlabel('RA [deg]')\n",
    "plt.ylabel('DEC [deg]')"
   ]
  },
  {
   "cell_type": "code",
   "execution_count": null,
   "metadata": {},
   "outputs": [],
   "source": [
    "# We only use objects in the true catalog that lie within the FOV\n",
    "ra_true = ra_true[in_footprint]\n",
    "dec_true = dec_true[in_footprint]\n",
    "mag_true = mag_true[in_footprint]"
   ]
  },
  {
   "cell_type": "markdown",
   "metadata": {},
   "source": [
    "We are going to show a cutout of the 1.2i images and compare the input and output centroids and magnitudes."
   ]
  },
  {
   "cell_type": "code",
   "execution_count": null,
   "metadata": {
    "scrolled": false
   },
   "outputs": [],
   "source": [
    "mask = (nchild_imsim==0) & (ra_imsim>=54.7) & (ra_imsim<=55.6) & (dec_imsim>=-30.2) & (dec_imsim<=-29.4) & (mag_sdss>10) & (mag_sdss<20) \n",
    "mask_true = (ra_true>=54.7) & (ra_true<=55.6) & (dec_true>=-30.2) & (dec_true<=-29.4) & (mag_true>10) & (mag_true<30)\n",
    "try: \n",
    "    mag_test = calib.getMagnitude(src_cat.get('base_PsfFlux_instFlux'))\n",
    "except:\n",
    "    mag_test = calib.getMagnitude(src_cat.get('base_PsfFlux_flux'))\n",
    "mask = mag_test < 25\n",
    "x, y = w.all_world2pix(np.degrees(src_cat.get('coord_ra'))[mask],np.degrees(src_cat.get('coord_dec'))[mask],0.,ra_dec_order=True)\n",
    "ra_min = w.wcs.crval[0]-0.3\n",
    "ra_max = w.wcs.crval[0]+0.3\n",
    "dec_min = w.wcs.crval[1]-0.3\n",
    "dec_max = w.wcs.crval[1]+0.3\n",
    "mask_true2 = np.where((ra_true>=ra_min) & (ra_true<=ra_max) & (dec_true>=dec_min) & (dec_true<=dec_max) & (mag_true>0) & (mag_true<25))[0]\n",
    "x_true, y_true = w.all_world2pix(ra_true[mask_true2],dec_true[mask_true2],0.,ra_dec_order=True)\n",
    "plot_ref_image(600,1000,0,600,calexp.getImage().array,x_true,y_true,x,y,mag_true[mask_true2],mag_test[mask],'test',vmin=-25,vmax=30,show_marker=True)"
   ]
  },
  {
   "cell_type": "markdown",
   "metadata": {},
   "source": [
    "Now that we have loaded the input and output catalogs, we need to relate them. One way is via spatial matching using nearest neighbors"
   ]
  },
  {
   "cell_type": "code",
   "execution_count": null,
   "metadata": {},
   "outputs": [],
   "source": [
    "def spatial_closest_mag_1band(ra_data,dec_data,mag_data,\n",
    "                              ra_true,dec_true,mag_true,true_id,\n",
    "                              rmax=3,max_deltamag=1.):\n",
    "    \"\"\"\n",
    "    Function to return the closest match in magnitude within a user-defined radius within certain\n",
    "    magnitude difference.\n",
    "    \n",
    "    ***Caveats***: This method uses small angle approximation sin(theta)\n",
    "    ~ theta for the declination axis. This should be fine to find the closest\n",
    "    neighbor. This method does not use any weighting.\n",
    "    \n",
    "    Args:\n",
    "    -----\n",
    "    \n",
    "    ra_data: Right ascension of the measured objects (degrees).\n",
    "    dec_data: Declination of the measured objects (degrees).\n",
    "    mag_data: Measured magnitude of the objects.\n",
    "    ra_true: Right ascension of the true catalog (degrees).\n",
    "    dec_true: Declination of the true catalog (degrees).\n",
    "    mag_true: True magnitude of the true catalog.\n",
    "    true_id: Array of IDs in the true catalog.\n",
    "    rmax: Maximum distance in number of pixels to perform the query.\n",
    "    max_deltamag: Maximum magnitude difference for the match to be good.\n",
    "    \n",
    "    Returns:\n",
    "    --------\n",
    "    \n",
    "    dist: Distance to the closest neighbor in the true catalog. If inputs are\n",
    "    in degrees, the returned distance is in arcseconds.\n",
    "    true_id: ID in the true catalog for the closest match.\n",
    "    matched: True if matched, False if not matched.\n",
    "    \"\"\"\n",
    "    X = np.zeros((len(ra_true),2))\n",
    "    X[:,0] = ra_true\n",
    "    X[:,1] = dec_true\n",
    "    tree = KDTree(X,metric='euclidean')\n",
    "    Y = np.zeros((len(ra_data),2))\n",
    "    Y[:,0] = ra_data\n",
    "    Y[:,1] = dec_data\n",
    "    ind,dist= tree.query_radius(Y,r=rmax*0.2/3600,return_distance=True)\n",
    "    matched = np.zeros(len(ind),dtype=bool)\n",
    "    ids = np.zeros(len(ind),dtype=true_id.dtype)\n",
    "    dist_out = np.zeros(len(ind))\n",
    "    for i, ilist in enumerate(ind):\n",
    "        if len(ilist)>0:\n",
    "            dmag = np.fabs(mag_true[ilist]-mag_data[i])\n",
    "            good_ind = np.argmin(dmag)\n",
    "            ids[i]=true_id[ilist[good_ind]]\n",
    "            dist_out[i]=dist[i][good_ind]\n",
    "            if np.min(dmag)<max_deltamag:\n",
    "                matched[i]=True\n",
    "            else:\n",
    "                matched[i]=False\n",
    "        else:\n",
    "            ids[i]=-99\n",
    "            matched[i]=False\n",
    "            dist_out[i]=-99.\n",
    "    return dist_out*3600., ids,matched"
   ]
  },
  {
   "cell_type": "code",
   "execution_count": null,
   "metadata": {},
   "outputs": [],
   "source": [
    "dd, ind_mag, matched = spatial_closest_mag_1band(ra_imsim[nchild_imsim==0],dec_imsim[nchild_imsim==0],mag_k_imsim[nchild_imsim==0],\n",
    "                              ra_true[mag_true<26],dec_true[mag_true<26],mag_true[mag_true<26],np.arange(np.count_nonzero(mag_true<26)),\n",
    "                              rmax=5,max_deltamag=1)"
   ]
  },
  {
   "cell_type": "code",
   "execution_count": null,
   "metadata": {},
   "outputs": [],
   "source": [
    "_, ind_true, matched = spatial_closest_mag_1band(ra_imsim[nchild_imsim==0],dec_imsim[nchild_imsim==0],mag_k_imsim[nchild_imsim==0],\n",
    "                              ra_true[mag_true<26],dec_true[mag_true<26],mag_true[mag_true<26],data['object_id'],\n",
    "                              rmax=5,max_deltamag=1)"
   ]
  },
  {
   "cell_type": "markdown",
   "metadata": {},
   "source": [
    "Almost 200,000 objects have been matched"
   ]
  },
  {
   "cell_type": "code",
   "execution_count": null,
   "metadata": {},
   "outputs": [],
   "source": [
    "len(ind_mag)"
   ]
  },
  {
   "cell_type": "markdown",
   "metadata": {},
   "source": [
    "The `calexps` contain some objects used for the photometric calibration. We are going to check the photometric residuals in these objects (`isphoto==True`)."
   ]
  },
  {
   "cell_type": "code",
   "execution_count": null,
   "metadata": {},
   "outputs": [],
   "source": [
    "plt.hist(mag_psf[nchild_imsim==0][(matched) & (isphoto[nchild_imsim==0]) &\n",
    "                                (data['star'][in_footprint][mag_true<26][ind_mag]==1)]-mag_true[mag_true<26][ind_mag][(matched) & (isphoto[nchild_imsim==0]) &\n",
    "                                                                                                                             (data['star'][in_footprint][mag_true<26][ind_mag]==1)],range=(-0.1,0.1),bins=100, histtype='step',label='stars')\n",
    "plt.hist(mag_psf[nchild_imsim==0][(matched) & (isphoto[nchild_imsim==0]) & \n",
    "                                   (data['star'][in_footprint][mag_true<26][ind_mag]==0)]-mag_true[mag_true<26][ind_mag][(matched) & \n",
    "                                                                                                                                (isphoto[nchild_imsim==0]) & (data['star'][in_footprint][mag_true<26][ind_mag]==0)],range=(-0.1,0.1),bins=100, histtype='step',label='galaxies')\n",
    "plt.xlabel('mag$_{PSF}$-mag$_{true}$',fontsize=14)\n",
    "plt.ylabel('Number of objects',fontsize=14)\n",
    "plt.legend(loc='best')"
   ]
  },
  {
   "cell_type": "markdown",
   "metadata": {},
   "source": [
    "The same happens for astrometry. We check the astrometric residuals for objects that have `isastro==True`."
   ]
  },
  {
   "cell_type": "code",
   "execution_count": null,
   "metadata": {},
   "outputs": [],
   "source": [
    "plt.hist(3600000*(ra_imsim[nchild_imsim==0][(matched) & (isastro[nchild_imsim==0]) &\n",
    "                                (data['star'][in_footprint][mag_true<26][ind_mag]==1)]-ra_true[mag_true<26][ind_mag][(matched) & (isastro[nchild_imsim==0]) &\n",
    "                                                                                                                             (data['star'][in_footprint][mag_true<26][ind_mag]==1)]),range=(-200,200),bins=200, histtype='step',label='RA stars')\n",
    "plt.hist(3600000*(ra_imsim[nchild_imsim==0][(matched) & (isastro[nchild_imsim==0]) & \n",
    "                                  (data['star'][in_footprint][mag_true<26][ind_mag]==0)]-ra_true[mag_true<26][ind_mag][(matched) & \n",
    "                                                                                                                                (isastro[nchild_imsim==0]) & (data['star'][in_footprint][mag_true<26][ind_mag]==0)]),range=(-200,200),bins=200, histtype='step',label='RA galaxies')\n",
    "plt.hist(3600000*(dec_imsim[nchild_imsim==0][(matched) & (isastro[nchild_imsim==0]) &\n",
    "                                (data['star'][in_footprint][mag_true<26][ind_mag]==1)]-dec_true[mag_true<26][ind_mag][(matched) & (isastro[nchild_imsim==0]) &\n",
    "                                                                                                                             (data['star'][in_footprint][mag_true<26][ind_mag]==1)]),range=(-200,200),bins=200, histtype='step',label='DEC stars')\n",
    "plt.hist(3600000*(dec_imsim[nchild_imsim==0][(matched) & (isastro[nchild_imsim==0]) & \n",
    "                                   (data['star'][in_footprint][mag_true<26][ind_mag]==0)]-dec_true[mag_true<26][ind_mag][(matched) & \n",
    "                                                                                                                                (isastro[nchild_imsim==0]) & (data['star'][in_footprint][mag_true<26][ind_mag]==0)]),range=(-200,200),bins=200, histtype='step',label='DEC galaxies')\n",
    "plt.xlim(-50,50)\n",
    "plt.xlabel(r'$\\Delta X $ [mas]',fontsize=14)\n",
    "plt.ylabel('Number of objects',fontsize=14)\n",
    "plt.legend(loc='best')"
   ]
  },
  {
   "cell_type": "markdown",
   "metadata": {},
   "source": [
    "Now, we are going to check the photometry for all detected objects matched to stars."
   ]
  },
  {
   "cell_type": "code",
   "execution_count": null,
   "metadata": {},
   "outputs": [],
   "source": [
    "mask_mag = (np.isnan(mag_psf[nchild_imsim==0])==False) & (matched) & (data['star'][in_footprint][mag_true<26][ind_mag]==True) # & (extendedness[nchild_imsim==0]==0)\n",
    "#mask_mag = (np.isnan(mag_psf[nchild_imsim==0])==False) & (matched) # & (extendedness[nchild_imsim==0]==0)"
   ]
  },
  {
   "cell_type": "code",
   "execution_count": null,
   "metadata": {},
   "outputs": [],
   "source": [
    "good_true = (mag_true<26) & (data['star'][in_footprint]==True) # & (data['is_agn'][in_footprint]==False)\n",
    "#good_true = (mag_true<26)"
   ]
  },
  {
   "cell_type": "code",
   "execution_count": null,
   "metadata": {},
   "outputs": [],
   "source": [
    "mean_snr, be, _ = binned_statistic(mag_true[mag_true<26][ind_mag][mask_mag],flux_k_imsim[nchild_imsim==0][mask_mag]/flux_k_err_imsim[nchild_imsim==0][mask_mag],range=(10,30),bins=50)\n",
    "mean_im, be, _ = binned_statistic(mag_true[mag_true<26][ind_mag][mask_mag],mag_psf[nchild_imsim==0][mask_mag]-mag_true[mag_true<26][ind_mag][mask_mag],range=(10,30),bins=50, statistic='median')\n",
    "std_im, be, _ = binned_statistic(mag_true[mag_true<26][ind_mag][mask_mag],mag_psf[nchild_imsim==0][mask_mag]-mag_true[mag_true<26][ind_mag][mask_mag],range=(10,30),bins=50,statistic='std')\n",
    "n_im, be, _ = binned_statistic(mag_true[mag_true<26][ind_mag][mask_mag],mag_psf[nchild_imsim==0][mask_mag]-mag_true[mag_true<26][ind_mag][mask_mag],range=(10,30),bins=50,statistic='count')\n",
    "n_true, be, _ = binned_statistic(mag_true[good_true],mag_true[good_true],range=(10,30),bins=50,statistic='count')"
   ]
  },
  {
   "cell_type": "code",
   "execution_count": null,
   "metadata": {},
   "outputs": [],
   "source": [
    "plt.errorbar(0.5*be[1:]+0.5*be[:-1],mean_im,std_im/np.sqrt(n_im),fmt='o',color='red')\n",
    "plt.hexbin(mag_true[mag_true<26][ind_mag][mask_mag],mag_k_imsim[nchild_imsim==0][mask_mag]-mag_true[mag_true<26][ind_mag][mask_mag],gridsize=200,extent=[14,26,-0.5,0.5])\n",
    "plt.xlabel('mag$_{true}$',fontsize=16)\n",
    "plt.ylabel('mag$_{PSF}$-mag$_{true}$',fontsize=16)\n",
    "plt.colorbar(label='Objects/bin')\n",
    "plt.grid()\n",
    "plt.ylim(-0.1,0.1)\n",
    "plt.xlim(14,26)"
   ]
  },
  {
   "cell_type": "markdown",
   "metadata": {},
   "source": [
    "Now, we are going to check the sources' sizes as a function of their magnitude and look for the presence of brighter-fatter effect."
   ]
  },
  {
   "cell_type": "code",
   "execution_count": null,
   "metadata": {},
   "outputs": [],
   "source": [
    "mean_im_t, be, _ = binned_statistic(mag_true[mag_true<26][ind_mag][mask_mag],0.2**2*(ixx_i[nchild_imsim==0][mask_mag]+iyy_i[nchild_imsim==0][mask_mag]),range=(10,30),bins=50, statistic='median')\n",
    "std_im_t, be, _ = binned_statistic(mag_true[mag_true<26][ind_mag][mask_mag],0.2**2*(ixx_i[nchild_imsim==0][mask_mag]+iyy_i[nchild_imsim==0][mask_mag]),range=(10,30),bins=50,statistic='std')\n",
    "n_im_t, be, _ = binned_statistic(mag_true[mag_true<26][ind_mag][mask_mag],0.2**2*(ixx_i[nchild_imsim==0][mask_mag]+iyy_i[nchild_imsim==0][mask_mag]),range=(10,30),bins=50,statistic='count')"
   ]
  },
  {
   "cell_type": "code",
   "execution_count": null,
   "metadata": {},
   "outputs": [],
   "source": [
    "plt.scatter(mag_true[mag_true<26][ind_mag][mask_mag],0.2**2*(ixx_i[nchild_imsim==0][mask_mag]+iyy_i[nchild_imsim==0][mask_mag]),c='b',s=0.4,alpha=0.2,label='stars')\n",
    "plt.scatter(mag_true[mag_true<26][ind_mag][~mask_mag],0.2**2*(ixx_i[nchild_imsim==0][~mask_mag]+iyy_i[nchild_imsim==0][~mask_mag]),c='r',s=0.4, alpha=0.2,label='galaxies')\n",
    "plt.errorbar(0.5*be[1:]+0.5*be[:-1],mean_im_t,std_im_t/np.sqrt(n_im_t),fmt='o',c='orange',label='stars median')\n",
    "plt.ylabel('$T$ [arcsec$^{2}$]',fontsize=16)\n",
    "plt.xlabel('mag$_{r,true}$',fontsize=16)\n",
    "plt.grid()\n",
    "plt.ylim(0.,1.)\n",
    "plt.xlim(14,24)\n",
    "plt.legend(loc='best')"
   ]
  },
  {
   "cell_type": "markdown",
   "metadata": {},
   "source": [
    "Let's zoom in!"
   ]
  },
  {
   "cell_type": "code",
   "execution_count": null,
   "metadata": {},
   "outputs": [],
   "source": [
    "bc = 0.5*(be[1:]+be[:-1])\n",
    "plt.errorbar(bc,mean_im_t-np.nanmean(mean_im_t[(bc>20) & (bc<22)]),std_im_t/np.sqrt(n_im_t),fmt='o')\n",
    "plt.ylabel(r'$\\Delta T$ [arcsec$^{2}$]',fontsize=16)\n",
    "plt.xlabel('mag$_{r,true}$',fontsize=16)\n",
    "plt.grid()\n",
    "plt.ylim(-0.01,0.01)"
   ]
  },
  {
   "cell_type": "markdown",
   "metadata": {},
   "source": [
    "We also want to check the overall astrometric quality for all sources. Let's take a look"
   ]
  },
  {
   "cell_type": "code",
   "execution_count": null,
   "metadata": {},
   "outputs": [],
   "source": [
    "plt.hist(3600000*(ra_imsim[nchild_imsim==0][mask_mag]-ra_true[mag_true<26][ind_mag][mask_mag]),bins=500,histtype='step',label='RA')\n",
    "plt.hist(3600000*(dec_imsim[nchild_imsim==0][mask_mag]-dec_true[mag_true<26][ind_mag][mask_mag]),bins=500,histtype='step',label='DEC')\n",
    "#plt.plot(np.ones(3)*np.median(3600000*(ra_imsim[nchild_imsim==0][mask_mag]-ra_true[mag_true<26][ind_mag][mask_mag])),np.linspace(0,100,3))\n",
    "plt.xlabel(r'$\\Delta X$ [mas]')\n",
    "plt.xlim(-100,100)\n",
    "#plt.ylim(0,80)\n",
    "plt.legend(loc='best')"
   ]
  },
  {
   "cell_type": "markdown",
   "metadata": {},
   "source": [
    "Since we are not at the equator, we expect the `RA` and `DEC` distributions to be different."
   ]
  },
  {
   "cell_type": "markdown",
   "metadata": {},
   "source": [
    "And let's check the overall magnitude differences:"
   ]
  },
  {
   "cell_type": "code",
   "execution_count": null,
   "metadata": {},
   "outputs": [],
   "source": [
    "plt.hist(mag_psf[nchild_imsim==0][mask_mag]-mag_true[mag_true<26][ind_mag][mask_mag],bins=500,histtype='step');\n",
    "plt.xlabel('mag$_{PSF}$-mag$_{true}$',fontsize=16)\n",
    "plt.xlim(-0.25,0.25)"
   ]
  },
  {
   "cell_type": "markdown",
   "metadata": {},
   "source": [
    "A very useful QA plot is to check the detection efficiency for stars as a function of magnitude:"
   ]
  },
  {
   "cell_type": "code",
   "execution_count": null,
   "metadata": {
    "scrolled": false
   },
   "outputs": [],
   "source": [
    "plt.errorbar(0.5*(be[1:]+be[:-1]),1.0*n_im/n_true,np.sqrt(n_im+n_true)/n_true,fmt='o')\n",
    "plt.xlabel('mag$_{true}$',fontsize=12)\n",
    "plt.ylabel('Detection efficiency (stars)',fontsize=12)\n",
    "plt.grid()"
   ]
  },
  {
   "cell_type": "markdown",
   "metadata": {},
   "source": [
    "Another useful QA plot is to construct a depth map:"
   ]
  },
  {
   "cell_type": "code",
   "execution_count": null,
   "metadata": {},
   "outputs": [],
   "source": [
    "def get_depth_map(ra,dec,mags,nside=128):\n",
    "    good = np.logical_or(np.logical_not(np.isnan(ra)),np.logical_not(np.isnan(dec)))\n",
    "    pix_nums = hp.ang2pix(nside,np.pi/2.-dec[good]*np.pi/180,ra[good]*np.pi/180)\n",
    "    map_out = np.zeros(12*nside**2)\n",
    "    for px in np.unique(pix_nums):\n",
    "        mask = px==pix_nums\n",
    "        if np.count_nonzero(mask)>0:\n",
    "            map_out[px]=np.max(mags[mask])\n",
    "        else:\n",
    "            map_out[px]=0.\n",
    "    return map_out"
   ]
  },
  {
   "cell_type": "code",
   "execution_count": null,
   "metadata": {},
   "outputs": [],
   "source": [
    "def make_hp_map(ra,dec,nside=128):\n",
    "    good = np.logical_or(np.logical_not(np.isnan(ra)),np.logical_not(np.isnan(dec)))\n",
    "    pix_nums = hp.ang2pix(nside,np.pi/2.-dec[good]*np.pi/180,ra[good]*np.pi/180)\n",
    "    pix_counts = np.bincount(pix_nums,minlength=12*nside**2)\n",
    "    return pix_counts"
   ]
  },
  {
   "cell_type": "code",
   "execution_count": null,
   "metadata": {},
   "outputs": [],
   "source": [
    "test_map = get_depth_map(ra_imsim[~np.isnan(mag_sdss)],dec_imsim[~np.isnan(mag_sdss)],mag_sdss[~np.isnan(mag_sdss)],nside=1024)"
   ]
  },
  {
   "cell_type": "code",
   "execution_count": null,
   "metadata": {},
   "outputs": [],
   "source": [
    "hp.gnomview(test_map, rot=(56, -30), title='Depth', reso=1.3, min=23, max=25, unit=r'5-$\\sigma$ depth')"
   ]
  },
  {
   "cell_type": "code",
   "execution_count": null,
   "metadata": {},
   "outputs": [],
   "source": [
    "plt.hist(test_map[test_map>0],range=(22,28),bins=100, histtype='step')\n",
    "plt.xlabel(r'5-$\\sigma$ depth', fontsize=16)"
   ]
  },
  {
   "cell_type": "code",
   "execution_count": null,
   "metadata": {},
   "outputs": [],
   "source": []
  }
 ],
 "metadata": {
  "kernelspec": {
   "display_name": "desc-stack-run1.2i",
   "language": "python",
   "name": "desc-stack-run1.2i"
  },
  "language_info": {
   "codemirror_mode": {
    "name": "ipython",
    "version": 3
   },
   "file_extension": ".py",
   "mimetype": "text/x-python",
   "name": "python",
   "nbconvert_exporter": "python",
   "pygments_lexer": "ipython3",
   "version": "3.6.6"
  }
 },
 "nbformat": 4,
 "nbformat_minor": 2
}

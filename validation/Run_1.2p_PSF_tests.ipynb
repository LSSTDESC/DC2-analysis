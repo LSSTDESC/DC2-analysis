{
 "cells": [
  {
   "cell_type": "markdown",
   "metadata": {},
   "source": [
    "# Validation tests on DC2 `calexps` and `src` catalogs"
   ]
  },
  {
   "cell_type": "markdown",
   "metadata": {},
   "source": [
    "Owner: Javier Sanchez (@fjaviersanchez on Slack and GitHub)\n",
    "Date Last Run: 11-19-2018\n",
    "\n",
    "This notebook is intended to document part of the ongoing validation work for the DC2 simulations. For more details please check [here](https://confluence.slac.stanford.edu/display/LSSTDESC/DC2+Data+Product+Overview). The code here can be adapted for other DC2 runs."
   ]
  },
  {
   "cell_type": "code",
   "execution_count": 8,
   "metadata": {},
   "outputs": [
    {
     "name": "stdout",
     "output_type": "stream",
     "text": [
      "Populating the interactive namespace from numpy and matplotlib\n"
     ]
    }
   ],
   "source": [
    "%pylab inline"
   ]
  },
  {
   "cell_type": "code",
   "execution_count": 9,
   "metadata": {},
   "outputs": [],
   "source": [
    "import lsst.daf.persistence"
   ]
  },
  {
   "cell_type": "code",
   "execution_count": 10,
   "metadata": {},
   "outputs": [],
   "source": [
    "from sklearn.neighbors import KDTree\n",
    "import pandas as pd\n",
    "import astropy.io.fits as fits\n",
    "from astropy.wcs import WCS\n",
    "import os\n",
    "from scipy.stats import binned_statistic"
   ]
  },
  {
   "cell_type": "code",
   "execution_count": 11,
   "metadata": {},
   "outputs": [],
   "source": [
    "import glob"
   ]
  },
  {
   "cell_type": "code",
   "execution_count": 12,
   "metadata": {},
   "outputs": [],
   "source": [
    "import matplotlib\n",
    "matplotlib.rcParams.update({'font.size': 14})"
   ]
  },
  {
   "cell_type": "markdown",
   "metadata": {},
   "source": [
    "We are going to read some calexps and the `OpSim` database to select interesting visits"
   ]
  },
  {
   "cell_type": "code",
   "execution_count": 13,
   "metadata": {},
   "outputs": [],
   "source": [
    "data_imsim = '/global/cscratch1/sd/desc/DC2/data/Run1.2p/w_2018_30/rerun/210918/'"
   ]
  },
  {
   "cell_type": "code",
   "execution_count": 14,
   "metadata": {},
   "outputs": [],
   "source": [
    "butler_i = lsst.daf.persistence.Butler(data_imsim)"
   ]
  },
  {
   "cell_type": "code",
   "execution_count": 15,
   "metadata": {},
   "outputs": [],
   "source": [
    "datarefs_i = butler_i.subset('calexp')"
   ]
  },
  {
   "cell_type": "code",
   "execution_count": null,
   "metadata": {},
   "outputs": [],
   "source": [
    "db_file = '/global/projecta/projectdirs/lsst/groups/SSim/DC2/minion_1016_desc_dithered_v4.db'"
   ]
  },
  {
   "cell_type": "code",
   "execution_count": null,
   "metadata": {},
   "outputs": [],
   "source": [
    "import sqlite3\n",
    "from sqlite3 import Error\n",
    " \n",
    "def create_connection(db_file):\n",
    "    try:\n",
    "        conn = sqlite3.connect(db_file)\n",
    "        return conn\n",
    "    except Error as e:\n",
    "        print(e)\n",
    " \n",
    "    return None"
   ]
  },
  {
   "cell_type": "code",
   "execution_count": null,
   "metadata": {},
   "outputs": [],
   "source": [
    "conn = create_connection(db_file)"
   ]
  },
  {
   "cell_type": "code",
   "execution_count": null,
   "metadata": {},
   "outputs": [],
   "source": [
    "def get_seeing_altitude(conn,visit):\n",
    "    cur = conn.cursor()\n",
    "    cur.execute(\"SELECT finSeeing, altitude FROM ObsHistory WHERE obsHistID==%d\" %(visit))\n",
    "    rows = cur.fetchall()\n",
    "    return rows[0][:]"
   ]
  },
  {
   "cell_type": "code",
   "execution_count": null,
   "metadata": {},
   "outputs": [],
   "source": [
    "def get_visits(conn,min_alt=80,min_seeing=0.60,max_seeing=0.8):\n",
    "    cur = conn.cursor()\n",
    "    cur.execute(\"SELECT obsHistID, filter FROM ObsHistory WHERE altitude>%f and finSeeing >%f and finSeeing < %f and filter='r'\" % (np.radians(min_alt),min_seeing,max_seeing))\n",
    "    return cur.fetchall()"
   ]
  },
  {
   "cell_type": "code",
   "execution_count": null,
   "metadata": {},
   "outputs": [],
   "source": [
    "import fitsio"
   ]
  },
  {
   "cell_type": "code",
   "execution_count": null,
   "metadata": {},
   "outputs": [],
   "source": [
    "good_visits = np.array(get_visits(conn))[:,0].astype(int)"
   ]
  },
  {
   "cell_type": "code",
   "execution_count": null,
   "metadata": {},
   "outputs": [],
   "source": [
    "len(good_visits)"
   ]
  },
  {
   "cell_type": "code",
   "execution_count": 16,
   "metadata": {},
   "outputs": [],
   "source": [
    "import GCRCatalogs"
   ]
  },
  {
   "cell_type": "code",
   "execution_count": null,
   "metadata": {},
   "outputs": [],
   "source": [
    "#gc = GCRCatalogs.load_catalog('dc2_truth_run1.2_static')"
   ]
  },
  {
   "cell_type": "code",
   "execution_count": 17,
   "metadata": {},
   "outputs": [
    {
     "name": "stderr",
     "output_type": "stream",
     "text": [
      "/opt/lsst/software/stack/python/miniconda3-4.5.4/envs/lsst-scipipe-10a4fa6/lib/python3.6/site-packages/GCRCatalogs/reference_catalog.py:67: UserWarning: genfromtxt: Empty input file: \"<_io.BufferedReader name='/global/projecta/projectdirs/lsst/groups/SSim/DC2/reference_catalogs/dc2_reference_catalog_dc2v3_fov4.txt'>\"\n",
      "  data = np.genfromtxt(f, self._data_dtype, delimiter=',', max_rows=self._nlines)\n"
     ]
    }
   ],
   "source": [
    "gc = GCRCatalogs.load_catalog('dc2_reference_run1.2')\n",
    "data = gc.get_quantities(['ra','dec','mag_u','mag_g','mag_r','mag_i','mag_z','mag_y','object_id','is_resolved','is_agn'])"
   ]
  },
  {
   "cell_type": "code",
   "execution_count": null,
   "metadata": {},
   "outputs": [],
   "source": [
    "from astropy.visualization import ZScaleInterval, ImageNormalize, SqrtStretch\n",
    "def plot_ref_image(xmin, xmax, ymin, ymax,reference,x,y,x2,y2,mag_true,mag_meas,savename, vmin=-5, vmax=5, show_marker=True):\n",
    "    \"\"\"Routine to produce plots of the image in a region from xmin\n",
    "    to xmax, and ymin to ymax of the reference image\n",
    "    and annotating the position of three more different catalogs\n",
    "    (for example input objects, detected stars, and detected galaxies)\n",
    "\n",
    "    Args:\n",
    "    ----\n",
    "        xmin: `float` minimum X position in the chip to be shown\n",
    "        xmax: `float` maximum X position in the chip to be shown\n",
    "        ymin: `float` minimum Y position in the chip to be shown\n",
    "        ymax: `float` maximum Y position in the chip to be shown\n",
    "        reference: `HDU` HDU containing the image to be analyzed\n",
    "        x, x2, x3: `float` arrays of X positions to be marked on the image\n",
    "        y, y2, y3: `float` arrays of Y positions to be marked on the image\n",
    "        vmin: `float` minimum of the color scale\n",
    "        vmax: `float` maximum of the color scale\n",
    "    \"\"\"\n",
    "    #interval = ZScaleInterval()\n",
    "    #norm = ImageNormalize(reference[ymin:ymax,xmin:xmax], interval=interval,stretch=SqrtStretch())\n",
    "    fig, ax = plt.subplots(ncols=1,figsize=(14,14))\n",
    "    plt.xlim(xmin,xmax)\n",
    "    plt.ylim(ymin,ymax)\n",
    "    if show_marker:\n",
    "        im0 = ax.scatter(x+1,y+1,c='b',label='imSim KNL',s=90,marker='x')\n",
    "        #fig.colorbar(im0, ax=ax, shrink=1,label='mag')\n",
    "        im1 = ax.scatter(x2+1,y2+1,c='r',label='imSim Haswell',s=90,marker='+')\n",
    "    #fig.colorbar(im1, ax=ax, shrink=1,label='mag$_{PSF}$')\n",
    "    #ax.plot(x2+1,y2+1,'+',c='r',label='ImSim',markersize=12)\n",
    "    #ax.plot(x3+1,y3+1,'o',c='orange',label='ImSim',markersize=8,fillstyle='none')\n",
    "    ax.grid()\n",
    "    plt.legend(loc='best')\n",
    "    im = ax.imshow(reference[ymin:ymax,xmin:xmax],extent=[xmin,xmax,ymin,ymax],cmap='gray', origin=\"lower\",vmin=vmin,vmax=vmax, interpolation='none')\n",
    "    fig.colorbar(im, ax=ax, shrink=1,label='Pixel counts [ADU]')\n",
    "    fig.savefig(savename)"
   ]
  },
  {
   "cell_type": "code",
   "execution_count": null,
   "metadata": {},
   "outputs": [],
   "source": [
    "visitno = []\n",
    "for visitId in datarefs_i.cache:\n",
    "    aux = visitId['visit']\n",
    "    if visitId['visit'] in good_visits:\n",
    "        #print(visitId)\n",
    "        visitno.append(aux)\n",
    "visitno=np.unique(visitno)"
   ]
  },
  {
   "cell_type": "code",
   "execution_count": null,
   "metadata": {},
   "outputs": [],
   "source": [
    "band = 'r'\n",
    "ra_imsim = []\n",
    "dec_imsim = []\n",
    "nchild_imsim = []\n",
    "mag_k_imsim = []\n",
    "mag_k_err_imsim = []\n",
    "flux_k_imsim = []\n",
    "flux_k_err_imsim = []\n",
    "mag_sdss = []\n",
    "mag_sdss_err = []\n",
    "mag_aper = []\n",
    "mag_psf = []\n",
    "extendedness= []\n",
    "isphoto = []\n",
    "ixx_i = []\n",
    "iyy_i = []\n",
    "ixy_i = []\n",
    "ipsf_xx_i = []\n",
    "ipsf_yy_i = []\n",
    "ipsf_xy_i = []\n",
    "e1_i = []\n",
    "e2_i = []\n",
    "icount_i=0\n",
    "for i, visitId in enumerate(datarefs_i.cache):\n",
    "    if (visitId['filter']==band) & (visitId['visit'] in visitno):\n",
    "        print('using', visitId)\n",
    "        src_cat = butler_i.get('src',visitId)\n",
    "        calexp = butler_i.get('calexp',visitId)\n",
    "        calib = calexp.getCalib()\n",
    "        calib.setThrowOnNegativeFlux(False)\n",
    "        nchild_imsim.append(src_cat.get('deblend_nChild'))\n",
    "        ra_imsim.append(np.degrees(src_cat.get('coord_ra')))\n",
    "        dec_imsim.append(np.degrees(src_cat.get('coord_dec')))\n",
    "        mag_k_imsim.append(calib.getMagnitude(src_cat.get('ext_photometryKron_KronFlux_flux')))\n",
    "        mag_k_err_imsim.append(calib.getMagnitude(src_cat.get('ext_photometryKron_KronFlux_fluxSigma')))\n",
    "        flux_k_imsim.append(src_cat.get('base_PsfFlux_flux'))\n",
    "        flux_k_err_imsim.append(src_cat.get('base_PsfFlux_fluxSigma'))\n",
    "        mag_sdss.append(calib.getMagnitude(src_cat.get('base_SdssShape_flux')))\n",
    "        mag_sdss_err.append(calib.getMagnitude(src_cat.get('base_SdssShape_fluxSigma')))\n",
    "        mag_aper.append(calib.getMagnitude(src_cat.get('base_CircularApertureFlux_12_0_flux')))\n",
    "        mag_psf.append(calib.getMagnitude(src_cat.get('base_PsfFlux_flux')))\n",
    "        extendedness.append(src_cat.get('base_ClassificationExtendedness_value'))\n",
    "        isphoto.append(src_cat.get('calib_photometry_used'))\n",
    "        e1_i.append(src_cat.get('ext_shapeHSM_HsmShapeRegauss_e1'))\n",
    "        e2_i.append(src_cat.get('ext_shapeHSM_HsmShapeRegauss_e2'))\n",
    "        ixx_i.append(src_cat.get('base_SdssShape_xx'))\n",
    "        iyy_i.append(src_cat.get('base_SdssShape_yy'))\n",
    "        ixy_i.append(src_cat.get('base_SdssShape_xy'))\n",
    "        ipsf_xx_i.append(src_cat.get('base_SdssShape_psf_xx'))\n",
    "        ipsf_yy_i.append(src_cat.get('base_SdssShape_psf_yy'))\n",
    "        ipsf_xy_i.append(src_cat.get('base_SdssShape_psf_xy'))\n",
    "        icount_i=icount_i+1\n",
    "    else:\n",
    "        pass"
   ]
  },
  {
   "cell_type": "code",
   "execution_count": null,
   "metadata": {},
   "outputs": [],
   "source": [
    "seeing, alt = get_seeing_altitude(conn,visitno)"
   ]
  },
  {
   "cell_type": "code",
   "execution_count": null,
   "metadata": {},
   "outputs": [],
   "source": [
    "seeing, np.degrees(alt)"
   ]
  },
  {
   "cell_type": "code",
   "execution_count": null,
   "metadata": {},
   "outputs": [],
   "source": [
    "ra_imsim = np.concatenate(np.array(ra_imsim)).ravel()\n",
    "dec_imsim = np.concatenate(np.array(dec_imsim)).ravel()\n",
    "nchild_imsim = np.concatenate(np.array(nchild_imsim)).ravel()\n",
    "mag_k_imsim = np.concatenate(np.array(mag_k_imsim)).ravel()\n",
    "mag_k_err_imsim = np.concatenate(np.array(mag_k_err_imsim)).ravel()\n",
    "flux_k_imsim = np.concatenate(np.array(flux_k_imsim)).ravel()\n",
    "flux_k_err_imsim = np.concatenate(np.array(flux_k_err_imsim)).ravel()\n",
    "mag_sdss = np.concatenate(np.array(mag_sdss)).ravel()\n",
    "mag_sdss_err = np.concatenate(np.array(mag_sdss_err)).ravel()\n",
    "mag_aper = np.concatenate(np.array(mag_aper)).ravel()\n",
    "mag_psf = np.concatenate(np.array(mag_psf)).ravel()\n",
    "extendedness = np.concatenate(np.array(extendedness)).ravel()\n",
    "isphoto = np.concatenate(np.array(isphoto)).ravel()\n",
    "ixx_i = np.concatenate(np.array(ixx_i)).ravel()\n",
    "iyy_i = np.concatenate(np.array(iyy_i)).ravel()\n",
    "ixy_i = np.concatenate(np.array(ixy_i)).ravel()\n",
    "ipsf_xx_i = np.concatenate(np.array(ipsf_xx_i)).ravel()\n",
    "ipsf_yy_i = np.concatenate(np.array(ipsf_yy_i)).ravel()\n",
    "ipsf_xy_i = np.concatenate(np.array(ipsf_xy_i)).ravel()\n",
    "e1_i = np.concatenate(np.array(e1_i)).ravel()\n",
    "e2_i = np.concatenate(np.array(e2_i)).ravel()"
   ]
  },
  {
   "cell_type": "markdown",
   "metadata": {},
   "source": [
    "We define a couple of routines to match input and output sources. These routines can be switched for any other matching algorithms"
   ]
  },
  {
   "cell_type": "code",
   "execution_count": null,
   "metadata": {},
   "outputs": [],
   "source": [
    "def spatial_closest(ra_data,dec_data,ra_true,dec_true,true_id):\n",
    "    \"\"\"\n",
    "    Function to return the closest match in magnitude within a user-defined radius within certain\n",
    "    magnitude difference.\n",
    "    \n",
    "    ***Caveats***: This method uses small angle approximation sin(theta)\n",
    "    ~ theta for the declination axis. This should be fine to find the closest\n",
    "    neighbor. This method does not use any weighting.\n",
    "    \n",
    "    Args:\n",
    "    -----\n",
    "    \n",
    "    ra_data: Right ascension of the measured objects (degrees).\n",
    "    dec_data: Declination of the measured objects (degrees).\n",
    "    ra_true: Right ascension of the true catalog (degrees).\n",
    "    dec_true: Declination of the true catalog (degrees).\n",
    "    true_id: Array of IDs in the true catalog.\n",
    "    \n",
    "    Returns:\n",
    "    --------\n",
    "    \n",
    "    dist: Distance to the closest neighbor in the true catalog. If inputs are\n",
    "    in degrees, the returned distance is in arcseconds.\n",
    "    true_id: ID in the true catalog for the closest match.\n",
    "    matched: True if matched, False if not matched.\n",
    "    \"\"\"\n",
    "    X = np.zeros((len(ra_true),2))\n",
    "    X[:,0] = ra_true\n",
    "    X[:,1] = dec_true\n",
    "    tree = KDTree(X,metric='euclidean')\n",
    "    Y = np.zeros((len(ra_data),2))\n",
    "    Y[:,0] = ra_data\n",
    "    Y[:,1] = dec_data\n",
    "    dist, ind= tree.query(Y,k=1)\n",
    "    dist_out = dist.flatten()\n",
    "    ids = true_id[np.array(ind).flatten()]\n",
    "    matched = np.ones(len(ind.flatten()),dtype=bool)\n",
    "    return dist_out*3600., ids,matched"
   ]
  },
  {
   "cell_type": "code",
   "execution_count": null,
   "metadata": {},
   "outputs": [],
   "source": [
    "def spatial_closest_mag_1band(ra_data,dec_data,mag_data,\n",
    "                              ra_true,dec_true,mag_true,true_id,\n",
    "                              rmax=3,max_deltamag=1.):\n",
    "    \"\"\"\n",
    "    Function to return the closest match in magnitude within a user-defined radius within certain\n",
    "    magnitude difference.\n",
    "    \n",
    "    ***Caveats***: This method uses small angle approximation sin(theta)\n",
    "    ~ theta for the declination axis. This should be fine to find the closest\n",
    "    neighbor. This method does not use any weighting.\n",
    "    \n",
    "    Args:\n",
    "    -----\n",
    "    \n",
    "    ra_data: Right ascension of the measured objects (degrees).\n",
    "    dec_data: Declination of the measured objects (degrees).\n",
    "    mag_data: Measured magnitude of the objects.\n",
    "    ra_true: Right ascension of the true catalog (degrees).\n",
    "    dec_true: Declination of the true catalog (degrees).\n",
    "    mag_true: True magnitude of the true catalog.\n",
    "    true_id: Array of IDs in the true catalog.\n",
    "    rmax: Maximum distance in number of pixels to perform the query.\n",
    "    max_deltamag: Maximum magnitude difference for the match to be good.\n",
    "    \n",
    "    Returns:\n",
    "    --------\n",
    "    \n",
    "    dist: Distance to the closest neighbor in the true catalog. If inputs are\n",
    "    in degrees, the returned distance is in arcseconds.\n",
    "    true_id: ID in the true catalog for the closest match.\n",
    "    matched: True if matched, False if not matched.\n",
    "    \"\"\"\n",
    "    X = np.zeros((len(ra_true),2))\n",
    "    X[:,0] = ra_true\n",
    "    X[:,1] = dec_true\n",
    "    tree = KDTree(X,metric='euclidean')\n",
    "    Y = np.zeros((len(ra_data),2))\n",
    "    Y[:,0] = ra_data\n",
    "    Y[:,1] = dec_data\n",
    "    ind,dist= tree.query_radius(Y,r=rmax*0.2/3600,return_distance=True)\n",
    "    matched = np.zeros(len(ind),dtype=bool)\n",
    "    ids = np.zeros(len(ind),dtype=true_id.dtype)\n",
    "    dist_out = np.zeros(len(ind))\n",
    "    for i, ilist in enumerate(ind):\n",
    "        if len(ilist)>0:\n",
    "            dmag = np.fabs(mag_true[ilist]-mag_data[i])\n",
    "            good_ind = np.argmin(dmag)\n",
    "            ids[i]=true_id[ilist[good_ind]]\n",
    "            dist_out[i]=dist[i][good_ind]\n",
    "            if np.min(dmag)<max_deltamag:\n",
    "                matched[i]=True\n",
    "            else:\n",
    "                matched[i]=False\n",
    "        else:\n",
    "            ids[i]=-99\n",
    "            matched[i]=False\n",
    "            dist_out[i]=-99.\n",
    "    return dist_out*3600., ids,matched"
   ]
  },
  {
   "cell_type": "code",
   "execution_count": null,
   "metadata": {},
   "outputs": [],
   "source": [
    "ra_true = data['ra']\n",
    "dec_true = data['dec']\n",
    "mag_true = data['mag_%s' %band]"
   ]
  },
  {
   "cell_type": "code",
   "execution_count": null,
   "metadata": {},
   "outputs": [],
   "source": [
    "dd, ind_mag, matched = spatial_closest_mag_1band(ra_imsim[nchild_imsim==0],dec_imsim[nchild_imsim==0],mag_k_imsim[nchild_imsim==0],\n",
    "                              ra_true[mag_true<26],dec_true[mag_true<26],mag_true[mag_true<26],np.arange(np.count_nonzero(mag_true<26)),\n",
    "                              rmax=5,max_deltamag=1)"
   ]
  },
  {
   "cell_type": "markdown",
   "metadata": {},
   "source": [
    "We check what the magnitude distribution looks like"
   ]
  },
  {
   "cell_type": "code",
   "execution_count": null,
   "metadata": {},
   "outputs": [],
   "source": [
    "plt.hist(mag_psf[nchild_imsim==0],range=(0,30),bins=120,histtype='step')\n",
    "plt.xlabel('%s' %band)\n",
    "plt.legend(loc=2)\n",
    "plt.xlim(15,26)"
   ]
  },
  {
   "cell_type": "code",
   "execution_count": null,
   "metadata": {},
   "outputs": [],
   "source": [
    "mask_mag = (np.isnan(mag_k_imsim[nchild_imsim==0])==False) & (matched)"
   ]
  },
  {
   "cell_type": "code",
   "execution_count": null,
   "metadata": {},
   "outputs": [],
   "source": [
    "mean_im, be, _ = binned_statistic(mag_psf[nchild_imsim==0][mask_mag],mag_k_imsim[nchild_imsim==0][mask_mag]-mag_true[mag_true<26][ind_mag][matched],range=(10,30),bins=30, statistic='median')\n",
    "std_im, be, _ = binned_statistic(mag_psf[nchild_imsim==0][mask_mag],mag_k_imsim[nchild_imsim==0][mask_mag]-mag_true[mag_true<26][ind_mag][matched],range=(10,30),bins=30, statistic='std')\n",
    "n_im, be, _ = binned_statistic(mag_psf[nchild_imsim==0][mask_mag],mag_k_imsim[nchild_imsim==0][mask_mag]-mag_true[mag_true<26][ind_mag][matched],range=(10,30),bins=30, statistic='count')"
   ]
  },
  {
   "cell_type": "code",
   "execution_count": null,
   "metadata": {},
   "outputs": [],
   "source": [
    "mean_im"
   ]
  },
  {
   "cell_type": "markdown",
   "metadata": {},
   "source": [
    "And check for photometric and astrometric biases"
   ]
  },
  {
   "cell_type": "code",
   "execution_count": null,
   "metadata": {},
   "outputs": [],
   "source": [
    "plt.errorbar(0.5*be[1:]+0.5*be[:-1],mean_im,std_im/np.sqrt(n_im),fmt='o',color='red')\n",
    "plt.hexbin(mag_psf[nchild_imsim==0][mask_mag],mag_k_imsim[nchild_imsim==0][mask_mag]-mag_true[mag_true<26][ind_mag][matched],gridsize=200,extent=[14,26,-0.5,0.5])\n",
    "plt.xlabel('mag$_{Kron,imSim}$',fontsize=16)\n",
    "plt.ylabel('mag$_{Kron,imSim}$-mag$_{Kron,PhoSim}$',fontsize=16)\n",
    "plt.colorbar(label='Objects/bin')\n",
    "plt.grid()\n",
    "plt.ylim(-0.1,0.1)\n",
    "plt.xlim(16,24)"
   ]
  },
  {
   "cell_type": "code",
   "execution_count": null,
   "metadata": {},
   "outputs": [],
   "source": [
    "plt.hist(3600000*(ra_imsim[nchild_imsim==0][mask_mag]-ra_true[mag_true<26][ind_mag][matched]),range=(-1000,1000),bins=500,histtype='step',label='RA')\n",
    "plt.hist(3600000*(dec_imsim[nchild_imsim==0][mask_mag]-dec_true[mag_true<26][ind_mag][matched]),range=(-1000,1000),bins=500,histtype='step',label='DEC')\n",
    "plt.xlabel(r'$\\Delta X$ [mas]')\n",
    "plt.xlim(-100,100)\n",
    "#plt.ylim(0,80)\n",
    "plt.legend(loc='best')\n",
    "plt.savefig('test_astrometry_imSim_knl_vs_phoSim.png')"
   ]
  },
  {
   "cell_type": "code",
   "execution_count": null,
   "metadata": {},
   "outputs": [],
   "source": [
    "plt.hist(mag_k_imsim[nchild_imsim==0][mask_mag]-mag_true[mag_true<26][ind_mag][matched],bins=100, histtype='step',range=(-1,1));\n",
    "plt.xlabel('mag$_{Kron,imSim}$-mag$_{Kron,PhoSim}$',fontsize=16)\n",
    "plt.xlim(-0.25,0.25)\n",
    "#print(np.median(mag_psf[nchild_imsim==0][mask_mag]-mag_true[mag_true<26][ind_mag][mask_mag])*1000, 'mmags')\n",
    "#print(mean_im*1000, 'mmags')"
   ]
  },
  {
   "cell_type": "code",
   "execution_count": null,
   "metadata": {},
   "outputs": [],
   "source": [
    "def asymQ(ixx,iyy,ixy):\n",
    "    asymQx = ixx - iyy\n",
    "    asymQy = 2*ixy\n",
    "    return np.sqrt(asymQx**2 + asymQy**2)\n",
    "def trQ(ixx,iyy):\n",
    "    return ixx+iyy\n",
    "def get_a(ixx,iyy,ixy):\n",
    "    return np.sqrt(0.5*(trQ(ixx,iyy)+asymQ(ixx,iyy,ixy)))\n",
    "def get_b(ixx,iyy,ixy):\n",
    "    return np.sqrt(0.5*(trQ(ixx,iyy)-asymQ(ixx,iyy,ixy)))\n",
    "def get_e(ixx,iyy,ixy):\n",
    "    a = get_a(ixx,iyy,ixy)\n",
    "    b = get_b(ixx,iyy,ixy)\n",
    "    return (a**2-b**2)/(a**2+b**2)"
   ]
  },
  {
   "cell_type": "code",
   "execution_count": null,
   "metadata": {},
   "outputs": [],
   "source": [
    "e_psf_i = get_e(ipsf_xx_i,ipsf_yy_i,ipsf_xy_i)[nchild_imsim==0][mask_mag]"
   ]
  },
  {
   "cell_type": "markdown",
   "metadata": {},
   "source": [
    "We consider that an object is a star if the best/closest match is a star (i.e, `is_resolved==False`)"
   ]
  },
  {
   "cell_type": "code",
   "execution_count": null,
   "metadata": {},
   "outputs": [],
   "source": [
    "star = (data['is_resolved'][mag_true<26][ind_mag][matched]==False)"
   ]
  },
  {
   "cell_type": "markdown",
   "metadata": {},
   "source": [
    "Show the distribution, the median and 95-th percentile. There are certain criteria for these quantities described in [LPM-17](https://docushare.lsst.org/docushare/dsweb/Get/LPM-17)"
   ]
  },
  {
   "cell_type": "code",
   "execution_count": null,
   "metadata": {},
   "outputs": [],
   "source": [
    "plt.hist(np.abs(e_psf_i[star]),histtype='step',label=r'run 1.2p',range=(0,0.2),bins=100,normed=True)\n",
    "plt.plot(np.median(e_psf_i[star])*np.ones(3),np.linspace(0,70,3),'k--')\n",
    "plt.plot(np.percentile(e_psf_i[star],95)*np.ones(3),np.linspace(0,70,3),'r--')\n",
    "plt.xlabel(r'$|e|=(1-q^{2})/(1+q^{2})$',fontsize=16)\n",
    "plt.ylabel(r'$P|e|$',fontsize=16)\n",
    "plt.legend(loc='best')\n",
    "plt.ylim(0,15)"
   ]
  },
  {
   "cell_type": "code",
   "execution_count": null,
   "metadata": {},
   "outputs": [],
   "source": []
  }
 ],
 "metadata": {
  "kernelspec": {
   "display_name": "desc-stack-run1.2p",
   "language": "python",
   "name": "desc-stack-run1.2p"
  },
  "language_info": {
   "codemirror_mode": {
    "name": "ipython",
    "version": 3
   },
   "file_extension": ".py",
   "mimetype": "text/x-python",
   "name": "python",
   "nbconvert_exporter": "python",
   "pygments_lexer": "ipython3",
   "version": "3.6.2"
  }
 },
 "nbformat": 4,
 "nbformat_minor": 2
}

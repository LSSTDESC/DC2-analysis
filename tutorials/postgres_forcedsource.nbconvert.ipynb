{
 "cells": [
  {
   "cell_type": "markdown",
   "metadata": {},
   "source": [
    "# Accessing DC2 forced source data in PostgreSQL at NERSC"
   ]
  },
  {
   "cell_type": "markdown",
   "metadata": {},
   "source": [
    "Owner: **Joanne Bogart [@jrbogart](https://github.com/LSSTDESC/DC2-analysis/issues/new?body=@jrbogart)**  \n",
    "Last Verified to Run: **2020-08-03**\n",
    "\n",
    "This notebook demonstrates access to forced source data via the PostgreSQL database at NERSC.  Currently the only forced source dataset available is the one for Run1.2p v4. Because of the size of forced source (not many columns but a lot of rows; over 680 million just for 1.2p v4) database access is likely to perform better than file access. It is also possible to efficiently correlate the information in the forced source dataset and the object catalog.  A view has been provided so that the most useful quantities from the object catalog may be fetched easily along with forced source fields.\n",
    "\n",
    "__Learning objectives__:\n",
    "\n",
    "After going through this notebook, you should be able to:\n",
    "  1. Find out what Forced source information is available and query it.\n",
    "  2. Find out what information is kept per visit and query it.\n",
    "  3. Use the forcedsource view to get forced source information and most commonly needed fields from the object catalog and visit table associated with the forced source entries.\n",
    "  4. Make use of standard tools to, e.g., plot light curves\n",
    "\n",
    "__Logistics__: This notebook is intended to be run through the JupyterHub NERSC interface available here: https://jupyter.nersc.gov. To setup your NERSC environment, please follow the instructions available here: \n",
    "https://confluence.slac.stanford.edu/display/LSSTDESC/Using+Jupyter+at+NERSC\n",
    "### Prerequisites\n",
    "* You should work through the first PostgreSQL notebook, \"Accessing DC2 Data in PostgreSQL at NERSC\", before tackling this one.\n",
    "  "
   ]
  },
  {
   "cell_type": "code",
   "execution_count": 1,
   "metadata": {},
   "outputs": [],
   "source": [
    "import psycopg2\n",
    "import numpy as np\n",
    "%matplotlib inline \n",
    "import matplotlib.pyplot as plt\n",
    "import pandas as pd"
   ]
  },
  {
   "cell_type": "markdown",
   "metadata": {},
   "source": [
    "Make the db connection"
   ]
  },
  {
   "cell_type": "code",
   "execution_count": 2,
   "metadata": {},
   "outputs": [],
   "source": [
    "dbname = 'desc_dc2_drp'\n",
    "dbuser = 'desc_dc2_drp_user'\n",
    "dbhost = 'nerscdb03.nersc.gov'\n",
    "dbconfig = {'dbname' : dbname, 'user' : dbuser, 'host' : dbhost}\n",
    "dbconn = psycopg2.connect(**dbconfig)"
   ]
  },
  {
   "cell_type": "code",
   "execution_count": 3,
   "metadata": {},
   "outputs": [],
   "source": [
    "schema = 'run12p_v4'   # Currently (May 2019) only dataset with forced source "
   ]
  },
  {
   "cell_type": "markdown",
   "metadata": {},
   "source": [
    "Display all tables and views belonging to the schema.  Most of them are for the object catalog"
   ]
  },
  {
   "cell_type": "code",
   "execution_count": 4,
   "metadata": {},
   "outputs": [
    {
     "name": "stdout",
     "output_type": "stream",
     "text": [
      "ccdvisit\n",
      "dpdd\n",
      "dpdd_forced\n",
      "dpdd_qserv\n",
      "dpdd_ref\n",
      "forced2\n",
      "forced3\n",
      "forced4\n",
      "forced5\n",
      "forcedsource\n",
      "forcedsourcenative\n",
      "forcedsource_qserv\n",
      "misc_ref\n",
      "position\n",
      "_temp:forced_bit\n",
      "_temp:forced_patch\n"
     ]
    }
   ],
   "source": [
    "q1 = \"SELECT DISTINCT table_name FROM information_schema.columns WHERE table_schema='{schema}' ORDER BY table_name\".format(**locals())\n",
    "with dbconn.cursor() as cursor:\n",
    "    # Could have several queries interspersed with other code in this block\n",
    "    cursor.execute(q1)\n",
    "    for record in cursor:\n",
    "        print(record[0])"
   ]
  },
  {
   "cell_type": "markdown",
   "metadata": {},
   "source": [
    "### Where Forced Source data can be found\n",
    "\n",
    "**\\_temp:forced\\_patch** and **\\_temp:forced_bit** are artifacts of the ingest process and are of no interest here.\n",
    "\n",
    "forcedsourcenative has columns from the forced source data most likely to be of interest. These include objectid (identical in meaning to its use in the object catalog) and ccdvisitid.  ccdvisitid uniquely identifies a row in the ccdvisit table and is computed from visit, raft and sensor ids. "
   ]
  },
  {
   "cell_type": "code",
   "execution_count": 5,
   "metadata": {},
   "outputs": [
    {
     "name": "stdout",
     "output_type": "stream",
     "text": [
      "SELECT column_name, data_type FROM information_schema.columns WHERE table_schema='run12p_v4' AND table_name='forcedsourcenative' order by column_name \n",
      "There are 20 columns in table forcedsourcenative.  They are:\n",
      "\n",
      "Name                                                     Data Type\n",
      "base_pixelflags_flag                                     boolean             \n",
      "base_pixelflags_flag_bad                                 boolean             \n",
      "base_pixelflags_flag_cr                                  boolean             \n",
      "base_pixelflags_flag_crcenter                            boolean             \n",
      "base_pixelflags_flag_edge                                boolean             \n",
      "base_pixelflags_flag_interpolated                        boolean             \n",
      "base_pixelflags_flag_interpolatedcenter                  boolean             \n",
      "base_pixelflags_flag_offimage                            boolean             \n",
      "base_pixelflags_flag_saturated                           boolean             \n",
      "base_pixelflags_flag_saturatedcenter                     boolean             \n",
      "base_pixelflags_flag_suspect                             boolean             \n",
      "base_pixelflags_flag_suspectcenter                       boolean             \n",
      "base_psfflux_flag                                        boolean             \n",
      "base_psfflux_flag_badcentroid                            boolean             \n",
      "base_psfflux_flag_edge                                   boolean             \n",
      "base_psfflux_flag_nogoodpixels                           boolean             \n",
      "base_psfflux_instflux                                    real                \n",
      "base_psfflux_instfluxerr                                 real                \n",
      "ccdvisitid                                               bigint              \n",
      "objectid                                                 bigint              \n"
     ]
    }
   ],
   "source": [
    "tbl = 'forcedsourcenative'\n",
    "q2 = \"SELECT column_name, data_type FROM information_schema.columns WHERE table_schema='{schema}' AND table_name='{tbl}' order by column_name \".format(**locals())\n",
    "print(q2)\n",
    "with dbconn.cursor() as cursor:\n",
    "    cursor.execute(q2)\n",
    "    records = cursor.fetchall()\n",
    "    print(\"There are {} columns in table {}.  They are:\\n\".format(len(records), tbl))\n",
    "    print(\"Name                                                     Data Type\")\n",
    "    for record in records:\n",
    "        print(\"{0!s:55}  {1!s:20}\".format(record[0], record[1]) )"
   ]
  },
  {
   "cell_type": "markdown",
   "metadata": {},
   "source": [
    "Here is a similar query for the **ccdvisit** table."
   ]
  },
  {
   "cell_type": "code",
   "execution_count": 6,
   "metadata": {},
   "outputs": [
    {
     "name": "stdout",
     "output_type": "stream",
     "text": [
      "There are 12 columns in table ccdvisit.  They are:\n",
      "\n",
      "Name                                                     Data Type\n",
      "ccdvisitid                                               bigint              \n",
      "visitid                                                  integer             \n",
      "ccdname                                                  character           \n",
      "raftname                                                 character           \n",
      "filtername                                               character           \n",
      "obsstart                                                 timestamp without time zone\n",
      "expmidpt                                                 double precision    \n",
      "exptime                                                  double precision    \n",
      "zeropoint                                                real                \n",
      "seeing                                                   real                \n",
      "skybg                                                    real                \n",
      "skynoise                                                 real                \n"
     ]
    }
   ],
   "source": [
    "tbl = 'ccdvisit'\n",
    "q2_pos = \"SELECT column_name, data_type FROM information_schema.columns WHERE table_schema='{schema}' AND table_name='{tbl}'\".format(**locals())\n",
    "with dbconn.cursor() as cursor:\n",
    "    cursor.execute(q2_pos)\n",
    "    records = cursor.fetchall()\n",
    "    print(\"There are {} columns in table {}.  They are:\\n\".format(len(records), tbl))\n",
    "    print(\"Name                                                     Data Type\")\n",
    "    for record in records:\n",
    "        print(\"{0!s:55}  {1!s:20}\".format(record[0], record[1]) )"
   ]
  },
  {
   "cell_type": "markdown",
   "metadata": {},
   "source": [
    "Of these columns two (`expmidpt`, `exptime`) are, in this data set, always null. For many purposes `ccdname` and `raftname` are of no interest and `visitid` is encompassed by `ccdvisitid`. "
   ]
  },
  {
   "cell_type": "markdown",
   "metadata": {},
   "source": [
    "Here is a query which finds all visits.  The example only prints out the total number."
   ]
  },
  {
   "cell_type": "code",
   "execution_count": 7,
   "metadata": {},
   "outputs": [
    {
     "name": "stdout",
     "output_type": "stream",
     "text": [
      "CPU times: user 1.9 ms, sys: 0 ns, total: 1.9 ms\n",
      "Wall time: 955 ms\n",
      "1991 visits found\n"
     ]
    }
   ],
   "source": [
    "q3 = \"SELECT DISTINCT visitid FROM {schema}.ccdvisit\".format(**locals())\n",
    "with dbconn.cursor() as cursor:\n",
    "    %time cursor.execute(q3)\n",
    "    records = cursor.fetchall()\n",
    "    print(\"{} visits found\".format(len(records)))\n",
    " "
   ]
  },
  {
   "cell_type": "markdown",
   "metadata": {},
   "source": [
    "The view `forcedsource` selects fields of interest from `forcedsourcenative`, `ccdvisit` and the object catalog. This query fetches all its fields."
   ]
  },
  {
   "cell_type": "code",
   "execution_count": 8,
   "metadata": {},
   "outputs": [
    {
     "name": "stdout",
     "output_type": "stream",
     "text": [
      "There are 47 columns in view forcedsource.  They are:\n",
      "\n",
      "Name                                                     Data Type\n",
      "objectid                                                 bigint              \n",
      "ccdvisitid                                               bigint              \n",
      "ra                                                       double precision    \n",
      "dec                                                      double precision    \n",
      "extendedness                                             real                \n",
      "blendedness                                              real                \n",
      "filtername                                               character           \n",
      "obsstart                                                 timestamp without time zone\n",
      "psflux_g                                                 real                \n",
      "psflux_i                                                 real                \n",
      "psflux_r                                                 real                \n",
      "psflux_u                                                 real                \n",
      "psflux_y                                                 real                \n",
      "psflux_z                                                 real                \n",
      "psflux_flag_g                                            boolean             \n",
      "psflux_flag_i                                            boolean             \n",
      "psflux_flag_r                                            boolean             \n",
      "psflux_flag_u                                            boolean             \n",
      "psflux_flag_y                                            boolean             \n",
      "psflux_flag_z                                            boolean             \n",
      "psflux                                                   real                \n",
      "psflux_flag                                              boolean             \n",
      "psfluxerr_g                                              real                \n",
      "psfluxerr_i                                              real                \n",
      "psfluxerr_r                                              real                \n",
      "psfluxerr_u                                              real                \n",
      "psfluxerr_y                                              real                \n",
      "psfluxerr_z                                              real                \n",
      "mag_g                                                    real                \n",
      "mag_i                                                    real                \n",
      "mag_r                                                    real                \n",
      "mag_u                                                    real                \n",
      "mag_y                                                    real                \n",
      "mag_z                                                    real                \n",
      "magerr_g                                                 real                \n",
      "magerr_i                                                 real                \n",
      "magerr_r                                                 real                \n",
      "magerr_u                                                 real                \n",
      "magerr_y                                                 real                \n",
      "magerr_z                                                 real                \n",
      "psfluxerr                                                real                \n",
      "mag                                                      double precision    \n",
      "magerr                                                   real                \n",
      "good                                                     boolean             \n",
      "forcedsourcevisit_good                                   boolean             \n",
      "clean                                                    boolean             \n",
      "coord                                                    USER-DEFINED        \n"
     ]
    }
   ],
   "source": [
    "tbl = 'forcedsource'\n",
    "q4 = \"SELECT column_name, data_type FROM information_schema.columns WHERE table_schema='{schema}' AND table_name='{tbl}'\".format(**locals())\n",
    "with dbconn.cursor() as cursor:\n",
    "    cursor.execute(q4)\n",
    "    records = cursor.fetchall()\n",
    "    print(\"There are {} columns in view {}.  They are:\\n\".format(len(records), tbl))\n",
    "    print(\"Name                                                     Data Type\")\n",
    "    for record in records:\n",
    "        print(\"{0!s:55}  {1!s:20}\".format(record[0], record[1]) )    "
   ]
  },
  {
   "cell_type": "markdown",
   "metadata": {},
   "source": [
    "Some explanation is in order. Most of these fields (e.g. `psflux_g`, `psflux_flag_g`, `psfluxerr_g`, `mag_g`, `magerr_g` and similar for the other bands) come from the corresponding object in the object catalog and have the same name they have in the object dpdd. `ra`, `dec` (as well as `coord`, which is a more convenient way to express location in some circumstances), `extendedness`, `blendedness`, `good`, and `clean` also come from the object catalog. (For information about dpdd quantities like clean and other fields mentioned above, see the [SCHEMA.md](https://github.com/LSSTDESC/gcr-catalogs/blob/master/GCRCatalogs/SCHEMA.md#schema-for-dc2-coadd-catalogs) file of the LSSTDESC/gcr-catalogs repository.)\n",
    "\n",
    "`filtername` and `obsstart` come from `ccdvisit`.  The rest all come from `forcedsourcenative` one way or another.  Some fields, such as `psflux`, come directly but have been renamed to match the names suggested for the forced source dpdd as defined in LSE-163. Others (e.g. `mag`, `magerr`) have been computed from one or more fields in `forcedsourcenative`. `forcedsourcevisit_good` is similar to `good` (meaning no flagged pixels) but uses flags from `forcedsourcenative` rather than the object catalog."
   ]
  },
  {
   "cell_type": "markdown",
   "metadata": {},
   "source": [
    "### Light curves\n",
    "For this purpose first find objects with lots of visits. This query takes 5 or 6 minutes to execute, the only query in this notebook which is slow; the others all return essentially immediately. Then cut on various measures of goodness.  For the remaining objects save object id, ra, dec and extendedness. Since the query is relatively long the function writes out the data.   You can either just read in such a file or recreate it yourself by uncommenting the call to the function,\n",
    "substituting something reasonable for `'some_path'`, and then skip the step which reads from a file created previously by calling the function."
   ]
  },
  {
   "cell_type": "code",
   "execution_count": 9,
   "metadata": {},
   "outputs": [],
   "source": [
    "def getGoodVisited(outpath, schema):\n",
    "    '''\n",
    "    Get and save information for good objects which show up in at least 400 visits\n",
    "    \n",
    "    Parameters\n",
    "    ----------\n",
    "    outpath : str          Path to output csv file\n",
    "    schema :  str          Database schema in which data are stored\n",
    "    \n",
    "    Returns\n",
    "    -------\n",
    "    Pandas data frame with certain properties for all objects making the cuts \n",
    "    '''\n",
    "    # First find visit count per object\n",
    "    avisited_q = 'select objectid,count(objectid) as avisit_count from {}.forcedsourcenative ' \n",
    "    avisited_q += 'group by (objectid) '\n",
    "    avisited_q += 'order by avisit_count desc'\n",
    "    avisited_qf = avisited_q.format(schema)\n",
    "    print(avisited_qf)     # this is the time-consuming query\n",
    "    avisited_records = []\n",
    "    with dbconn.cursor() as cursor:\n",
    "        %time cursor.execute(avisited_qf)\n",
    "        avisited_records = cursor.fetchall()\n",
    "    avisited_df = pd.DataFrame(avisited_records, columns=['objectid', 'visit_count'])\n",
    "    print(avisited_df.shape)\n",
    "    \n",
    "    # Keep the ones with at least 400 visits\n",
    "    over400_df = avisited_df.query('visit_count > 400')\n",
    "    print(over400_df.shape)\n",
    "    \n",
    "    # Now query on those object in the set which also satisfy some cuts\n",
    "    i_list = list(over400_df['objectid'])\n",
    "    s_list = []\n",
    "    for i in i_list : s_list.append(str(i))\n",
    "    objectcut = ' AND objectid in (' + ','.join(s_list) + ')'\n",
    "\n",
    "    global_cuts = 'clean '\n",
    "\n",
    "    min_SNR = 25   \n",
    "    max_err = 1/min_SNR\n",
    "    band_cuts = ' (magerr_g < {max_err}) AND (magerr_i < {max_err}) AND (magerr_r < {max_err}) '.format(**locals())\n",
    "    where = ' WHERE ' + global_cuts + ' AND ' + band_cuts \n",
    "\n",
    "    goodobjects_q = \"SELECT objectid, extendedness, ra, dec, mag_i, mag_g, mag_r from {schema}.dpdd \".format(**locals()) + where + objectcut\n",
    "    # Don't normally print out this query because object_cut can be a very long string. \n",
    "    records = []\n",
    "    with dbconn.cursor() as cursor:\n",
    "        %time cursor.execute(goodobjects_q)\n",
    "        records = cursor.fetchall()\n",
    "        nObj = len(records)\n",
    "    \n",
    "    df = pd.DataFrame(records, columns=['objectid', 'extendedness', 'ra', 'dec', 'mag_i', 'mag_g', 'mag_r'])\n",
    "    print(\"Total: \", nObj)\n",
    "    over400out = open(outpath,'w')    \n",
    "    df.to_csv(over400out)\n",
    "    return df\n"
   ]
  },
  {
   "cell_type": "markdown",
   "metadata": {},
   "source": [
    "**Note:** For information about dpdd quantities like `clean` and other fields mentioned above, see the [SCHEMA.md](https://github.com/LSSTDESC/gcr-catalogs/blob/master/GCRCatalogs/SCHEMA.md#schema-for-dc2-coadd-catalogs) file of the LSSTDESC/gcr-catalogs repository "
   ]
  },
  {
   "cell_type": "code",
   "execution_count": 10,
   "metadata": {},
   "outputs": [],
   "source": [
    "#  recreate good objects table\n",
    "#  df = getGoodVisited('some_path', schema)"
   ]
  },
  {
   "cell_type": "code",
   "execution_count": 11,
   "metadata": {},
   "outputs": [],
   "source": [
    "#  Read in good objects table\n",
    "retrieve_path = '../tutorials/assets/{}-over400visits.csv'.format(schema)\n",
    "df = pd.read_csv(retrieve_path)"
   ]
  },
  {
   "cell_type": "markdown",
   "metadata": {},
   "source": [
    "#### Get the data\n",
    "Query `forcedsource` for an entry and use the returned data to plot light curves. "
   ]
  },
  {
   "cell_type": "code",
   "execution_count": 12,
   "metadata": {},
   "outputs": [],
   "source": [
    "#   This object happens to be a star\n",
    "star_ix = 1045\n",
    "star_id = df['objectid'][star_ix]"
   ]
  },
  {
   "cell_type": "code",
   "execution_count": 13,
   "metadata": {},
   "outputs": [],
   "source": [
    "\n",
    "def getlc(schema, objectid):\n",
    "    q_template = 'select filtername as band,obsstart,mag,magerr from {schema}.forcedsource '   \n",
    "    q_template += 'where objectid={objectid} and forcedsourcevisit_good and not psflux_flag order by filtername,obsstart'\n",
    "    lc_q = q_template.format(**locals())\n",
    "    print(lc_q)\n",
    "    with dbconn.cursor() as cursor:\n",
    "        %time cursor.execute(lc_q)\n",
    "        records = cursor.fetchall()\n",
    "    \n",
    "    df = pd.DataFrame(records, \n",
    "                      columns=['filtername', 'obsstart', 'mag', 'magerr'])\n",
    "    #print('Printing i-band data from getlc for object ', objectid)\n",
    "    #iband = df[(df.filtername == 'i')]\n",
    "    #for ival in list(iband['mag']): print(ival)\n",
    "    \n",
    "    return df"
   ]
  },
  {
   "cell_type": "code",
   "execution_count": 14,
   "metadata": {},
   "outputs": [
    {
     "name": "stdout",
     "output_type": "stream",
     "text": [
      "select filtername as band,obsstart,mag,magerr from run12p_v4.forcedsource where objectid=21326423885118366 and forcedsourcevisit_good and not psflux_flag order by filtername,obsstart\n",
      "CPU times: user 2.8 ms, sys: 0 ns, total: 2.8 ms\n",
      "Wall time: 6.58 s\n"
     ]
    }
   ],
   "source": [
    "star_data = getlc(schema, star_id)"
   ]
  },
  {
   "cell_type": "code",
   "execution_count": 15,
   "metadata": {},
   "outputs": [
    {
     "data": {
      "text/html": [
       "<div>\n",
       "<style scoped>\n",
       "    .dataframe tbody tr th:only-of-type {\n",
       "        vertical-align: middle;\n",
       "    }\n",
       "\n",
       "    .dataframe tbody tr th {\n",
       "        vertical-align: top;\n",
       "    }\n",
       "\n",
       "    .dataframe thead th {\n",
       "        text-align: right;\n",
       "    }\n",
       "</style>\n",
       "<table border=\"1\" class=\"dataframe\">\n",
       "  <thead>\n",
       "    <tr style=\"text-align: right;\">\n",
       "      <th></th>\n",
       "      <th>filtername</th>\n",
       "      <th>obsstart</th>\n",
       "      <th>mag</th>\n",
       "      <th>magerr</th>\n",
       "    </tr>\n",
       "  </thead>\n",
       "  <tbody>\n",
       "    <tr>\n",
       "      <th>0</th>\n",
       "      <td>g</td>\n",
       "      <td>2022-09-17 05:19:22.051</td>\n",
       "      <td>18.651415</td>\n",
       "      <td>0.003244</td>\n",
       "    </tr>\n",
       "    <tr>\n",
       "      <th>1</th>\n",
       "      <td>g</td>\n",
       "      <td>2022-09-20 04:54:29.750</td>\n",
       "      <td>18.637620</td>\n",
       "      <td>0.002824</td>\n",
       "    </tr>\n",
       "    <tr>\n",
       "      <th>2</th>\n",
       "      <td>g</td>\n",
       "      <td>2022-10-02 05:09:06.797</td>\n",
       "      <td>18.638224</td>\n",
       "      <td>0.002789</td>\n",
       "    </tr>\n",
       "    <tr>\n",
       "      <th>3</th>\n",
       "      <td>g</td>\n",
       "      <td>2022-10-05 04:38:55.075</td>\n",
       "      <td>18.652247</td>\n",
       "      <td>0.003655</td>\n",
       "    </tr>\n",
       "    <tr>\n",
       "      <th>4</th>\n",
       "      <td>g</td>\n",
       "      <td>2022-10-15 03:58:41.405</td>\n",
       "      <td>18.639867</td>\n",
       "      <td>0.003311</td>\n",
       "    </tr>\n",
       "    <tr>\n",
       "      <th>...</th>\n",
       "      <td>...</td>\n",
       "      <td>...</td>\n",
       "      <td>...</td>\n",
       "      <td>...</td>\n",
       "    </tr>\n",
       "    <tr>\n",
       "      <th>415</th>\n",
       "      <td>z</td>\n",
       "      <td>2028-10-23 03:19:44.458</td>\n",
       "      <td>17.978046</td>\n",
       "      <td>0.004209</td>\n",
       "    </tr>\n",
       "    <tr>\n",
       "      <th>416</th>\n",
       "      <td>z</td>\n",
       "      <td>2028-11-11 02:28:09.696</td>\n",
       "      <td>17.971891</td>\n",
       "      <td>0.004239</td>\n",
       "    </tr>\n",
       "    <tr>\n",
       "      <th>417</th>\n",
       "      <td>z</td>\n",
       "      <td>2028-12-26 02:24:59.443</td>\n",
       "      <td>17.961123</td>\n",
       "      <td>0.004538</td>\n",
       "    </tr>\n",
       "    <tr>\n",
       "      <th>418</th>\n",
       "      <td>z</td>\n",
       "      <td>2029-09-29 06:36:27.389</td>\n",
       "      <td>17.985021</td>\n",
       "      <td>0.004129</td>\n",
       "    </tr>\n",
       "    <tr>\n",
       "      <th>419</th>\n",
       "      <td>z</td>\n",
       "      <td>2029-10-02 05:07:00.307</td>\n",
       "      <td>17.982122</td>\n",
       "      <td>0.004054</td>\n",
       "    </tr>\n",
       "  </tbody>\n",
       "</table>\n",
       "<p>420 rows × 4 columns</p>\n",
       "</div>"
      ],
      "text/plain": [
       "    filtername                obsstart        mag    magerr\n",
       "0            g 2022-09-17 05:19:22.051  18.651415  0.003244\n",
       "1            g 2022-09-20 04:54:29.750  18.637620  0.002824\n",
       "2            g 2022-10-02 05:09:06.797  18.638224  0.002789\n",
       "3            g 2022-10-05 04:38:55.075  18.652247  0.003655\n",
       "4            g 2022-10-15 03:58:41.405  18.639867  0.003311\n",
       "..         ...                     ...        ...       ...\n",
       "415          z 2028-10-23 03:19:44.458  17.978046  0.004209\n",
       "416          z 2028-11-11 02:28:09.696  17.971891  0.004239\n",
       "417          z 2028-12-26 02:24:59.443  17.961123  0.004538\n",
       "418          z 2029-09-29 06:36:27.389  17.985021  0.004129\n",
       "419          z 2029-10-02 05:07:00.307  17.982122  0.004054\n",
       "\n",
       "[420 rows x 4 columns]"
      ]
     },
     "execution_count": 15,
     "metadata": {},
     "output_type": "execute_result"
    }
   ],
   "source": [
    "star_data.head(star_data.shape[0])"
   ]
  },
  {
   "cell_type": "markdown",
   "metadata": {},
   "source": [
    "#### Plotting"
   ]
  },
  {
   "cell_type": "code",
   "execution_count": 16,
   "metadata": {},
   "outputs": [],
   "source": [
    "from astropy.time import Time\n",
    "def plot_band_lc(axes, times, mags, params):\n",
    "    j_times = []\n",
    "    for t in times:\n",
    "        tobj = Time(str(t).replace(' ', 'T'))\n",
    "        tobj.format = 'jd'\n",
    "        j_times.append(tobj.value)\n",
    "    out = axes.scatter(np.asarray(j_times), np.asarray(mags), **params)"
   ]
  },
  {
   "cell_type": "code",
   "execution_count": 17,
   "metadata": {},
   "outputs": [],
   "source": [
    "def plot_level(axes, yvalue, params):\n",
    "    xmin, xmax = axes.get_xlim()\n",
    "    out = axes.plot(np.asarray([xmin, xmax]), np.asarray([yvalue, yvalue]), **params)"
   ]
  },
  {
   "cell_type": "code",
   "execution_count": 18,
   "metadata": {},
   "outputs": [],
   "source": [
    "def format_title(df, ix):\n",
    "        ra = df['ra'][ix]\n",
    "        dec = df['dec'][ix]\n",
    "        oid = df['objectid'][ix]\n",
    "        if df['extendedness'][ix] > 0.5:\n",
    "            prefix = 'Extended object'\n",
    "        else:\n",
    "            prefix = 'Star '\n",
    "        return '{prefix} light curve for object {oid} at ra={ra}, dec={dec}'.format(**locals())"
   ]
  },
  {
   "cell_type": "code",
   "execution_count": 19,
   "metadata": {},
   "outputs": [],
   "source": [
    "def plot_object(title, the_data, coadd_mag):\n",
    "    '''\n",
    "    Plot r, g and i light 'curves' (as scatter plot) for an object. Also plot coadd magnitudes for each band. \n",
    "    Parameters\n",
    "    -----------\n",
    "    title : string\n",
    "    the_data : data frame which must include columns filtername, obsstart, mag\n",
    "    coadd_mag : dict associating magnitude from coadd with filtername\n",
    "    '''\n",
    "    good_d = the_data[(np.isnan(the_data.mag)==False)]\n",
    "    red_d = good_d[(good_d.filtername==\"r\")]\n",
    "    green_d = good_d[(good_d.filtername==\"g\")]\n",
    "    i_d = good_d[(good_d.filtername==\"i\")]\n",
    "    #print(\"red data shape: \", red_e.shape, \"   green data shape: \", green_e.shape, \"  i data shape: \", i_e.shape)\n",
    "    fix, axes = plt.subplots(figsize=(12,8))\n",
    "\n",
    "    plt.title(title)\n",
    "    plt.xlabel('Julian date')\n",
    "    plt.ylabel('Magnitude')\n",
    "\n",
    "    params_r = {'marker' : 'o', 'label' : 'r band', 'color' : 'red'}\n",
    "    #print('In plot_object printing i-band values')\n",
    "    #for ival in list(i_d['mag']): print(ival)\n",
    "    plot_band_lc(axes, list(red_d['obsstart']), list(red_d['mag']), params_r)\n",
    "    params_g = {'marker' : 'o', 'label' : 'g band', 'color' : 'green'}\n",
    "    plot_band_lc(axes, list(green_d['obsstart']), list(green_d['mag']), params_g)\n",
    "    params_i = {'marker' : 'o', 'label' : 'i band', 'color' : 'orange'}\n",
    "    plot_band_lc(axes, list(i_d['obsstart']), list(i_d['mag']), params_i)\n",
    "    plot_level(axes, coadd_mag['r'], {'label' : 'r coadd mag', 'color' : 'red'})\n",
    "    plot_level(axes, coadd_mag['g'], {'label' : 'g coadd mag', 'color' : 'green'})\n",
    "    plot_level(axes, coadd_mag['i'], {'label' : 'i coadd mag', 'color' : 'orange'})\n",
    "    plt.legend()"
   ]
  },
  {
   "cell_type": "code",
   "execution_count": 20,
   "metadata": {},
   "outputs": [
    {
     "name": "stdout",
     "output_type": "stream",
     "text": [
      "select filtername as band,obsstart,mag,magerr from run12p_v4.forcedsource where objectid=21326423885118366 and forcedsourcevisit_good and not psflux_flag order by filtername,obsstart\n",
      "CPU times: user 2.06 ms, sys: 0 ns, total: 2.06 ms\n",
      "Wall time: 9.45 ms\n"
     ]
    },
    {
     "name": "stderr",
     "output_type": "stream",
     "text": [
      "WARNING: ErfaWarning: ERFA function \"dtf2d\" yielded 1 of \"dubious year (Note 6)\" [astropy._erfa.core]\n"
     ]
    },
    {
     "data": {
      "image/png": "[encoded data removed]",
      "text/plain": [
       "<Figure size 864x576 with 1 Axes>"
      ]
     },
     "metadata": {
      "needs_background": "light"
     },
     "output_type": "display_data"
    }
   ],
   "source": [
    "oid = df['objectid'][star_ix]\n",
    "title = format_title(df,star_ix)\n",
    "coadd_mag = {'r' : df['mag_r'][star_ix], 'g' : df['mag_g'][star_ix], 'i' : df['mag_i'][star_ix]}\n",
    "the_data = getlc('run12p_v4', oid)\n",
    "plot_object(title, the_data, coadd_mag)"
   ]
  },
  {
   "cell_type": "code",
   "execution_count": 21,
   "metadata": {},
   "outputs": [
    {
     "name": "stdout",
     "output_type": "stream",
     "text": [
      "select filtername as band,obsstart,mag,magerr from run12p_v4.forcedsource where objectid=21326282151205405 and forcedsourcevisit_good and not psflux_flag order by filtername,obsstart\n",
      "CPU times: user 2.2 ms, sys: 494 µs, total: 2.7 ms\n",
      "Wall time: 6.45 s\n",
      "select filtername as band,obsstart,mag,magerr from run12p_v4.forcedsource where objectid=21326286446162352 and forcedsourcevisit_good and not psflux_flag order by filtername,obsstart\n"
     ]
    },
    {
     "name": "stderr",
     "output_type": "stream",
     "text": [
      "WARNING: ErfaWarning: ERFA function \"dtf2d\" yielded 1 of \"dubious year (Note 6)\" [astropy._erfa.core]\n"
     ]
    },
    {
     "name": "stdout",
     "output_type": "stream",
     "text": [
      "CPU times: user 1.09 ms, sys: 1.25 ms, total: 2.35 ms\n",
      "Wall time: 4.16 s\n",
      "select filtername as band,obsstart,mag,magerr from run12p_v4.forcedsource where objectid=21326290741101028 and forcedsourcevisit_good and not psflux_flag order by filtername,obsstart\n"
     ]
    },
    {
     "name": "stderr",
     "output_type": "stream",
     "text": [
      "WARNING: ErfaWarning: ERFA function \"dtf2d\" yielded 1 of \"dubious year (Note 6)\" [astropy._erfa.core]\n"
     ]
    },
    {
     "name": "stdout",
     "output_type": "stream",
     "text": [
      "CPU times: user 1.89 ms, sys: 85 µs, total: 1.98 ms\n",
      "Wall time: 4.81 s\n"
     ]
    },
    {
     "name": "stderr",
     "output_type": "stream",
     "text": [
      "WARNING: ErfaWarning: ERFA function \"dtf2d\" yielded 1 of \"dubious year (Note 6)\" [astropy._erfa.core]\n"
     ]
    },
    {
     "data": {
      "image/png": "[encoded data removed]",
      "text/plain": [
       "<Figure size 864x576 with 1 Axes>"
      ]
     },
     "metadata": {
      "needs_background": "light"
     },
     "output_type": "display_data"
    },
    {
     "data": {
      "image/png": "[encoded data removed]",
      "text/plain": [
       "<Figure size 864x576 with 1 Axes>"
      ]
     },
     "metadata": {
      "needs_background": "light"
     },
     "output_type": "display_data"
    },
    {
     "data": {
      "image/png": "[encoded data removed]",
      "text/plain": [
       "<Figure size 864x576 with 1 Axes>"
      ]
     },
     "metadata": {
      "needs_background": "light"
     },
     "output_type": "display_data"
    }
   ],
   "source": [
    "# Plot light curves for other objects chosen at random. \n",
    "for ix in [2, 13, 14]:\n",
    "    oid = df['objectid'][ix]\n",
    "    title = format_title(df,ix)\n",
    "    the_data = getlc('run12p_v4', oid)\n",
    "    coadd_mag = {'r' : df['mag_r'][ix], 'g' : df['mag_g'][ix], 'i' : df['mag_i'][ix]}\n",
    "    plot_object(title, the_data, coadd_mag)"
   ]
  }
 ],
 "metadata": {
  "kernelspec": {
   "display_name": "desc-python",
   "language": "python",
   "name": "desc-python"
  },
  "language_info": {
   "codemirror_mode": {
    "name": "ipython",
    "version": 3
   },
   "file_extension": ".py",
   "mimetype": "text/x-python",
   "name": "python",
   "nbconvert_exporter": "python",
   "pygments_lexer": "ipython3",
   "version": "3.7.6"
  }
 },
 "nbformat": 4,
 "nbformat_minor": 4
}

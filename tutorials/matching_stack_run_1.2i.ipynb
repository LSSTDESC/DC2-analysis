{
 "cells": [
  {
   "cell_type": "markdown",
   "metadata": {},
   "source": [
    "# [Run 1.2i] Using the LSST Stack tools to do positional matching on coadd and src catalogs\n",
    "<br>Owner: **Ji Won Park** ([@jiwoncpark](https://github.com/LSSTDESC/DC2-analysis/issues/new?body=@jiwoncpark)) modified a similar notebook for Run 1.1p written by **Jim Chiang** ([@jchiang87](https://github.com/LSSTDESC/DC2-analysis/issues/new?body=@jchiang87)).\n",
    "<br>Last Run: **2019-02-27**\n",
    "\n",
    "**Note:** \n",
    "- This notebook reflects some schema changes that went into effect from Run 1.2i and, correspondingly, Generation 2 of Butler. If you're interested in Run 1.1p, go to Jim's original notebook [here](https://nbviewer.jupyter.org/github/LSSTDESC/DC2-analysis/blob/rendered/tutorials/matching_stack.nbconvert.ipynb) instead.\n",
    "- I also added some more annotations to guide DM beginners like me! They were mostly taken from function docstrings in [daf-persistence source code](https://github.com/lsst/daf_persistence) and [lsst skymap source code](https://github.com/lsst/skymap).\n",
    "\n",
    "In this notebook, we use the data butler to retrieve catalogs from coadd and visit-level analyses of Run 1.2i, and use the `lsst.afw.table.matchRaDec` function to do positional matching against galaxy truth info extracted from the protoDC2 extragalactic catalog v3.0, on which Run 1.2i was based. To enable this, we show how to create a `SourceCatalog` object from the galaxy truth info provided by the GCR interface.\n",
    "\n",
    "## Set Up"
   ]
  },
  {
   "cell_type": "code",
   "execution_count": 1,
   "metadata": {},
   "outputs": [],
   "source": [
    "import warnings\n",
    "from collections import namedtuple\n",
    "import numpy as np\n",
    "import matplotlib.pyplot as plt\n",
    "import lsst.afw.geom as afw_geom\n",
    "import lsst.afw.table as afw_table\n",
    "import lsst.daf.persistence as dp\n",
    "import GCRCatalogs"
   ]
  },
  {
   "cell_type": "markdown",
   "metadata": {},
   "source": [
    "Normally, the following code to rotate the protoDC2 field to the Run 1.2i field would be imported from the `LSSTDESC/sims_GCRCatSimInterface` package, but we include it here so that the `desc-stack` kernel can be used without modifying it to include the various DESC packages used with Run 1.2i."
   ]
  },
  {
   "cell_type": "code",
   "execution_count": 2,
   "metadata": {},
   "outputs": [],
   "source": [
    "# to allow local import when using desc-stack kernel\n",
    "import sys\n",
    "sys.path.insert(0, '')\n",
    "\n",
    "from utils.fieldRotator import FieldRotator"
   ]
  },
  {
   "cell_type": "markdown",
   "metadata": {},
   "source": [
    "## How To Create a Source Catalog\n",
    "\n",
    "In order to use the Stack's spatial matching code, we will need to reformat the extragalactic catalog galaxy position and magnitude information into an afw `SourceCatalog` object. These table objects are initialized by a \"schema\", which in turn is built from column definition \"Coldef\" objects.  The `mag_cols` function below shows how these Coldefs can be created."
   ]
  },
  {
   "cell_type": "code",
   "execution_count": 3,
   "metadata": {},
   "outputs": [],
   "source": [
    "def make_SourceCatalog(new_cols):\n",
    "    \"\"\"\n",
    "    Make a SourceCatalog to contain id and coordinates for each object, plus any new\n",
    "    columns.\n",
    "    \n",
    "    Parameters\n",
    "    ----------\n",
    "    new_cols: list of Coldefs\n",
    "        Column info for adding to an afw.table schema.\n",
    "\n",
    "    Returns\n",
    "    -------\n",
    "    lsst.afw.table.SourceCatalog: An empty SourceCatalog with the desired schema.\n",
    "    \"\"\"\n",
    "    # The minimal schema just contains the `id`, `coord_ra`, and `coord_dec` fields.\n",
    "    schema = afw_table.SourceTable.makeMinimalSchema()\n",
    "    for coldef in new_cols:\n",
    "        schema.addField(coldef.name, type=coldef.type, doc=coldef.doc)\n",
    "    return afw_table.SourceCatalog(schema)\n",
    "\n",
    "\n",
    "def mag_cols(bands):\n",
    "    \"\"\"Return column information for adding magnitude columns to an afw.table schema.\"\"\"\n",
    "    Coldef = namedtuple('Coldef', 'name type doc'.split())\n",
    "    return [Coldef('mag_{}'.format(x), float, '{}-magnitude'.format(x))\n",
    "            for x in bands]"
   ]
  },
  {
   "cell_type": "markdown",
   "metadata": {},
   "source": [
    "## Selecting Galaxies\n",
    "\n",
    "We will need a helper class to rotate the protoDC2 galaxies to the Run 1.2i locations, and then downselect for the sky region being considered. We'll make a general-purpose RegionSelector class, and then sub-class it for selecting objects in either CCDs or patches."
   ]
  },
  {
   "cell_type": "code",
   "execution_count": 4,
   "metadata": {},
   "outputs": [],
   "source": [
    "class RegionSelector:\n",
    "    \"\"\"\n",
    "    Class to rotate the protoDC2 galaxies to the Run1.2i sky location and downselect those galaxies\n",
    "    based on a magnitude limit and on the coordinates of the subregion (i.e., patch or CCD) being\n",
    "    considered.\n",
    "    \"\"\"\n",
    "    protoDC2_ra = 55.064\n",
    "    protoDC2_dec = -29.783\n",
    "    field_rotator = FieldRotator(0, 0, protoDC2_ra, protoDC2_dec)\n",
    "    def __init__(self):\n",
    "        pass\n",
    "    \n",
    "    def _set_coord_range(self, bbox, wcs):\n",
    "        \"\"\"\n",
    "        Set the coordinate range of the region.\n",
    "        \n",
    "        Notes\n",
    "        -----\n",
    "        This method is used by the RegionSelector's subclasses.\n",
    "        \n",
    "        Parameters\n",
    "        ----------\n",
    "        bbox: Calexp.BBox\n",
    "            Defines corners of region's bounding box\n",
    "        wcs: Calexp.Wcs\n",
    "            Defines pixel to world (sky) coordinate transformation\n",
    "        \"\"\"\n",
    "        region_box = afw_geom.Box2D(bbox)\n",
    "        corners = region_box.getCorners()\n",
    "        ra_values, dec_values = [], []\n",
    "        for corner in corners:\n",
    "            ra, dec = wcs.pixelToSky(corner)\n",
    "            ra_values.append(ra.asDegrees())\n",
    "            dec_values.append(dec.asDegrees())\n",
    "        self.ra_range = min(ra_values), max(ra_values)\n",
    "        self.dec_range = min(dec_values), max(dec_values)\n",
    "\n",
    "    def __call__(self, gc, band, max_mag):\n",
    "        \"\"\"\n",
    "        Create a SourceCatalog object from the input galaxy catalog for the specified band, and\n",
    "        apply the region and magnitude cuts.\n",
    "\n",
    "        Parameters\n",
    "        ----------\n",
    "        gc: GCRCatalogs GalaxyCatalog\n",
    "            The galaxy catalog obtained via GCR.\n",
    "        band: str\n",
    "            The band, e.g., 'i', to use for the magnitude comparison with the values measured\n",
    "            from the simulated data.\n",
    "        max_mag: float\n",
    "            The magnitude limit to apply.\n",
    "\n",
    "        Returns\n",
    "        -------\n",
    "        lsst.afw.table.SourceCatalog\n",
    "        \"\"\"\n",
    "        # Retrieve the desired columns and cut on the magnitude values.\n",
    "        bandname = 'mag_true_{}_lsst'.format(band)\n",
    "        filter_ = '{} < {}'.format(bandname, max_mag)\n",
    "        print(\"Applying magnitude filter:\", filter_)\n",
    "        gc_cols = gc.get_quantities(['galaxy_id', 'ra_true', 'dec_true',\n",
    "                                     bandname], filters=[filter_])\n",
    "        print(\"Number of galaxies passing magnitude filter:\", len(gc_cols[bandname]))\n",
    "\n",
    "        # Rotate to the Run1.1p field.\n",
    "        gc_ra_rot, gc_dec_rot \\\n",
    "            = self.field_rotator.transform(gc_cols['ra_true'],\n",
    "                                           gc_cols['dec_true'])\n",
    "\n",
    "        # Select the galaxies within the region.\n",
    "        index = np.where((gc_ra_rot > self.ra_range[0]) &\n",
    "                         (gc_ra_rot < self.ra_range[1]) &\n",
    "                         (gc_dec_rot > self.dec_range[0]) &\n",
    "                         (gc_dec_rot < self.dec_range[1]))\n",
    "        galaxy_id = gc_cols['galaxy_id'][index]\n",
    "        gc_ra = gc_ra_rot[index]\n",
    "        gc_dec = gc_dec_rot[index]\n",
    "        gc_mag = gc_cols[bandname][index]\n",
    "        print(\"Number of galaxies within region:\", len(galaxy_id))\n",
    "\n",
    "        # Create a SourceCatalog with the galaxy_ids, coordinates, magnitudes\n",
    "        galaxy_catalog = make_SourceCatalog(mag_cols((band,)))\n",
    "        for id_, ra, dec, mag in zip(galaxy_id, gc_ra, gc_dec, gc_mag):\n",
    "            record = galaxy_catalog.addNew()\n",
    "            record.set('id', id_)\n",
    "            record.set('coord_ra', afw_geom.Angle(ra, afw_geom.degrees))\n",
    "            record.set('coord_dec', afw_geom.Angle(dec, afw_geom.degrees))\n",
    "            record.set('mag_{}'.format(band), mag)\n",
    "        return galaxy_catalog"
   ]
  },
  {
   "cell_type": "code",
   "execution_count": 5,
   "metadata": {},
   "outputs": [],
   "source": [
    "class CcdSelector(RegionSelector):\n",
    "    \"\"\"RegionSelector to use with visit-level calexps, i.e., single CCD exposures.\"\"\"\n",
    "    def __init__(self, butler, visit, raftName, detectorName):\n",
    "        super(CcdSelector, self).__init__()\n",
    "        dataId = dict(visit=visit, raftName=raftName, detectorName=detectorName)\n",
    "        # Get the CCD boundaries\n",
    "        calexp = butler.get('calexp', dataId=dataId)\n",
    "        self._set_coord_range(calexp.getBBox(), calexp.getWcs())\n",
    "\n",
    "class PatchSelector(RegionSelector):\n",
    "    \"\"\"RegionSelector to use with skyMap patches, i.e., coadd data.\"\"\"\n",
    "    def __init__(self, butler, tract, patch):\n",
    "        super(PatchSelector, self).__init__()\n",
    "        # Get the patch boundaries.\n",
    "        skymap = butler.get('deepCoadd_skyMap')\n",
    "        tractInfo = skymap[tract]\n",
    "        patchInfo = tractInfo.getPatchInfo(eval(patch))\n",
    "        self._set_coord_range(patchInfo.getOuterBBox(), tractInfo.getWcs())"
   ]
  },
  {
   "cell_type": "markdown",
   "metadata": {},
   "source": [
    "## Matching Experiments\n",
    "\n",
    "Now we have the tools we need, let's read in the Run 1.2i DRP catalog data and match it to the extragalactic catalog input.\n",
    "\n",
    "We first instantiate our Butler object. Butler manages a collection of datasets known as a \"repository.\" Each dataset has a `datasetType` identified by strings such as `'src'` or `'calexp'` and a `ButlerLocation`."
   ]
  },
  {
   "cell_type": "code",
   "execution_count": 6,
   "metadata": {},
   "outputs": [],
   "source": [
    "# Create a data butler for the repository.\n",
    "src_repo = '/global/projecta/projectdirs/lsst/global/in2p3/Run1.2i/w_2018_39/rerun/281118'\n",
    "src_butler = dp.Butler(src_repo)"
   ]
  },
  {
   "cell_type": "markdown",
   "metadata": {},
   "source": [
    "### Sources or Objects?\n",
    "\n",
    "We can consider visit-level src catalog data, in which case we would provide a query, or `dataId`, to the butler with (`visit`, `raftName`, `sensorName`) ids; or we can consider coadd object data, for which we would provide a `dataId` with (`filter`, `tract`, `patch`) ids.\n",
    "\n",
    "Somewhat different flux models are available in the Run1.2i data for src catalogs versus coadd catalogs.  Ideally, we'd like to use CModel values for both, but settle here with `ext_photometryKron_KronFlux` values for the src catalog.\n",
    "\n",
    "Let's start with the visit-level src catalog data. We first double-check the key definitions for the src catalog, as they change across run versions. (For example, we identified rafts with `raft` in Run 1.1p but now use `raftName`.)"
   ]
  },
  {
   "cell_type": "code",
   "execution_count": 7,
   "metadata": {},
   "outputs": [
    {
     "data": {
      "text/plain": [
       "{'visit': int,\n",
       " 'filter': str,\n",
       " 'raftName': str,\n",
       " 'detectorName': str,\n",
       " 'detector': int}"
      ]
     },
     "execution_count": 7,
     "metadata": {},
     "output_type": "execute_result"
    }
   ],
   "source": [
    "src_butler.getKeys(datasetType='src')"
   ]
  },
  {
   "cell_type": "markdown",
   "metadata": {},
   "source": [
    "To see which values of the keys `visit`, `raftName`, and `detectorName` are available, we ask Butler to query the metadata."
   ]
  },
  {
   "cell_type": "code",
   "execution_count": 8,
   "metadata": {},
   "outputs": [],
   "source": [
    "# Uncomment to print all the options (there are many)\n",
    "#print(src_butler.queryMetadata(datasetType='src', format=('visit', 'raftName', 'detectorName')))\n",
    "\n",
    "# If you know your visit value to be 230 and want the available (raftName, detectorName) tuples for that visit, you can do:\n",
    "#src_butler.queryMetadata(datasetType='src', format=('raftName', 'detectorName'), dataId={'visit': 230})"
   ]
  },
  {
   "cell_type": "markdown",
   "metadata": {},
   "source": [
    "We are actually going to use the combination that can be matched with the `proto-dc2_v3.0_test catalog` for the purposes of this tutorial. "
   ]
  },
  {
   "cell_type": "code",
   "execution_count": 9,
   "metadata": {},
   "outputs": [],
   "source": [
    "our_visit = 219976\n",
    "our_raftName = 'R22'\n",
    "our_detectorName = 'S11'"
   ]
  },
  {
   "cell_type": "markdown",
   "metadata": {},
   "source": [
    "Similarly, we want to survey our options for the coadd object data."
   ]
  },
  {
   "cell_type": "code",
   "execution_count": 10,
   "metadata": {},
   "outputs": [],
   "source": [
    "obj_repo = '/global/projecta/projectdirs/lsst/global/in2p3/Run1.2i/w_2018_39/rerun/coadd-v1'\n",
    "obj_butler = dp.Butler(obj_repo)"
   ]
  },
  {
   "cell_type": "code",
   "execution_count": 11,
   "metadata": {},
   "outputs": [
    {
     "data": {
      "text/plain": [
       "{'filter': str, 'tract': int, 'patch': str}"
      ]
     },
     "execution_count": 11,
     "metadata": {},
     "output_type": "execute_result"
    }
   ],
   "source": [
    "# Get which keys are available\n",
    "obj_butler.getKeys(datasetType='deepCoadd_meas')"
   ]
  },
  {
   "cell_type": "markdown",
   "metadata": {},
   "source": [
    "Unfortunately, unlike in the src catalog case, running `obj_butler.queryMetadata(datasetType='deepCoadd_meas', format=('filter', 'tract', 'patch'))` will throw an error and won't give us which values are available for each key. We need to specify our desired values.\n",
    "\n",
    "If you haven't decided which tract or patch to look at, here are two ways to guide you:"
   ]
  },
  {
   "cell_type": "markdown",
   "metadata": {},
   "source": [
    "### Method 1: Get the tract and patch IDs for your favorite position (ra, dec) on the sky"
   ]
  },
  {
   "cell_type": "markdown",
   "metadata": {},
   "source": [
    "If you have a sky position you're interested in, define the ra, dec values and turn them into a `lsst.afw.geom.SpherePoint` coordinate object."
   ]
  },
  {
   "cell_type": "code",
   "execution_count": 12,
   "metadata": {},
   "outputs": [],
   "source": [
    "our_ra = 10.0 # deg\n",
    "our_dec = -20.0 # deg\n",
    "coord_of_interest = afw_geom.SpherePoint(10.0, -30.0, units=afw_geom.degrees)"
   ]
  },
  {
   "cell_type": "markdown",
   "metadata": {},
   "source": [
    "We'll now read in a pickled `lsst.skymap.ringsSkyMap.RingsSkyMap` object corresponding to the deepCoadd catalog of Run 1.2i. This is a type of sky map pixelation that \"divides the sphere into N rings of Declination, plus the two polar caps, which sets the size of the individual tracts\" (from the [skymap docstring](https://github.com/lsst/skymap))."
   ]
  },
  {
   "cell_type": "code",
   "execution_count": 13,
   "metadata": {},
   "outputs": [
    {
     "name": "stdout",
     "output_type": "stream",
     "text": [
      "{'patchInnerDimensions': [4000, 4000], 'patchBorder': 100, 'tractOverlap': 0.016666666666666666, 'pixelScale': 0.2, 'projection': 'TAN', 'rotation': 0.0, 'numRings': 120, 'raStart': 0.0}\n"
     ]
    }
   ],
   "source": [
    "import pickle\n",
    "\n",
    "# This is the path to the skymap object.\n",
    "skymap_path = '/global/projecta/projectdirs/lsst/global/in2p3/Run1.2i/w_2018_39/rerun/coadd-v1/deepCoadd/skyMap.pickle'\n",
    "with open(skymap_path, \"rb\") as input_file:\n",
    "    # Read in the object\n",
    "    skymap = pickle.load(input_file)\n",
    "# Look at the object's configs\n",
    "print(skymap.config)"
   ]
  },
  {
   "cell_type": "markdown",
   "metadata": {},
   "source": [
    "Note that you can define more than one coordinates. Now put the coordinate(s) into a list and find the tract and patch pairs."
   ]
  },
  {
   "cell_type": "code",
   "execution_count": 14,
   "metadata": {},
   "outputs": [
    {
     "data": {
      "text/plain": [
       "[(TractInfo(id=4612, ctrCoord=[0.8479490337975917, 0.1531349802262342, -0.5074762200466556]),\n",
       "  (PatchInfo(index=(4, 5), innerBBox=(minimum=(16000, 20000), maximum=(19999, 23999)), outerBBox=(minimum=(15900, 19900), maximum=(20099, 24099))),))]"
      ]
     },
     "execution_count": 14,
     "metadata": {},
     "output_type": "execute_result"
    }
   ],
   "source": [
    "skymap.findTractPatchList([coord_of_interest])"
   ]
  },
  {
   "cell_type": "markdown",
   "metadata": {},
   "source": [
    "### Method 2: Choose arbitrarily from the tracts mapping table"
   ]
  },
  {
   "cell_type": "markdown",
   "metadata": {},
   "source": [
    "We can alternatively choose a row in the tracts mapping table."
   ]
  },
  {
   "cell_type": "code",
   "execution_count": 15,
   "metadata": {},
   "outputs": [],
   "source": [
    "# Path for the table\n",
    "tracts_mapping_path = '/global/projecta/projectdirs/lsst/global/in2p3/Run1.2i/w_2018_39/rerun/281118/tracts_mapping.sqlite3'"
   ]
  },
  {
   "cell_type": "code",
   "execution_count": 16,
   "metadata": {},
   "outputs": [
    {
     "name": "stdout",
     "output_type": "stream",
     "text": [
      "Table name:  overlaps\n"
     ]
    }
   ],
   "source": [
    "import sqlite3\n",
    "import pandas as pd\n",
    "\n",
    "conn = sqlite3.connect(tracts_mapping_path)\n",
    "# Check the table name\n",
    "cursor = conn.cursor()\n",
    "cursor.execute(\"SELECT name FROM sqlite_master WHERE type='table';\")\n",
    "table_name = cursor.fetchall()[0][0]\n",
    "print(\"Table name: \", table_name)\n",
    "# Turn table into Pandas df\n",
    "overlaps = pd.read_sql(sql=\"SELECT * from '%s'\" %table_name, con=conn)"
   ]
  },
  {
   "cell_type": "code",
   "execution_count": 17,
   "metadata": {},
   "outputs": [
    {
     "data": {
      "text/html": [
       "<div>\n",
       "<style scoped>\n",
       "    .dataframe tbody tr th:only-of-type {\n",
       "        vertical-align: middle;\n",
       "    }\n",
       "\n",
       "    .dataframe tbody tr th {\n",
       "        vertical-align: top;\n",
       "    }\n",
       "\n",
       "    .dataframe thead th {\n",
       "        text-align: right;\n",
       "    }\n",
       "</style>\n",
       "<table border=\"1\" class=\"dataframe\">\n",
       "  <thead>\n",
       "    <tr style=\"text-align: right;\">\n",
       "      <th></th>\n",
       "      <th>id</th>\n",
       "      <th>tract</th>\n",
       "      <th>patch</th>\n",
       "      <th>visit</th>\n",
       "      <th>detector</th>\n",
       "      <th>filter</th>\n",
       "      <th>layer</th>\n",
       "    </tr>\n",
       "  </thead>\n",
       "  <tbody>\n",
       "    <tr>\n",
       "      <th>0</th>\n",
       "      <td>1</td>\n",
       "      <td>5063</td>\n",
       "      <td>(0, 4)</td>\n",
       "      <td>230</td>\n",
       "      <td>53</td>\n",
       "      <td>r</td>\n",
       "      <td></td>\n",
       "    </tr>\n",
       "    <tr>\n",
       "      <th>1</th>\n",
       "      <td>2</td>\n",
       "      <td>5063</td>\n",
       "      <td>(1, 4)</td>\n",
       "      <td>230</td>\n",
       "      <td>53</td>\n",
       "      <td>r</td>\n",
       "      <td></td>\n",
       "    </tr>\n",
       "    <tr>\n",
       "      <th>2</th>\n",
       "      <td>3</td>\n",
       "      <td>5063</td>\n",
       "      <td>(2, 4)</td>\n",
       "      <td>230</td>\n",
       "      <td>53</td>\n",
       "      <td>r</td>\n",
       "      <td></td>\n",
       "    </tr>\n",
       "    <tr>\n",
       "      <th>3</th>\n",
       "      <td>4</td>\n",
       "      <td>5063</td>\n",
       "      <td>(0, 5)</td>\n",
       "      <td>230</td>\n",
       "      <td>53</td>\n",
       "      <td>r</td>\n",
       "      <td></td>\n",
       "    </tr>\n",
       "    <tr>\n",
       "      <th>4</th>\n",
       "      <td>5</td>\n",
       "      <td>5063</td>\n",
       "      <td>(1, 5)</td>\n",
       "      <td>230</td>\n",
       "      <td>53</td>\n",
       "      <td>r</td>\n",
       "      <td></td>\n",
       "    </tr>\n",
       "  </tbody>\n",
       "</table>\n",
       "</div>"
      ],
      "text/plain": [
       "   id  tract   patch  visit  detector filter layer\n",
       "0   1   5063  (0, 4)    230        53      r      \n",
       "1   2   5063  (1, 4)    230        53      r      \n",
       "2   3   5063  (2, 4)    230        53      r      \n",
       "3   4   5063  (0, 5)    230        53      r      \n",
       "4   5   5063  (1, 5)    230        53      r      "
      ]
     },
     "metadata": {},
     "output_type": "display_data"
    }
   ],
   "source": [
    "display(overlaps.head())"
   ]
  },
  {
   "cell_type": "markdown",
   "metadata": {},
   "source": [
    "Of course, you can `ls` within the path in the terminal to see the directories of filters, tracts, and patches. I'm going to define the following because I want to match our drp catalog to be created with the `proto-dc2_v3.0_test` catalog for the purposes of this tutorial."
   ]
  },
  {
   "cell_type": "code",
   "execution_count": 18,
   "metadata": {},
   "outputs": [],
   "source": [
    "our_filter = 'r'\n",
    "our_tract = 4638\n",
    "our_patch = '2,2'"
   ]
  },
  {
   "cell_type": "markdown",
   "metadata": {},
   "source": [
    "Now we can fetch our src and coadd catalogs."
   ]
  },
  {
   "cell_type": "code",
   "execution_count": 19,
   "metadata": {},
   "outputs": [],
   "source": [
    "# Get the src catalog for a selected visit, raft, and sensor:\n",
    "title = 'Run1.2i, visit={}, raft={}, sensor={}'.format(our_visit, our_raftName, our_detectorName)\n",
    "dataId = dict(visit=our_visit, raftName=our_raftName, detectorName=our_detectorName,)\n",
    "src_catalog = src_butler.get('src', dataId=dataId)\n",
    "src_calexp = src_butler.get('calexp', dataId=dataId)\n",
    "src_filter_ = src_calexp.getInfo().getFilter().getName()\n",
    "src_calib = src_calexp.getCalib()\n",
    "region_selector = CcdSelector(src_butler, visit=our_visit, raftName=our_raftName, detectorName=our_detectorName)\n",
    "\n",
    "# Get the coadd catalog for a selected filter, tract, and patch:\n",
    "title = 'Run1.2i, filter={}, tract={}, patch={}'.format(our_filter, our_tract, our_patch)\n",
    "dataId = dict(filter=our_filter, tract=our_tract, patch=our_patch)\n",
    "obj_catalog = obj_butler.get('deepCoadd_meas', dataId=dataId)\n",
    "obj_calexp = obj_butler.get('deepCoadd', dataId=dataId)\n",
    "obj_calib = obj_calexp.getCalib()\n",
    "region_selector = PatchSelector(obj_butler, our_tract, our_patch)"
   ]
  },
  {
   "cell_type": "markdown",
   "metadata": {},
   "source": [
    "### Focusing on Well-measured Galaxies\n",
    "\n",
    "Galaxies can be selected as extended objects (or sources) using the `base_ClassificationExtendedness_value`. We use the model flag and flux to ensure that a flux value could be measured, and then apply a selection to ensure that we get deblended objects. Finally, we apply a relatively bright magnitude cut, to avoid confusion when performing the positional match."
   ]
  },
  {
   "cell_type": "code",
   "execution_count": 20,
   "metadata": {},
   "outputs": [],
   "source": [
    "# Uncomment to see explanations of all columns of the src catalog with \"KronFlux\" in it\n",
    "#src_catalog.getSchema().extract('*KronFlux*')"
   ]
  },
  {
   "cell_type": "code",
   "execution_count": 21,
   "metadata": {},
   "outputs": [],
   "source": [
    "# Uncomment to print out the KronFlux-related column names in the src catalog \n",
    "#for i, colname in enumerate(src_catalog.getSchema().extract('*KronFlux*')):\n",
    "#    print(i, colname)"
   ]
  },
  {
   "cell_type": "code",
   "execution_count": 22,
   "metadata": {},
   "outputs": [],
   "source": [
    "# Uncomment to print out the modelfit_CModel-related column names in the coadd catalog\n",
    "#for i, colname in enumerate(obj_catalog.getSchema().extract('modelfit_*CModel*')):\n",
    "#    print(i, colname)"
   ]
  },
  {
   "cell_type": "code",
   "execution_count": 23,
   "metadata": {},
   "outputs": [],
   "source": [
    "mag_max = 24.5\n",
    "src_flux_model = 'ext_photometryKron_KronFlux'\n",
    "obj_flux_model = 'modelfit_CModel'\n",
    "# '_Flux' postfix was not available.\n",
    "src_flux_postfix = '_instFlux'\n",
    "obj_flux_postfix = '_instFlux'"
   ]
  },
  {
   "cell_type": "code",
   "execution_count": 24,
   "metadata": {},
   "outputs": [],
   "source": [
    "def get_drp_catalog(catalog, calib, flux_model, flux_postfix):\n",
    "    # Extract columns to use in the selection:\n",
    "    ext = catalog.get('base_ClassificationExtendedness_value')\n",
    "    model_flag = catalog.get(flux_model + '_flag')\n",
    "\n",
    "    model_flux = catalog.get(flux_model + flux_postfix)\n",
    "    num_children = catalog.get('deblend_nChild')\n",
    "\n",
    "    # Apply the extendedness, flag, and blendedness cuts using the subset method:\n",
    "    cat_temp = catalog.subset((ext == 1) &\n",
    "                              (model_flag == False) &\n",
    "                              (model_flux > 0) &\n",
    "                              (num_children == 0))\n",
    "\n",
    "    # Extract the magnitude and again use subset to apply the depth cut:\n",
    "    mag = calib.getMagnitude(cat_temp[flux_model + flux_postfix])\n",
    "    cat_temp = cat_temp.subset(mag < mag_max)\n",
    "\n",
    "    # Repackage everything in a more minimal SourceCatalog and add a magnitude column for comparing\n",
    "    # to the galaxy catalog truth values.\n",
    "    drp_catalog = make_SourceCatalog(mag_cols((our_filter,)))\n",
    "    for record in cat_temp:\n",
    "        new_rec = drp_catalog.addNew()\n",
    "        for name in 'id coord_ra coord_dec parent'.split():\n",
    "            new_rec.set(name, record[name])\n",
    "        new_rec.set('mag_{}'.format(our_filter),\n",
    "                    calib.getMagnitude(record[flux_model + flux_postfix]))\n",
    "    print(\"Number of observed objects in our DRP galaxy catalog\", len(drp_catalog))\n",
    "    return drp_catalog"
   ]
  },
  {
   "cell_type": "code",
   "execution_count": 25,
   "metadata": {},
   "outputs": [
    {
     "name": "stdout",
     "output_type": "stream",
     "text": [
      "Number of observed objects in our DRP galaxy catalog 758\n"
     ]
    }
   ],
   "source": [
    "drp_src_catalog = get_drp_catalog(src_catalog, src_calib, src_flux_model, src_flux_postfix)"
   ]
  },
  {
   "cell_type": "code",
   "execution_count": 27,
   "metadata": {},
   "outputs": [
    {
     "name": "stdout",
     "output_type": "stream",
     "text": [
      "Number of observed objects in our DRP galaxy catalog 978\n"
     ]
    }
   ],
   "source": [
    "drp_obj_catalog = get_drp_catalog(obj_catalog, obj_calib, obj_flux_model, obj_flux_postfix)"
   ]
  },
  {
   "cell_type": "markdown",
   "metadata": {},
   "source": [
    "### Extracting the Truth Info\n",
    "\n",
    "We can now use our region_selector object to process the protoDC2 extragalactic catalog. Note that while we instantiated it with a butler, so that it could work on selecting galaxy observations from either a tract or a CCD, we can _call_ it as a function (via its `__call__` method) which takes a GCR catalog object as its first argument. The result will be a DM Stack SourceCatalog object, that we can match to our observed DRP catalog."
   ]
  },
  {
   "cell_type": "code",
   "execution_count": 28,
   "metadata": {},
   "outputs": [
    {
     "name": "stdout",
     "output_type": "stream",
     "text": [
      "Applying magnitude filter: mag_true_r_lsst < 24.5\n",
      "Number of galaxies passing magnitude filter: 571392\n",
      "Number of galaxies within region: 1126\n"
     ]
    }
   ],
   "source": [
    "# Read in the galaxy catalog data.\n",
    "with warnings.catch_warnings():\n",
    "    warnings.filterwarnings('ignore')\n",
    "    gc = GCRCatalogs.load_catalog('proto-dc2_v3.0_test')\n",
    "\n",
    "# Create a SourceCatalog from the gc data, applying the region and magnitude selections.\n",
    "galaxy_catalog = region_selector(gc, band=our_filter, max_mag=mag_max)"
   ]
  },
  {
   "cell_type": "markdown",
   "metadata": {},
   "source": [
    "Compare the number of galaxies within our region with th enumber of observed galaxies in the DRP catalog. Is this what you would expect?"
   ]
  },
  {
   "cell_type": "markdown",
   "metadata": {},
   "source": [
    "### Doing the Matching\n",
    "We can now carry out the spatial matching, and compute some quantities to plot. You can switch between `drp_obj_catalog` and `drp_src_catalog` to see the difference in matching between the coadd and src catalogs."
   ]
  },
  {
   "cell_type": "code",
   "execution_count": 37,
   "metadata": {},
   "outputs": [],
   "source": [
    "# Find positional matches within 100 milliarcseconds:\n",
    "radius = afw_geom.Angle(0.1, afw_geom.arcseconds)\n",
    "src_matches = afw_table.matchRaDec(drp_src_catalog, galaxy_catalog, radius)\n",
    "obj_matches = afw_table.matchRaDec(drp_obj_catalog, galaxy_catalog, radius)"
   ]
  },
  {
   "cell_type": "markdown",
   "metadata": {},
   "source": [
    "`matches` is a list of `match` objects, each one containing an observed-true matchd galaxy pair. The code below shows how to work with these, looping over the matches and extracting information to plot."
   ]
  },
  {
   "cell_type": "code",
   "execution_count": 38,
   "metadata": {},
   "outputs": [],
   "source": [
    "def compare_differences(drp_catalog, matches):\n",
    "    # Compare magnitudes for matched objects:\n",
    "    drp_mag = np.zeros(len(matches), dtype=np.float)\n",
    "    gc_mag = np.zeros(len(matches), dtype=np.float)\n",
    "    sep = np.zeros(len(matches), dtype=np.float)\n",
    "    # Arrays for a quiver plot.\n",
    "    u = np.zeros(len(matches), dtype=np.float)\n",
    "    v = np.zeros(len(matches), dtype=np.float)\n",
    "    for i, match in enumerate(matches):\n",
    "        drp_mag[i] = match.first['mag_{}'.format(our_filter)]\n",
    "        gc_mag[i] = match.second['mag_{}'.format(our_filter)]\n",
    "        sep[i] = np.degrees(match.distance)*3600.*1000.\n",
    "        u[i] = match.first['coord_ra'] - match.second['coord_ra']\n",
    "        v[i] = match.first['coord_dec'] - match.second['coord_dec']\n",
    "    print(\"Number of matches:\", len(matches))\n",
    "\n",
    "    # Start a 2x2 panel figure:\n",
    "    fig = plt.figure(figsize=(8, 8))\n",
    "    frame_axes = fig.add_subplot(111, frameon=False)\n",
    "    frame_axes.set_title(title)\n",
    "    frame_axes.get_xaxis().set_ticks([])\n",
    "    frame_axes.get_yaxis().set_ticks([])\n",
    "\n",
    "    delta_mag = drp_mag - gc_mag  # Observed - True\n",
    "\n",
    "    # Upper Left: Histogram of match separations.\n",
    "    fig.add_subplot(2, 2, 1)\n",
    "    plt.hist(sep, range=(0, 100), histtype='step', bins=40)\n",
    "    plt.xlabel('separation (marcsec)')\n",
    "    plt.ylabel('entries / bin')\n",
    "\n",
    "    # Upper Right: Quiver plot of (DRP - galaxy_catalog) positions on the sky.\n",
    "    fig.add_subplot(2, 2, 2)\n",
    "    plt.quiver(np.degrees(drp_catalog['coord_ra']),\n",
    "               np.degrees(drp_catalog['coord_dec']),\n",
    "               u, v)\n",
    "    plt.xlabel('RA (deg)')\n",
    "    plt.ylabel('Dec (deg)')\n",
    "\n",
    "    # Lower left: Difference in magnitudes vs true magnitude (mag_gc).\n",
    "    fig.add_subplot(2, 2, 3)\n",
    "    plt.errorbar(gc_mag, delta_mag, fmt='.')\n",
    "    plt.xlabel('True mag {}_gc'.format(our_filter))\n",
    "    plt.ylabel('Mag difference ({0}_gc - {0}_drp)'.format(our_filter))\n",
    "\n",
    "    # Difference in magnitudes vs separation.\n",
    "    fig.add_subplot(2, 2, 4)\n",
    "    plt.errorbar(sep, delta_mag, fmt='.')\n",
    "    plt.xlabel('separation (mas)')\n",
    "    plt.ylabel('Mag difference ({0}_gc - {0}_drp)'.format(our_filter))\n",
    "\n",
    "    plt.tight_layout()"
   ]
  },
  {
   "cell_type": "code",
   "execution_count": 41,
   "metadata": {},
   "outputs": [
    {
     "name": "stdout",
     "output_type": "stream",
     "text": [
      "Number of matches: 810\n"
     ]
    },
    {
     "data": {
      "image/png": "[encoded data removed]",
      "text/plain": [
       "<Figure size 576x576 with 5 Axes>"
      ]
     },
     "metadata": {
      "needs_background": "light"
     },
     "output_type": "display_data"
    }
   ],
   "source": [
    "compare_differences(drp_obj_catalog, obj_matches)"
   ]
  },
  {
   "cell_type": "code",
   "execution_count": 42,
   "metadata": {},
   "outputs": [
    {
     "name": "stdout",
     "output_type": "stream",
     "text": [
      "Number of matches: 0\n"
     ]
    },
    {
     "data": {
      "image/png": "[encoded data removed]",
      "text/plain": [
       "<Figure size 576x576 with 5 Axes>"
      ]
     },
     "metadata": {
      "needs_background": "light"
     },
     "output_type": "display_data"
    }
   ],
   "source": [
    "compare_differences(drp_src_catalog, src_matches)"
   ]
  },
  {
   "cell_type": "markdown",
   "metadata": {},
   "source": [
    "### Going Further\n",
    "\n",
    "The available columns in a `SourceCatalog` can be seen by printing the info from the schema that it carries around with it. The cells below show you what you have available. The drp_catalog and galaxy_catalog that we made to do the spatial matching only have positions and magnitudes in them - but the parent catalogs have many more quantities. "
   ]
  },
  {
   "cell_type": "code",
   "execution_count": null,
   "metadata": {},
   "outputs": [],
   "source": [
    "for item in drp_catalog.schema:\n",
    "    print(\"{}:  {}\".format(item.field.getName(), item.field.getDoc()))"
   ]
  },
  {
   "cell_type": "code",
   "execution_count": null,
   "metadata": {},
   "outputs": [],
   "source": [
    "for item in galaxy_catalog.schema:\n",
    "    print(\"{}:  {}\".format(item.field.getName(), item.field.getDoc()))"
   ]
  },
  {
   "cell_type": "code",
   "execution_count": null,
   "metadata": {},
   "outputs": [],
   "source": [
    "# All the DRP measurements:\n",
    "for item in catalog.schema:\n",
    "    print(\"{}:  {}\".format(item.field.getName(), item.field.getDoc()))"
   ]
  },
  {
   "cell_type": "code",
   "execution_count": null,
   "metadata": {},
   "outputs": [],
   "source": [
    "# All the protoDC2 parameters:\n",
    "# help(gc)\n",
    "gc.list_all_quantities()"
   ]
  }
 ],
 "metadata": {
  "kernelspec": {
   "display_name": "desc-stack",
   "language": "python",
   "name": "desc-stack"
  },
  "language_info": {
   "codemirror_mode": {
    "name": "ipython",
    "version": 3
   },
   "file_extension": ".py",
   "mimetype": "text/x-python",
   "name": "python",
   "nbconvert_exporter": "python",
   "pygments_lexer": "ipython3",
   "version": "3.6.6"
  }
 },
 "nbformat": 4,
 "nbformat_minor": 2
}

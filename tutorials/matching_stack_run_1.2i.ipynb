{
 "cells": [
  {
   "cell_type": "markdown",
   "metadata": {},
   "source": [
    "# [Run 1.2i] Using the LSST Stack tools to do positional matching on coadd and src catalogs\n",
    "<br>Owner: **Ji Won Park** ([@jiwoncpark](https://github.com/LSSTDESC/DC2-analysis/issues/new?body=@jiwoncpark)) modified a similar notebook for Run 1.1p written by **Jim Chiang** ([@jchiang87](https://github.com/LSSTDESC/DC2-analysis/issues/new?body=@jchiang87)).\n",
    "<br>Last Run: **2019-02-27**\n",
    "\n",
    "**Note:** \n",
    "- This notebook reflects some schema changes that went into effect from Run 1.2i and, correspondingly, Generation 2 of Butler. If you're interested in Run 1.1p, go to Jim's original notebook [here](https://nbviewer.jupyter.org/github/LSSTDESC/DC2-analysis/blob/rendered/tutorials/matching_stack.nbconvert.ipynb) instead.\n",
    "- I also added some more annotations to guide DM beginners like me! They were mostly taken from function docstrings in [daf-persistence source code](https://github.com/lsst/daf_persistence) and [lsst skymap source code](https://github.com/lsst/skymap).\n",
    "\n",
    "In this notebook, we use the data butler to retrieve catalogs from coadd and visit-level analyses of Run 1.2i, and use the `lsst.afw.table.matchRaDec` function to do positional matching against galaxy truth info extracted from the protoDC2 extragalactic catalog v3.0, on which Run 1.2i was based. To enable this, we show how to create a `SourceCatalog` object from the galaxy truth info provided by the GCR interface.\n",
    "\n",
    "## Set Up"
   ]
  },
  {
   "cell_type": "code",
   "execution_count": 1,
   "metadata": {},
   "outputs": [],
   "source": [
    "import warnings\n",
    "from collections import namedtuple\n",
    "import numpy as np\n",
    "import matplotlib.pyplot as plt\n",
    "import lsst.afw.geom as afw_geom\n",
    "import lsst.afw.table as afw_table\n",
    "import lsst.daf.persistence as dp\n",
    "import GCRCatalogs"
   ]
  },
  {
   "cell_type": "markdown",
   "metadata": {},
   "source": [
    "Normally, the following code to rotate the protoDC2 field to the Run 1.2i field would be imported from the `LSSTDESC/sims_GCRCatSimInterface` package, but we include it here so that the `desc-stack` kernel can be used without modifying it to include the various DESC packages used with Run 1.2i."
   ]
  },
  {
   "cell_type": "code",
   "execution_count": 2,
   "metadata": {},
   "outputs": [],
   "source": [
    "# to allow local import when using desc-stack kernel\n",
    "import sys\n",
    "sys.path.insert(0, '')\n",
    "\n",
    "from utils.fieldRotator import FieldRotator"
   ]
  },
  {
   "cell_type": "markdown",
   "metadata": {},
   "source": [
    "## How To Create a Source Catalog\n",
    "\n",
    "In order to use the Stack's spatial matching code, we will need to reformat the extragalactic catalog galaxy position and magnitude information into an afw `SourceCatalog` object. These table objects are initialized by a \"schema\", which in turn is built from column definition \"Coldef\" objects.  The `mag_cols` function below shows how these Coldefs can be created."
   ]
  },
  {
   "cell_type": "code",
   "execution_count": 3,
   "metadata": {},
   "outputs": [],
   "source": [
    "def make_SourceCatalog(new_cols):\n",
    "    \"\"\"\n",
    "    Make a SourceCatalog to contain id and coordinates for each object, plus any new\n",
    "    columns.\n",
    "    \n",
    "    Parameters\n",
    "    ----------\n",
    "    new_cols: list of Coldefs\n",
    "        Column info for adding to an afw.table schema.\n",
    "\n",
    "    Returns\n",
    "    -------\n",
    "    lsst.afw.table.SourceCatalog: An empty SourceCatalog with the desired schema.\n",
    "    \"\"\"\n",
    "    # The minimal schema just contains the `id`, `coord_ra`, and `coord_dec` fields.\n",
    "    schema = afw_table.SourceTable.makeMinimalSchema()\n",
    "    for coldef in new_cols:\n",
    "        schema.addField(coldef.name, type=coldef.type, doc=coldef.doc)\n",
    "    return afw_table.SourceCatalog(schema)\n",
    "\n",
    "\n",
    "def mag_cols(bands):\n",
    "    \"\"\"Return column information for adding magnitude columns to an afw.table schema.\"\"\"\n",
    "    Coldef = namedtuple('Coldef', 'name type doc'.split())\n",
    "    return [Coldef('mag_{}'.format(x), float, '{}-magnitude'.format(x))\n",
    "            for x in bands]"
   ]
  },
  {
   "cell_type": "markdown",
   "metadata": {},
   "source": [
    "## Selecting Galaxies\n",
    "\n",
    "We will need a helper class to rotate the protoDC2 galaxies to the Run 1.2i locations, and then downselect for the sky region being considered. We'll make a general-purpose RegionSelector class, and then sub-class it for selecting objects in either CCDs or patches."
   ]
  },
  {
   "cell_type": "code",
   "execution_count": 4,
   "metadata": {},
   "outputs": [],
   "source": [
    "class RegionSelector:\n",
    "    \"\"\"\n",
    "    Class to rotate the protoDC2 galaxies to the Run1.2i sky location and downselect those galaxies\n",
    "    based on a magnitude limit and on the coordinates of the subregion (i.e., patch or CCD) being\n",
    "    considered.\n",
    "    \"\"\"\n",
    "    protoDC2_ra = 55.064\n",
    "    protoDC2_dec = -29.783\n",
    "    field_rotator = FieldRotator(0, 0, protoDC2_ra, protoDC2_dec)\n",
    "    def __init__(self):\n",
    "        pass\n",
    "    \n",
    "    def _set_coord_range(self, bbox, wcs):\n",
    "        \"\"\"\n",
    "        Set the coordinate range of the region.\n",
    "        \n",
    "        Notes\n",
    "        -----\n",
    "        This method is used by the RegionSelector's subclasses.\n",
    "        \n",
    "        Parameters\n",
    "        ----------\n",
    "        bbox: Calexp.BBox\n",
    "            Defines corners of region's bounding box\n",
    "        wcs: Calexp.Wcs\n",
    "            Defines pixel to world (sky) coordinate transformation\n",
    "        \"\"\"\n",
    "        region_box = afw_geom.Box2D(bbox)\n",
    "        corners = region_box.getCorners()\n",
    "        ra_values, dec_values = [], []\n",
    "        for corner in corners:\n",
    "            ra, dec = wcs.pixelToSky(corner)\n",
    "            ra_values.append(ra.asDegrees())\n",
    "            dec_values.append(dec.asDegrees())\n",
    "        self.ra_range = min(ra_values), max(ra_values)\n",
    "        self.dec_range = min(dec_values), max(dec_values)\n",
    "\n",
    "    def __call__(self, gc, band, max_mag):\n",
    "        \"\"\"\n",
    "        Create a SourceCatalog object from the input galaxy catalog for the specified band, and\n",
    "        apply the region and magnitude cuts.\n",
    "\n",
    "        Parameters\n",
    "        ----------\n",
    "        gc: GCRCatalogs GalaxyCatalog\n",
    "            The galaxy catalog obtained via GCR.\n",
    "        band: str\n",
    "            The band, e.g., 'i', to use for the magnitude comparison with the values measured\n",
    "            from the simulated data.\n",
    "        max_mag: float\n",
    "            The magnitude limit to apply.\n",
    "\n",
    "        Returns\n",
    "        -------\n",
    "        lsst.afw.table.SourceCatalog\n",
    "        \"\"\"\n",
    "        # Retrieve the desired columns and cut on the magnitude values.\n",
    "        bandname = 'mag_true_{}_lsst'.format(band)\n",
    "        filter_ = '{} < {}'.format(bandname, max_mag)\n",
    "        print(\"Applying magnitude filter:\", filter_)\n",
    "        gc_cols = gc.get_quantities(['galaxy_id', 'ra_true', 'dec_true',\n",
    "                                     bandname], filters=[filter_])\n",
    "        print(\"Number of galaxies passing magnitude filter:\", len(gc_cols[bandname]))\n",
    "\n",
    "        # Rotate to the Run1.1p field.\n",
    "        gc_ra_rot, gc_dec_rot \\\n",
    "            = self.field_rotator.transform(gc_cols['ra_true'],\n",
    "                                           gc_cols['dec_true'])\n",
    "\n",
    "        # Select the galaxies within the region.\n",
    "        index = np.where((gc_ra_rot > self.ra_range[0]) &\n",
    "                         (gc_ra_rot < self.ra_range[1]) &\n",
    "                         (gc_dec_rot > self.dec_range[0]) &\n",
    "                         (gc_dec_rot < self.dec_range[1]))\n",
    "        galaxy_id = gc_cols['galaxy_id'][index]\n",
    "        gc_ra = gc_ra_rot[index]\n",
    "        gc_dec = gc_dec_rot[index]\n",
    "        gc_mag = gc_cols[bandname][index]\n",
    "        print(\"Number of galaxies within region:\", len(galaxy_id))\n",
    "\n",
    "        # Create a SourceCatalog with the galaxy_ids, coordinates, magnitudes\n",
    "        galaxy_catalog = make_SourceCatalog(mag_cols((band,)))\n",
    "        for id_, ra, dec, mag in zip(galaxy_id, gc_ra, gc_dec, gc_mag):\n",
    "            record = galaxy_catalog.addNew()\n",
    "            record.set('id', id_)\n",
    "            record.set('coord_ra', afw_geom.Angle(ra, afw_geom.degrees))\n",
    "            record.set('coord_dec', afw_geom.Angle(dec, afw_geom.degrees))\n",
    "            record.set('mag_{}'.format(band), mag)\n",
    "        return galaxy_catalog"
   ]
  },
  {
   "cell_type": "code",
   "execution_count": 122,
   "metadata": {},
   "outputs": [],
   "source": [
    "class CcdSelector(RegionSelector):\n",
    "    \"\"\"RegionSelector to use with visit-level calexps, i.e., single CCD exposures.\"\"\"\n",
    "    def __init__(self, butler, visit, raftName, detectorName):\n",
    "        super(CcdSelector, self).__init__()\n",
    "        dataId = dict(visit=visit, raftName=raftName, detectorName=detectorName)\n",
    "        # Get the CCD boundaries\n",
    "        calexp = butler.get('calexp', dataId=dataId)\n",
    "        self._set_coord_range(calexp.getBBox(), calexp.getWcs())\n",
    "\n",
    "class PatchSelector(RegionSelector):\n",
    "    \"\"\"RegionSelector to use with skyMap patches, i.e., coadd data.\"\"\"\n",
    "    def __init__(self, butler, tract, patch):\n",
    "        super(PatchSelector, self).__init__()\n",
    "        # Get the patch boundaries.\n",
    "        skymap = butler.get('deepCoadd_skyMap')\n",
    "        tractInfo = skymap[tract]\n",
    "        patchInfo = tractInfo.getPatchInfo(eval(patch))\n",
    "        self._set_coord_range(patchInfo.getOuterBBox(), tractInfo.getWcs())"
   ]
  },
  {
   "cell_type": "markdown",
   "metadata": {},
   "source": [
    "## Matching Experiments\n",
    "\n",
    "Now we have the tools we need, let's read in the Run 1.2i DRP catalog data and match it to the extragalactic catalog input.\n",
    "\n",
    "We first instantiate our Butler object. Butler manages a collection of datasets known as a \"repository.\" Each dataset has a `datasetType` identified by strings such as `'src'` or `'calexp'` and a `ButlerLocation`."
   ]
  },
  {
   "cell_type": "code",
   "execution_count": 194,
   "metadata": {},
   "outputs": [],
   "source": [
    "# Create a data butler for the repository.\n",
    "src_repo = '/global/projecta/projectdirs/lsst/global/in2p3/Run1.2i/w_2018_39/rerun/281118'\n",
    "src_butler = dp.Butler(src_repo)"
   ]
  },
  {
   "cell_type": "markdown",
   "metadata": {},
   "source": [
    "### Sources or Objects?\n",
    "\n",
    "We can consider visit-level src catalog data, in which case we would provide a query, or `dataId`, to the butler with (`visit`, `raftName`, `sensorName`) ids; or we can consider coadd object data, for which we would provide a `dataId` with (`filter`, `tract`, `patch`) ids.\n",
    "\n",
    "Somewhat different flux models are available in the Run1.2i data for src catalogs versus coadd catalogs.  Ideally, we'd like to use CModel values for both, but settle here with `ext_photometryKron_KronFlux` values for the src catalog.\n",
    "\n",
    "Let's start with the visit-level src catalog data. We first double-check the key definitions for the src catalog, as they change across run versions. (For example, we identified rafts with `raft` in Run 1.1p but now use `raftName`.)"
   ]
  },
  {
   "cell_type": "code",
   "execution_count": 192,
   "metadata": {},
   "outputs": [
    {
     "data": {
      "text/plain": [
       "{'visit': int,\n",
       " 'filter': str,\n",
       " 'raftName': str,\n",
       " 'detectorName': str,\n",
       " 'detector': int}"
      ]
     },
     "execution_count": 192,
     "metadata": {},
     "output_type": "execute_result"
    }
   ],
   "source": [
    "src_butler.getKeys(datasetType='src')"
   ]
  },
  {
   "cell_type": "markdown",
   "metadata": {},
   "source": [
    "To see which values of the keys `visit`, `raftName`, and `detectorName` are available, we ask Butler to query the metadata."
   ]
  },
  {
   "cell_type": "code",
   "execution_count": 193,
   "metadata": {},
   "outputs": [
    {
     "name": "stdout",
     "output_type": "stream",
     "text": [
      "230 R12 S22\n"
     ]
    }
   ],
   "source": [
    "# Uncomment to print all the options (there are many)\n",
    "#print(src_butler.queryMetadata(datasetType='src', format=('visit', 'raftName', 'detectorName')))\n",
    "\n",
    "# We arbitarily take the first one.\n",
    "our_visit, our_raftName, our_detectorName = src_butler.queryMetadata(datasetType='src', format=('visit', 'raftName', 'detectorName'))[0]\n",
    "print(our_visit, our_raftName, our_detectorName)"
   ]
  },
  {
   "cell_type": "markdown",
   "metadata": {},
   "source": [
    "Similarly, we want to survey our options for the coadd object data."
   ]
  },
  {
   "cell_type": "code",
   "execution_count": 195,
   "metadata": {},
   "outputs": [],
   "source": [
    "obj_repo = '/global/projecta/projectdirs/lsst/global/in2p3/Run1.2i/w_2018_39/rerun/coadd-v1'\n",
    "obj_butler = dp.Butler(obj_repo)"
   ]
  },
  {
   "cell_type": "code",
   "execution_count": 196,
   "metadata": {},
   "outputs": [
    {
     "data": {
      "text/plain": [
       "{'filter': str, 'tract': int, 'patch': str}"
      ]
     },
     "execution_count": 196,
     "metadata": {},
     "output_type": "execute_result"
    }
   ],
   "source": [
    "# Get which keys are available\n",
    "obj_butler.getKeys(datasetType='deepCoadd_meas')"
   ]
  },
  {
   "cell_type": "markdown",
   "metadata": {},
   "source": [
    "Unfortunately, unlike in the src catalog case, running `obj_butler.queryMetadata(datasetType='deepCoadd_meas', format=('filter', 'tract', 'patch'))` will throw an error and won't give us which values are available for each key. We need to specify our desired values.\n",
    "\n",
    "If you haven't decided which tract or patch to look at, here are two ways to guide you:"
   ]
  },
  {
   "cell_type": "markdown",
   "metadata": {},
   "source": [
    "### Method 1: Get the tract and patch IDs for your favorite position (ra, dec) on the sky"
   ]
  },
  {
   "cell_type": "markdown",
   "metadata": {},
   "source": [
    "If you have a sky position you're interested in, define the ra, dec values and turn them into a `lsst.afw.geom.SpherePoint` coordinate object."
   ]
  },
  {
   "cell_type": "code",
   "execution_count": 233,
   "metadata": {},
   "outputs": [],
   "source": [
    "our_ra = 10.0 # deg\n",
    "our_dec = -20.0 # deg\n",
    "coord_of_interest = afw_geom.SpherePoint(10.0, -30.0, units=afw_geom.degrees)"
   ]
  },
  {
   "cell_type": "markdown",
   "metadata": {},
   "source": [
    "We'll now read in a pickled `lsst.skymap.ringsSkyMap.RingsSkyMap` object corresponding to the deepCoadd catalog of Run 1.2i. This is a type of sky map pixelation that \"divides the sphere into N rings of Declination, plus the two polar caps, which sets the size of the individual tracts\" (from the [skymap docstring](https://github.com/lsst/skymap))."
   ]
  },
  {
   "cell_type": "code",
   "execution_count": 234,
   "metadata": {},
   "outputs": [
    {
     "name": "stdout",
     "output_type": "stream",
     "text": [
      "{'patchInnerDimensions': [4000, 4000], 'patchBorder': 100, 'tractOverlap': 0.016666666666666666, 'pixelScale': 0.2, 'projection': 'TAN', 'rotation': 0.0, 'numRings': 120, 'raStart': 0.0}\n"
     ]
    }
   ],
   "source": [
    "import pickle\n",
    "\n",
    "# This is the path to the skymap object.\n",
    "skymap_path = '/global/projecta/projectdirs/lsst/global/in2p3/Run1.2i/w_2018_39/rerun/coadd-v1/deepCoadd/skyMap.pickle'\n",
    "with open(skymap_path, \"rb\") as input_file:\n",
    "    # Read in the object\n",
    "    skymap = pickle.load(input_file)\n",
    "# Look at the object's configs\n",
    "print(skymap.config)"
   ]
  },
  {
   "cell_type": "markdown",
   "metadata": {},
   "source": [
    "Note that you can define more than one coordinates. Now put the coordinate(s) into a list and find the tract and patch pairs."
   ]
  },
  {
   "cell_type": "code",
   "execution_count": 215,
   "metadata": {},
   "outputs": [
    {
     "data": {
      "text/plain": [
       "[(TractInfo(id=4612, ctrCoord=[0.8479490337975917, 0.1531349802262342, -0.5074762200466556]),\n",
       "  (PatchInfo(index=(4, 5), innerBBox=(minimum=(16000, 20000), maximum=(19999, 23999)), outerBBox=(minimum=(15900, 19900), maximum=(20099, 24099))),))]"
      ]
     },
     "execution_count": 215,
     "metadata": {},
     "output_type": "execute_result"
    }
   ],
   "source": [
    "skymap.findTractPatchList([coord_of_interest])"
   ]
  },
  {
   "cell_type": "markdown",
   "metadata": {},
   "source": [
    "### Method 2: Choose arbitrarily from the tracts mapping table"
   ]
  },
  {
   "cell_type": "markdown",
   "metadata": {},
   "source": [
    "We can alternatively choose a row in the tracts mapping table."
   ]
  },
  {
   "cell_type": "code",
   "execution_count": 216,
   "metadata": {},
   "outputs": [],
   "source": [
    "# Path for the table\n",
    "tracts_mapping_path = '/global/projecta/projectdirs/lsst/global/in2p3/Run1.2i/w_2018_39/rerun/281118/tracts_mapping.sqlite3'"
   ]
  },
  {
   "cell_type": "code",
   "execution_count": 228,
   "metadata": {},
   "outputs": [
    {
     "name": "stdout",
     "output_type": "stream",
     "text": [
      "Table name:  overlaps\n"
     ]
    }
   ],
   "source": [
    "import sqlite3\n",
    "import pandas as pd\n",
    "\n",
    "conn = sqlite3.connect(tracts_mapping_path)\n",
    "# Check the table name\n",
    "cursor = conn.cursor()\n",
    "cursor.execute(\"SELECT name FROM sqlite_master WHERE type='table';\")\n",
    "table_name = cursor.fetchall()[0][0]\n",
    "print(\"Table name: \", table_name)\n",
    "# Turn table into Pandas df\n",
    "overlaps = pd.read_sql(sql=\"SELECT * from '%s'\" %table_name, con=conn)"
   ]
  },
  {
   "cell_type": "code",
   "execution_count": 227,
   "metadata": {},
   "outputs": [
    {
     "data": {
      "text/html": [
       "<div>\n",
       "<style scoped>\n",
       "    .dataframe tbody tr th:only-of-type {\n",
       "        vertical-align: middle;\n",
       "    }\n",
       "\n",
       "    .dataframe tbody tr th {\n",
       "        vertical-align: top;\n",
       "    }\n",
       "\n",
       "    .dataframe thead th {\n",
       "        text-align: right;\n",
       "    }\n",
       "</style>\n",
       "<table border=\"1\" class=\"dataframe\">\n",
       "  <thead>\n",
       "    <tr style=\"text-align: right;\">\n",
       "      <th></th>\n",
       "      <th>id</th>\n",
       "      <th>tract</th>\n",
       "      <th>patch</th>\n",
       "      <th>visit</th>\n",
       "      <th>detector</th>\n",
       "      <th>filter</th>\n",
       "      <th>layer</th>\n",
       "    </tr>\n",
       "  </thead>\n",
       "  <tbody>\n",
       "    <tr>\n",
       "      <th>0</th>\n",
       "      <td>1</td>\n",
       "      <td>5063</td>\n",
       "      <td>(0, 4)</td>\n",
       "      <td>230</td>\n",
       "      <td>53</td>\n",
       "      <td>r</td>\n",
       "      <td></td>\n",
       "    </tr>\n",
       "    <tr>\n",
       "      <th>1</th>\n",
       "      <td>2</td>\n",
       "      <td>5063</td>\n",
       "      <td>(1, 4)</td>\n",
       "      <td>230</td>\n",
       "      <td>53</td>\n",
       "      <td>r</td>\n",
       "      <td></td>\n",
       "    </tr>\n",
       "    <tr>\n",
       "      <th>2</th>\n",
       "      <td>3</td>\n",
       "      <td>5063</td>\n",
       "      <td>(2, 4)</td>\n",
       "      <td>230</td>\n",
       "      <td>53</td>\n",
       "      <td>r</td>\n",
       "      <td></td>\n",
       "    </tr>\n",
       "    <tr>\n",
       "      <th>3</th>\n",
       "      <td>4</td>\n",
       "      <td>5063</td>\n",
       "      <td>(0, 5)</td>\n",
       "      <td>230</td>\n",
       "      <td>53</td>\n",
       "      <td>r</td>\n",
       "      <td></td>\n",
       "    </tr>\n",
       "    <tr>\n",
       "      <th>4</th>\n",
       "      <td>5</td>\n",
       "      <td>5063</td>\n",
       "      <td>(1, 5)</td>\n",
       "      <td>230</td>\n",
       "      <td>53</td>\n",
       "      <td>r</td>\n",
       "      <td></td>\n",
       "    </tr>\n",
       "  </tbody>\n",
       "</table>\n",
       "</div>"
      ],
      "text/plain": [
       "   id  tract   patch  visit  detector filter layer\n",
       "0   1   5063  (0, 4)    230        53      r      \n",
       "1   2   5063  (1, 4)    230        53      r      \n",
       "2   3   5063  (2, 4)    230        53      r      \n",
       "3   4   5063  (0, 5)    230        53      r      \n",
       "4   5   5063  (1, 5)    230        53      r      "
      ]
     },
     "metadata": {},
     "output_type": "display_data"
    }
   ],
   "source": [
    "display(overlaps.head())"
   ]
  },
  {
   "cell_type": "markdown",
   "metadata": {},
   "source": [
    "Of course, you can `ls` within the path in the terminal to see the directories of filters, tracts, and patches. I went for the second method and defined:"
   ]
  },
  {
   "cell_type": "code",
   "execution_count": 229,
   "metadata": {},
   "outputs": [],
   "source": [
    "our_filter = 'r'\n",
    "our_tract = 5063\n",
    "our_patch = '0,4'"
   ]
  },
  {
   "cell_type": "markdown",
   "metadata": {},
   "source": [
    "Now we can fetch our src and coadd catalogs."
   ]
  },
  {
   "cell_type": "code",
   "execution_count": 230,
   "metadata": {},
   "outputs": [],
   "source": [
    "# Get the src catalog for a selected visit, raft, and sensor:\n",
    "title = 'Run1.2i, visit={}, raft={}, sensor={}'.format(our_visit, our_raftName, our_detectorName)\n",
    "dataId = dict(visit=our_visit, raftName=our_raftName, detectorName=our_detectorName,)\n",
    "src_catalog = src_butler.get('src', dataId=dataId)\n",
    "src_calexp = src_butler.get('calexp', dataId=dataId)\n",
    "src_filter_ = src_calexp.getInfo().getFilter().getName()\n",
    "src_calib = src_calexp.getCalib()\n",
    "region_selector = CcdSelector(src_butler, visit=our_visit, raftName=our_raftName, detectorName=our_detectorName)\n",
    "\n",
    "# Get the coadd catalog for a selected filter, tract, and patch:\n",
    "title = 'Run1.2i, filter={}, tract={}, patch={}'.format(our_filter, our_tract, our_patch)\n",
    "dataId = dict(filter=our_filter, tract=our_tract, patch=our_patch)\n",
    "obj_catalog = obj_butler.get('deepCoadd_meas', dataId=dataId)\n",
    "obj_calexp = obj_butler.get('deepCoadd', dataId=dataId)\n",
    "obj_calib = obj_calexp.getCalib()\n",
    "region_selector = PatchSelector(obj_butler, our_tract, our_patch)"
   ]
  },
  {
   "cell_type": "markdown",
   "metadata": {},
   "source": [
    "### Focusing on Well-measured Galaxies\n",
    "\n",
    "Galaxies can be selected as extended objects (or sources) using the `base_ClassificationExtendedness_value`. We use the model flag and flux to ensure that a flux value could be measured, and then apply a selection to ensure that we get deblended objects. Finally, we apply a relatively bright magnitude cut, to avoid confusion when performing the positional match."
   ]
  },
  {
   "cell_type": "code",
   "execution_count": 241,
   "metadata": {},
   "outputs": [],
   "source": [
    "# Uncomment to see explanations of all columns of the src catalog with \"KronFlux\" in it\n",
    "#src_catalog.getSchema().extract('*KronFlux*')"
   ]
  },
  {
   "cell_type": "code",
   "execution_count": 248,
   "metadata": {},
   "outputs": [],
   "source": [
    "# Uncomment to print out the KronFlux-related column names in the src catalog \n",
    "#for i, colname in enumerate(src_catalog.getSchema().extract('*KronFlux*')):\n",
    "#    print(i, colname)"
   ]
  },
  {
   "cell_type": "code",
   "execution_count": 271,
   "metadata": {},
   "outputs": [],
   "source": [
    "# Uncomment to print out the modelfit_CModel-related column names in the coadd catalog\n",
    "#for i, colname in enumerate(obj_catalog.getSchema().extract('modelfit_*CModel*')):\n",
    "#    print(i, colname)"
   ]
  },
  {
   "cell_type": "code",
   "execution_count": 272,
   "metadata": {},
   "outputs": [],
   "source": [
    "mag_max = 24.5\n",
    "src_flux_model = 'ext_photometryKron_KronFlux'\n",
    "obj_flux_model = 'modelfit_CModel'\n",
    "# '_Flux' postfix was not available.\n",
    "src_flux_postfix = '_instFlux'\n",
    "obj_flux_postfix = '_instFlux'"
   ]
  },
  {
   "cell_type": "code",
   "execution_count": 273,
   "metadata": {},
   "outputs": [],
   "source": [
    "def get_drp_catalog(catalog, calib, flux_model, flux_postfix):\n",
    "    # Extract columns to use in the selection:\n",
    "    ext = catalog.get('base_ClassificationExtendedness_value')\n",
    "    model_flag = catalog.get(flux_model + '_flag')\n",
    "\n",
    "    model_flux = catalog.get(flux_model + flux_postfix)\n",
    "    num_children = catalog.get('deblend_nChild')\n",
    "\n",
    "    # Apply the extendedness, flag, and blendedness cuts using the subset method:\n",
    "    cat_temp = catalog.subset((ext == 1) &\n",
    "                              (model_flag == False) &\n",
    "                              (model_flux > 0) &\n",
    "                              (num_children == 0))\n",
    "\n",
    "    # Extract the magnitude and again use subset to apply the depth cut:\n",
    "    mag = calib.getMagnitude(cat_temp[flux_model + flux_postfix])\n",
    "    cat_temp = cat_temp.subset(mag < mag_max)\n",
    "\n",
    "    # Repackage everything in a more minimal SourceCatalog and add a magnitude column for comparing\n",
    "    # to the galaxy catalog truth values.\n",
    "    drp_catalog = make_SourceCatalog(mag_cols((our_filter,)))\n",
    "    for record in cat_temp:\n",
    "        new_rec = drp_catalog.addNew()\n",
    "        for name in 'id coord_ra coord_dec parent'.split():\n",
    "            new_rec.set(name, record[name])\n",
    "        new_rec.set('mag_{}'.format(our_filter),\n",
    "                    calib.getMagnitude(record[flux_model + flux_postfix]))\n",
    "    print(\"Number of observed objects in our DRP galaxy catalog\", len(drp_catalog))\n",
    "    return drp_catalog"
   ]
  },
  {
   "cell_type": "code",
   "execution_count": 274,
   "metadata": {},
   "outputs": [
    {
     "name": "stdout",
     "output_type": "stream",
     "text": [
      "Number of observed objects in our DRP galaxy catalog 72\n"
     ]
    }
   ],
   "source": [
    "drp_src_catalog = get_drp_catalog(src_catalog, src_calib, src_flux_model, src_flux_postfix)"
   ]
  },
  {
   "cell_type": "code",
   "execution_count": 275,
   "metadata": {},
   "outputs": [
    {
     "name": "stdout",
     "output_type": "stream",
     "text": [
      "Number of observed objects in our DRP galaxy catalog 879\n"
     ]
    }
   ],
   "source": [
    "drp_obj_catalog = get_source_catalog(obj_catalog, obj_calib, obj_flux_model, obj_flux_postfix)"
   ]
  },
  {
   "cell_type": "markdown",
   "metadata": {},
   "source": [
    "### Extracting the Truth Info\n",
    "\n",
    "We can now use our region_selector object to process the protoDC2 extragalactic catalog. Note that while we instantiated it with a butler, so that it could work on selecting galaxy observations from either a tract or a CCD, we can _call_ it as a function (via its `__call__` method) which takes a GCR catalog object as its first argument. The result will be a DM Stack SourceCatalog object, that we can match to our observed DRP catalog."
   ]
  },
  {
   "cell_type": "code",
   "execution_count": 254,
   "metadata": {},
   "outputs": [
    {
     "name": "stdout",
     "output_type": "stream",
     "text": [
      "Applying magnitude filter: mag_true_r_lsst < 24.5\n",
      "Number of galaxies passing magnitude filter: 571392\n",
      "Number of galaxies within region: 1041\n"
     ]
    }
   ],
   "source": [
    "# Read in the galaxy catalog data.\n",
    "with warnings.catch_warnings():\n",
    "    warnings.filterwarnings('ignore')\n",
    "    gc = GCRCatalogs.load_catalog('proto-dc2_v3.0_test')\n",
    "\n",
    "# Create a SourceCatalog from the gc data, applying the region and magnitude selections.\n",
    "galaxy_catalog = region_selector(gc, band=filter_, max_mag=mag_max)"
   ]
  },
  {
   "cell_type": "markdown",
   "metadata": {},
   "source": [
    "Compare the number of galaxies within our region with th enumber of observed galaxies in the DRP catalog. Is this what you would expect?"
   ]
  },
  {
   "cell_type": "markdown",
   "metadata": {},
   "source": [
    "### Doing the Matching\n",
    "We can now carry out the spatial matching, and compute some quantities to plot."
   ]
  },
  {
   "cell_type": "code",
   "execution_count": 276,
   "metadata": {},
   "outputs": [],
   "source": [
    "# Find positional matches within 100 milliarcseconds:\n",
    "radius = afw_geom.Angle(0.1, afw_geom.arcseconds)\n",
    "matches = afw_table.matchRaDec(drp_src_catalog, galaxy_catalog, radius)"
   ]
  },
  {
   "cell_type": "markdown",
   "metadata": {},
   "source": [
    "`matches` is a list of `match` objects, each one containing an observed-true matchd galaxy pair. The code below shows how to work with these, looping over the matches and extracting information to plot."
   ]
  },
  {
   "cell_type": "code",
   "execution_count": 277,
   "metadata": {},
   "outputs": [
    {
     "name": "stdout",
     "output_type": "stream",
     "text": [
      "Number of matches: 0\n"
     ]
    }
   ],
   "source": [
    "# Compare magnitudes for matched objects:\n",
    "drp_mag = np.zeros(len(matches), dtype=np.float)\n",
    "gc_mag = np.zeros(len(matches), dtype=np.float)\n",
    "sep = np.zeros(len(matches), dtype=np.float)\n",
    "# Arrays for a quiver plot.\n",
    "u = np.zeros(len(matches), dtype=np.float)\n",
    "v = np.zeros(len(matches), dtype=np.float)\n",
    "for i, match in enumerate(matches):\n",
    "    drp_mag[i] = match.first['mag_{}'.format(our_filter)]\n",
    "    gc_mag[i] = match.second['mag_{}'.format(our_filter)]\n",
    "    sep[i] = np.degrees(match.distance)*3600.*1000.\n",
    "    u[i] = match.first['coord_ra'] - match.second['coord_ra']\n",
    "    v[i] = match.first['coord_dec'] - match.second['coord_dec']\n",
    "print(\"Number of matches:\", len(matches))"
   ]
  },
  {
   "cell_type": "code",
   "execution_count": 257,
   "metadata": {},
   "outputs": [
    {
     "name": "stderr",
     "output_type": "stream",
     "text": [
      "/opt/lsst/software/stack/python/miniconda3-4.5.4/envs/lsst-scipipe-fcd27eb/lib/python3.6/site-packages/matplotlib/quiver.py:650: RuntimeWarning: Mean of empty slice.\n",
      "  amean = a.mean()\n",
      "/opt/lsst/software/stack/python/miniconda3-4.5.4/envs/lsst-scipipe-fcd27eb/lib/python3.6/site-packages/numpy/core/_methods.py:80: RuntimeWarning: invalid value encountered in double_scalars\n",
      "  ret = ret.dtype.type(ret / rcount)\n"
     ]
    },
    {
     "data": {
      "image/png": "[encoded data removed]",
      "text/plain": [
       "<Figure size 576x576 with 5 Axes>"
      ]
     },
     "metadata": {
      "needs_background": "light"
     },
     "output_type": "display_data"
    }
   ],
   "source": [
    "# Start a 2x2 panel figure:\n",
    "fig = plt.figure(figsize=(8, 8))\n",
    "frame_axes = fig.add_subplot(111, frameon=False)\n",
    "frame_axes.set_title(title)\n",
    "frame_axes.get_xaxis().set_ticks([])\n",
    "frame_axes.get_yaxis().set_ticks([])\n",
    "\n",
    "delta_mag = drp_mag - gc_mag  # Observed - True\n",
    "\n",
    "# Upper Left: Histogram of match separations.\n",
    "fig.add_subplot(2, 2, 1)\n",
    "plt.hist(sep, range=(0, 100), histtype='step', bins=40)\n",
    "plt.xlabel('separation (marcsec)')\n",
    "plt.ylabel('entries / bin')\n",
    "\n",
    "# Upper Right: Quiver plot of (DRP - galaxy_catalog) positions on the sky.\n",
    "fig.add_subplot(2, 2, 2)\n",
    "plt.quiver(np.degrees(drp_catalog['coord_ra']),\n",
    "           np.degrees(drp_catalog['coord_dec']),\n",
    "           u, v)\n",
    "plt.xlabel('RA (deg)')\n",
    "plt.ylabel('Dec (deg)')\n",
    "\n",
    "# Lower left: Difference in magnitudes vs true magnitude (mag_gc).\n",
    "fig.add_subplot(2, 2, 3)\n",
    "plt.errorbar(gc_mag, delta_mag, fmt='.')\n",
    "plt.xlabel('True mag {}_gc'.format(filter_))\n",
    "plt.ylabel('Mag difference ({0}_gc - {0}_drp)'.format(our_filter))\n",
    "\n",
    "# Difference in magnitudes vs separation.\n",
    "fig.add_subplot(2, 2, 4)\n",
    "plt.errorbar(sep, delta_mag, fmt='.')\n",
    "plt.xlabel('separation (mas)')\n",
    "plt.ylabel('Mag difference ({0}_gc - {0}_drp)'.format(our_filter))\n",
    "\n",
    "plt.tight_layout()"
   ]
  },
  {
   "cell_type": "markdown",
   "metadata": {},
   "source": [
    "### Going Further\n",
    "\n",
    "The available columns in a `SourceCatalog` can be seen by printing the info from the schema that it carries around with it. The cells below show you what you have available. The drp_catalog and galaxy_catalog that we made to do the spatial matching only have positions and magnitudes in them - but the parent catalogs have many more quantities. "
   ]
  },
  {
   "cell_type": "code",
   "execution_count": 258,
   "metadata": {},
   "outputs": [
    {
     "name": "stdout",
     "output_type": "stream",
     "text": [
      "id:  unique ID\n",
      "coord_ra:  position in ra/dec\n",
      "coord_dec:  position in ra/dec\n",
      "parent:  unique ID of parent source\n",
      "mag_r:  r-magnitude\n"
     ]
    }
   ],
   "source": [
    "for item in drp_catalog.schema:\n",
    "    print(\"{}:  {}\".format(item.field.getName(), item.field.getDoc()))"
   ]
  },
  {
   "cell_type": "code",
   "execution_count": 259,
   "metadata": {},
   "outputs": [
    {
     "name": "stdout",
     "output_type": "stream",
     "text": [
      "id:  unique ID\n",
      "coord_ra:  position in ra/dec\n",
      "coord_dec:  position in ra/dec\n",
      "parent:  unique ID of parent source\n",
      "mag_r:  r-magnitude\n"
     ]
    }
   ],
   "source": [
    "for item in galaxy_catalog.schema:\n",
    "    print(\"{}:  {}\".format(item.field.getName(), item.field.getDoc()))"
   ]
  },
  {
   "cell_type": "code",
   "execution_count": 260,
   "metadata": {},
   "outputs": [
    {
     "name": "stdout",
     "output_type": "stream",
     "text": [
      "id:  unique ID\n",
      "coord_ra:  position in ra/dec\n",
      "coord_dec:  position in ra/dec\n",
      "parent:  unique ID of parent source\n",
      "merge_footprint_i:  Detection footprint overlapped with a detection from filter i\n",
      "merge_footprint_r:  Detection footprint overlapped with a detection from filter r\n",
      "merge_footprint_z:  Detection footprint overlapped with a detection from filter z\n",
      "merge_footprint_y:  Detection footprint overlapped with a detection from filter y\n",
      "merge_footprint_g:  Detection footprint overlapped with a detection from filter g\n",
      "merge_footprint_u:  Detection footprint overlapped with a detection from filter u\n",
      "merge_footprint_sky:  Detection footprint overlapped with a detection from filter sky\n",
      "merge_peak_i:  Peak detected in filter i\n",
      "merge_peak_r:  Peak detected in filter r\n",
      "merge_peak_z:  Peak detected in filter z\n",
      "merge_peak_y:  Peak detected in filter y\n",
      "merge_peak_g:  Peak detected in filter g\n",
      "merge_peak_u:  Peak detected in filter u\n",
      "merge_peak_sky:  Peak detected in filter sky\n",
      "deblend_nChild:  Number of children this object has (defaults to 0)\n",
      "deblend_deblendedAsPsf:  Deblender thought this source looked like a PSF\n",
      "deblend_psfCenter_x:  If deblended-as-psf, the PSF centroid\n",
      "deblend_psfCenter_y:  If deblended-as-psf, the PSF centroid\n",
      "deblend_psfFlux:  If deblended-as-psf, the PSF flux\n",
      "deblend_tooManyPeaks:  Source had too many peaks; only the brightest were included\n",
      "deblend_parentTooBig:  Parent footprint covered too many pixels\n",
      "deblend_masked:  Parent footprint was predominantly masked\n",
      "deblend_skipped:  Deblender skipped this source\n",
      "deblend_rampedTemplate:  This source was near an image edge and the deblender used \"ramp\" edge-handling.\n",
      "deblend_patchedTemplate:  This source was near an image edge and the deblender used \"patched\" edge-handling.\n",
      "deblend_hasStrayFlux:  This source was assigned some stray flux\n",
      "base_NaiveCentroid_x:  centroid from Naive Centroid algorithm\n",
      "base_NaiveCentroid_y:  centroid from Naive Centroid algorithm\n",
      "base_NaiveCentroid_flag:  General Failure Flag\n",
      "base_NaiveCentroid_flag_noCounts:  Object to be centroided has no counts\n",
      "base_NaiveCentroid_flag_edge:  Object too close to edge\n",
      "base_NaiveCentroid_flag_resetToPeak:  set if CentroidChecker reset the centroid\n",
      "base_SdssCentroid_x:  centroid from Sdss Centroid algorithm\n",
      "base_SdssCentroid_y:  centroid from Sdss Centroid algorithm\n",
      "base_SdssCentroid_xErr:  1-sigma uncertainty on x position\n",
      "base_SdssCentroid_yErr:  1-sigma uncertainty on y position\n",
      "base_SdssCentroid_flag:  General Failure Flag\n",
      "base_SdssCentroid_flag_edge:  Object too close to edge\n",
      "base_SdssCentroid_flag_noSecondDerivative:  Vanishing second derivative\n",
      "base_SdssCentroid_flag_almostNoSecondDerivative:  Almost vanishing second derivative\n",
      "base_SdssCentroid_flag_notAtMaximum:  Object is not at a maximum\n",
      "base_SdssCentroid_flag_resetToPeak:  set if CentroidChecker reset the centroid\n",
      "base_Blendedness_old:  blendedness from dot products: (child.dot(parent)/child.dot(child) - 1)\n",
      "base_Blendedness_raw_instFlux:  measure of how instFlux is affected by neighbors: (1 - instFlux.child/instFlux.parent)\n",
      "base_Blendedness_raw_instFlux_child:  instFlux of the child, measured with a Gaussian weight matched to the child\n",
      "base_Blendedness_raw_instFlux_parent:  instFlux of the parent, measured with a Gaussian weight matched to the child\n",
      "base_Blendedness_abs_instFlux:  measure of how instFlux is affected by neighbors: (1 - instFlux.child/instFlux.parent)\n",
      "base_Blendedness_abs_instFlux_child:  instFlux of the child, measured with a Gaussian weight matched to the child\n",
      "base_Blendedness_abs_instFlux_parent:  instFlux of the parent, measured with a Gaussian weight matched to the child\n",
      "base_Blendedness_raw_child_xx:  shape of the child, measured with a Gaussian weight matched to the child\n",
      "base_Blendedness_raw_child_yy:  shape of the child, measured with a Gaussian weight matched to the child\n",
      "base_Blendedness_raw_child_xy:  shape of the child, measured with a Gaussian weight matched to the child\n",
      "base_Blendedness_raw_parent_xx:  shape of the parent, measured with a Gaussian weight matched to the child\n",
      "base_Blendedness_raw_parent_yy:  shape of the parent, measured with a Gaussian weight matched to the child\n",
      "base_Blendedness_raw_parent_xy:  shape of the parent, measured with a Gaussian weight matched to the child\n",
      "base_Blendedness_abs_child_xx:  shape of the child, measured with a Gaussian weight matched to the child\n",
      "base_Blendedness_abs_child_yy:  shape of the child, measured with a Gaussian weight matched to the child\n",
      "base_Blendedness_abs_child_xy:  shape of the child, measured with a Gaussian weight matched to the child\n",
      "base_Blendedness_abs_parent_xx:  shape of the parent, measured with a Gaussian weight matched to the child\n",
      "base_Blendedness_abs_parent_yy:  shape of the parent, measured with a Gaussian weight matched to the child\n",
      "base_Blendedness_abs_parent_xy:  shape of the parent, measured with a Gaussian weight matched to the child\n",
      "base_Blendedness_flag:  General Failure Flag\n",
      "base_Blendedness_flag_noCentroid:  Object has no centroid\n",
      "base_Blendedness_flag_noShape:  Object has no shape\n",
      "base_InputCount_flag:  Set for any fatal failure\n",
      "base_InputCount_value:  Number of images contributing at center, not including anyclipping\n",
      "base_InputCount_flag_noInputs:  No coadd inputs available\n",
      "base_SdssShape_xx:  elliptical Gaussian adaptive moments\n",
      "base_SdssShape_yy:  elliptical Gaussian adaptive moments\n",
      "base_SdssShape_xy:  elliptical Gaussian adaptive moments\n",
      "base_SdssShape_xxErr:  Standard deviation of xx moment\n",
      "base_SdssShape_yyErr:  Standard deviation of yy moment\n",
      "base_SdssShape_xyErr:  Standard deviation of xy moment\n",
      "base_SdssShape_x:  elliptical Gaussian adaptive moments\n",
      "base_SdssShape_y:  elliptical Gaussian adaptive moments\n",
      "base_SdssShape_instFlux:  elliptical Gaussian adaptive moments\n",
      "base_SdssShape_instFluxErr:  1-sigma instFlux uncertainty\n",
      "base_SdssShape_psf_xx:  adaptive moments of the PSF model at the object position\n",
      "base_SdssShape_psf_yy:  adaptive moments of the PSF model at the object position\n",
      "base_SdssShape_psf_xy:  adaptive moments of the PSF model at the object position\n",
      "base_SdssShape_instFlux_xx_Cov:  uncertainty covariance between base_SdssShape_instFlux and base_SdssShape_xx\n",
      "base_SdssShape_instFlux_yy_Cov:  uncertainty covariance between base_SdssShape_instFlux and base_SdssShape_yy\n",
      "base_SdssShape_instFlux_xy_Cov:  uncertainty covariance between base_SdssShape_instFlux and base_SdssShape_xy\n",
      "base_SdssShape_flag:  General Failure Flag\n",
      "base_SdssShape_flag_unweightedBad:  Both weighted and unweighted moments were invalid\n",
      "base_SdssShape_flag_unweighted:  Weighted moments converged to an invalid value; using unweighted moments\n",
      "base_SdssShape_flag_shift:  centroid shifted by more than the maximum allowed amount\n",
      "base_SdssShape_flag_maxIter:  Too many iterations in adaptive moments\n",
      "base_SdssShape_flag_psf:  Failure in measuring PSF model shape\n",
      "ext_shapeHSM_HsmPsfMoments_x:  HSM Centroid\n",
      "ext_shapeHSM_HsmPsfMoments_y:  HSM Centroid\n",
      "ext_shapeHSM_HsmPsfMoments_xx:  HSM moments\n",
      "ext_shapeHSM_HsmPsfMoments_yy:  HSM moments\n",
      "ext_shapeHSM_HsmPsfMoments_xy:  HSM moments\n",
      "ext_shapeHSM_HsmPsfMoments_flag:  general failure flag, set if anything went wrong\n",
      "ext_shapeHSM_HsmPsfMoments_flag_no_pixels:  no pixels to measure\n",
      "ext_shapeHSM_HsmPsfMoments_flag_not_contained:  center not contained in footprint bounding box\n",
      "ext_shapeHSM_HsmPsfMoments_flag_parent_source:  parent source, ignored\n",
      "ext_shapeHSM_HsmShapeRegauss_e1:  PSF-corrected shear using Hirata & Seljak (2003) ''regaussianization\n",
      "ext_shapeHSM_HsmShapeRegauss_e2:  PSF-corrected shear using Hirata & Seljak (2003) ''regaussianization\n",
      "ext_shapeHSM_HsmShapeRegauss_sigma:  PSF-corrected shear using Hirata & Seljak (2003) ''regaussianization\n",
      "ext_shapeHSM_HsmShapeRegauss_resolution:  resolution factor (0=unresolved, 1=resolved)\n",
      "ext_shapeHSM_HsmShapeRegauss_flag:  general failure flag, set if anything went wrong\n",
      "ext_shapeHSM_HsmShapeRegauss_flag_no_pixels:  no pixels to measure\n",
      "ext_shapeHSM_HsmShapeRegauss_flag_not_contained:  center not contained in footprint bounding box\n",
      "ext_shapeHSM_HsmShapeRegauss_flag_parent_source:  parent source, ignored\n",
      "ext_shapeHSM_HsmShapeRegauss_flag_galsim:  GalSim failure\n",
      "ext_shapeHSM_HsmSourceMoments_x:  HSM Centroid\n",
      "ext_shapeHSM_HsmSourceMoments_y:  HSM Centroid\n",
      "ext_shapeHSM_HsmSourceMoments_xx:  HSM moments\n",
      "ext_shapeHSM_HsmSourceMoments_yy:  HSM moments\n",
      "ext_shapeHSM_HsmSourceMoments_xy:  HSM moments\n",
      "ext_shapeHSM_HsmSourceMoments_flag:  general failure flag, set if anything went wrong\n",
      "ext_shapeHSM_HsmSourceMoments_flag_no_pixels:  no pixels to measure\n",
      "ext_shapeHSM_HsmSourceMoments_flag_not_contained:  center not contained in footprint bounding box\n",
      "ext_shapeHSM_HsmSourceMoments_flag_parent_source:  parent source, ignored\n",
      "ext_shapeHSM_HsmSourceMomentsRound_x:  HSM Centroid\n",
      "ext_shapeHSM_HsmSourceMomentsRound_y:  HSM Centroid\n",
      "ext_shapeHSM_HsmSourceMomentsRound_xx:  HSM moments\n",
      "ext_shapeHSM_HsmSourceMomentsRound_yy:  HSM moments\n",
      "ext_shapeHSM_HsmSourceMomentsRound_xy:  HSM moments\n",
      "ext_shapeHSM_HsmSourceMomentsRound_flag:  general failure flag, set if anything went wrong\n",
      "ext_shapeHSM_HsmSourceMomentsRound_flag_no_pixels:  no pixels to measure\n",
      "ext_shapeHSM_HsmSourceMomentsRound_flag_not_contained:  center not contained in footprint bounding box\n",
      "ext_shapeHSM_HsmSourceMomentsRound_flag_parent_source:  parent source, ignored\n",
      "ext_shapeHSM_HsmSourceMomentsRound_Flux:  HSM flux\n",
      "modelfit_DoubleShapeletPsfApprox_0_xx:  Double-Shapelet approximation to the PSF model at the position of this source\n",
      "modelfit_DoubleShapeletPsfApprox_0_yy:  Double-Shapelet approximation to the PSF model at the position of this source\n",
      "modelfit_DoubleShapeletPsfApprox_0_xy:  Double-Shapelet approximation to the PSF model at the position of this source\n",
      "modelfit_DoubleShapeletPsfApprox_0_x:  Double-Shapelet approximation to the PSF model at the position of this source\n",
      "modelfit_DoubleShapeletPsfApprox_0_y:  Double-Shapelet approximation to the PSF model at the position of this source\n",
      "modelfit_DoubleShapeletPsfApprox_0_0:  Double-Shapelet approximation to the PSF model at the position of this source\n",
      "modelfit_DoubleShapeletPsfApprox_0_1:  Double-Shapelet approximation to the PSF model at the position of this source\n",
      "modelfit_DoubleShapeletPsfApprox_0_2:  Double-Shapelet approximation to the PSF model at the position of this source\n",
      "modelfit_DoubleShapeletPsfApprox_0_3:  Double-Shapelet approximation to the PSF model at the position of this source\n",
      "modelfit_DoubleShapeletPsfApprox_0_4:  Double-Shapelet approximation to the PSF model at the position of this source\n",
      "modelfit_DoubleShapeletPsfApprox_0_5:  Double-Shapelet approximation to the PSF model at the position of this source\n",
      "modelfit_DoubleShapeletPsfApprox_1_xx:  Double-Shapelet approximation to the PSF model at the position of this source\n",
      "modelfit_DoubleShapeletPsfApprox_1_yy:  Double-Shapelet approximation to the PSF model at the position of this source\n",
      "modelfit_DoubleShapeletPsfApprox_1_xy:  Double-Shapelet approximation to the PSF model at the position of this source\n",
      "modelfit_DoubleShapeletPsfApprox_1_x:  Double-Shapelet approximation to the PSF model at the position of this source\n",
      "modelfit_DoubleShapeletPsfApprox_1_y:  Double-Shapelet approximation to the PSF model at the position of this source\n",
      "modelfit_DoubleShapeletPsfApprox_1_0:  Double-Shapelet approximation to the PSF model at the position of this source\n",
      "modelfit_DoubleShapeletPsfApprox_1_1:  Double-Shapelet approximation to the PSF model at the position of this source\n",
      "modelfit_DoubleShapeletPsfApprox_1_2:  Double-Shapelet approximation to the PSF model at the position of this source\n",
      "modelfit_DoubleShapeletPsfApprox_flag:  General Failure Flag\n",
      "modelfit_DoubleShapeletPsfApprox_flag_invalidPointForPsf:  PSF model could not be evaluated at the source position\n",
      "modelfit_DoubleShapeletPsfApprox_flag_invalidMoments:  Moments of the PSF model were not a valid ellipse\n",
      "modelfit_DoubleShapeletPsfApprox_flag_maxIterations:  optimizer exceeded the maximum number (inner or outer) iterations\n",
      "base_CircularApertureFlux_3_0_instFlux:  instFlux within 3.000000-pixel aperture\n",
      "base_CircularApertureFlux_3_0_instFluxErr:  1-sigma instFlux uncertainty\n",
      "base_CircularApertureFlux_3_0_flag:  General Failure Flag\n",
      "base_CircularApertureFlux_3_0_flag_apertureTruncated:  aperture did not fit within measurement image\n",
      "base_CircularApertureFlux_3_0_flag_sincCoeffsTruncated:  full sinc coefficient image did not fit within measurement image\n",
      "base_CircularApertureFlux_4_5_instFlux:  instFlux within 4.500000-pixel aperture\n",
      "base_CircularApertureFlux_4_5_instFluxErr:  1-sigma instFlux uncertainty\n",
      "base_CircularApertureFlux_4_5_flag:  General Failure Flag\n",
      "base_CircularApertureFlux_4_5_flag_apertureTruncated:  aperture did not fit within measurement image\n",
      "base_CircularApertureFlux_4_5_flag_sincCoeffsTruncated:  full sinc coefficient image did not fit within measurement image\n",
      "base_CircularApertureFlux_6_0_instFlux:  instFlux within 6.000000-pixel aperture\n",
      "base_CircularApertureFlux_6_0_instFluxErr:  1-sigma instFlux uncertainty\n",
      "base_CircularApertureFlux_6_0_flag:  General Failure Flag\n",
      "base_CircularApertureFlux_6_0_flag_apertureTruncated:  aperture did not fit within measurement image\n",
      "base_CircularApertureFlux_6_0_flag_sincCoeffsTruncated:  full sinc coefficient image did not fit within measurement image\n",
      "base_CircularApertureFlux_9_0_instFlux:  instFlux within 9.000000-pixel aperture\n",
      "base_CircularApertureFlux_9_0_instFluxErr:  1-sigma instFlux uncertainty\n",
      "base_CircularApertureFlux_9_0_flag:  General Failure Flag\n",
      "base_CircularApertureFlux_9_0_flag_apertureTruncated:  aperture did not fit within measurement image\n",
      "base_CircularApertureFlux_9_0_flag_sincCoeffsTruncated:  full sinc coefficient image did not fit within measurement image\n",
      "base_CircularApertureFlux_12_0_instFlux:  instFlux within 12.000000-pixel aperture\n",
      "base_CircularApertureFlux_12_0_instFluxErr:  1-sigma instFlux uncertainty\n",
      "base_CircularApertureFlux_12_0_flag:  General Failure Flag\n",
      "base_CircularApertureFlux_12_0_flag_apertureTruncated:  aperture did not fit within measurement image\n",
      "base_CircularApertureFlux_12_0_flag_sincCoeffsTruncated:  full sinc coefficient image did not fit within measurement image\n",
      "base_CircularApertureFlux_17_0_instFlux:  instFlux within 17.000000-pixel aperture\n",
      "base_CircularApertureFlux_17_0_instFluxErr:  1-sigma instFlux uncertainty\n",
      "base_CircularApertureFlux_17_0_flag:  General Failure Flag\n",
      "base_CircularApertureFlux_17_0_flag_apertureTruncated:  aperture did not fit within measurement image\n",
      "base_CircularApertureFlux_25_0_instFlux:  instFlux within 25.000000-pixel aperture\n",
      "base_CircularApertureFlux_25_0_instFluxErr:  1-sigma instFlux uncertainty\n",
      "base_CircularApertureFlux_25_0_flag:  General Failure Flag\n",
      "base_CircularApertureFlux_25_0_flag_apertureTruncated:  aperture did not fit within measurement image\n",
      "base_CircularApertureFlux_35_0_instFlux:  instFlux within 35.000000-pixel aperture\n",
      "base_CircularApertureFlux_35_0_instFluxErr:  1-sigma instFlux uncertainty\n",
      "base_CircularApertureFlux_35_0_flag:  General Failure Flag\n",
      "base_CircularApertureFlux_35_0_flag_apertureTruncated:  aperture did not fit within measurement image\n",
      "base_CircularApertureFlux_50_0_instFlux:  instFlux within 50.000000-pixel aperture\n",
      "base_CircularApertureFlux_50_0_instFluxErr:  1-sigma instFlux uncertainty\n",
      "base_CircularApertureFlux_50_0_flag:  General Failure Flag\n",
      "base_CircularApertureFlux_50_0_flag_apertureTruncated:  aperture did not fit within measurement image\n",
      "base_CircularApertureFlux_70_0_instFlux:  instFlux within 70.000000-pixel aperture\n",
      "base_CircularApertureFlux_70_0_instFluxErr:  1-sigma instFlux uncertainty\n",
      "base_CircularApertureFlux_70_0_flag:  General Failure Flag\n",
      "base_CircularApertureFlux_70_0_flag_apertureTruncated:  aperture did not fit within measurement image\n",
      "base_GaussianFlux_instFlux:  instFlux from Gaussian Flux algorithm\n",
      "base_GaussianFlux_instFluxErr:  1-sigma instFlux uncertainty\n",
      "base_GaussianFlux_flag:  General Failure Flag\n",
      "base_LocalBackground_instFlux:  background in annulus around source\n",
      "base_LocalBackground_instFluxErr:  1-sigma instFlux uncertainty\n",
      "base_LocalBackground_flag:  General Failure Flag\n",
      "base_LocalBackground_flag_noGoodPixels:  no good pixels in the annulus\n",
      "base_LocalBackground_flag_noPsf:  no PSF provided\n",
      "base_PixelFlags_flag:  general failure flag, set if anything went wring\n",
      "base_PixelFlags_flag_offimage:  Source center is off image\n",
      "base_PixelFlags_flag_edge:  Source is outside usable exposure region (masked EDGE or NO_DATA)\n",
      "base_PixelFlags_flag_interpolated:  Interpolated pixel in the Source footprint\n",
      "base_PixelFlags_flag_saturated:  Saturated pixel in the Source footprint\n",
      "base_PixelFlags_flag_cr:  Cosmic ray in the Source footprint\n",
      "base_PixelFlags_flag_bad:  Bad pixel in the Source footprint\n",
      "base_PixelFlags_flag_suspect:  Source''s footprint includes suspect pixels\n",
      "base_PixelFlags_flag_interpolatedCenter:  Interpolated pixel in the Source center\n",
      "base_PixelFlags_flag_saturatedCenter:  Saturated pixel in the Source center\n",
      "base_PixelFlags_flag_crCenter:  Cosmic ray in the Source center\n",
      "base_PixelFlags_flag_suspectCenter:  Source''s center is close to suspect pixels\n",
      "base_PixelFlags_flag_clippedCenter:  Source center is close to CLIPPED pixels\n",
      "base_PixelFlags_flag_sensor_edgeCenter:  Source center is close to SENSOR_EDGE pixels\n",
      "base_PixelFlags_flag_inexact_psfCenter:  Source center is close to INEXACT_PSF pixels\n",
      "base_PixelFlags_flag_bright_objectCenter:  Source center is close to BRIGHT_OBJECT pixels\n",
      "base_PixelFlags_flag_clipped:  Source footprint includes CLIPPED pixels\n",
      "base_PixelFlags_flag_sensor_edge:  Source footprint includes SENSOR_EDGE pixels\n",
      "base_PixelFlags_flag_inexact_psf:  Source footprint includes INEXACT_PSF pixels\n",
      "base_PixelFlags_flag_bright_object:  Source footprint includes BRIGHT_OBJECT pixels\n",
      "base_PsfFlux_instFlux:  instFlux derived from linear least-squares fit of PSF model\n",
      "base_PsfFlux_instFluxErr:  1-sigma instFlux uncertainty\n",
      "base_PsfFlux_area:  effective area of PSF\n",
      "base_PsfFlux_flag:  General Failure Flag\n",
      "base_PsfFlux_flag_noGoodPixels:  not enough non-rejected pixels in data to attempt the fit\n",
      "base_PsfFlux_flag_edge:  object was too close to the edge of the image to use the full PSF model\n",
      "base_Variance_flag:  Set for any fatal failure\n",
      "base_Variance_value:  Variance at object position\n",
      "base_Variance_flag_emptyFootprint:  Set to True when the footprint has no usable pixels\n",
      "ext_photometryKron_KronFlux_instFlux:  flux from Kron Flux algorithm\n",
      "ext_photometryKron_KronFlux_instFluxErr:  1-sigma instFlux uncertainty\n",
      "ext_photometryKron_KronFlux_radius:  Kron radius (sqrt(a*b))\n",
      "ext_photometryKron_KronFlux_radius_for_radius:  radius used to estimate <radius> (sqrt(a*b))\n",
      "ext_photometryKron_KronFlux_psf_radius:  Radius of PSF\n",
      "ext_photometryKron_KronFlux_flag:  general failure flag, set if anything went wrong\n",
      "ext_photometryKron_KronFlux_flag_edge:  bad measurement due to image edge\n",
      "ext_photometryKron_KronFlux_flag_bad_shape_no_psf:  bad shape and no PSF\n",
      "ext_photometryKron_KronFlux_flag_no_minimum_radius:  minimum radius could not enforced: no minimum value or PSF\n",
      "ext_photometryKron_KronFlux_flag_no_fallback_radius:  no minimum radius and no PSF provided\n",
      "ext_photometryKron_KronFlux_flag_bad_radius:  bad Kron radius\n",
      "ext_photometryKron_KronFlux_flag_used_minimum_radius:  used the minimum radius for the Kron aperture\n",
      "ext_photometryKron_KronFlux_flag_used_psf_radius:  used the PSF Kron radius for the Kron aperture\n",
      "ext_photometryKron_KronFlux_flag_small_radius:  measured Kron radius was smaller than that of the PSF\n",
      "ext_photometryKron_KronFlux_flag_bad_shape:  shape for measuring Kron radius is bad; used PSF shape\n",
      "ext_convolved_ConvolvedFlux_seeing:  original seeing (Gaussian sigma) at position\n",
      "ext_convolved_ConvolvedFlux_0_deconv:  deconvolution required for seeing 3.500000; no measurement made\n",
      "ext_convolved_ConvolvedFlux_0_3_3_instFlux:  instFlux within 3.300000-pixel aperture\n",
      "ext_convolved_ConvolvedFlux_0_3_3_instFluxErr:  1-sigma instFlux uncertainty\n",
      "ext_convolved_ConvolvedFlux_0_3_3_flag:  General Failure Flag\n",
      "ext_convolved_ConvolvedFlux_0_3_3_flag_apertureTruncated:  aperture did not fit within measurement image\n",
      "ext_convolved_ConvolvedFlux_0_3_3_flag_sincCoeffsTruncated:  full sinc coefficient image did not fit within measurement image\n",
      "ext_convolved_ConvolvedFlux_0_4_5_instFlux:  instFlux within 4.500000-pixel aperture\n",
      "ext_convolved_ConvolvedFlux_0_4_5_instFluxErr:  1-sigma instFlux uncertainty\n",
      "ext_convolved_ConvolvedFlux_0_4_5_flag:  General Failure Flag\n",
      "ext_convolved_ConvolvedFlux_0_4_5_flag_apertureTruncated:  aperture did not fit within measurement image\n",
      "ext_convolved_ConvolvedFlux_0_4_5_flag_sincCoeffsTruncated:  full sinc coefficient image did not fit within measurement image\n",
      "ext_convolved_ConvolvedFlux_0_6_0_instFlux:  instFlux within 6.000000-pixel aperture\n",
      "ext_convolved_ConvolvedFlux_0_6_0_instFluxErr:  1-sigma instFlux uncertainty\n",
      "ext_convolved_ConvolvedFlux_0_6_0_flag:  General Failure Flag\n",
      "ext_convolved_ConvolvedFlux_0_6_0_flag_apertureTruncated:  aperture did not fit within measurement image\n",
      "ext_convolved_ConvolvedFlux_0_6_0_flag_sincCoeffsTruncated:  full sinc coefficient image did not fit within measurement image\n",
      "ext_convolved_ConvolvedFlux_0_kron_instFlux:  convolved Kron flux: seeing 3.500000\n",
      "ext_convolved_ConvolvedFlux_0_kron_instFluxErr:  1-sigma instFlux uncertainty\n",
      "ext_convolved_ConvolvedFlux_0_kron_flag:  convolved Kron flux failed: seeing 3.500000\n",
      "ext_convolved_ConvolvedFlux_1_deconv:  deconvolution required for seeing 5.000000; no measurement made\n",
      "ext_convolved_ConvolvedFlux_1_3_3_instFlux:  instFlux within 3.300000-pixel aperture\n",
      "ext_convolved_ConvolvedFlux_1_3_3_instFluxErr:  1-sigma instFlux uncertainty\n",
      "ext_convolved_ConvolvedFlux_1_3_3_flag:  General Failure Flag\n",
      "ext_convolved_ConvolvedFlux_1_3_3_flag_apertureTruncated:  aperture did not fit within measurement image\n",
      "ext_convolved_ConvolvedFlux_1_3_3_flag_sincCoeffsTruncated:  full sinc coefficient image did not fit within measurement image\n",
      "ext_convolved_ConvolvedFlux_1_4_5_instFlux:  instFlux within 4.500000-pixel aperture\n",
      "ext_convolved_ConvolvedFlux_1_4_5_instFluxErr:  1-sigma instFlux uncertainty\n",
      "ext_convolved_ConvolvedFlux_1_4_5_flag:  General Failure Flag\n",
      "ext_convolved_ConvolvedFlux_1_4_5_flag_apertureTruncated:  aperture did not fit within measurement image\n",
      "ext_convolved_ConvolvedFlux_1_4_5_flag_sincCoeffsTruncated:  full sinc coefficient image did not fit within measurement image\n",
      "ext_convolved_ConvolvedFlux_1_6_0_instFlux:  instFlux within 6.000000-pixel aperture\n",
      "ext_convolved_ConvolvedFlux_1_6_0_instFluxErr:  1-sigma instFlux uncertainty\n",
      "ext_convolved_ConvolvedFlux_1_6_0_flag:  General Failure Flag\n",
      "ext_convolved_ConvolvedFlux_1_6_0_flag_apertureTruncated:  aperture did not fit within measurement image\n",
      "ext_convolved_ConvolvedFlux_1_6_0_flag_sincCoeffsTruncated:  full sinc coefficient image did not fit within measurement image\n",
      "ext_convolved_ConvolvedFlux_1_kron_instFlux:  convolved Kron flux: seeing 5.000000\n",
      "ext_convolved_ConvolvedFlux_1_kron_instFluxErr:  1-sigma instFlux uncertainty\n",
      "ext_convolved_ConvolvedFlux_1_kron_flag:  convolved Kron flux failed: seeing 5.000000\n",
      "ext_convolved_ConvolvedFlux_2_deconv:  deconvolution required for seeing 6.500000; no measurement made\n",
      "ext_convolved_ConvolvedFlux_2_3_3_instFlux:  instFlux within 3.300000-pixel aperture\n",
      "ext_convolved_ConvolvedFlux_2_3_3_instFluxErr:  1-sigma instFlux uncertainty\n",
      "ext_convolved_ConvolvedFlux_2_3_3_flag:  General Failure Flag\n",
      "ext_convolved_ConvolvedFlux_2_3_3_flag_apertureTruncated:  aperture did not fit within measurement image\n",
      "ext_convolved_ConvolvedFlux_2_3_3_flag_sincCoeffsTruncated:  full sinc coefficient image did not fit within measurement image\n",
      "ext_convolved_ConvolvedFlux_2_4_5_instFlux:  instFlux within 4.500000-pixel aperture\n",
      "ext_convolved_ConvolvedFlux_2_4_5_instFluxErr:  1-sigma instFlux uncertainty\n",
      "ext_convolved_ConvolvedFlux_2_4_5_flag:  General Failure Flag\n",
      "ext_convolved_ConvolvedFlux_2_4_5_flag_apertureTruncated:  aperture did not fit within measurement image\n",
      "ext_convolved_ConvolvedFlux_2_4_5_flag_sincCoeffsTruncated:  full sinc coefficient image did not fit within measurement image\n",
      "ext_convolved_ConvolvedFlux_2_6_0_instFlux:  instFlux within 6.000000-pixel aperture\n",
      "ext_convolved_ConvolvedFlux_2_6_0_instFluxErr:  1-sigma instFlux uncertainty\n",
      "ext_convolved_ConvolvedFlux_2_6_0_flag:  General Failure Flag\n",
      "ext_convolved_ConvolvedFlux_2_6_0_flag_apertureTruncated:  aperture did not fit within measurement image\n",
      "ext_convolved_ConvolvedFlux_2_6_0_flag_sincCoeffsTruncated:  full sinc coefficient image did not fit within measurement image\n",
      "ext_convolved_ConvolvedFlux_2_kron_instFlux:  convolved Kron flux: seeing 6.500000\n",
      "ext_convolved_ConvolvedFlux_2_kron_instFluxErr:  1-sigma instFlux uncertainty\n",
      "ext_convolved_ConvolvedFlux_2_kron_flag:  convolved Kron flux failed: seeing 6.500000\n",
      "ext_convolved_ConvolvedFlux_3_deconv:  deconvolution required for seeing 8.000000; no measurement made\n",
      "ext_convolved_ConvolvedFlux_3_3_3_instFlux:  instFlux within 3.300000-pixel aperture\n",
      "ext_convolved_ConvolvedFlux_3_3_3_instFluxErr:  1-sigma instFlux uncertainty\n",
      "ext_convolved_ConvolvedFlux_3_3_3_flag:  General Failure Flag\n",
      "ext_convolved_ConvolvedFlux_3_3_3_flag_apertureTruncated:  aperture did not fit within measurement image\n",
      "ext_convolved_ConvolvedFlux_3_3_3_flag_sincCoeffsTruncated:  full sinc coefficient image did not fit within measurement image\n",
      "ext_convolved_ConvolvedFlux_3_4_5_instFlux:  instFlux within 4.500000-pixel aperture\n",
      "ext_convolved_ConvolvedFlux_3_4_5_instFluxErr:  1-sigma instFlux uncertainty\n",
      "ext_convolved_ConvolvedFlux_3_4_5_flag:  General Failure Flag\n",
      "ext_convolved_ConvolvedFlux_3_4_5_flag_apertureTruncated:  aperture did not fit within measurement image\n",
      "ext_convolved_ConvolvedFlux_3_4_5_flag_sincCoeffsTruncated:  full sinc coefficient image did not fit within measurement image\n",
      "ext_convolved_ConvolvedFlux_3_6_0_instFlux:  instFlux within 6.000000-pixel aperture\n",
      "ext_convolved_ConvolvedFlux_3_6_0_instFluxErr:  1-sigma instFlux uncertainty\n",
      "ext_convolved_ConvolvedFlux_3_6_0_flag:  General Failure Flag\n",
      "ext_convolved_ConvolvedFlux_3_6_0_flag_apertureTruncated:  aperture did not fit within measurement image\n",
      "ext_convolved_ConvolvedFlux_3_6_0_flag_sincCoeffsTruncated:  full sinc coefficient image did not fit within measurement image\n",
      "ext_convolved_ConvolvedFlux_3_kron_instFlux:  convolved Kron flux: seeing 8.000000\n",
      "ext_convolved_ConvolvedFlux_3_kron_instFluxErr:  1-sigma instFlux uncertainty\n",
      "ext_convolved_ConvolvedFlux_3_kron_flag:  convolved Kron flux failed: seeing 8.000000\n",
      "ext_convolved_ConvolvedFlux_flag:  error in running ConvolvedFluxPlugin\n",
      "modelfit_CModel_initial_instFlux:  flux from the initial fit\n",
      "modelfit_CModel_initial_instFluxErr:  flux uncertainty from the initial fit\n",
      "modelfit_CModel_initial_flag:  flag set when the flux for the initial flux failed\n",
      "modelfit_CModel_initial_flux_inner:  flux within the fit region, with no extrapolation\n",
      "modelfit_CModel_initial_ellipse_xx:  half-light ellipse of the initial fit\n",
      "modelfit_CModel_initial_ellipse_yy:  half-light ellipse of the initial fit\n",
      "modelfit_CModel_initial_ellipse_xy:  half-light ellipse of the initial fit\n",
      "modelfit_CModel_initial_objective:  -ln(likelihood*prior) at best-fit point for the initial fit\n",
      "modelfit_CModel_initial_nonlinear_0:  nonlinear parameters for the initial fit\n",
      "modelfit_CModel_initial_nonlinear_1:  nonlinear parameters for the initial fit\n",
      "modelfit_CModel_initial_nonlinear_2:  nonlinear parameters for the initial fit\n",
      "modelfit_CModel_initial_fixed_0:  fixed parameters for the initial fit\n",
      "modelfit_CModel_initial_fixed_1:  fixed parameters for the initial fit\n",
      "modelfit_CModel_initial_flag_trSmall:  the optimizer converged because the trust radius became too small; this is a less-secure result than when the gradient is below the threshold, but usually not a problem\n",
      "modelfit_CModel_initial_flag_maxIter:  the optimizer hit the maximum number of iterations and did not converge\n",
      "modelfit_CModel_initial_nIter:  Number of total iterations in stage\n",
      "modelfit_CModel_initial_time:  Time spent in stage\n",
      "modelfit_CModel_initial_flag_numericError:  numerical underflow or overflow in model evaluation; usually this means the prior was insufficient to regularize the fit, or all pixel values were zero.\n",
      "modelfit_CModel_exp_instFlux:  flux from the exponential fit\n",
      "modelfit_CModel_exp_instFluxErr:  flux uncertainty from the exponential fit\n",
      "modelfit_CModel_exp_flag:  flag set when the flux for the exponential flux failed\n",
      "modelfit_CModel_exp_flux_inner:  flux within the fit region, with no extrapolation\n",
      "modelfit_CModel_exp_ellipse_xx:  half-light ellipse of the exponential fit\n",
      "modelfit_CModel_exp_ellipse_yy:  half-light ellipse of the exponential fit\n",
      "modelfit_CModel_exp_ellipse_xy:  half-light ellipse of the exponential fit\n",
      "modelfit_CModel_exp_objective:  -ln(likelihood*prior) at best-fit point for the exponential fit\n",
      "modelfit_CModel_exp_nonlinear_0:  nonlinear parameters for the exponential fit\n",
      "modelfit_CModel_exp_nonlinear_1:  nonlinear parameters for the exponential fit\n",
      "modelfit_CModel_exp_nonlinear_2:  nonlinear parameters for the exponential fit\n",
      "modelfit_CModel_exp_fixed_0:  fixed parameters for the exponential fit\n",
      "modelfit_CModel_exp_fixed_1:  fixed parameters for the exponential fit\n",
      "modelfit_CModel_exp_flag_trSmall:  the optimizer converged because the trust radius became too small; this is a less-secure result than when the gradient is below the threshold, but usually not a problem\n",
      "modelfit_CModel_exp_flag_maxIter:  the optimizer hit the maximum number of iterations and did not converge\n",
      "modelfit_CModel_exp_nIter:  Number of total iterations in stage\n",
      "modelfit_CModel_exp_time:  Time spent in stage\n",
      "modelfit_CModel_exp_flag_numericError:  numerical underflow or overflow in model evaluation; usually this means the prior was insufficient to regularize the fit, or all pixel values were zero.\n",
      "modelfit_CModel_dev_instFlux:  flux from the de Vaucouleur fit\n",
      "modelfit_CModel_dev_instFluxErr:  flux uncertainty from the de Vaucouleur fit\n",
      "modelfit_CModel_dev_flag:  flag set when the flux for the de Vaucouleur flux failed\n",
      "modelfit_CModel_dev_flux_inner:  flux within the fit region, with no extrapolation\n",
      "modelfit_CModel_dev_ellipse_xx:  half-light ellipse of the de Vaucouleur fit\n",
      "modelfit_CModel_dev_ellipse_yy:  half-light ellipse of the de Vaucouleur fit\n",
      "modelfit_CModel_dev_ellipse_xy:  half-light ellipse of the de Vaucouleur fit\n",
      "modelfit_CModel_dev_objective:  -ln(likelihood*prior) at best-fit point for the de Vaucouleur fit\n",
      "modelfit_CModel_dev_nonlinear_0:  nonlinear parameters for the de Vaucouleur fit\n",
      "modelfit_CModel_dev_nonlinear_1:  nonlinear parameters for the de Vaucouleur fit\n",
      "modelfit_CModel_dev_nonlinear_2:  nonlinear parameters for the de Vaucouleur fit\n",
      "modelfit_CModel_dev_fixed_0:  fixed parameters for the de Vaucouleur fit\n",
      "modelfit_CModel_dev_fixed_1:  fixed parameters for the de Vaucouleur fit\n",
      "modelfit_CModel_dev_flag_trSmall:  the optimizer converged because the trust radius became too small; this is a less-secure result than when the gradient is below the threshold, but usually not a problem\n",
      "modelfit_CModel_dev_flag_maxIter:  the optimizer hit the maximum number of iterations and did not converge\n",
      "modelfit_CModel_dev_nIter:  Number of total iterations in stage\n",
      "modelfit_CModel_dev_time:  Time spent in stage\n",
      "modelfit_CModel_dev_flag_numericError:  numerical underflow or overflow in model evaluation; usually this means the prior was insufficient to regularize the fit, or all pixel values were zero.\n",
      "modelfit_CModel_instFlux:  flux from the final cmodel fit\n",
      "modelfit_CModel_instFluxErr:  flux uncertainty from the final cmodel fit\n",
      "modelfit_CModel_flag:  flag set if the final cmodel fit (or any previous fit) failed\n",
      "modelfit_CModel_instFlux_inner:  flux within the fit region, with no extrapolation\n",
      "modelfit_CModel_fracDev:  fraction of flux in de Vaucouleur component\n",
      "modelfit_CModel_objective:  -ln(likelihood) (chi^2) in cmodel fit\n",
      "modelfit_CModel_flag_region_maxArea:  number of pixels in fit region exceeded the region.maxArea value\n",
      "modelfit_CModel_flag_region_maxBadPixelFraction:  the fraction of bad/clipped pixels in the fit region exceeded region.maxBadPixelFraction\n",
      "modelfit_CModel_flags_region_usedFootprintArea:  the pixel region for the initial fit was defined by the area of the Footprint\n",
      "modelfit_CModel_flags_region_usedPsfArea:  the pixel region for the initial fit was set to a fixed factor of the PSF area\n",
      "modelfit_CModel_flags_region_usedInitialEllipseMin:  the pixel region for the final fit was set to the lower bound defined by the initial fit\n",
      "modelfit_CModel_flags_region_usedInitialEllipseMax:  the pixel region for the final fit was set to the upper bound defined by the initial fit\n",
      "modelfit_CModel_flag_noShape:  the shape slot needed to initialize the parameters failed or was not defined\n",
      "modelfit_CModel_flags_smallShape:  initial parameter guess resulted in negative radius; used minimum of 0.100000 pixels instead.\n",
      "modelfit_CModel_ellipse_xx:  fracDev-weighted average of exp.ellipse and dev.ellipse\n",
      "modelfit_CModel_ellipse_yy:  fracDev-weighted average of exp.ellipse and dev.ellipse\n",
      "modelfit_CModel_ellipse_xy:  fracDev-weighted average of exp.ellipse and dev.ellipse\n",
      "modelfit_CModel_region_initial_ellipse_xx:  ellipse used to set the pixel region for the initial fit (before applying bad pixel mask)\n",
      "modelfit_CModel_region_initial_ellipse_yy:  ellipse used to set the pixel region for the initial fit (before applying bad pixel mask)\n",
      "modelfit_CModel_region_initial_ellipse_xy:  ellipse used to set the pixel region for the initial fit (before applying bad pixel mask)\n",
      "modelfit_CModel_region_final_ellipse_xx:  ellipse used to set the pixel region for the final fit (before applying bad pixel mask)\n",
      "modelfit_CModel_region_final_ellipse_yy:  ellipse used to set the pixel region for the final fit (before applying bad pixel mask)\n",
      "modelfit_CModel_region_final_ellipse_xy:  ellipse used to set the pixel region for the final fit (before applying bad pixel mask)\n",
      "modelfit_CModel_flag_noShapeletPsf:  the multishapelet fit to the PSF model did not succeed\n",
      "modelfit_CModel_flag_badCentroid:  input centroid was not within the fit region (probably because it''s not within the Footprint)\n",
      "detect_isPatchInner:  true if source is in the inner region of a coadd patch\n",
      "detect_isTractInner:  true if source is in the inner region of a coadd tract\n",
      "detect_isPrimary:  true if source has no children and is in the inner region of a coadd patch and is in the inner region of a coadd tract and is not \"detected\" in a pseudo-filter (see config.pseudoFilterList)\n",
      "calib_psf_candidate:  Propagated from visits\n",
      "calib_psf_used:  Propagated from visits\n",
      "calib_psf_reserved:  Propagated from visits\n",
      "calib_astrometry_used:  Propagated from visits\n",
      "calib_photometry_used:  Propagated from visits\n",
      "calib_photometry_reserved:  Propagated from visits\n",
      "modelfit_CModel_initial_apCorr:  aperture correction applied to modelfit_CModel_initial\n",
      "modelfit_CModel_initial_apCorrErr:  standard deviation of aperture correction applied to modelfit_CModel_initial\n",
      "modelfit_CModel_initial_flag_apCorr:  set if unable to aperture correct modelfit_CModel_initial\n",
      "ext_convolved_ConvolvedFlux_2_kron_apCorr:  aperture correction applied to ext_convolved_ConvolvedFlux_2_kron\n",
      "ext_convolved_ConvolvedFlux_2_kron_apCorrErr:  standard deviation of aperture correction applied to ext_convolved_ConvolvedFlux_2_kron\n",
      "ext_convolved_ConvolvedFlux_2_kron_flag_apCorr:  set if unable to aperture correct ext_convolved_ConvolvedFlux_2_kron\n",
      "base_PsfFlux_apCorr:  aperture correction applied to base_PsfFlux\n",
      "base_PsfFlux_apCorrErr:  standard deviation of aperture correction applied to base_PsfFlux\n",
      "base_PsfFlux_flag_apCorr:  set if unable to aperture correct base_PsfFlux\n",
      "ext_convolved_ConvolvedFlux_0_3_3_apCorr:  aperture correction applied to ext_convolved_ConvolvedFlux_0_3_3\n",
      "ext_convolved_ConvolvedFlux_0_3_3_apCorrErr:  standard deviation of aperture correction applied to ext_convolved_ConvolvedFlux_0_3_3\n",
      "ext_convolved_ConvolvedFlux_0_3_3_flag_apCorr:  set if unable to aperture correct ext_convolved_ConvolvedFlux_0_3_3\n",
      "ext_convolved_ConvolvedFlux_0_4_5_apCorr:  aperture correction applied to ext_convolved_ConvolvedFlux_0_4_5\n",
      "ext_convolved_ConvolvedFlux_0_4_5_apCorrErr:  standard deviation of aperture correction applied to ext_convolved_ConvolvedFlux_0_4_5\n",
      "ext_convolved_ConvolvedFlux_0_4_5_flag_apCorr:  set if unable to aperture correct ext_convolved_ConvolvedFlux_0_4_5\n",
      "ext_convolved_ConvolvedFlux_3_6_0_apCorr:  aperture correction applied to ext_convolved_ConvolvedFlux_3_6_0\n",
      "ext_convolved_ConvolvedFlux_3_6_0_apCorrErr:  standard deviation of aperture correction applied to ext_convolved_ConvolvedFlux_3_6_0\n",
      "ext_convolved_ConvolvedFlux_3_6_0_flag_apCorr:  set if unable to aperture correct ext_convolved_ConvolvedFlux_3_6_0\n",
      "ext_convolved_ConvolvedFlux_2_4_5_apCorr:  aperture correction applied to ext_convolved_ConvolvedFlux_2_4_5\n",
      "ext_convolved_ConvolvedFlux_2_4_5_apCorrErr:  standard deviation of aperture correction applied to ext_convolved_ConvolvedFlux_2_4_5\n",
      "ext_convolved_ConvolvedFlux_2_4_5_flag_apCorr:  set if unable to aperture correct ext_convolved_ConvolvedFlux_2_4_5\n",
      "ext_photometryKron_KronFlux_apCorr:  aperture correction applied to ext_photometryKron_KronFlux\n",
      "ext_photometryKron_KronFlux_apCorrErr:  standard deviation of aperture correction applied to ext_photometryKron_KronFlux\n",
      "ext_photometryKron_KronFlux_flag_apCorr:  set if unable to aperture correct ext_photometryKron_KronFlux\n",
      "modelfit_CModel_dev_apCorr:  aperture correction applied to modelfit_CModel_dev\n",
      "modelfit_CModel_dev_apCorrErr:  standard deviation of aperture correction applied to modelfit_CModel_dev\n",
      "modelfit_CModel_dev_flag_apCorr:  set if unable to aperture correct modelfit_CModel_dev\n",
      "ext_convolved_ConvolvedFlux_2_6_0_apCorr:  aperture correction applied to ext_convolved_ConvolvedFlux_2_6_0\n",
      "ext_convolved_ConvolvedFlux_2_6_0_apCorrErr:  standard deviation of aperture correction applied to ext_convolved_ConvolvedFlux_2_6_0\n",
      "ext_convolved_ConvolvedFlux_2_6_0_flag_apCorr:  set if unable to aperture correct ext_convolved_ConvolvedFlux_2_6_0\n",
      "modelfit_CModel_exp_apCorr:  aperture correction applied to modelfit_CModel_exp\n",
      "modelfit_CModel_exp_apCorrErr:  standard deviation of aperture correction applied to modelfit_CModel_exp\n",
      "modelfit_CModel_exp_flag_apCorr:  set if unable to aperture correct modelfit_CModel_exp\n",
      "ext_convolved_ConvolvedFlux_1_4_5_apCorr:  aperture correction applied to ext_convolved_ConvolvedFlux_1_4_5\n",
      "ext_convolved_ConvolvedFlux_1_4_5_apCorrErr:  standard deviation of aperture correction applied to ext_convolved_ConvolvedFlux_1_4_5\n",
      "ext_convolved_ConvolvedFlux_1_4_5_flag_apCorr:  set if unable to aperture correct ext_convolved_ConvolvedFlux_1_4_5\n",
      "ext_convolved_ConvolvedFlux_1_kron_apCorr:  aperture correction applied to ext_convolved_ConvolvedFlux_1_kron\n",
      "ext_convolved_ConvolvedFlux_1_kron_apCorrErr:  standard deviation of aperture correction applied to ext_convolved_ConvolvedFlux_1_kron\n",
      "ext_convolved_ConvolvedFlux_1_kron_flag_apCorr:  set if unable to aperture correct ext_convolved_ConvolvedFlux_1_kron\n",
      "ext_convolved_ConvolvedFlux_1_3_3_apCorr:  aperture correction applied to ext_convolved_ConvolvedFlux_1_3_3\n",
      "ext_convolved_ConvolvedFlux_1_3_3_apCorrErr:  standard deviation of aperture correction applied to ext_convolved_ConvolvedFlux_1_3_3\n",
      "ext_convolved_ConvolvedFlux_1_3_3_flag_apCorr:  set if unable to aperture correct ext_convolved_ConvolvedFlux_1_3_3\n",
      "ext_convolved_ConvolvedFlux_3_4_5_apCorr:  aperture correction applied to ext_convolved_ConvolvedFlux_3_4_5\n",
      "ext_convolved_ConvolvedFlux_3_4_5_apCorrErr:  standard deviation of aperture correction applied to ext_convolved_ConvolvedFlux_3_4_5\n",
      "ext_convolved_ConvolvedFlux_3_4_5_flag_apCorr:  set if unable to aperture correct ext_convolved_ConvolvedFlux_3_4_5\n",
      "ext_convolved_ConvolvedFlux_3_kron_apCorr:  aperture correction applied to ext_convolved_ConvolvedFlux_3_kron\n",
      "ext_convolved_ConvolvedFlux_3_kron_apCorrErr:  standard deviation of aperture correction applied to ext_convolved_ConvolvedFlux_3_kron\n",
      "ext_convolved_ConvolvedFlux_3_kron_flag_apCorr:  set if unable to aperture correct ext_convolved_ConvolvedFlux_3_kron\n",
      "modelfit_CModel_apCorr:  aperture correction applied to modelfit_CModel\n",
      "modelfit_CModel_apCorrErr:  standard deviation of aperture correction applied to modelfit_CModel\n",
      "modelfit_CModel_flag_apCorr:  set if unable to aperture correct modelfit_CModel\n",
      "ext_convolved_ConvolvedFlux_0_kron_apCorr:  aperture correction applied to ext_convolved_ConvolvedFlux_0_kron\n",
      "ext_convolved_ConvolvedFlux_0_kron_apCorrErr:  standard deviation of aperture correction applied to ext_convolved_ConvolvedFlux_0_kron\n",
      "ext_convolved_ConvolvedFlux_0_kron_flag_apCorr:  set if unable to aperture correct ext_convolved_ConvolvedFlux_0_kron\n",
      "base_GaussianFlux_apCorr:  aperture correction applied to base_GaussianFlux\n",
      "base_GaussianFlux_apCorrErr:  standard deviation of aperture correction applied to base_GaussianFlux\n",
      "base_GaussianFlux_flag_apCorr:  set if unable to aperture correct base_GaussianFlux\n",
      "ext_convolved_ConvolvedFlux_0_6_0_apCorr:  aperture correction applied to ext_convolved_ConvolvedFlux_0_6_0\n",
      "ext_convolved_ConvolvedFlux_0_6_0_apCorrErr:  standard deviation of aperture correction applied to ext_convolved_ConvolvedFlux_0_6_0\n",
      "ext_convolved_ConvolvedFlux_0_6_0_flag_apCorr:  set if unable to aperture correct ext_convolved_ConvolvedFlux_0_6_0\n",
      "ext_convolved_ConvolvedFlux_2_3_3_apCorr:  aperture correction applied to ext_convolved_ConvolvedFlux_2_3_3\n",
      "ext_convolved_ConvolvedFlux_2_3_3_apCorrErr:  standard deviation of aperture correction applied to ext_convolved_ConvolvedFlux_2_3_3\n",
      "ext_convolved_ConvolvedFlux_2_3_3_flag_apCorr:  set if unable to aperture correct ext_convolved_ConvolvedFlux_2_3_3\n",
      "ext_convolved_ConvolvedFlux_1_6_0_apCorr:  aperture correction applied to ext_convolved_ConvolvedFlux_1_6_0\n",
      "ext_convolved_ConvolvedFlux_1_6_0_apCorrErr:  standard deviation of aperture correction applied to ext_convolved_ConvolvedFlux_1_6_0\n",
      "ext_convolved_ConvolvedFlux_1_6_0_flag_apCorr:  set if unable to aperture correct ext_convolved_ConvolvedFlux_1_6_0\n",
      "ext_convolved_ConvolvedFlux_3_3_3_apCorr:  aperture correction applied to ext_convolved_ConvolvedFlux_3_3_3\n",
      "ext_convolved_ConvolvedFlux_3_3_3_apCorrErr:  standard deviation of aperture correction applied to ext_convolved_ConvolvedFlux_3_3_3\n",
      "ext_convolved_ConvolvedFlux_3_3_3_flag_apCorr:  set if unable to aperture correct ext_convolved_ConvolvedFlux_3_3_3\n",
      "base_ClassificationExtendedness_value:  Set to 1 for extended sources, 0 for point sources.\n",
      "base_ClassificationExtendedness_flag:  Set to 1 for any fatal failure.\n",
      "base_FootprintArea_value:  Number of pixels in the source''s detection footprint.\n"
     ]
    }
   ],
   "source": [
    "# All the DRP measurements:\n",
    "for item in catalog.schema:\n",
    "    print(\"{}:  {}\".format(item.field.getName(), item.field.getDoc()))"
   ]
  },
  {
   "cell_type": "code",
   "execution_count": null,
   "metadata": {},
   "outputs": [],
   "source": [
    "# All the protoDC2 parameters:\n",
    "# help(gc)\n",
    "gc.list_all_quantities()"
   ]
  }
 ],
 "metadata": {
  "kernelspec": {
   "display_name": "desc-stack",
   "language": "python",
   "name": "desc-stack"
  },
  "language_info": {
   "codemirror_mode": {
    "name": "ipython",
    "version": 3
   },
   "file_extension": ".py",
   "mimetype": "text/x-python",
   "name": "python",
   "nbconvert_exporter": "python",
   "pygments_lexer": "ipython3",
   "version": "3.6.6"
  }
 },
 "nbformat": 4,
 "nbformat_minor": 2
}

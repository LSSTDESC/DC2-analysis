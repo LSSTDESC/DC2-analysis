{
 "cells": [
  {
   "cell_type": "markdown",
   "id": "5520f1d4",
   "metadata": {},
   "source": [
    "# Extracting SkySim5000 DM halo\n",
    "Authors : Michel Aguena\n",
    "\n",
    "(based on [this](https://github.com/LSSTDESC/CLCosmo_Sim/blob/main/notebooks/SkySim5000_firstcheck.ipynb) in the [ClCosmo_Sim](https://github.com/LSSTDESC/CLCosmo_Sim/) repo from C. Payerne & C. Combet)"
   ]
  },
  {
   "cell_type": "code",
   "execution_count": null,
   "id": "2a2c5924",
   "metadata": {},
   "outputs": [],
   "source": [
    "import numpy as np\n",
    "import pyccl as ccl\n",
    "import matplotlib.pyplot as plt\n",
    "import scipy.integrate\n",
    "import astropy.units as u\n",
    "from astropy.table import Table\n",
    "import GCRCatalogs\n",
    "\n",
    "%matplotlib inline"
   ]
  },
  {
   "cell_type": "code",
   "execution_count": null,
   "id": "4b78d600",
   "metadata": {},
   "outputs": [],
   "source": [
    "skysim_cat = GCRCatalogs.load_catalog('skysim5000_v1.1.1_small')"
   ]
  },
  {
   "cell_type": "code",
   "execution_count": null,
   "id": "e38c4eb9",
   "metadata": {},
   "outputs": [],
   "source": [
    "cosmo_ss  = skysim_cat.cosmology"
   ]
  },
  {
   "cell_type": "code",
   "execution_count": null,
   "id": "81a8698b",
   "metadata": {},
   "outputs": [],
   "source": [
    "cosmo_ss"
   ]
  },
  {
   "cell_type": "markdown",
   "id": "c73fea44",
   "metadata": {},
   "source": [
    "## Extract DM haloes from the catalog in a given mass and redshift range. "
   ]
  },
  {
   "cell_type": "code",
   "execution_count": null,
   "id": "d8e8cbeb",
   "metadata": {},
   "outputs": [],
   "source": [
    "%%time\n",
    "# get list of halos in a given redshift and mass range\n",
    "dm_halos = Table(skysim_cat.get_quantities(\n",
    "    ['halo_id', 'halo_mass', 'redshift','ra', 'dec',\n",
    "     'baseDC2/sod_halo_mass','baseDC2/sod_halo_radius'],\n",
    "    filters=[\n",
    "        f'halo_mass > {10**12.8}',\n",
    "        'is_central==True',\n",
    "        f'redshift>{0}',\n",
    "        f'redshift<{3}']\n",
    "))\n",
    "dm_halos['m200c'] = dm_halos['baseDC2/sod_halo_mass']/cosmo_ss.h"
   ]
  },
  {
   "cell_type": "code",
   "execution_count": null,
   "id": "4655374e",
   "metadata": {},
   "outputs": [],
   "source": [
    "print(f'There are {len(dm_halos):,} halos in this mass (Mfof) and redshift range')"
   ]
  },
  {
   "cell_type": "code",
   "execution_count": null,
   "id": "5f061ba8",
   "metadata": {},
   "outputs": [],
   "source": [
    "plt.scatter(dm_halos['ra'], dm_halos['dec'], marker='.', s=0.001)\n",
    "plt.xlabel('ra [deg]')\n",
    "plt.ylabel('dec [deg]')"
   ]
  },
  {
   "cell_type": "code",
   "execution_count": null,
   "id": "e3eb3b38-a88c-44d1-9835-dddb542a9d7c",
   "metadata": {},
   "outputs": [],
   "source": [
    "plt.scatter(dm_halos['m200c'], dm_halos['halo_mass'], marker='.', s=0.1)\n",
    "plt.xlabel('$M_{200c}$ [$M_\\odot$]')\n",
    "plt.ylabel('FoF mass [$M_\\odot$]')\n",
    "diag = np.min([*dm_halos['m200c'], *dm_halos['halo_mass']]), np.max([*dm_halos['m200c'], *dm_halos['halo_mass']])\n",
    "plt.plot(diag, diag, c='r', ls='--')\n",
    "plt.axvline(1e13, c='g')\n",
    "plt.xscale('log')\n",
    "plt.yscale('log')"
   ]
  },
  {
   "cell_type": "markdown",
   "id": "f583dddb-469b-42c9-bce6-5c794b635320",
   "metadata": {},
   "source": [
    "We see that all halos with $M_{200c}>10^{13}M_\\odot$ are included!"
   ]
  },
  {
   "cell_type": "markdown",
   "id": "71d1b6a4",
   "metadata": {},
   "source": [
    "## Define a redshift and mass range for the comparison of data and prediction, and filter the data accordingly\n"
   ]
  },
  {
   "cell_type": "code",
   "execution_count": null,
   "id": "54dd8e13",
   "metadata": {},
   "outputs": [],
   "source": [
    "zbins = np.linspace(0, 3, 31)\n",
    "mbins = 10**np.array([13.0, 13.5, 13.8, 14.2, 15])"
   ]
  },
  {
   "cell_type": "code",
   "execution_count": null,
   "id": "06dc043c-1d37-4847-bf5c-55c96cac034e",
   "metadata": {},
   "outputs": [],
   "source": [
    "nc_meas = np.histogram2d(dm_halos['m200c'], dm_halos['redshift'], bins=(mbins, zbins))[0]"
   ]
  },
  {
   "cell_type": "code",
   "execution_count": null,
   "id": "17edeeed-06d5-4b59-9e96-b9ae76ef4e1a",
   "metadata": {},
   "outputs": [],
   "source": [
    "fig, axes = plt.subplots(2, 2, sharex=True, figsize=(16, 8))\n",
    "\n",
    "for i, ax in enumerate(axes.flatten()):\n",
    "    ax.hist(zbins[:-1], bins=zbins, weights=nc_meas[i],\n",
    "           label=f'[{np.log10(mbins[i]):.1f}:{np.log10(mbins[i+1]):.1f}]')\n",
    "    ax.legend(handlelength=0, handletextpad=0, loc=1)\n",
    "    \n",
    "for ax in axes[-1,:]:\n",
    "    ax.set_xlabel('redshift')\n",
    "    \n",
    "for ax in axes[:,0]:\n",
    "    ax.set_ylabel('number counts')"
   ]
  },
  {
   "cell_type": "markdown",
   "id": "8c6bd2ac",
   "metadata": {
    "tags": []
   },
   "source": [
    "## Prediction using CCL\n",
    "\n",
    "$$\n",
    "n(M_\\alpha, z_i)\n",
    "=\\int_{z_i}^{z_{i+1}} dV(z)\n",
    "\\int_{M_\\alpha}^{M_{\\alpha+1}} dM \\frac{dn(M, z)}{dM}\n",
    "$$"
   ]
  },
  {
   "cell_type": "code",
   "execution_count": null,
   "id": "845805dc",
   "metadata": {},
   "outputs": [],
   "source": [
    "# Define CCL Cosmology from SkySim cosmology\n",
    "import pyccl as ccl\n",
    "cosmo = ccl.Cosmology(Omega_c=cosmo_ss.Om0-cosmo_ss.Ob0, Omega_b=cosmo_ss.Ob0,\n",
    "                      h=cosmo_ss.h, sigma8=cosmo_ss.sigma8, n_s=cosmo_ss.n_s, Neff=3.04)\n",
    "\n",
    "print(cosmo)"
   ]
  },
  {
   "cell_type": "markdown",
   "id": "61d4183f",
   "metadata": {},
   "source": [
    "### Differential comoving volume"
   ]
  },
  {
   "cell_type": "code",
   "execution_count": null,
   "id": "0d867384",
   "metadata": {},
   "outputs": [],
   "source": [
    "def dV_over_dOmega_dz(z):\n",
    "    a = 1./(1. + z)\n",
    "    da = ccl.background.angular_diameter_distance(cosmo, a) \n",
    "    E = ccl.background.h_over_h0(cosmo, a)\n",
    "    return ((1.+z)**2)*(da**2)*ccl.physical_constants.CLIGHT_HMPC/cosmo['h']/E "
   ]
  },
  {
   "cell_type": "markdown",
   "id": "395d8e6b",
   "metadata": {},
   "source": [
    "### CCL mass functions\n",
    "**Tinker et al. 2008** & **Bocquet et al. 2016**:"
   ]
  },
  {
   "cell_type": "code",
   "execution_count": null,
   "id": "689ec17d",
   "metadata": {},
   "outputs": [],
   "source": [
    "hmd_200c = ccl.halos.MassDef(200, 'critical')\n",
    "def tinker08(logm, z):\n",
    "    mass = 10**(logm)\n",
    "    hmf_200c = ccl.halos.MassFuncTinker08(cosmo, mass_def=hmd_200c)\n",
    "    nm = hmf_200c.get_mass_function(cosmo, mass, 1./(1+z))\n",
    "    return nm # dn/dlog10M\n",
    "def bocquet16(logm, z):\n",
    "    mass = 10**(logm)\n",
    "    hmf_200c = ccl.halos.MassFuncBocquet16(cosmo, mass_def=hmd_200c)\n",
    "    nm = hmf_200c.get_mass_function(cosmo, mass, 1./(1+z))\n",
    "    return nm # dn/dlog10M"
   ]
  },
  {
   "cell_type": "markdown",
   "id": "78776b1d-2418-4f8e-968e-c35d75153fc7",
   "metadata": {},
   "source": [
    "### Integral"
   ]
  },
  {
   "cell_type": "code",
   "execution_count": null,
   "id": "1aec56f4-9e92-44e3-8f93-6f3b90fc876b",
   "metadata": {},
   "outputs": [],
   "source": [
    "def nc_theo(mfunc, logmmin, logmmax, zmin, zmax):\n",
    "    return scipy.integrate.dblquad(\n",
    "        lambda logm, z: mfunc(logm, z)*dV_over_dOmega_dz(z),\n",
    "        zmin, zmax, lambda x:logmmin, lambda x:logmmax,\n",
    "        epsabs=1.e-4, epsrel=1.e-4)[0]\n",
    "    print(out)\n",
    "    return out"
   ]
  },
  {
   "cell_type": "markdown",
   "id": "e964aecc-a39f-4c7d-8849-582b3c424ba5",
   "metadata": {},
   "source": [
    "Solid Angle:"
   ]
  },
  {
   "cell_type": "code",
   "execution_count": null,
   "id": "8bda2661-df65-4daa-abf7-cd8626510208",
   "metadata": {},
   "outputs": [],
   "source": [
    "DeltaOmega = 50 * np.pi**2/180**2"
   ]
  },
  {
   "cell_type": "markdown",
   "id": "eddbb175-0237-4f15-911e-c931b6671e08",
   "metadata": {},
   "source": [
    "Compute integrals"
   ]
  },
  {
   "cell_type": "code",
   "execution_count": null,
   "id": "aceee5dc-bfbb-4abf-bfe2-4b3cd60aad16",
   "metadata": {},
   "outputs": [],
   "source": [
    "%%time\n",
    "tinker08_nc = [\n",
    "    [nc_theo(tinker08, np.log10(mmin), np.log10(mmax), zmin, zmax)*DeltaOmega\n",
    "        for zmin, zmax in zip(zbins, zbins[1:])]\n",
    "    for mmin, mmax in zip(mbins, mbins[1:])]"
   ]
  },
  {
   "cell_type": "code",
   "execution_count": null,
   "id": "69fa493b-a1d5-4cd6-bc02-c5b1f9dd35f5",
   "metadata": {},
   "outputs": [],
   "source": [
    "%%time\n",
    "bocquet16_nc = [\n",
    "    [nc_theo(bocquet16, np.log10(mmin), np.log10(mmax), zmin, zmax)*DeltaOmega\n",
    "        for zmin, zmax in zip(zbins, zbins[1:])]\n",
    "    for mmin, mmax in zip(mbins, mbins[1:])]"
   ]
  },
  {
   "cell_type": "markdown",
   "id": "9b0a5bfe-b8b9-4f3f-8caf-aa7da71cd0bb",
   "metadata": {},
   "source": [
    "Compare results:"
   ]
  },
  {
   "cell_type": "code",
   "execution_count": null,
   "id": "f486e22e-473c-43aa-9967-985a6f3c2728",
   "metadata": {},
   "outputs": [],
   "source": [
    "fig, axes = plt.subplots(2, 2, sharex=True, figsize=(16, 8))\n",
    "\n",
    "for i, ax in enumerate(axes.flatten()):\n",
    "    ax.hist(zbins[:-1], bins=zbins, weights=nc_meas[i],\n",
    "           label=f'[{np.log10(mbins[i]):.1f}:{np.log10(mbins[i+1]):.1f}]')\n",
    "    legend = ax.legend(handlelength=0, handletextpad=0)\n",
    "    ax.plot(zbins[:-1]+.05, np.array(tinker08_nc[i]), label='Tk08')\n",
    "    ax.plot(zbins[:-1]+.05, np.array(bocquet16_nc[i]), label='Bq16')\n",
    "    if i==0:\n",
    "        ax.legend(ax.lines, [l._label for l in ax.lines], loc=2)\n",
    "        ax.add_artist(legend)\n",
    "    \n",
    "for ax in axes[-1,:]:\n",
    "    ax.set_xlabel('redshift')\n",
    "    \n",
    "for ax in axes[:,0]:\n",
    "    ax.set_ylabel('number counts')"
   ]
  }
 ],
 "metadata": {
  "kernelspec": {
   "display_name": "nersc",
   "language": "python",
   "name": "nersc"
  },
  "language_info": {
   "codemirror_mode": {
    "name": "ipython",
    "version": 3
   },
   "file_extension": ".py",
   "mimetype": "text/x-python",
   "name": "python",
   "nbconvert_exporter": "python",
   "pygments_lexer": "ipython3",
   "version": "3.8.8"
  }
 },
 "nbformat": 4,
 "nbformat_minor": 5
}

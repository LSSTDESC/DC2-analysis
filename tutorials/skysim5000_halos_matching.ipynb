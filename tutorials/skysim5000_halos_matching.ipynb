{
 "cells": [
  {
   "cell_type": "markdown",
   "id": "5520f1d4",
   "metadata": {},
   "source": [
    "# Matching SkySim5000 DM halo\n",
    "Authors : Michel Aguena\n",
    "\n",
    "Matching clusters using the [ClEvaR](https://lsstdesc.org/clevar/) DESC library."
   ]
  },
  {
   "cell_type": "code",
   "execution_count": null,
   "id": "2a2c5924",
   "metadata": {},
   "outputs": [],
   "source": [
    "import numpy as np\n",
    "import matplotlib.pyplot as plt\n",
    "from astropy.table import Table\n",
    "import GCRCatalogs\n",
    "\n",
    "%matplotlib inline"
   ]
  },
  {
   "cell_type": "code",
   "execution_count": null,
   "id": "4b78d600",
   "metadata": {},
   "outputs": [],
   "source": [
    "skysim_cat = GCRCatalogs.load_catalog('skysim5000_v1.1.1_small')"
   ]
  },
  {
   "cell_type": "code",
   "execution_count": null,
   "id": "e38c4eb9",
   "metadata": {},
   "outputs": [],
   "source": [
    "cosmo_ss  = skysim_cat.cosmology"
   ]
  },
  {
   "cell_type": "code",
   "execution_count": null,
   "id": "81a8698b",
   "metadata": {},
   "outputs": [],
   "source": [
    "cosmo_ss"
   ]
  },
  {
   "cell_type": "markdown",
   "id": "c73fea44",
   "metadata": {},
   "source": [
    "## Extract DM haloes from the catalog in a given mass and redshift range. "
   ]
  },
  {
   "cell_type": "code",
   "execution_count": null,
   "id": "d8e8cbeb",
   "metadata": {},
   "outputs": [],
   "source": [
    "%%time\n",
    "# get list of halos in a given redshift and mass range\n",
    "dm_halos = Table(skysim_cat.get_quantities(\n",
    "    ['halo_id', 'halo_mass', 'redshift','ra', 'dec',\n",
    "     'baseDC2/sod_halo_mass','baseDC2/sod_halo_radius'],\n",
    "    filters=[\n",
    "        f'halo_mass > {10**13.95}',\n",
    "        'is_central==True',\n",
    "        f'redshift>{0}',\n",
    "        f'redshift<{1}']\n",
    "))\n",
    "dm_halos['m200c'] = dm_halos['baseDC2/sod_halo_mass']/cosmo_ss.h"
   ]
  },
  {
   "cell_type": "code",
   "execution_count": null,
   "id": "2915773a-9912-4063-b70a-299ac1239365",
   "metadata": {},
   "outputs": [],
   "source": [
    "%%time\n",
    "# get list of halos in a given redshift and mass range\n",
    "gals = Table(skysim_cat.get_quantities(\n",
    "    ['galaxy_id', 'halo_id', 'halo_mass', 'redshift','ra', 'dec'],\n",
    "    filters=[\n",
    "        f'halo_mass > {10**13.95}',\n",
    "        f'redshift>{0}',\n",
    "        f'redshift<{1.1}']\n",
    "))"
   ]
  },
  {
   "cell_type": "code",
   "execution_count": null,
   "id": "4655374e",
   "metadata": {},
   "outputs": [],
   "source": [
    "print(f'There are {len(dm_halos):,} halos in this mass (Mfof) and redshift range.')\n",
    "print(f'They contain {len(gals):,} galaxies in total.')"
   ]
  },
  {
   "cell_type": "code",
   "execution_count": null,
   "id": "5f061ba8",
   "metadata": {},
   "outputs": [],
   "source": [
    "plt.scatter(gals['ra'], gals['dec'], marker='.', s=.1)\n",
    "plt.scatter(dm_halos['ra'], dm_halos['dec'], marker='.', s=10)\n",
    "plt.xlabel('ra [deg]')\n",
    "plt.ylabel('dec [deg]')"
   ]
  },
  {
   "cell_type": "markdown",
   "id": "e68760d3-cdea-4b08-9c70-9b125627b540",
   "metadata": {},
   "source": [
    "### Define 2 halo catalogs\n",
    "- halos1: $M_{200c}>10^{14}M_\\odot$\n",
    "- halos2: $M_{fof}>10^{14}M_\\odot$"
   ]
  },
  {
   "cell_type": "code",
   "execution_count": null,
   "id": "e3eb3b38-a88c-44d1-9835-dddb542a9d7c",
   "metadata": {},
   "outputs": [],
   "source": [
    "plt.scatter(dm_halos['m200c'], dm_halos['halo_mass'], marker='.', s=10)\n",
    "plt.xlabel('$M_{200c}$ [$M_\\odot$]')\n",
    "plt.ylabel('FoF mass [$M_\\odot$]')\n",
    "diag = dm_halos['halo_mass'].min(), np.max([*dm_halos['m200c'], *dm_halos['halo_mass']])\n",
    "plt.plot(diag, diag, c='r', ls='--')\n",
    "plt.axvline(1e14, c='g')\n",
    "plt.axhline(1e14, c='y')\n",
    "plt.xscale('log')\n",
    "plt.yscale('log')"
   ]
  },
  {
   "cell_type": "markdown",
   "id": "54aea810-a5cf-425e-b5f1-11e93bbb2440",
   "metadata": {},
   "source": [
    "Import clevar and create catalogs"
   ]
  },
  {
   "cell_type": "code",
   "execution_count": null,
   "id": "6859cf60-5eee-4919-ae63-80010c4a8675",
   "metadata": {},
   "outputs": [],
   "source": [
    "import clevar\n",
    "from clevar import ClCatalog"
   ]
  },
  {
   "cell_type": "code",
   "execution_count": null,
   "id": "34af37f0-66a7-4e15-a892-fa4f47cefeb8",
   "metadata": {},
   "outputs": [],
   "source": [
    "dm_halos1 = dm_halos[dm_halos['m200c']>1e14]\n",
    "halos1 = ClCatalog(\n",
    "    name='M200',\n",
    "    id=dm_halos1['halo_id'],\n",
    "    ra=dm_halos1['ra'],\n",
    "    dec=dm_halos1['dec'],\n",
    "    z=dm_halos1['redshift'],\n",
    "    mass=dm_halos1['m200c'],\n",
    "    radius=dm_halos1['baseDC2/sod_halo_radius']                   \n",
    ")\n",
    "halos1.radius_unit = 'mpc'\n",
    "del dm_halos1\n",
    "\n",
    "# Nice view formatting\n",
    "halos1['mass'].info.format = '.3g'\n",
    "halos1['ra'].info.format = '.4f'\n",
    "halos1['dec'].info.format = '.4f'\n",
    "halos1['z'].info.format = '.4f'\n",
    "halos1['radius'].info.format = '.2f'\n",
    "\n",
    "halos1.labels['mass'] = 'M_{200c}'"
   ]
  },
  {
   "cell_type": "code",
   "execution_count": null,
   "id": "b423da5d-345f-49dd-962b-9e588422658c",
   "metadata": {},
   "outputs": [],
   "source": [
    "dm_halos2 = dm_halos[dm_halos['halo_mass']>1e14]\n",
    "halos2 = ClCatalog(\n",
    "    name='Mfof',\n",
    "    id=dm_halos2['halo_id'],\n",
    "    ra=dm_halos2['ra'],\n",
    "    dec=dm_halos2['dec'],\n",
    "    z=dm_halos2['redshift'],\n",
    "    mass=dm_halos2['halo_mass'],\n",
    "    radius=dm_halos2['baseDC2/sod_halo_radius']                         \n",
    ")\n",
    "halos2.radius_unit = 'mpc'\n",
    "del dm_halos2\n",
    "\n",
    "# Nice view formatting\n",
    "halos2['mass'].info.format = '.3g'\n",
    "halos2['ra'].info.format = '.4f'\n",
    "halos2['dec'].info.format = '.4f'\n",
    "halos2['z'].info.format = '.4f'\n",
    "halos2['radius'].info.format = '.2f'\n",
    "\n",
    "halos2.labels['mass'] = 'M_{fof}'"
   ]
  },
  {
   "cell_type": "code",
   "execution_count": null,
   "id": "27b93874-9189-41a0-84e9-96886376ca00",
   "metadata": {},
   "outputs": [],
   "source": [
    "display(halos1[:5])\n",
    "display(halos2[:5])"
   ]
  },
  {
   "cell_type": "code",
   "execution_count": null,
   "id": "33140e86-fa7e-4202-a61f-d723d3031977",
   "metadata": {},
   "outputs": [],
   "source": [
    "fig, axes = plt.subplots(1, 2, figsize=(10, 5))\n",
    "\n",
    "mbins = np.logspace(14, 15, 21)\n",
    "axes[0].hist(halos1['mass'], bins=mbins, label='halos1 ($M_{200c}$)')\n",
    "axes[0].hist(halos2['mass'], bins=mbins, label='halos2 ($M_{fof}$)', histtype='step')\n",
    "axes[0].set_xscale('log')\n",
    "axes[0].set_xlabel('Mass')\n",
    "axes[0].legend()\n",
    "\n",
    "zbins = np.linspace(0, 1, 21)\n",
    "axes[1].hist(halos1['z'], bins=zbins)\n",
    "axes[1].hist(halos2['z'], bins=zbins, histtype='step')\n",
    "axes[1].set_xlabel('redshift')\n"
   ]
  },
  {
   "cell_type": "markdown",
   "id": "de99f423-e733-402c-8eeb-31c7a2ba06fe",
   "metadata": {},
   "source": [
    "Add members:"
   ]
  },
  {
   "cell_type": "code",
   "execution_count": null,
   "id": "557d0ba6-782a-40c0-bd5b-bd6cdaad6072",
   "metadata": {},
   "outputs": [],
   "source": [
    "halos1.add_members(\n",
    "    id=gals['galaxy_id'],\n",
    "    id_cluster=gals['halo_id'])"
   ]
  },
  {
   "cell_type": "code",
   "execution_count": null,
   "id": "8120177e-3df5-4380-b3ce-72cf74492ab8",
   "metadata": {},
   "outputs": [],
   "source": [
    "halos2.add_members(\n",
    "    id=gals['galaxy_id'],\n",
    "    id_cluster=gals['halo_id'])"
   ]
  },
  {
   "cell_type": "code",
   "execution_count": null,
   "id": "1ef3d76c-6239-4459-b565-450236f7e73e",
   "metadata": {},
   "outputs": [],
   "source": [
    "display(halos1.members[:5])\n",
    "display(halos2.members[:5])"
   ]
  },
  {
   "cell_type": "markdown",
   "id": "71d1b6a4",
   "metadata": {},
   "source": [
    "## Match catalogs\n",
    "\n",
    "By proximity:"
   ]
  },
  {
   "cell_type": "code",
   "execution_count": null,
   "id": "8ba2b80a-9df1-4866-a7b4-c3cfd5bbd0aa",
   "metadata": {},
   "outputs": [],
   "source": [
    "from clevar.match import ProximityMatch\n",
    "from clevar.cosmology import AstroPyCosmology\n",
    "mtp = ProximityMatch()\n",
    "cosmo = AstroPyCosmology()\n",
    "\n",
    "print(\"\\n* prepare the input for matching\")\n",
    "print(\"--------------------------------\")\n",
    "mtp.prep_cat_for_match(halos1, delta_z=0.01, match_radius='1 arcsec')\n",
    "mtp.prep_cat_for_match(halos2, delta_z=0.01, match_radius='cat', cosmo=cosmo)\n",
    "\n",
    "print('\\n* find multiple matches')\n",
    "print(\"-----------------------\")\n",
    "mtp.multiple(halos1, halos2)\n",
    "mtp.multiple(halos2, halos1)\n",
    "\n",
    "\n",
    "print('\\n* find unique pairs')\n",
    "print(\"-------------------\")\n",
    "mtp.unique(halos1, halos2, 'more_massive')\n",
    "mtp.unique(halos2, halos1, 'more_massive')\n",
    "\n",
    "print('\\n* cross matches')\n",
    "halos1.cross_match()\n",
    "halos2.cross_match()\n",
    "\n",
    "# Nice formatting\n",
    "halos1.mt_input['ang'].info.format = '.6f'\n",
    "halos2.mt_input['ang'].info.format = '.6f'"
   ]
  },
  {
   "cell_type": "code",
   "execution_count": null,
   "id": "33be40be-67b7-4c25-a0fc-ead726f7f832",
   "metadata": {},
   "outputs": [],
   "source": [
    "display(halos1[:5])\n",
    "display(halos2[:5])"
   ]
  },
  {
   "cell_type": "markdown",
   "id": "bf5dbefb-4869-4dc2-aced-c16decb3612f",
   "metadata": {},
   "source": [
    "By members:"
   ]
  },
  {
   "cell_type": "code",
   "execution_count": null,
   "id": "05d8b160-40c5-4596-8425-60556a6b251e",
   "metadata": {},
   "outputs": [],
   "source": [
    "halos1._init_match_vals(True)\n",
    "halos2._init_match_vals(True)"
   ]
  },
  {
   "cell_type": "code",
   "execution_count": null,
   "id": "54dd8e13",
   "metadata": {},
   "outputs": [],
   "source": [
    "from clevar.match import MembershipMatch\n",
    "mtm = MembershipMatch()\n",
    "\n",
    "print(\"\\n* prepare the input for matching\")\n",
    "print(\"--------------------------------\")\n",
    "print(\"\\n    * start by matching the members\")\n",
    "mtm.match_members(halos1.members, halos2.members, method='id')\n",
    "\n",
    "print('\\n    * fill corresponding share members')\n",
    "mtm.fill_shared_members(halos1, halos2)\n",
    "\n",
    "print('\\n* find multiple matches')\n",
    "print(\"-----------------------\")\n",
    "mtm.multiple(halos1, halos2)\n",
    "mtm.multiple(halos2, halos1)\n",
    "\n",
    "\n",
    "print('\\n* find unique pairs')\n",
    "print(\"-------------------\")\n",
    "mtm.unique(halos1, halos2, 'shared_member_fraction')\n",
    "mtm.unique(halos2, halos1, 'shared_member_fraction')\n",
    "\n",
    "print('\\n* cross matches')\n",
    "halos1.cross_match()\n",
    "halos2.cross_match()\n",
    "\n",
    "# Nice formatting\n",
    "halos1['mt_frac_self'].info.format = '.2f'\n",
    "halos1['mt_frac_other'].info.format = '.2f'\n",
    "halos2['mt_frac_self'].info.format = '.2f'\n",
    "halos2['mt_frac_other'].info.format = '.2f'"
   ]
  },
  {
   "cell_type": "code",
   "execution_count": null,
   "id": "1c5cb465-0bdf-4da9-afbc-eec7b87b7d97",
   "metadata": {},
   "outputs": [],
   "source": [
    "display(halos1[:5])\n",
    "display(halos2[:5])"
   ]
  },
  {
   "cell_type": "markdown",
   "id": "7a699221-0ec6-4e45-9d04-fec78d26339b",
   "metadata": {},
   "source": [
    "## Metrics of matching\n",
    "\n",
    "### Recovery rate"
   ]
  },
  {
   "cell_type": "code",
   "execution_count": null,
   "id": "954cafd3-b822-43dc-bdad-08b75efd6b49",
   "metadata": {},
   "outputs": [],
   "source": [
    "from clevar.match_metrics import recovery"
   ]
  },
  {
   "cell_type": "code",
   "execution_count": null,
   "id": "25fe0c83-137d-474c-b36a-1a481f37509a",
   "metadata": {},
   "outputs": [],
   "source": [
    "fig, axes = plt.subplots(1, 2, figsize=(10, 5))\n",
    "\n",
    "mbins = np.logspace(14, 15, 4)\n",
    "zbins = np.linspace(0, 1, 11)\n",
    "cp_info1 = recovery.plot(\n",
    "    halos1, 'multi_join', zbins, mbins,\n",
    "    shape='line', ax=axes[0])\n",
    "cp_info2 = recovery.plot(\n",
    "    halos2, 'multi_join', zbins, mbins,\n",
    "    shape='line', ax=axes[1])"
   ]
  },
  {
   "cell_type": "code",
   "execution_count": null,
   "id": "57905f65-49f4-41ca-a461-83f884b70478",
   "metadata": {},
   "outputs": [],
   "source": [
    "fig, axes = plt.subplots(1, 2, figsize=(10, 5))\n",
    "\n",
    "mbins = np.logspace(14, 15, 21)\n",
    "zbins = [0, .5, 1]\n",
    "cp_info1 = recovery.plot(\n",
    "    halos1, 'multi_join', zbins, mbins,\n",
    "    shape='line', ax=axes[0], transpose=True,\n",
    ")\n",
    "cp_info2 = recovery.plot(\n",
    "    halos2, 'multi_join', zbins, mbins,\n",
    "    shape='line', ax=axes[1], transpose=True,\n",
    ")"
   ]
  },
  {
   "cell_type": "markdown",
   "id": "83e58074-791b-49ff-b148-ffdb7c1130eb",
   "metadata": {},
   "source": [
    "### Scaling relation"
   ]
  },
  {
   "cell_type": "code",
   "execution_count": null,
   "id": "db2d55d9-5bf2-44c6-8fea-5a8cb40d878c",
   "metadata": {},
   "outputs": [],
   "source": [
    "from clevar.match_metrics import scaling"
   ]
  },
  {
   "cell_type": "code",
   "execution_count": null,
   "id": "b5f0dbd1-b564-401c-9f30-d169eaad1a54",
   "metadata": {},
   "outputs": [],
   "source": [
    "info_mr1 = scaling.redshift_density_metrics(\n",
    "    halos1, halos2, 'cross', ax_rotation=45)"
   ]
  },
  {
   "cell_type": "code",
   "execution_count": null,
   "id": "568608c5-99c9-4071-8369-34c381e5064c",
   "metadata": {},
   "outputs": [],
   "source": [
    "info_mr1 = scaling.mass_density_metrics(\n",
    "    halos1, halos2, 'cross', ax_rotation=45)"
   ]
  },
  {
   "cell_type": "code",
   "execution_count": null,
   "id": "809bd771-e7e9-4903-aa01-1347191f46b5",
   "metadata": {},
   "outputs": [],
   "source": [
    "info_mr1 = scaling.mass_density_metrics(\n",
    "    halos1, halos2, 'cross', ax_rotation=45,\n",
    "    add_fit=True, fit_log=True, fit_bins1=5,\n",
    ")"
   ]
  }
 ],
 "metadata": {
  "kernelspec": {
   "display_name": "conda-clmm",
   "language": "python",
   "name": "conda-clmm"
  },
  "language_info": {
   "codemirror_mode": {
    "name": "ipython",
    "version": 3
   },
   "file_extension": ".py",
   "mimetype": "text/x-python",
   "name": "python",
   "nbconvert_exporter": "python",
   "pygments_lexer": "ipython3",
   "version": "3.8.5"
  }
 },
 "nbformat": 4,
 "nbformat_minor": 5
}

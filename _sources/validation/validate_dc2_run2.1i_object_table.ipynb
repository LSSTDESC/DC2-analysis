{
 "cells": [
  {
   "cell_type": "markdown",
   "metadata": {},
   "source": [
    "# Inspection of DC2 Run 2.1i Object Table \n",
    "### Michael Wood-Vasey (@wmwv)\n",
    "### Last Verified to Run: 2019-08-09\n",
    "\n",
    "Inspect the Run 2.1i DR1 Object Table for DR1*\n",
    "\n",
    "This notebook is more qualitative rather than quantitative validation.  The analysis contained here should eventually grow beyond the confines of a notebook to include goals for the visualizations and numerical thresholds for specific quantities.\n",
    "\n",
    "Choose to obtain the data from parquet files via GCR or from the Postgres database by invoking either `get_GCR` or `get_pg`.  \n",
    "\n",
    "**Note:** In order to access the Postgres database you must have a .pgpass file, as explained in the first Postgres tutorial notebook https://github.com/LSSTDESC/DC2-analysis/blob/master/tutorials/postgres_object_1_intro.ipynb.\n",
    "\n",
    "1. Make 2D density plots (e.g., `hexbin`, `hist2d`, `datashader`) of\n",
    "    - ra, dec\n",
    "    - u-g, g-r\n",
    "    - r-i, g-r\n",
    "    - i-z, g-r\n",
    "    - z-y, g-r\n",
    "2. Make 1D density plots (e.g., `hist`, kernel-density-estimation)\n",
    "    - N({ugrizy})\n",
    "    - Shape parameters\n",
    "    \n",
    "[*] Note that this \"DR1\" 6-month catalog is actually from months 18-24 of the survey.  For a combination of technical reasons and features of the simulated minion_1016 observing plan, the first 6 months of Year 1 are a very non-representative sample.  We thus provide a DR1 6-month equivalent product that is actually from the second 6 months of Year 2.\n",
    "\n",
    "#### Run 2.1i includes  \n",
    "  * 78 million objects  \n",
    "  * 48 million objects with i-band SNR > 5\n",
    "\n",
    "Loading the entire catalog from parquet file takes ~15 minutes, depending on memory load on the JupyterHub node.  It thus is often most useful to develop ones codes looking at only subsamples of the full DC2 datasets, whether that's considering just one tract, or taking a subsample of the full catalog.\n",
    "\n",
    "#### Quick Data Size estimates\n",
    "\n",
    "Loading 1 column stored as 64-bit floats on 64 million objects takes 512 MB of memory:\n",
    "\n",
    "8 bytes/column/row * 1 column * 64 million rows = 2^3 * 2^0 * 2^6 million bytes (MB) = 2^9 MB = 512 MB"
   ]
  },
  {
   "cell_type": "markdown",
   "metadata": {},
   "source": [
    "## Import Needed Modules"
   ]
  },
  {
   "cell_type": "code",
   "execution_count": null,
   "metadata": {},
   "outputs": [],
   "source": [
    "import math\n",
    "import os\n",
    "\n",
    "import numpy as np\n",
    "from numpy.lib import scimath as SM\n",
    "\n",
    "import astropy.units as u\n",
    "import pandas as pd\n",
    "\n",
    "import GCRCatalogs\n",
    "from GCR import GCRQuery"
   ]
  },
  {
   "cell_type": "code",
   "execution_count": null,
   "metadata": {},
   "outputs": [],
   "source": [
    "%matplotlib inline\n",
    "\n",
    "import matplotlib.pyplot as plt\n",
    "from matplotlib.patches import Polygon\n",
    "\n",
    "import seaborn as sns"
   ]
  },
  {
   "cell_type": "code",
   "execution_count": null,
   "metadata": {},
   "outputs": [],
   "source": [
    "cmap = 'viridis_r'"
   ]
  },
  {
   "cell_type": "markdown",
   "metadata": {},
   "source": [
    "## Define Catalog and Subsampling"
   ]
  },
  {
   "cell_type": "code",
   "execution_count": null,
   "metadata": {},
   "outputs": [],
   "source": [
    "# For testing one may find it useful to load just one tract:\n",
    "# catalog_name = 'dc2_object_run2.1i_dr1_tract3830'\n",
    "# To see the full RA, Dec distribution, load the full catalog.\n",
    "# Going through whole catalog using GCR/parquet will take 5-10 minutes to go through each of the files,\n",
    "# regardless of the subsampling chosen (see next cell)\n",
    "catalog_name = 'dc2_object_run2.1i_dr1'\n",
    "tract = 3830\n",
    "# If PostgreSQL is data source\n",
    "schema_name = 'run21i_dr1b_v1_pg2'"
   ]
  },
  {
   "cell_type": "markdown",
   "metadata": {},
   "source": [
    "Note that once we're loading the full CosmoDC2 catalog below the dominant time usage is loading that catalog, not the DC2 Run 2.1i Object catalog."
   ]
  },
  {
   "cell_type": "code",
   "execution_count": null,
   "metadata": {},
   "outputs": [],
   "source": [
    "# Sampling must be an positive integer.\n",
    "# To reduce subsequent arithmetic demands on your brain I would recommend picking a power of ten.\n",
    "sampling_factor = 100"
   ]
  },
  {
   "cell_type": "markdown",
   "metadata": {},
   "source": [
    "For further reduction of the sample loaded into the memory we construct  some subsampling filters.\n",
    "The final digits of the `objectId` should be evenly distributed across the sample so we can\n",
    "extract subsample by using modulo to look at last digits."
   ]
  },
  {
   "cell_type": "markdown",
   "metadata": {},
   "source": [
    "## Load Data"
   ]
  },
  {
   "cell_type": "code",
   "execution_count": null,
   "metadata": {},
   "outputs": [],
   "source": [
    "filters = ('u', 'g', 'r', 'i', 'z', 'y')"
   ]
  },
  {
   "cell_type": "code",
   "execution_count": null,
   "metadata": {},
   "outputs": [],
   "source": [
    "columns = ['ra', 'dec']\n",
    "columns += [f'mag_{f}' for f in filters]\n",
    "columns += [f'magerr_{f}' for f in filters]\n",
    "columns += [f'mag_{f}_cModel' for f in filters]\n",
    "columns += [f'magerr_{f}_cModel' for f in filters]\n",
    "columns += [f'Ixx_{f}' for f in filters]\n",
    "columns += [f'Ixy_{f}' for f in filters]\n",
    "columns += [f'Iyy_{f}' for f in filters]\n",
    "columns += [f'psf_fwhm_{f}' for f in filters]\n",
    "columns += ['good', 'extendedness', 'blendedness']"
   ]
  },
  {
   "cell_type": "code",
   "execution_count": null,
   "metadata": {},
   "outputs": [],
   "source": [
    "MB_per_column = 512  # MB / column / 64 million rows\n",
    "print(f'We are going to load {len(columns)} columns.')\n",
    "print(f'For {64/sampling_factor} million rows that should take {len(columns)*MB_per_column/sampling_factor/1024} GB of memory')"
   ]
  },
  {
   "cell_type": "code",
   "execution_count": null,
   "metadata": {},
   "outputs": [],
   "source": [
    "# Select good detections:\n",
    "#  1. Marked as 'good' in catalog flags.\n",
    "#  2. SNR in given band > threshold\n",
    "#  3. In defined simulation range\n",
    "snr_threshold = 5\n",
    "snr_filter = 'i'\n",
    "\n",
    "# We want to do a SNR cut, but magerr is the thing already calculated\n",
    "# So we'll redefine our SNR in terms of magerr\n",
    "magerr_cut = (2.5 / np.log(10)) / snr_threshold\n",
    "snr_cut = f'magerr_{snr_filter} < {magerr_cut}'"
   ]
  },
  {
   "cell_type": "markdown",
   "metadata": {},
   "source": [
    "Define one function to get the data from GCR/parquet files, another for Postgres."
   ]
  },
  {
   "cell_type": "code",
   "execution_count": null,
   "metadata": {},
   "outputs": [],
   "source": [
    "def get_GCR(catalog_name, columns, sampling_factor, quality_cut, tract=None):\n",
    "    \n",
    "    cat_name = catalog_name\n",
    "    if tract is not None:\n",
    "        cat_name = f'{catalog_name}_tract{tract}'\n",
    "    print(f'Querying catalog {cat_name}')\n",
    "    if sampling_factor > 1:\n",
    "        arbitrary_last_digit = '2'  # If you're really bored, you can explore other choices for the last digit sequence.\n",
    "        remainder = int(math.ceil(math.log10(sampling_factor)) * arbitrary_last_digit)\n",
    "        # You can use sampling_factors that are not a power of ten.\n",
    "        # If you do so, we need to make sure that the remainder is less than the modulus\n",
    "        remainder = remainder % sampling_factor\n",
    "        subsample = (lambda x: x % sampling_factor == remainder, 'objectId')\n",
    "    else:\n",
    "        subsample = None\n",
    "    cat = GCRCatalogs.load_catalog(cat_name, config_overwrite={'use_cache': False})\n",
    "    quality_cuts = [GCRQuery(quality_cut)]\n",
    "    df = pd.DataFrame(cat.get_quantities(columns, filters=[subsample] + quality_cuts))\n",
    "    print(f'Loaded {len(df)} objects from \"{cat_name}\" with a subsampling of {sampling_factor}x')\n",
    "    return df\n",
    "    "
   ]
  },
  {
   "cell_type": "code",
   "execution_count": null,
   "metadata": {},
   "outputs": [],
   "source": [
    "def get_pg(schema_name, columns, sampling_factor, quality_cut, tract=None):\n",
    "    import psycopg2\n",
    "    dbname = 'desc_dc2_drp'\n",
    "    dbuser = 'desc_dc2_drp_user'\n",
    "    dbhost = 'nerscdb03.nersc.gov'\n",
    "    dbconfig = {'dbname' : dbname, 'user' : dbuser, 'host' : dbhost}\n",
    "    dbconn = psycopg2.connect(**dbconfig)  \n",
    "    \n",
    "    to_select = ','.join(columns)   \n",
    "    cuts = []\n",
    "    if tract is not None:\n",
    "        tract_cut = f' tractsearch(objectid, {tract}) '\n",
    "        cuts = [tract_cut]\n",
    "\n",
    "    if sampling_factor > 1:\n",
    "        arbitrary_last_digit = '2' \n",
    "        remainder = int(math.ceil(math.log10(sampling_factor)) * arbitrary_last_digit)\n",
    "        remainder = remainder % sampling_factor\n",
    "        sample_clause = f' (objectid % {sampling_factor}) = {remainder} '\n",
    "        cuts.append(sample_clause)  \n",
    "        \n",
    "    if quality_cut is not None: cuts.append(quality_cut)\n",
    "    all_cuts = ' and '.join(cuts)\n",
    "    \n",
    "    where = ' where '\n",
    "    where  += all_cuts \n",
    "\n",
    "    q = f'SELECT {to_select} FROM {schema_name}.dpdd {where}'\n",
    "    \n",
    "    with dbconn.cursor() as cursor:\n",
    "        %time cursor.execute(q)\n",
    "        df = pd.DataFrame(cursor.fetchall(), columns=columns)  \n",
    "        print(f'Loaded {len(df)} objects from \"{schema_name}\" with a subsampling of {sampling_factor}x')\n",
    "    return df"
   ]
  },
  {
   "cell_type": "code",
   "execution_count": null,
   "metadata": {},
   "outputs": [],
   "source": [
    "# Choose means of obtaining data: GCR\n",
    "df = get_GCR(catalog_name, columns, sampling_factor, snr_cut, tract)"
   ]
  },
  {
   "cell_type": "code",
   "execution_count": null,
   "metadata": {},
   "outputs": [],
   "source": [
    "#  or Postgres\n",
    "# df = get_pg(schema_name, columns, sampling_factor, snr_cut,tract)"
   ]
  },
  {
   "cell_type": "markdown",
   "metadata": {},
   "source": [
    "#### CosmoDC2\n",
    "\n",
    "Load CosmoDC2 for reference.  This is the truth table for the input catalog proposals.\n",
    "It's larger than the Object Table, so we're going to use a similar subsampling plan."
   ]
  },
  {
   "cell_type": "code",
   "execution_count": null,
   "metadata": {},
   "outputs": [],
   "source": [
    "# Need to use 'galaxy_id' instead of 'objectId'\n",
    "if subsample is None:\n",
    "    cosmoDC2_subsample = None\n",
    "else:\n",
    "    cosmoDC2_subsample = (lambda x: x % sampling_factor == remainder, 'galaxy_id')"
   ]
  },
  {
   "cell_type": "code",
   "execution_count": null,
   "metadata": {},
   "outputs": [],
   "source": [
    "cosmoDC2_cat = GCRCatalogs.load_catalog('cosmoDC2', config_overwrite={'use_cache': False})"
   ]
  },
  {
   "cell_type": "code",
   "execution_count": null,
   "metadata": {},
   "outputs": [],
   "source": [
    "cosmoDC2_columns = ['ra', 'dec', 'mag_u', 'mag_g', 'mag_r', 'mag_i', 'mag_z', 'mag_y']\n",
    "max_mag_i = 25\n",
    "mag_limit_filter = [GCRQuery(f'mag_i < {max_mag_i}')]\n",
    "cosmoDC2 = pd.DataFrame(cosmoDC2_cat.get_quantities(cosmoDC2_columns,\n",
    "                                                    filters=[cosmoDC2_subsample] + mag_limit_filter))"
   ]
  },
  {
   "cell_type": "code",
   "execution_count": null,
   "metadata": {},
   "outputs": [],
   "source": [
    "print(f'Loaded {len(cosmoDC2)} objects from \"cosmocDC2\" with a subsampling of {sampling_factor}x')"
   ]
  },
  {
   "cell_type": "markdown",
   "metadata": {},
   "source": [
    "#### HSC XMM\n",
    "from HSC PDR1."
   ]
  },
  {
   "cell_type": "code",
   "execution_count": null,
   "metadata": {},
   "outputs": [],
   "source": [
    "hsc_cat = GCRCatalogs.load_catalog('hsc-pdr1-xmm',\n",
    "                                   config_overwrite={'base_dir': '/global/cscratch1/sd/desc/hsc',\n",
    "                                                    'use_cache': False})"
   ]
  },
  {
   "cell_type": "code",
   "execution_count": null,
   "metadata": {},
   "outputs": [],
   "source": [
    "# Establish some basic cuts intended to yield a galaxy sample with reasonable flux measurements.\n",
    "basic_cuts = [\n",
    "    GCRQuery('clean'), # The source has no flagged pixels (interpolated, saturated, edge, clipped...) \n",
    "                       # and was not skipped by the deblender\n",
    "    GCRQuery('xy_flag == 0'),                                      # Flag for bad centroid measurement\n",
    "]\n",
    "\n",
    "# Define cuts on object properties: currently we simply make a sample limited at i<25.\n",
    "# This implicitly also requires the magnitude to be finite.\n",
    "max_mag_i = 25\n",
    "properties_cuts = [\n",
    "    GCRQuery(f'mag_i_cModel < {max_mag_i}'),\n",
    "]"
   ]
  },
  {
   "cell_type": "code",
   "execution_count": null,
   "metadata": {},
   "outputs": [],
   "source": [
    "hsc_filters = ['g', 'r', 'i', 'z']\n",
    "hsc_columns = ['ra', 'dec']\n",
    "hsc_columns += [f'mag_{f}' for f in hsc_filters]\n",
    "hsc_columns += [f'magerr_{f}' for f in hsc_filters]\n",
    "hsc_columns += [f'mag_{f}_cModel' for f in hsc_filters]\n",
    "hsc_columns += [f'magerr_{f}_cModel' for f in hsc_filters]\n",
    "# hsc_columns += [f'Ixx_{f}' for f in hsc_filters]\n",
    "# hsc_columns += [f'Ixy_{f}' for f in hsc_filters]\n",
    "# hsc_columns += [f'Iyy_{f}' for f in hsc_filters]\n",
    "# hsc_columns += [f'psf_fwhm_{f}' for f in hsc_filters]\n",
    "hsc_columns += ['good', 'extendedness', 'blendedness']"
   ]
  },
  {
   "cell_type": "code",
   "execution_count": null,
   "metadata": {},
   "outputs": [],
   "source": [
    "hsc = pd.DataFrame(hsc_cat.get_quantities(hsc_columns,\n",
    "                                          filters=basic_cuts + properties_cuts))\n",
    "\n",
    "# We could of course done this as part of a GCR query.\n",
    "hsc_stars = hsc[hsc['extendedness'] == 0]\n",
    "hsc_galaxies = hsc[hsc['extendedness'] > 0]"
   ]
  },
  {
   "cell_type": "markdown",
   "metadata": {},
   "source": [
    "## Object Density in RA, Dec"
   ]
  },
  {
   "cell_type": "markdown",
   "metadata": {},
   "source": [
    "DC2 Run 2.x WFD and DDF regions\n",
    "https://docs.google.com/document/d/18nNVImxGioQ3tcLFMRr67G_jpOzCIOdar9bjqChueQg/view\n",
    "https://github.com/LSSTDESC/DC2_visitList/blob/master/DC2visitGen/notebooks/DC2_Run2_regionCoords_WFD.ipynb\n",
    "\n",
    "| Location          | RA (degrees) | Dec (degrees) | RA (degrees) | Dec (degrees) |\n",
    "|:----------------- |:------------ |:------------- |:------------ |:------------- |\n",
    "| Region            | WFD          | WFD           | DDF          | DDF           |\n",
    "| Center            | 61.856114    | -35.79        | 53.125       | -28.100       |\n",
    "| North-East Corner | 71.462228    | -27.25        | 53.764       | -27.533       |\n",
    "| North-West Corner | 52.250000    | -27.25        | 52.486       | -27.533       |\n",
    "| South-West Corner | 49.917517    | -44.33        | 52.479       | -28.667       |\n",
    "| South-East Corner | 73.794710    | -44.33        | 53.771       | -28.667       |\n",
    "\n",
    "(Note that the order of the rows above is different than in the DC2 papers.  The order of the rows above goes around the perimeter in order.)"
   ]
  },
  {
   "cell_type": "code",
   "execution_count": null,
   "metadata": {},
   "outputs": [],
   "source": [
    "dc2_run2x_wfd = [[71.462228, -27.25], [52.250000, -27.25], [49.917517, -44.33], [73.794710, -44.33]]\n",
    "dc2_run2x_ddf = [[53.764, -27.533], [52.486, -27.533], [52.479, -28.667], [53.771, -28.667]]"
   ]
  },
  {
   "cell_type": "code",
   "execution_count": null,
   "metadata": {},
   "outputs": [],
   "source": [
    "def plot_ra_dec(cat, show_dc2_region=True):\n",
    "    \"\"\"We're just doing this on a rectilinear grid.\n",
    "    We should do a projection, of course, but that distortion is minor in this space.\"\"\"\n",
    "    fig = plt.figure(figsize=(8, 8))\n",
    "    ax = plt.gca()\n",
    "    ax.set_aspect(1)\n",
    "\n",
    "    plt.hist2d(cat['ra'], cat['dec'], bins=100)\n",
    "    ax.invert_xaxis()  # Flip to East left\n",
    "    plt.xlabel('RA [deg]')\n",
    "    plt.ylabel('Dec [deg]')\n",
    "    plt.colorbar(shrink=0.5, label='objects / bin')\n",
    "\n",
    "    if show_dc2_region:\n",
    "        # This region isn't quite a polygon.  The sides should be curved.\n",
    "        wfd_region = Polygon(dc2_run2x_wfd, color='red', fill=False)\n",
    "        ddf_region = Polygon(dc2_run2x_ddf, color='orange', fill=False)\n",
    "        ax.add_patch(wfd_region)\n",
    "        ax.add_patch(ddf_region)\n",
    "\n",
    "        max_delta_ra = dc2_run2x_wfd[3][0] - dc2_run2x_wfd[2][0]\n",
    "        delta_dec = dc2_run2x_wfd[1][1] - dc2_run2x_wfd[3][1]\n",
    "        grow_buffer = 0.05\n",
    "        ax.set_xlim(dc2_run2x_wfd[3][0] + max_delta_ra * grow_buffer,\n",
    "                    dc2_run2x_wfd[2][0] - max_delta_ra * grow_buffer)\n",
    "        ax.set_ylim(dc2_run2x_wfd[3][1] - delta_dec * grow_buffer,\n",
    "                    dc2_run2x_wfd[1][1] + delta_dec * grow_buffer)"
   ]
  },
  {
   "cell_type": "code",
   "execution_count": null,
   "metadata": {},
   "outputs": [],
   "source": [
    "plot_ra_dec(df)"
   ]
  },
  {
   "cell_type": "markdown",
   "metadata": {},
   "source": [
    "The overall object density distribution looks good.\n",
    "\n",
    "Notes:\n",
    "* We're missing the DDF region, which was specifically not included in this DR1 coadd.\n",
    "* We're missing a bit of the South-West (lower-right, \"North Up, East Left\") corner.\n",
    "* There are also a few patches that failed within the main region.\n",
    "* There is an overall gradient N/S in object density, because we're plotting in rectilinear RA, Dec bins, which means that bins at the bottom in RA cover less area than those at the top.\n",
    "\n",
    "See the input visit coverage map here:\n",
    "https://github.com/LSSTDESC/ImageProcessingPipelines/issues/97#issuecomment-498303504\n"
   ]
  },
  {
   "cell_type": "code",
   "execution_count": null,
   "metadata": {},
   "outputs": [],
   "source": [
    "def ellipticity(I_xx, I_xy, I_yy):\n",
    "    \"\"\"Calculate ellipticity from second moments.\n",
    "\n",
    "    Parameters\n",
    "    ----------\n",
    "    I_xx : float or numpy.array\n",
    "    I_xy : float or numpy.array\n",
    "    I_yy : float or numpy.array\n",
    "\n",
    "    Returns\n",
    "    -------\n",
    "    e, e1, e2 : (float, float, float) or (numpy.array, numpy.array, numpy.array)\n",
    "        Complex ellipticity, real component, imaginary component\n",
    "        \n",
    "    Copied from https://github.com/lsst/validate_drp/python/lsst/validate/drp/util.py\n",
    "    \"\"\"\n",
    "    e = (I_xx - I_yy + 2j*I_xy) / (I_xx + I_yy + 2*SM.sqrt(I_xx*I_yy - I_xy*2))\n",
    "    e1 = np.real(e)\n",
    "    e2 = np.imag(e)\n",
    "    return e, e1, e2"
   ]
  },
  {
   "cell_type": "code",
   "execution_count": null,
   "metadata": {},
   "outputs": [],
   "source": [
    "for filt in filters:\n",
    "    df[f'e_{filt}'], df[f'e1_{filt}'], df[f'e2_{filt}'] = \\\n",
    "    ellipticity(df[f'Ixx_{filt}'], df[f'Ixy_{filt}'], df[f'Iyy_{filt}'])"
   ]
  },
  {
   "cell_type": "code",
   "execution_count": null,
   "metadata": {},
   "outputs": [],
   "source": [
    "def inside_trapezoid(corners, ra, dec):\n",
    "    # This is a slightly tedious way of defining a symmetric trapezoid\n",
    "    # Could consider using geopandas, but that adds dependency\n",
    "    dec_size = corners[1][1] - corners[2][1] # deg\n",
    "\n",
    "    ra_left_side_delta = corners[1][0] - corners[2][0]\n",
    "    ra_right_side_delta = corners[0][0] - corners[3][0]\n",
    "    ra_left_side_slope = ra_left_side_delta / dec_size\n",
    "    ra_right_side_slope = ra_right_side_delta / dec_size\n",
    "\n",
    "    inside_ra = (corners[2][0] + ra_left_side_slope * (dec - corners[2][1]) < ra) & \\\n",
    "                (ra < corners[3][0] + ra_right_side_slope * (dec - corners[3][1]))\n",
    "    inside_dec = (corners[2][1] < dec) & (dec < corners[1][1])\n",
    "\n",
    "    return inside_ra & inside_dec"
   ]
  },
  {
   "cell_type": "code",
   "execution_count": null,
   "metadata": {},
   "outputs": [],
   "source": [
    "inside = inside_trapezoid(dc2_run2x_wfd, df['ra'], df['dec'])\n",
    "good = df[(df['good']) & inside]"
   ]
  },
  {
   "cell_type": "code",
   "execution_count": null,
   "metadata": {},
   "outputs": [],
   "source": [
    "stars = good[good['extendedness'] == 0]\n",
    "galaxies = good[good['extendedness'] > 0]"
   ]
  },
  {
   "cell_type": "code",
   "execution_count": null,
   "metadata": {},
   "outputs": [],
   "source": [
    "print(f'Total: {len(df)}, Good: {len(good)}, Stars: {len(stars)}, Galaxies: {len(galaxies)}')\n",
    "print(f'For {catalog_name} with {sampling_factor}x subsample')"
   ]
  },
  {
   "cell_type": "code",
   "execution_count": null,
   "metadata": {},
   "outputs": [],
   "source": [
    "plot_ra_dec(good)"
   ]
  },
  {
   "cell_type": "code",
   "execution_count": null,
   "metadata": {},
   "outputs": [],
   "source": [
    "plot_ra_dec(cosmoDC2)"
   ]
  },
  {
   "cell_type": "code",
   "execution_count": null,
   "metadata": {},
   "outputs": [],
   "source": [
    "plot_ra_dec(hsc, show_dc2_region=False)"
   ]
  },
  {
   "cell_type": "markdown",
   "metadata": {},
   "source": [
    "## Color-Color Diagrams and the Stellar Locus"
   ]
  },
  {
   "cell_type": "code",
   "execution_count": null,
   "metadata": {},
   "outputs": [],
   "source": [
    "# We refer to a file over in `tutorials/assets' for the stellar locus\n",
    "datafile_davenport = '../tutorials/assets/Davenport_2014_MNRAS_440_3430_table1.txt'\n",
    "\n",
    "def get_stellar_locus_davenport(color1='gmr', color2='rmi',\n",
    "                                datafile=datafile_davenport):\n",
    "    data = pd.read_table(datafile, sep='\\s+', header=1)\n",
    "    return data[color1], data[color2]\n",
    "\n",
    "    \n",
    "def plot_stellar_locus(color1='gmr', color2='rmi',\n",
    "                       color='red', linestyle='--', linewidth=2.5,\n",
    "                       ax=None):\n",
    "    model_gmr, model_rmi = get_stellar_locus_davenport(color1, color2)\n",
    "    plot_kwargs = {'linestyle': linestyle, 'linewidth': linewidth, 'color': color,\n",
    "                   'scalex': False, 'scaley': False}\n",
    "    if not ax:\n",
    "        ax = fig.gca()\n",
    "\n",
    "    ax.plot(model_gmr, model_rmi, **plot_kwargs)"
   ]
  },
  {
   "cell_type": "code",
   "execution_count": null,
   "metadata": {},
   "outputs": [],
   "source": [
    "def plot_color_color(z, color1, color2, \n",
    "                     range1=(-1, +2), range2=(-1, +2), bins=31,\n",
    "                     ax=None, figsize=(4,4)):\n",
    "    \"\"\"Plot a color-color diagram.  Overlay stellar locus\"\"\"\n",
    "    band1, band2 = color1[0], color1[-1]\n",
    "    band3, band4 = color2[0], color2[-1]\n",
    "    H, xedges, yedges = np.histogram2d(\n",
    "        z[f'mag_{band1}'] - z[f'mag_{band2}'],\n",
    "        z[f'mag_{band3}'] - z[f'mag_{band4}'],\n",
    "        range=(range1, range2), bins=bins)\n",
    "        \n",
    "    zi = H.T\n",
    "    xi = (xedges[1:] + xedges[:-1])/2\n",
    "    yi = (yedges[1:] + yedges[:-1])/2\n",
    "\n",
    "    if not ax:\n",
    "        fig = plt.figure(figsize=figsize)\n",
    "        ax = fig.gca()\n",
    "\n",
    "    ax.pcolormesh(xi, yi, zi, cmap=cmap)\n",
    "    ax.contour(xi, yi, zi)\n",
    "    ax.set_xlabel(f'{band1}-{band2}')\n",
    "    ax.set_ylabel(f'{band3}-{band4}')\n",
    "\n",
    "    try:\n",
    "        plot_stellar_locus(color1, color2, ax=ax)\n",
    "    except KeyError as e:\n",
    "        print(f\"Couldn't plot Stellar Locus model for {color1}, {color2}\")"
   ]
  },
  {
   "cell_type": "code",
   "execution_count": null,
   "metadata": {},
   "outputs": [],
   "source": [
    "def plot_four_color_color(cat):\n",
    "    fig, axes = plt.subplots(2, 2, figsize=(8, 6))\n",
    "\n",
    "    colors = ['umg', 'rmi', 'imz', 'zmy']\n",
    "    ref_color = 'gmr'\n",
    "    for ax, color in zip(axes.flat, colors):\n",
    "        try:\n",
    "            plot_color_color(cat, ref_color, color, ax=ax)\n",
    "        except KeyError:\n",
    "            continue"
   ]
  },
  {
   "cell_type": "code",
   "execution_count": null,
   "metadata": {},
   "outputs": [],
   "source": [
    "plot_four_color_color(good)"
   ]
  },
  {
   "cell_type": "code",
   "execution_count": null,
   "metadata": {},
   "outputs": [],
   "source": [
    "plot_four_color_color(stars)"
   ]
  },
  {
   "cell_type": "markdown",
   "metadata": {},
   "source": [
    "The discrete islands in the data for stellar color-color plot -- most visible in `r-i` vs. `g-r` at g-r ~= 1.2 mag -- are due to the finite set of stellar models used for simulating M dwarfs."
   ]
  },
  {
   "cell_type": "code",
   "execution_count": null,
   "metadata": {},
   "outputs": [],
   "source": [
    "plot_four_color_color(hsc_stars)"
   ]
  },
  {
   "cell_type": "markdown",
   "metadata": {},
   "source": [
    "The stellar locus in the HSC data looks very good."
   ]
  },
  {
   "cell_type": "markdown",
   "metadata": {},
   "source": [
    "------\n",
    "Let's plot the galaxies on the same color-color plots\n",
    "\n",
    "Clearly one doesn't expect the galaxies to follow the stellar locus.  But including the stellar locus lines makes it easy to guide the eye between the stars-only and the galaxies-only plots."
   ]
  },
  {
   "cell_type": "code",
   "execution_count": null,
   "metadata": {},
   "outputs": [],
   "source": [
    "plot_four_color_color(galaxies)"
   ]
  },
  {
   "cell_type": "code",
   "execution_count": null,
   "metadata": {},
   "outputs": [],
   "source": [
    "plot_four_color_color(cosmoDC2)"
   ]
  },
  {
   "cell_type": "code",
   "execution_count": null,
   "metadata": {},
   "outputs": [],
   "source": [
    "plot_four_color_color(hsc_galaxies)"
   ]
  },
  {
   "cell_type": "markdown",
   "metadata": {},
   "source": [
    "Questions for further study:\n",
    "   1. Is there a better comparison sample for the stellar locus than the Davenport reference?\n",
    "   2. Why is the stellar locus in the Davenport 0.1--0.2 mag redder for the reddest stars than the observed data.  Are there different extinction assumptions (this should be a low-extinction region).  Are there different bandpasses used?"
   ]
  },
  {
   "cell_type": "markdown",
   "metadata": {},
   "source": [
    "## 1D Density Plots"
   ]
  },
  {
   "cell_type": "code",
   "execution_count": null,
   "metadata": {},
   "outputs": [],
   "source": [
    "def plot_mag(filt, log=True, range=(16, 28), ax=None, ):\n",
    "    if ax is None:\n",
    "        ax = fig.gca()\n",
    "    mag = f'mag_{filt}'\n",
    "    ax.hist([good[mag], stars[mag], galaxies[mag]],\n",
    "            label=['all', 'star', 'galaxy'],\n",
    "            log=log,\n",
    "            range=range,\n",
    "            bins=np.linspace(*range, 100),\n",
    "            histtype='step')\n",
    "    ax.set_xlabel(filt)\n",
    "    ax.set_ylabel('objects / bin')\n",
    "    ax.set_xlim(range)\n",
    "    ax.set_ylim(bottom=10)\n",
    "    ax.legend(loc='upper left')\n",
    "\n",
    "fig, axes = plt.subplots(2, 3, figsize=(12, 6))\n",
    "for ax, filt in zip(axes.flat, filters):\n",
    "    plot_mag(filt, ax=ax)"
   ]
  },
  {
   "cell_type": "markdown",
   "metadata": {},
   "source": [
    "The sharp cut in i-band is because that was the reference band for most detections.  The distributions in the other bands extend to 28th mag because many of the forced-photometry measurements are consistent with 0."
   ]
  },
  {
   "cell_type": "markdown",
   "metadata": {},
   "source": [
    "#### Compare to HSC and CosmocDC galaxy densities\n",
    "\n",
    "Test inspired by Rachel Mandelbaum"
   ]
  },
  {
   "cell_type": "markdown",
   "metadata": {},
   "source": [
    "To compare number densities, we have to calculate the area covered by each catalog.\n",
    "We'll use Healpix through HealPy to pixelate the region and then count of the number of pixels with significant numbers of objects."
   ]
  },
  {
   "cell_type": "code",
   "execution_count": null,
   "metadata": {},
   "outputs": [],
   "source": [
    "def calculate_area(cat, threshold=0.25, nside=1024, verbose=False):\n",
    "    \"\"\"Calculate the area covered by a catalog with 'ra', 'dec'\n",
    "    \n",
    "    Parameters:\n",
    "    --\n",
    "    cat: DataFrame, dict-like with 'ra', 'dec', keys\n",
    "    threshold:  float\n",
    "        Fraction of median value required to count a pixel.\n",
    "    nside:  int\n",
    "        Healpix NSIDE.  NSIDE=1024 is ~12 sq arcmin/pixel, NSIDE=4096 is 0.74 sq. arcmin/pixel\n",
    "        Increasing nside will decrease calculated area as holes become better resolved \n",
    "        and relative Poisson fluctuations in number counts become more significant.\n",
    "    verbose:  bool\n",
    "        Print details on nside, number of significant pixels, and area/pixel.\n",
    "        \n",
    "    Returns:\n",
    "    --\n",
    "    area:  Astropy Quantity.\n",
    "    \"\"\"\n",
    "    import healpy as hp\n",
    "\n",
    "    indices = hp.ang2pix(nside, cat['ra'], cat['dec'], lonlat=True)\n",
    "    idx, counts = np.unique(indices, return_counts=True)\n",
    "    \n",
    "    # Take the 25% of the median value of the non-zero counts/pixel\n",
    "    threshold_counts = threshold * np.median(counts)\n",
    "\n",
    "    if verbose:\n",
    "        print(f'Median {np.median(counts)} objects/pixel')\n",
    "        print(f'Only count pixels with more than {threshold_counts} objects')\n",
    "\n",
    "    significant_pixels, = np.where(counts > threshold_counts)\n",
    "    area_pixel = hp.nside2pixarea(nside, degrees=True) * u.deg**2\n",
    "\n",
    "    if verbose:\n",
    "        print(f'Pixel size ~ {hp.nside2resol(nside, arcmin=True) * u.arcmin:0.2g}')\n",
    "        print(f'nside: {nside}, area/pixel: {area_pixel:0.4g}, num significant pixels: {len(significant_pixels)}')\n",
    "\n",
    "    area = len(significant_pixels) * area_pixel\n",
    "\n",
    "    if verbose:\n",
    "        print(f'Total area: {area:0.7g}')\n",
    "    \n",
    "    return area"
   ]
  },
  {
   "cell_type": "code",
   "execution_count": null,
   "metadata": {},
   "outputs": [],
   "source": [
    "area_dc2 = calculate_area(galaxies)\n",
    "print(f'DC2 Run 2.1i area: {area_dc2:0.2f}')"
   ]
  },
  {
   "cell_type": "code",
   "execution_count": null,
   "metadata": {},
   "outputs": [],
   "source": [
    "area_hsc = calculate_area(hsc)\n",
    "print(f'HSC XMM area: {area_hsc:0.2f}')"
   ]
  },
  {
   "cell_type": "code",
   "execution_count": null,
   "metadata": {},
   "outputs": [],
   "source": [
    "area_cosmoDC2 = calculate_area(cosmoDC2)\n",
    "print(f'CosmoDC2 area: {area_cosmoDC2:0.2f}')"
   ]
  },
  {
   "cell_type": "code",
   "execution_count": null,
   "metadata": {},
   "outputs": [],
   "source": [
    "num_den_dc2 = sampling_factor * len(galaxies) / area_dc2\n",
    "num_den_cosmoDC2 = sampling_factor * len(cosmoDC2) / area_cosmoDC2\n",
    "num_den_hsc = len(hsc) / area_hsc\n",
    "\n",
    "# Change default expression to 1/arcmin**2\n",
    "num_den_dc2 = num_den_dc2.to(1/u.arcmin**2)\n",
    "num_den_hsc = num_den_hsc.to(1/u.arcmin**2)\n",
    "num_den_cosmoDC2 = num_den_cosmoDC2.to(1/u.arcmin**2)"
   ]
  },
  {
   "cell_type": "code",
   "execution_count": null,
   "metadata": {},
   "outputs": [],
   "source": [
    "# Now we plot the *normalized* i-band magnitude distributions in Run 2.1i and HSC.\n",
    "# They are normalized so we can focus on the shape of the distribution.\n",
    "# However, the legend indicates the total number density of galaxies selected with our magnitude cut,\n",
    "# which lets us find issues with the overall number density matching (or not).\n",
    "\n",
    "plt.figure(figsize=(8, 8))\n",
    "nbins = 50\n",
    "mag_range = [20, max_mag_i]\n",
    "data_to_plot = [galaxies['mag_i'], cosmoDC2['mag_i'], hsc['mag_i']]\n",
    "labels_to_plot = [\n",
    "    f'Run 2.1i object catalog: {num_den_dc2.value:.1f} {num_den_dc2.unit:fits}',\n",
    "    f'Cosmo DC2 truth: {num_den_cosmoDC2.value:.1f} {num_den_cosmoDC2.unit:fits}',\n",
    "    f'HSC XMM field: {num_den_hsc.value:.1f} {num_den_hsc.unit:fits}',\n",
    "]\n",
    "plt.hist(data_to_plot, nbins, range=mag_range, histtype='step',\n",
    "         label=labels_to_plot, linewidth=2.0, density=True)\n",
    "    \n",
    "plt.legend(loc='upper left')\n",
    "plt.xlabel('i-band magnitude')\n",
    "plt.ylabel('normalized distribution')\n",
    "plt.yscale('log')\n",
    "plt.savefig('dc2_object_run2.1i_cosmoDC2_HSC_galaxy_counts.pdf')"
   ]
  },
  {
   "cell_type": "markdown",
   "metadata": {},
   "source": [
    "## Blendedness\n",
    "\n",
    "Blendedness is a measure of how much the identified flux from an object is affected by overlapping from other objects.\n",
    "\n",
    "See Bosch et al., 2018, Section 4.9.11."
   ]
  },
  {
   "cell_type": "code",
   "execution_count": null,
   "metadata": {},
   "outputs": [],
   "source": [
    "w, = np.where(np.isfinite(good['blendedness']))"
   ]
  },
  {
   "cell_type": "code",
   "execution_count": null,
   "metadata": {},
   "outputs": [],
   "source": [
    "print(f'{100 * len(w)/len(good):0.1f}% of objects have finite blendedness measurements.')"
   ]
  },
  {
   "cell_type": "markdown",
   "metadata": {},
   "source": [
    "Question for futher study:  What happened to yield non-finite blendedness measurements?"
   ]
  },
  {
   "cell_type": "code",
   "execution_count": null,
   "metadata": {},
   "outputs": [],
   "source": [
    "good_blendedness = good[np.isfinite(good['blendedness'])]\n",
    "plt.hexbin(good_blendedness['mag_i'], good_blendedness['blendedness'],\n",
    "          bins='log');\n",
    "plt.xlabel('i')\n",
    "plt.ylabel('blendedness');\n",
    "plt.colorbar(label='objects / bin');"
   ]
  },
  {
   "cell_type": "markdown",
   "metadata": {},
   "source": [
    "### Extendedness\n",
    " \n",
    "Extendedness is essentially star/galaxy separation based purely on morphology in the main detected reference band (which is `i` for most Objects).\n",
    "\n",
    "Extendedness a binary property in the catalog, so it's either 0 or 1."
   ]
  },
  {
   "cell_type": "code",
   "execution_count": null,
   "metadata": {},
   "outputs": [],
   "source": [
    "plt.hexbin(good['mag_i'], good['extendedness'],\n",
    "           extent=(14, 26, -0.1, +1.1),\n",
    "           bins='log');\n",
    "plt.xlabel('i')\n",
    "plt.ylabel('extendedness');\n",
    "plt.ylim(-0.1, 1.1)\n",
    "plt.text(19, 0.1, \"STARS\", fontdict={'fontsize': 24}, color='orange')\n",
    "plt.text(19, 0.8, \"GALAXIES\", fontdict={'fontsize': 24}, color='orange')\n",
    "plt.colorbar(label='objects / bin');"
   ]
  },
  {
   "cell_type": "markdown",
   "metadata": {},
   "source": [
    "While the first plot above made extendedness look like a simple binary property, the truth is more complicated.\n",
    "\n",
    "As galaxies get smaller in angular size and lower in signal-to-noise ratio, it becomes harder to clearly distinguish stars from galaxies.\n",
    "\n",
    "Extendedness is based off of the difference between the point-source model and extended model brightness.  Specifically objects with `mag_psf - mag_cmodel > 0.164` mag are labeled with `extendedness=1` (i.e., galaxies).\n",
    "\n",
    "See Bosch et al. 2018, Section 4.9.10 for details."
   ]
  },
  {
   "cell_type": "code",
   "execution_count": null,
   "metadata": {},
   "outputs": [],
   "source": [
    "plt.axvline(0.0164, 0.4, 1, color='red', linestyle='--',\n",
    "           label=r'0.0164 $\\Delta$mag cut')  # psf-cModel mag cut from Bosch et al. 2018.\n",
    "\n",
    "plt.hist([good['mag_i'] - good['mag_i_cModel'],\n",
    "         stars['mag_i'] - stars['mag_i_cModel'],\n",
    "         galaxies['mag_i'] - galaxies['mag_i_cModel']],\n",
    "         label=['All', 'Stars', 'Galaxies'],\n",
    "         bins=np.linspace(-0.1, 0.1, 201),\n",
    "         histtype='step')\n",
    "\n",
    "plt.legend()\n",
    "plt.xlabel('mag_i[_psf] - mag_i_CModel');\n",
    "plt.ylabel('objects / bin')\n",
    "\n",
    "plt.text(-0.080, 100, \"STARS\", fontdict={'fontsize': 24}, color='orange')\n",
    "plt.text(+0.025, 100, \"GALAXIES\", fontdict={'fontsize': 24}, color='orange');"
   ]
  },
  {
   "cell_type": "code",
   "execution_count": null,
   "metadata": {},
   "outputs": [],
   "source": [
    "plt.hexbin(good['mag_i'], good['mag_i']-good['mag_i_cModel'],\n",
    "           extent=(14, 26, -0.75, +2.5),\n",
    "           bins='log');\n",
    "plt.xlabel('i')\n",
    "plt.ylabel('mag_i[_psf] - mag_i_CModel');\n",
    "plt.text(14.5, -0.5, \"STARS\", fontdict={'fontsize': 24}, color='orange')\n",
    "plt.text(18, 2, \"GALAXIES\", fontdict={'fontsize': 24}, color='orange')\n",
    "plt.colorbar(label='objects / bin');\n",
    "\n",
    "plt.axhline(0.0164, 0.92, 1.0, color='red', linestyle='--')\n",
    "plt.axhline(0.0164, 0, 0.1, color='red', linestyle='--',\n",
    "            label=r'0.0164 $\\Delta$mag cut');  # psf-cModel mag cut from Bosch et al. 2018."
   ]
  },
  {
   "cell_type": "markdown",
   "metadata": {},
   "source": [
    "We can zoom in a little to see how the fixed 0.0164 mag cut works at the low SNR limit.  Specifically at mag 24, we're starting to run out of stars and most things are galaxies.  But that's a population prior, it's not something visible using just morphology information.\n",
    "\n",
    "You can see the effect of lower SNR measurements as the horizontal line at $\\Delta$mag=0 puff up due to increased uncertainties."
   ]
  },
  {
   "cell_type": "code",
   "execution_count": null,
   "metadata": {},
   "outputs": [],
   "source": [
    "plt.hexbin(good['mag_i'], good['mag_i']-good['mag_i_cModel'],\n",
    "           extent=(22, 25.5, -0.1, +0.5),\n",
    "           bins='log');\n",
    "plt.xlabel('i')\n",
    "plt.ylabel('mag_i[_psf] - mag_i_CModel');\n",
    "plt.colorbar(label='objects / bin');\n",
    "\n",
    "plt.axhline(0.0164, 0, 1, color='red', linestyle='--',\n",
    "            label=r'0.0164 $\\Delta$mag cut');  # psf-cModel mag cut from Bosch et al. 2018."
   ]
  },
  {
   "cell_type": "markdown",
   "metadata": {},
   "source": [
    "If we add in color information, "
   ]
  },
  {
   "cell_type": "code",
   "execution_count": null,
   "metadata": {},
   "outputs": [],
   "source": [
    "plt.hexbin(good['mag_g'] - good['mag_r'], good['mag_i']-good['mag_i_cModel'],\n",
    "           extent=(-2, +3, -0.5, +5),\n",
    "           bins='log');\n",
    "plt.xlabel('g-r')\n",
    "plt.ylabel('mag_i[_psf] - mag_i_CModel');\n",
    "# plt.text(14.5, 0.3, \"STARS\", fontdict={'fontsize': 24}, color='orange')\n",
    "# plt.text(18, 2, \"GALAXIES\", fontdict={'fontsize': 24}, color='orange')\n",
    "plt.colorbar(label='objects / bin');"
   ]
  },
  {
   "cell_type": "code",
   "execution_count": null,
   "metadata": {},
   "outputs": [],
   "source": [
    "plt.hist([galaxies['mag_g'] - galaxies['mag_r'], stars['mag_g'] - stars['mag_r']],\n",
    "        label=['galaxies', 'stars'], histtype='step',\n",
    "        bins=np.linspace(-5, +5, 51));\n",
    "plt.xlabel('g-r')\n",
    "plt.ylabel('objects / bin')"
   ]
  },
  {
   "cell_type": "code",
   "execution_count": null,
   "metadata": {},
   "outputs": [],
   "source": [
    "plt.hexbin(stars['mag_g'] - stars['mag_r'], stars['mag_i'] - stars['mag_i_cModel'],\n",
    "           extent=(-2, +3, -0.5, +5),\n",
    "           bins='log');\n",
    "plt.xlabel('g-r')\n",
    "plt.ylabel('mag_i[_psf] - mag_i_CModel');\n",
    "# plt.text(14.5, 0.3, \"STARS\", fontdict={'fontsize': 24}, color='orange')\n",
    "# plt.text(18, 2, \"GALAXIES\", fontdict={'fontsize': 24}, color='orange')\n",
    "plt.colorbar(label='objects / bin');"
   ]
  },
  {
   "cell_type": "markdown",
   "metadata": {},
   "source": [
    "## Shape Parameters\n",
    "\n",
    "Ixx, Iyy, Ixy"
   ]
  },
  {
   "cell_type": "code",
   "execution_count": null,
   "metadata": {},
   "outputs": [],
   "source": [
    "def plot_shape(filt, ax=None, legend=True):\n",
    "    if not ax:\n",
    "        ax = fig.gca()\n",
    "\n",
    "    names = ['all', 'star', 'galaxy']\n",
    "    colors = ['blue', 'orange', 'green']\n",
    "    hist_kwargs = {'color': colors, 'log': True,\n",
    "             'bins': np.logspace(-1, 1.5, 100),\n",
    "             'range': (0, 50),\n",
    "             'histtype': 'step'}\n",
    "    for prefix, ls in (('Ixx', '-'), ('Iyy', '--'), ('Ixy', ':')):\n",
    "        field = f'{prefix}_{filt}'\n",
    "        labels = [f'{prefix} {name}' for name in names]\n",
    "        ax.hist([good[field], stars[field], galaxies[field]],\n",
    "                label=labels,\n",
    "                linestyle=ls,\n",
    "                **hist_kwargs)\n",
    "\n",
    "    ax.set_ylim(100, ax.get_ylim()[1])\n",
    "    \n",
    "    ax.set_xlabel(f'{filt}-band Moments: Ixx, Iyy, Ixy [pixels^2]')\n",
    "    ax.set_ylabel('objects / bin')\n",
    "    if legend:\n",
    "        ax.legend()"
   ]
  },
  {
   "cell_type": "code",
   "execution_count": null,
   "metadata": {},
   "outputs": [],
   "source": [
    "fig, axes = plt.subplots(2, 3, figsize=(12, 6))\n",
    "legend = True\n",
    "for ax, filt in zip(axes.flat, filters):\n",
    "    plot_shape(filt, ax=ax, legend=legend)\n",
    "    legend = False"
   ]
  },
  {
   "cell_type": "markdown",
   "metadata": {},
   "source": [
    "The stars (orange) are concentrated at low values of the source moments.\n",
    "\n",
    "Would be interesting to\n",
    "1. Look by magnitude or SNR to undersatnd the longer tail.  Are these galaxies mis-classified as stars, or are these noise sources?\n",
    "2. Distribution of ellipticity (see validate_drp to type this right)"
   ]
  },
  {
   "cell_type": "code",
   "execution_count": null,
   "metadata": {},
   "outputs": [],
   "source": [
    "def plot_ellipticity(good, stars, galaxies, filt, ax=None, legend=True):\n",
    "    if not ax:\n",
    "        ax = fig.gca()\n",
    "\n",
    "    names = ['all', 'star', 'galaxy']\n",
    "    colors = ['blue', 'orange', 'green']\n",
    "    hist_kwargs = {'color': colors, 'log': True,\n",
    "             'bins': np.logspace(-1, 1.5, 100),\n",
    "             'range': (0, 5),\n",
    "             'histtype': 'step'}\n",
    "    for prefix, ls in (('e', '-'), ('e1', '--'), ('e2', ':')):\n",
    "        field = f'{prefix}_{filt}'\n",
    "        labels = [f'{prefix} {name}' for name in names]\n",
    "        ax.hist([good[field], stars[field], galaxies[field]],\n",
    "                label=labels,\n",
    "                linestyle=ls,\n",
    "                **hist_kwargs)\n",
    "\n",
    "    ax.set_xlim(0, 20)\n",
    "    ax.set_ylim(10, ax.get_ylim()[1])\n",
    "    \n",
    "    ax.set_xlabel(f'{filt}-band ellipticity')\n",
    "    ax.set_ylabel('objects / bin')\n",
    "    if legend:\n",
    "        ax.legend()"
   ]
  },
  {
   "cell_type": "code",
   "execution_count": null,
   "metadata": {},
   "outputs": [],
   "source": [
    "fig, axes = plt.subplots(2, 3, figsize=(12, 6))\n",
    "legend = True\n",
    "for ax, filt in zip(axes.flat, filters):\n",
    "    plot_ellipticity(good, stars, galaxies, filt, ax=ax, legend=legend)\n",
    "    legend = False"
   ]
  },
  {
   "cell_type": "markdown",
   "metadata": {},
   "source": [
    "### FWHM of the PSF\n",
    "At the location of the catalog objects.\n",
    "\n",
    "The Object Table stores the shape parameters of the PSF model as evaluated at the location of the object.\n",
    "\n",
    "This is not the same as, but is certainly related to, the distribution of effective seeing in the individual images that made up the coadd."
   ]
  },
  {
   "cell_type": "code",
   "execution_count": null,
   "metadata": {},
   "outputs": [],
   "source": [
    "def plot_psf_fwhm(filters=filters,\n",
    "                 colors=('purple', 'blue', 'green', 'orange', 'red', 'brown')):\n",
    "    for filt, color in zip(filters, colors):\n",
    "        psf_fwhm = np.array(good[f'psf_fwhm_{filt}'])\n",
    "        w, = np.where(np.isfinite(psf_fwhm))\n",
    "        sns.distplot(psf_fwhm[w], label=filt, color=color)\n",
    "    plt.xlabel('PSF FWHM [arcsec]')\n",
    "    plt.ylabel('normalized object density')\n",
    "    plt.legend()"
   ]
  },
  {
   "cell_type": "code",
   "execution_count": null,
   "metadata": {},
   "outputs": [],
   "source": [
    "plot_psf_fwhm()"
   ]
  },
  {
   "cell_type": "markdown",
   "metadata": {},
   "source": [
    "We see here that the model PSF FWHM from the coadd achieves the best seeing in r and i.  Providing the best seeing in r and i is one of the goals of the observation planning, so this part looks successful."
   ]
  },
  {
   "cell_type": "markdown",
   "metadata": {},
   "source": [
    "Questions for further investigation:\n",
    "1. How do the above distributions of PSF FWHM compare to the effective per-visit seeing?\n",
    "2. How do the above distributions of PSF FWHM compare to the OpSim simulation, minion_1016, used to generated DC2 Run 2.1i?\n",
    "3. Are the model PSFs from the coadd reasonable?  The coadds are generated by combining the individual images -- that may not result in PSFs that coherently make sense across a given region of the coadd, particularly as more and more objects are intersected by CCD boundaries and gaps."
   ]
  },
  {
   "cell_type": "code",
   "execution_count": null,
   "metadata": {},
   "outputs": [],
   "source": []
  }
 ],
 "metadata": {
  "kernelspec": {
   "display_name": "desc-python",
   "language": "python",
   "name": "desc-python"
  },
  "language_info": {
   "codemirror_mode": {
    "name": "ipython",
    "version": 3
   },
   "file_extension": ".py",
   "mimetype": "text/x-python",
   "name": "python",
   "nbconvert_exporter": "python",
   "pygments_lexer": "ipython3",
   "version": "3.7.6"
  }
 },
 "nbformat": 4,
 "nbformat_minor": 4
}

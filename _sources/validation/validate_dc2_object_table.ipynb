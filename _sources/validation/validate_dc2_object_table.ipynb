{
 "cells": [
  {
   "cell_type": "markdown",
   "metadata": {},
   "source": [
    "# Inspection of DC2 Object Table \n",
    "### Michael Wood-Vasey (@wmwv)\n",
    "### Last Verified to Run: 2019-05-08\n",
    "\n",
    "This notebook is currently inspection.  To grow to be validation it should include goals for the visualizations and numerical thresholds for specific quantities.\n",
    "\n",
    "1. Make density plots (e.g., `hexbin`, `hist2d`, `datashader`) of\n",
    "    - ra, dec\n",
    "    - u-g, g-r\n",
    "    - r-i, g-r\n",
    "    - i-z, g-r\n",
    "    - z-y, g-r\n",
    "2. Make 1D density plots (e.g., `hist`, kernel-density-estimation)\n",
    "    - N({ugrizy})\n",
    "    - Shape parameters"
   ]
  },
  {
   "cell_type": "code",
   "execution_count": null,
   "metadata": {},
   "outputs": [],
   "source": [
    "import os\n",
    "\n",
    "import numpy as np\n",
    "from numpy.lib import scimath as SM\n",
    "\n",
    "import pandas as pd\n",
    "\n",
    "import GCRCatalogs"
   ]
  },
  {
   "cell_type": "code",
   "execution_count": null,
   "metadata": {},
   "outputs": [],
   "source": [
    "%matplotlib inline\n",
    "\n",
    "import matplotlib.pyplot as plt\n",
    "from matplotlib.patches import Polygon\n",
    "\n",
    "import seaborn as sns"
   ]
  },
  {
   "cell_type": "code",
   "execution_count": null,
   "metadata": {},
   "outputs": [],
   "source": [
    "# cmap = 'Oranges'\n",
    "cmap = 'viridis_r'"
   ]
  },
  {
   "cell_type": "markdown",
   "metadata": {},
   "source": [
    "## Load Data"
   ]
  },
  {
   "cell_type": "code",
   "execution_count": null,
   "metadata": {},
   "outputs": [],
   "source": [
    "catalog_name = 'dc2_object_run1.2i'"
   ]
  },
  {
   "cell_type": "code",
   "execution_count": null,
   "metadata": {},
   "outputs": [],
   "source": [
    "filters = ('u', 'g', 'r', 'i', 'z', 'y')"
   ]
  },
  {
   "cell_type": "code",
   "execution_count": null,
   "metadata": {},
   "outputs": [],
   "source": [
    "cat = GCRCatalogs.load_catalog(catalog_name)"
   ]
  },
  {
   "cell_type": "code",
   "execution_count": null,
   "metadata": {},
   "outputs": [],
   "source": [
    "# Look up the base directory from the GCR Catalogs config\n",
    "dpdd_parquet_dir = GCRCatalogs.get_catalog_config(catalog_name)['base_dir']\n",
    "dpdd_parquet_file = 'dpdd_{}.parquet'.format(catalog_name)\n",
    "\n",
    "dpdd_parquet_file = os.path.join(dpdd_parquet_dir, dpdd_parquet_file)"
   ]
  },
  {
   "cell_type": "code",
   "execution_count": null,
   "metadata": {},
   "outputs": [],
   "source": [
    "df = pd.read_parquet(dpdd_parquet_file)"
   ]
  },
  {
   "cell_type": "markdown",
   "metadata": {},
   "source": [
    "## Object Density in RA, Dec"
   ]
  },
  {
   "cell_type": "markdown",
   "metadata": {},
   "source": [
    "DC2 Run 1.x Main region\n",
    "https://docs.google.com/document/d/1aQOPL9smeDlhtlwDrp39Zuu2q8DKivDaHLQX3_omwOI/view\n",
    "\n",
    "| Location        | RA (degrees) | Dec (degrees) |\n",
    "|:--------------- |:------------ |:------------- |\n",
    "Center            | 55.064       | -29.783\n",
    "North-East Corner | 57.87        | -27.25\n",
    "North-West Corner | 52.25        | -27.25\n",
    "South-West Corner | 52.11        | -32.25\n",
    "South-East Corner | 58.02        | -32.25"
   ]
  },
  {
   "cell_type": "code",
   "execution_count": null,
   "metadata": {},
   "outputs": [],
   "source": [
    "dc2_run1x_region = [[57.87, -27.25], [52.25, -27.25], [52.11, -32.25], [58.02, -32.25]]"
   ]
  },
  {
   "cell_type": "code",
   "execution_count": null,
   "metadata": {},
   "outputs": [],
   "source": [
    "region = Polygon(dc2_run1x_region)"
   ]
  },
  {
   "cell_type": "code",
   "execution_count": null,
   "metadata": {},
   "outputs": [],
   "source": [
    "fig = plt.figure(figsize=(8, 8))\n",
    "ax = plt.gca()\n",
    "ax.set_aspect(1)\n",
    "\n",
    "plt.hist2d(df['ra'], df['dec'], bins=100)\n",
    "plt.xlim(plt.xlim()[::-1])  # Flip to East left\n",
    "plt.xlabel('RA [deg]')\n",
    "plt.ylabel('Dec [deg]')\n",
    "plt.colorbar(shrink=0.5, label='objects / bin')\n",
    "\n",
    "region = Polygon(dc2_run1x_region, color='red', fill=False)\n",
    "ax.add_patch(region);"
   ]
  },
  {
   "cell_type": "code",
   "execution_count": null,
   "metadata": {},
   "outputs": [],
   "source": [
    "# Select good detections:\n",
    "#  1. Marked as 'good' in catalog flags.\n",
    "#  2. SNR in given band > threshold\n",
    "#  3. In defined simulation range\n",
    "snr_threshold = 5\n",
    "snr_filter = 'i'\n",
    "snr = df['psFlux_%s' % snr_filter] / df['psFluxErr_%s' % snr_filter]"
   ]
  },
  {
   "cell_type": "code",
   "execution_count": null,
   "metadata": {},
   "outputs": [],
   "source": [
    "def ellipticity(I_xx, I_xy, I_yy):\n",
    "    \"\"\"Calculate ellipticity from second moments.\n",
    "\n",
    "    Parameters\n",
    "    ----------\n",
    "    I_xx : float or numpy.array\n",
    "    I_xy : float or numpy.array\n",
    "    I_yy : float or numpy.array\n",
    "\n",
    "    Returns\n",
    "    -------\n",
    "    e, e1, e2 : (float, float, float) or (numpy.array, numpy.array, numpy.array)\n",
    "        Complex ellipticity, real component, imaginary component\n",
    "        \n",
    "    Copied from https://github.com/lsst/validate_drp/python/lsst/validate/drp/util.py\n",
    "    \"\"\"\n",
    "    e = (I_xx - I_yy + 2j*I_xy) / (I_xx + I_yy + 2*SM.sqrt(I_xx*I_yy - I_xy*2))\n",
    "    e1 = np.real(e)\n",
    "    e2 = np.imag(e)\n",
    "    return e, e1, e2"
   ]
  },
  {
   "cell_type": "code",
   "execution_count": null,
   "metadata": {},
   "outputs": [],
   "source": [
    "for filt in filters:\n",
    "    df['e_{}'.format(filt)], df['e1_{}'.format(filt)], df['e2_{}'.format(filt)] = \\\n",
    "    ellipticity(df['Ixx_{}'.format(filt)], df['Ixy_{}'.format(filt)], df['Iyy_{}'.format(filt)])"
   ]
  },
  {
   "cell_type": "code",
   "execution_count": null,
   "metadata": {},
   "outputs": [],
   "source": [
    "def inside_trapezoid(corners, ra, dec):\n",
    "    # This is a slightly tedious way of defining a symmetric trapezoid\n",
    "    # Could consider using geopandas, but that adds dependency\n",
    "    dec_size = corners[1][1] - corners[2][1] # deg\n",
    "\n",
    "    ra_left_side_delta = corners[1][0] - corners[2][0]\n",
    "    ra_right_side_delta = corners[0][0] - corners[3][0]\n",
    "    ra_left_side_slope = ra_left_side_delta / dec_size\n",
    "    ra_right_side_slope = ra_right_side_delta / dec_size\n",
    "\n",
    "    inside_ra = (corners[2][0] + ra_left_side_slope * (df['dec'] - corners[2][1]) < df['ra']) & \\\n",
    "                (df['ra'] < corners[3][0] + ra_right_side_slope * (df['dec'] - corners[3][1]))\n",
    "    inside_dec = (corners[2][1] < df['dec']) & (df['dec'] < corners[1][1])\n",
    "    return inside_ra & inside_dec"
   ]
  },
  {
   "cell_type": "code",
   "execution_count": null,
   "metadata": {},
   "outputs": [],
   "source": [
    "inside = inside_trapezoid(dc2_run1x_region, df['ra'], df['dec'])\n",
    "good = df[(df['good']) & (snr > snr_threshold) & inside]"
   ]
  },
  {
   "cell_type": "code",
   "execution_count": null,
   "metadata": {},
   "outputs": [],
   "source": [
    "stars = good[good['extendedness'] == 0]\n",
    "galaxies = good[good['extendedness'] > 0]"
   ]
  },
  {
   "cell_type": "code",
   "execution_count": null,
   "metadata": {},
   "outputs": [],
   "source": [
    "print(len(df), len(good), len(stars), len(galaxies))"
   ]
  },
  {
   "cell_type": "code",
   "execution_count": null,
   "metadata": {},
   "outputs": [],
   "source": [
    "def plot_ra_dec(cat):\n",
    "    \"\"\"We're just doing this on a rectilearn grid.\n",
    "    We should do a projection, of course, but that distortion is minor in this space.\"\"\"\n",
    "    fig = plt.figure(figsize=(8, 8))\n",
    "    ax = plt.gca()\n",
    "    ax.set_aspect(1)\n",
    "\n",
    "    plt.hist2d(cat['ra'], cat['dec'], bins=100)\n",
    "    plt.xlim(plt.xlim()[::-1])  # Flip to East left\n",
    "    plt.xlabel('RA [deg]')\n",
    "    plt.ylabel('Dec [deg]')\n",
    "    plt.colorbar(shrink=0.5, label='objects / bin')\n",
    "\n",
    "    region = Polygon(dc2_run1x_region, color='red', fill=False)\n",
    "    ax.add_patch(region);"
   ]
  },
  {
   "cell_type": "code",
   "execution_count": null,
   "metadata": {},
   "outputs": [],
   "source": [
    "plot_ra_dec(good)"
   ]
  },
  {
   "cell_type": "markdown",
   "metadata": {},
   "source": [
    "## Color-Color Diagrams and the Stellar Locus"
   ]
  },
  {
   "cell_type": "code",
   "execution_count": null,
   "metadata": {},
   "outputs": [],
   "source": [
    "# We use the assets in `tutorials/assets' for the stellar-locus because it's the same file.\n",
    "datafile_davenport = '../tutorials/assets/Davenport_2014_MNRAS_440_3430_table1.txt'\n",
    "\n",
    "def get_stellar_locus_davenport(color1='gmr', color2='rmi',\n",
    "                                datafile=datafile_davenport):\n",
    "    data = pd.read_table(datafile, sep='\\s+', header=1)\n",
    "    return data[color1], data[color2]\n",
    "    \n",
    "    \n",
    "def plot_stellar_locus(color1='gmr', color2='rmi',\n",
    "                       color='red', linestyle='--', linewidth=2.5,\n",
    "                       ax=None):\n",
    "    model_gmr, model_rmi = get_stellar_locus_davenport(color1, color2)\n",
    "    plot_kwargs = {'linestyle': linestyle, 'linewidth': linewidth, 'color': color,\n",
    "                   'scalex': False, 'scaley': False}\n",
    "    if not ax:\n",
    "        ax = fig.gca()\n",
    "\n",
    "    ax.plot(model_gmr, model_rmi, **plot_kwargs)"
   ]
  },
  {
   "cell_type": "code",
   "execution_count": null,
   "metadata": {},
   "outputs": [],
   "source": [
    "def plot_color_color(z, color1, color2, \n",
    "                     range1=(-1, +2), range2=(-1, +2), bins=31,\n",
    "                     ax=None, figsize=(4,4)):\n",
    "    \"\"\"Plot a color-color diagram.  Overlay stellar locus\"\"\"\n",
    "    band1, band2 = color1[0], color1[-1]\n",
    "    band3, band4 = color2[0], color2[-1]\n",
    "    H, xedges, yedges = np.histogram2d(\n",
    "        z['mag_%s' % band1] - z['mag_%s' % band2],\n",
    "        z['mag_%s' % band3] - z['mag_%s' % band4],\n",
    "        range=(range1, range2), bins=bins)\n",
    "        \n",
    "    zi = H.T\n",
    "    xi = (xedges[1:] + xedges[:-1])/2\n",
    "    yi = (yedges[1:] + yedges[:-1])/2\n",
    "\n",
    "    if not ax:\n",
    "        fig = plt.figure(figsize=figsize)\n",
    "        ax = fig.gca()\n",
    "\n",
    "    ax.pcolormesh(xi, yi, zi, cmap=cmap)\n",
    "    ax.contour(xi, yi, zi)\n",
    "    ax.set_xlabel('%s-%s' % (band1, band2))\n",
    "    ax.set_ylabel('%s-%s' % (band3, band4))\n",
    "\n",
    "    try:\n",
    "        plot_stellar_locus(color1, color2, ax=ax)\n",
    "    except KeyError as e:\n",
    "        print(\"Couldn't plot Stellar Locus model for %s, %s\" % (color1, color2))"
   ]
  },
  {
   "cell_type": "code",
   "execution_count": null,
   "metadata": {},
   "outputs": [],
   "source": [
    "def plot_four_color_color(cat):\n",
    "    fig, axes = plt.subplots(2, 2, figsize=(8, 6))\n",
    "\n",
    "    colors = ['umg', 'rmi', 'imz', 'zmy']\n",
    "    ref_color = 'gmr'\n",
    "    for ax, color in zip(axes.flat, colors):\n",
    "        plot_color_color(cat, ref_color, color, ax=ax)"
   ]
  },
  {
   "cell_type": "code",
   "execution_count": null,
   "metadata": {},
   "outputs": [],
   "source": [
    "plot_four_color_color(good)"
   ]
  },
  {
   "cell_type": "code",
   "execution_count": null,
   "metadata": {},
   "outputs": [],
   "source": [
    "plot_four_color_color(stars)"
   ]
  },
  {
   "cell_type": "code",
   "execution_count": null,
   "metadata": {},
   "outputs": [],
   "source": [
    "plot_four_color_color(galaxies)"
   ]
  },
  {
   "cell_type": "markdown",
   "metadata": {},
   "source": [
    "Clearly one doesn't expect the galaxies to follow the stellar locus.  The lines above are include to more easily guide the ey between the stars-only and the galaxies-only plots."
   ]
  },
  {
   "cell_type": "markdown",
   "metadata": {},
   "source": [
    "## 1D Density Plots"
   ]
  },
  {
   "cell_type": "code",
   "execution_count": null,
   "metadata": {},
   "outputs": [],
   "source": [
    "def plot_mag(filt, ax=None):\n",
    "    if ax is None:\n",
    "        ax = fig.gca()\n",
    "    mag = 'mag_%s' % filt\n",
    "    ax.hist([good[mag], stars[mag], galaxies[mag]],\n",
    "             label=['all', 'star', 'galaxy'],\n",
    "             range=(16, 30),\n",
    "             bins=np.linspace(16, 30, 100),\n",
    "             histtype='step')\n",
    "    ax.set_xlabel(filt)\n",
    "    ax.set_ylabel('objects / bin')\n",
    "    ax.legend(loc='upper left')"
   ]
  },
  {
   "cell_type": "code",
   "execution_count": null,
   "metadata": {},
   "outputs": [],
   "source": [
    "fig, axes = plt.subplots(2, 3, figsize=(12, 6))\n",
    "for ax, filt in zip(axes.flat, filters):\n",
    "    plot_mag(filt, ax=ax)"
   ]
  },
  {
   "cell_type": "markdown",
   "metadata": {},
   "source": [
    "The sharp cut in i-band is because that was the reference band for most detections.  It was r then i.  The u-band points extend to 30th because most of them are non-detections.\n",
    "\n",
    "But hmmm... what is the extra extended shelf in the i-band histogram from?\n",
    "Let's select those points and plot them in space and color."
   ]
  },
  {
   "cell_type": "code",
   "execution_count": null,
   "metadata": {},
   "outputs": [],
   "source": [
    "mag_threshold = 26.5\n",
    "faint_bump_rows = good['mag_i'] > mag_threshold\n",
    "faint_bump = good[faint_bump_rows]"
   ]
  },
  {
   "cell_type": "code",
   "execution_count": null,
   "metadata": {},
   "outputs": [],
   "source": [
    "plot_color_color(faint_bump, 'gmr', 'rmi')"
   ]
  },
  {
   "cell_type": "code",
   "execution_count": null,
   "metadata": {},
   "outputs": [],
   "source": [
    "plot_ra_dec(faint_bump)\n",
    "plt.xlim(58.1, 52.0)\n",
    "plt.ylim(-32.3, -27.2)"
   ]
  },
  {
   "cell_type": "markdown",
   "metadata": {},
   "source": [
    "Hmmm... so they're from something in the UDF fields of view.  Naively this region could just be a bit deeper, but the color-color distribution doesn't make any sense."
   ]
  },
  {
   "cell_type": "markdown",
   "metadata": {},
   "source": [
    "## Blendedness and Extendedness"
   ]
  },
  {
   "cell_type": "code",
   "execution_count": null,
   "metadata": {},
   "outputs": [],
   "source": [
    "w, = np.where(np.isfinite(good['blendedness']))"
   ]
  },
  {
   "cell_type": "code",
   "execution_count": null,
   "metadata": {},
   "outputs": [],
   "source": [
    "print(len(good['blendedness']))\n",
    "print(len(w))"
   ]
  },
  {
   "cell_type": "code",
   "execution_count": null,
   "metadata": {},
   "outputs": [],
   "source": [
    "good_blendedness = good[np.isfinite(good['blendedness'])]\n",
    "plt.hexbin(good_blendedness['mag_i'], good_blendedness['blendedness'],\n",
    "          bins='log');\n",
    "plt.xlabel('i')\n",
    "plt.ylabel('blendedness');"
   ]
  },
  {
   "cell_type": "code",
   "execution_count": null,
   "metadata": {},
   "outputs": [],
   "source": [
    "plt.hexbin(good['mag_i'], good['extendedness'],\n",
    "           extent=(14, 28, -0.1, +1.1),\n",
    "           bins='log');\n",
    "plt.xlabel('i')\n",
    "plt.ylabel('extendedness');\n",
    "plt.ylim(-0.1, 1.1)"
   ]
  },
  {
   "cell_type": "markdown",
   "metadata": {},
   "source": [
    "## Shape Parameters\n",
    "Ixx, Iyy, Ixy"
   ]
  },
  {
   "cell_type": "code",
   "execution_count": null,
   "metadata": {},
   "outputs": [],
   "source": [
    "def plot_shape(filt, ax=None, legend=True):\n",
    "    if not ax:\n",
    "        ax = fig.gca()\n",
    "\n",
    "    names = ['all', 'star', 'galaxy']\n",
    "    colors = ['blue', 'orange', 'green']\n",
    "    hist_kwargs = {'color': colors, 'log': True,\n",
    "             'bins': np.logspace(-1, 1.5, 100),\n",
    "             'range': (0, 50),\n",
    "             'histtype': 'step'}\n",
    "    for prefix, ls in (('Ixx', '-'), ('Iyy', '--'), ('Ixy', ':')):\n",
    "        field = '{}_{}'.format(prefix, filt)\n",
    "        labels = ['{} {}'.format(prefix, name) for name in names]\n",
    "        ax.hist([good[field], stars[field], galaxies[field]],\n",
    "                label=labels,\n",
    "                linestyle=ls,\n",
    "                **hist_kwargs)\n",
    "\n",
    "    ax.set_ylim(100, ax.get_ylim()[1])\n",
    "    \n",
    "    ax.set_xlabel('{}-band Moments: Ixx, Iyy, Ixy [pixels^2]'.format(filt))\n",
    "    ax.set_ylabel('objects / bin')\n",
    "    if legend:\n",
    "        ax.legend()"
   ]
  },
  {
   "cell_type": "code",
   "execution_count": null,
   "metadata": {},
   "outputs": [],
   "source": [
    "fig, axes = plt.subplots(2, 3, figsize=(12, 6))\n",
    "legend = True\n",
    "for ax, filt in zip(axes.flat, filters):\n",
    "    plot_shape(filt, ax=ax, legend=legend)\n",
    "    legend = False"
   ]
  },
  {
   "cell_type": "markdown",
   "metadata": {},
   "source": [
    "The stars (orange) are concentrated at low values of the source moments.\n",
    "\n",
    "Would be interesting to\n",
    "1. Look by magnitude or SNR to undersatnd the longer tail.  Are these galaxies mis-classified as stars, or are these noise sources?\n",
    "2. Distribution of ellipticity (see validate_drp to type this right)"
   ]
  },
  {
   "cell_type": "code",
   "execution_count": null,
   "metadata": {},
   "outputs": [],
   "source": [
    "def plot_ellipticity(good, stars, galaxies, filt, ax=None, legend=True):\n",
    "    if not ax:\n",
    "        ax = fig.gca()\n",
    "\n",
    "    names = ['all', 'star', 'galaxy']\n",
    "    colors = ['blue', 'orange', 'green']\n",
    "    hist_kwargs = {'color': colors, 'log': True,\n",
    "             'bins': np.logspace(-1, 1.5, 100),\n",
    "             'range': (0, 5),\n",
    "             'histtype': 'step'}\n",
    "    for prefix, ls in (('e', '-'), ('e1', '--'), ('e2', ':')):\n",
    "        field = '{}_{}'.format(prefix, filt)\n",
    "        labels = ['{} {}'.format(prefix, name) for name in names]\n",
    "        ax.hist([good[field], stars[field], galaxies[field]],\n",
    "                label=labels,\n",
    "                linestyle=ls,\n",
    "                **hist_kwargs)\n",
    "\n",
    "    ax.set_xlim(0, 20)\n",
    "    ax.set_ylim(10, ax.get_ylim()[1])\n",
    "    \n",
    "    ax.set_xlabel('{}-band ellipticity'.format(filt))\n",
    "    ax.set_ylabel('objects / bin')\n",
    "    if legend:\n",
    "        ax.legend()"
   ]
  },
  {
   "cell_type": "code",
   "execution_count": null,
   "metadata": {},
   "outputs": [],
   "source": [
    "fig, axes = plt.subplots(2, 3, figsize=(12, 6))\n",
    "legend = True\n",
    "for ax, filt in zip(axes.flat, filters):\n",
    "    plot_ellipticity(good, stars, galaxies, filt, ax=ax, legend=legend)\n",
    "    legend = False"
   ]
  },
  {
   "cell_type": "markdown",
   "metadata": {},
   "source": [
    "## FWHM"
   ]
  },
  {
   "cell_type": "code",
   "execution_count": null,
   "metadata": {},
   "outputs": [],
   "source": [
    "def plot_psf_fwhm(filters=filters,\n",
    "                 colors=('purple', 'blue', 'green', 'orange', 'red', 'brown')):\n",
    "    for filt, color in zip(filters, colors):\n",
    "        psf_fwhm = np.array(good['psf_fwhm_%s' % filt])\n",
    "        w, = np.where(np.isfinite(psf_fwhm))\n",
    "        sns.distplot(psf_fwhm[w], label=filt, color=color)\n",
    "    plt.xlabel('PSF FWHM [arcsec]')\n",
    "    plt.ylabel('objects density / bin')\n",
    "    plt.legend()"
   ]
  },
  {
   "cell_type": "code",
   "execution_count": null,
   "metadata": {},
   "outputs": [],
   "source": [
    "plot_psf_fwhm()"
   ]
  },
  {
   "cell_type": "code",
   "execution_count": null,
   "metadata": {},
   "outputs": [],
   "source": []
  }
 ],
 "metadata": {
  "kernelspec": {
   "display_name": "desc-python",
   "language": "python",
   "name": "desc-python"
  },
  "language_info": {
   "codemirror_mode": {
    "name": "ipython",
    "version": 3
   },
   "file_extension": ".py",
   "mimetype": "text/x-python",
   "name": "python",
   "nbconvert_exporter": "python",
   "pygments_lexer": "ipython3",
   "version": "3.6.6"
  }
 },
 "nbformat": 4,
 "nbformat_minor": 2
}

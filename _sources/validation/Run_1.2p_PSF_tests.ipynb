{
 "cells": [
  {
   "cell_type": "markdown",
   "metadata": {},
   "source": [
    "# Validation tests on DC2 `calexps` and `src` catalogs"
   ]
  },
  {
   "cell_type": "markdown",
   "metadata": {},
   "source": [
    "Owner: Javier Sánchez \n",
    "Date Last Run: Apr-21-2019\n",
    "\n",
    "This notebook is intended to document part of the ongoing validation work for the DC2 simulations. For more details please check [here](https://confluence.slac.stanford.edu/display/LSSTDESC/DC2+Data+Product+Overview). The code here can be adapted for other DC2 runs."
   ]
  },
  {
   "cell_type": "code",
   "execution_count": null,
   "metadata": {},
   "outputs": [],
   "source": [
    "%pylab inline"
   ]
  },
  {
   "cell_type": "markdown",
   "metadata": {},
   "source": [
    "Temporary fix while GCRCatalogs is updated"
   ]
  },
  {
   "cell_type": "code",
   "execution_count": null,
   "metadata": {},
   "outputs": [],
   "source": [
    "import sys\n",
    "sys.path.insert(0, '/global/homes/j/jsanch87/gcr-catalogs/')\n",
    "import GCRCatalogs"
   ]
  },
  {
   "cell_type": "code",
   "execution_count": null,
   "metadata": {},
   "outputs": [],
   "source": [
    "import GCR"
   ]
  },
  {
   "cell_type": "code",
   "execution_count": null,
   "metadata": {},
   "outputs": [],
   "source": [
    "from GCRCatalogs.butler_interface import SingleVisitCatalog"
   ]
  },
  {
   "cell_type": "code",
   "execution_count": null,
   "metadata": {},
   "outputs": [],
   "source": [
    "import lsst.daf.persistence\n",
    "from scipy.stats import binned_statistic"
   ]
  },
  {
   "cell_type": "code",
   "execution_count": null,
   "metadata": {},
   "outputs": [],
   "source": [
    "import matplotlib\n",
    "matplotlib.rcParams.update({'font.size': 14})"
   ]
  },
  {
   "cell_type": "markdown",
   "metadata": {},
   "source": [
    "We are going to read some calexps and the `OpSim` database to select interesting visits"
   ]
  },
  {
   "cell_type": "code",
   "execution_count": null,
   "metadata": {},
   "outputs": [],
   "source": [
    "data_imsim = '/global/cscratch1/sd/desc/DC2/data/Run1.2i_globus_in2p3_20181217/w_2018_39/rerun/281118'"
   ]
  },
  {
   "cell_type": "code",
   "execution_count": null,
   "metadata": {},
   "outputs": [],
   "source": [
    "data_phosim = '/global/cscratch1/sd/desc/DC2/data/Run1.2p_v4/w_2018_39/rerun/calexp-v4'"
   ]
  },
  {
   "cell_type": "code",
   "execution_count": null,
   "metadata": {},
   "outputs": [],
   "source": [
    "db_file = '/global/projecta/projectdirs/lsst/groups/SSim/DC2/minion_1016_desc_dithered_v4.db'"
   ]
  },
  {
   "cell_type": "code",
   "execution_count": null,
   "metadata": {},
   "outputs": [],
   "source": [
    "import sqlite3\n",
    "from sqlite3 import Error\n",
    " \n",
    "def create_connection(db_file):\n",
    "    try:\n",
    "        conn = sqlite3.connect(db_file)\n",
    "        return conn\n",
    "    except Error as e:\n",
    "        print(e)\n",
    " \n",
    "    return None"
   ]
  },
  {
   "cell_type": "code",
   "execution_count": null,
   "metadata": {},
   "outputs": [],
   "source": [
    "conn = create_connection(db_file)"
   ]
  },
  {
   "cell_type": "markdown",
   "metadata": {},
   "source": [
    "We are going to check the visits that are close to the zenith and with seeing ~ 0.7\""
   ]
  },
  {
   "cell_type": "code",
   "execution_count": null,
   "metadata": {},
   "outputs": [],
   "source": [
    "def get_visits(conn, min_alt=80, min_seeing=0.60, max_seeing=0.8):\n",
    "    \"\"\"\n",
    "    Function to get all visits in the OpSim database higher than certain altitude and within\n",
    "    a seeing range in r-band.\n",
    "    \"\"\"\n",
    "    cur = conn.cursor()\n",
    "    cur.execute(\"SELECT obsHistID FROM ObsHistory WHERE altitude> ? and finSeeing > ? and finSeeing < ? and filter='r'\", (np.radians(min_alt), min_seeing, max_seeing))\n",
    "    return np.array(cur.fetchall()).ravel().astype(np.int)"
   ]
  },
  {
   "cell_type": "markdown",
   "metadata": {},
   "source": [
    "We need the list of available visits to cross-check with the database"
   ]
  },
  {
   "cell_type": "code",
   "execution_count": null,
   "metadata": {},
   "outputs": [],
   "source": [
    "butler = lsst.daf.persistence.Butler(data_imsim)"
   ]
  },
  {
   "cell_type": "code",
   "execution_count": null,
   "metadata": {},
   "outputs": [],
   "source": [
    "datarefs = butler.subset('calexp') # This gives us a list with all `calexp`s"
   ]
  },
  {
   "cell_type": "markdown",
   "metadata": {},
   "source": [
    "Let's query the visits that have altitude larger than 80 degrees and seeing ~0.7\""
   ]
  },
  {
   "cell_type": "code",
   "execution_count": null,
   "metadata": {},
   "outputs": [],
   "source": [
    "good_visits = get_visits(conn)"
   ]
  },
  {
   "cell_type": "markdown",
   "metadata": {},
   "source": [
    "And check all the visits that have been simulated"
   ]
  },
  {
   "cell_type": "code",
   "execution_count": null,
   "metadata": {},
   "outputs": [],
   "source": [
    "all_visits = np.unique(np.fromiter((visitId['visit'] for visitId in datarefs.cache), np.int))"
   ]
  },
  {
   "cell_type": "markdown",
   "metadata": {},
   "source": [
    "Finally, we check which of the simulated visits are within the range of altitude and seeing that we are looking for."
   ]
  },
  {
   "cell_type": "code",
   "execution_count": null,
   "metadata": {},
   "outputs": [],
   "source": [
    "visits_to_check = all_visits[np.in1d(all_visits, good_visits)]"
   ]
  },
  {
   "cell_type": "code",
   "execution_count": null,
   "metadata": {},
   "outputs": [],
   "source": [
    "print(len(good_visits), len(all_visits), len(visits_to_check))"
   ]
  },
  {
   "cell_type": "markdown",
   "metadata": {},
   "source": [
    "There are 4750 r-band visits in the database in the range of altitude and seeing that we are looking for. We have 1997 visits in our dataset. Only 22 of them are in r-band and the range of seeing that we want. We are going to query some of them using the `SingleVisitCatalog` class as in `DC2_calexp_src_validation.ipynb` tutorial. We will select only a few columns."
   ]
  },
  {
   "cell_type": "code",
   "execution_count": null,
   "metadata": {},
   "outputs": [],
   "source": [
    "columns = ['base_ClassificationExtendedness_value', # This is a basic star/galaxy separation flag more on Bosch et al 2018\n",
    "           'ext_shapeHSM_HsmShapeRegauss_e1', # e1 using GalSim's HSM\n",
    "           'ext_shapeHSM_HsmShapeRegauss_e2', # e2 using GalSim's HSM\n",
    "           'base_SdssShape_xx', # xx moment using SDSS algorithm\n",
    "           'base_SdssShape_xy', # xy moment using SDSS algorithm\n",
    "           'base_SdssShape_yy', # yy moment using SDSS algorithm\n",
    "           'base_SdssShape_psf_xx', # xx moment of the PSF in the position of this object using SDSS algorithm\n",
    "           'base_SdssShape_psf_xy', # xy as above\n",
    "           'base_SdssShape_psf_yy', # yy as above\n",
    "           'base_PsfFlux_instFlux', # PSF-flux\n",
    "           'base_PsfFlux_instFluxErr', # PSF-flux error\n",
    "           'base_PsfFlux_mag', # magnitude computed in a PSF magnitude (derived from base_PsfFlux_instFlux with the corresponding zeropoint)\n",
    "           'base_PsfFlux_magErr', # corresponding error to the above magnitude\n",
    "           'e_psf', # We are going to create this column with the PSF ellipticity below!\n",
    "]"
   ]
  },
  {
   "cell_type": "code",
   "execution_count": null,
   "metadata": {},
   "outputs": [],
   "source": [
    "# We define some routines to convert to the LSST-SRD convention for |e|\n",
    "def asymQ(ixx,iyy,ixy):\n",
    "    asymQx = ixx - iyy\n",
    "    asymQy = 2*ixy\n",
    "    return np.sqrt(asymQx**2 + asymQy**2)\n",
    "def trQ(ixx,iyy):\n",
    "    return ixx+iyy\n",
    "def get_a(ixx,iyy,ixy):\n",
    "    return np.sqrt(0.5*(trQ(ixx,iyy)+asymQ(ixx,iyy,ixy)))\n",
    "def get_b(ixx,iyy,ixy):\n",
    "    return np.sqrt(0.5*(trQ(ixx,iyy)-asymQ(ixx,iyy,ixy)))\n",
    "def get_e(ixx,iyy,ixy):\n",
    "    a = get_a(ixx,iyy,ixy)\n",
    "    b = get_b(ixx,iyy,ixy)\n",
    "    return (a**2-b**2)/(a**2+b**2)"
   ]
  },
  {
   "cell_type": "code",
   "execution_count": null,
   "metadata": {},
   "outputs": [],
   "source": [
    "nvisits_to_query = 3 # We are going to check 3 visits only but feel free to query up to 22!\n",
    "\n",
    "data = []\n",
    "for i, vv in enumerate(visits_to_check):\n",
    "    cat = SingleVisitCatalog(repo=data_imsim, filter_band='r', visit=vv, detector=None)\n",
    "    if i==0:\n",
    "        # Add the derived quantity in the first catalog\n",
    "        cat.add_derived_quantity('e_psf', get_e, \n",
    "                                 'base_SdssShape_psf_xx', \n",
    "                                 'base_SdssShape_psf_yy', \n",
    "                                 'base_SdssShape_psf_xy')\n",
    "    data_this = cat.get_quantities(columns, filters=['deblend_nChild == 0'])\n",
    "    data.append(data_this)\n",
    "    if i>= nvisits_to_query:\n",
    "        break\n",
    "\n",
    "data = {q: np.concatenate([data_this[q] for data_this in data]) for q in data[0]}"
   ]
  },
  {
   "cell_type": "markdown",
   "metadata": {},
   "source": [
    "So let's compute the PSF ellipticity in our 3 visits"
   ]
  },
  {
   "cell_type": "markdown",
   "metadata": {},
   "source": [
    "Show the distribution, the median and 95-th percentile. There are certain criteria for these quantities described in the LSST Science Requirement Document: [LPM-17](https://docushare.lsst.org/docushare/dsweb/Get/LPM-17)"
   ]
  },
  {
   "cell_type": "code",
   "execution_count": null,
   "metadata": {},
   "outputs": [],
   "source": [
    "plt.hist(np.abs(data['e_psf']),histtype='step', range=(0,0.1),bins=100,normed=True)\n",
    "plt.plot(np.median(data['e_psf'])*np.ones(3),np.linspace(0,65,3),'k--')\n",
    "plt.plot(np.percentile(data['e_psf'],95)*np.ones(3),np.linspace(0,65,3),'r--')\n",
    "plt.xlabel(r'$|e|=(1-q^{2})/(1+q^{2})$',fontsize=16)\n",
    "plt.ylabel(r'$P|e|$',fontsize=16)\n",
    "#plt.legend(loc='best')\n",
    "#plt.xlim(0,0.07)\n",
    "plt.ylim(0,60)"
   ]
  },
  {
   "cell_type": "markdown",
   "metadata": {},
   "source": [
    "The black line represents the median of the distribution (that should be below 0.04) and the red line represents the 95th percentile (that should be below 0.07). Both criteria are fulfilled! In fact, we increased the ellipticity for run 2.1i to make it more realistic!"
   ]
  },
  {
   "cell_type": "code",
   "execution_count": null,
   "metadata": {},
   "outputs": [],
   "source": []
  }
 ],
 "metadata": {
  "kernelspec": {
   "display_name": "desc-stack",
   "language": "python",
   "name": "desc-stack"
  },
  "language_info": {
   "codemirror_mode": {
    "name": "ipython",
    "version": 3
   },
   "file_extension": ".py",
   "mimetype": "text/x-python",
   "name": "python",
   "nbconvert_exporter": "python",
   "pygments_lexer": "ipython3",
   "version": "3.6.6"
  }
 },
 "nbformat": 4,
 "nbformat_minor": 2
}

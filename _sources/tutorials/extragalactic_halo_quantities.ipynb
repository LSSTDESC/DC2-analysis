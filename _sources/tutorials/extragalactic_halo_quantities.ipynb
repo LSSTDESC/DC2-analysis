{
 "cells": [
  {
   "cell_type": "markdown",
   "id": "d4f7f31a-fbcb-4d02-90c3-7314ec801aca",
   "metadata": {},
   "source": [
    "# Investigating Halo Quantities in the Skysim and CosmoDC2 Extragalactic Catalogs\n",
    "\n",
    "In this example script we show how to access and interpret the additional halo quantities available in the skysim catalog.\n",
    "\n",
    "Owner: Patricia Larsen\n",
    "\n",
    "Last verified run: April 26, 2024 by @patricialarsen\n",
    "\n",
    "This notebook demonstrates how to access the extra galactic catalog through the Generic Catalog Reader (GCR, https://github.com/yymao/generic-catalog-reader) with a focus on skysim halo quantities. For more assistance with using GCR please see https://github.com/LSSTDESC/gcr-catalogs/blob/master/examples/GCRCatalogs%20Demo.ipynb\n",
    "\n",
    "**Objectives:**\n",
    "\n",
    "After working through and studying this Notebook you should be able to\n",
    "\n",
    "- Access the cosmoDC2 and skysim extragalactic catalogs through the GCR\n",
    "- Access cosmoDC2 halo quantities and understand how to use them \n",
    "- Access skysim-specific halo quantities and understand how to use them \n",
    "- Match cosmoDC2 and skysim galaxies to their host halos from the Outer Rim simulation\n",
    "- See FAQs for halo quantities \n",
    "\n",
    "\n",
    "Logistics: This notebook is intended to be run through the JupyterHub NERSC interface available here: https://jupyter.nersc.gov. To setup your NERSC environment, please follow the instructions available here: https://confluence.slac.stanford.edu/display/LSSTDESC/Using+Jupyter+at+NERSC\n",
    "\n",
    "**NOTE: FAQs are listed at the bottom of this page, please look there for known issues before flagging any issues in the halo catalogs**"
   ]
  },
  {
   "cell_type": "code",
   "execution_count": null,
   "id": "7de9e674-f6df-4ac3-9f8e-edde9eeff2f3",
   "metadata": {
    "tags": []
   },
   "outputs": [],
   "source": [
    "import GCRCatalogs\n",
    "import numpy as np\n",
    "from astropy.table import Table\n",
    "from GCR import GCRQuery\n",
    "import matplotlib.pyplot as plt\n",
    "%matplotlib inline\n"
   ]
  },
  {
   "cell_type": "markdown",
   "id": "09331a45-7eff-49d5-9d33-ad1b1d57666c",
   "metadata": {},
   "source": [
    "### Reading the catalogs\n",
    "We load in the catalogs with the \"load_catalog\" command, and then the values with the \"get_quantities\" command using filters to select sub-samples of the catalog.\n",
    "\n",
    "**Help for error messages:**\n",
    "If this fails to find the appropriate quantities, check that the desc-python kernel is being used and if this is not available source the kernels by running the following command on a terminal at nersc: \"source /global/common/software/lsst/common/miniconda/kernels/setup.sh\"\n",
    "\n",
    "Note that we are loading in a small version of the catalogs using the _small versions  - these contain the same information as the full catalog but with a smaller sky area."
   ]
  },
  {
   "cell_type": "code",
   "execution_count": null,
   "id": "6ae88157-ddf2-439a-986b-6240e4ed479f",
   "metadata": {
    "tags": []
   },
   "outputs": [],
   "source": [
    "gc_cdc2 = GCRCatalogs.load_catalog('cosmoDC2_v1.1.4_small')\n",
    "gc_sky = GCRCatalogs.load_catalog('skysim5000_v1.2_small')\n"
   ]
  },
  {
   "cell_type": "markdown",
   "id": "3543619f-a08f-4a6f-9fef-c162472041ea",
   "metadata": {},
   "source": [
    "### Non-native Quantities\n",
    "\n",
    "Let's first discuss the non-native quantities. These are the halo mass (in Msun) and halo ID (note that you can then also access their positions and velocities through looking at the halo's central galaxies using an \"is_central\" flag). "
   ]
  },
  {
   "cell_type": "code",
   "execution_count": null,
   "id": "de1aa2e7-6023-45c5-86a0-0162a64f3433",
   "metadata": {
    "tags": []
   },
   "outputs": [],
   "source": [
    "for item in gc_cdc2.list_all_quantities():\n",
    "    if 'halo' in item:\n",
    "        print(item)"
   ]
  },
  {
   "cell_type": "markdown",
   "id": "fdd622b2-70fc-4d7c-8e63-b23afd55eb84",
   "metadata": {},
   "source": [
    "### Native Quantities\n",
    "\n",
    "You can access further information from the native_quantities. To understand these we must talk a little about the procedure to add galaxies to the simulation. The base of both Skysim and cosmoDC2 is the Outer Rim simulation, which defines the halo positions on the sky. This Outer Rim halo is referred to in the native quantities as the **target** halo. This is an FOF halo measured with a linking length of b=0.168, with a central position given by the minimum potential point. \n",
    "\n",
    "To add galaxies to this simulation, we use a Monte Carlo resampling of galaxies from the Universe Machine simulation. In this, galaxies are assigned to halos from the MultiDark Planck 2 (MDPL2), using the Universe Machine prescription, tuned to observations. This MDPL2 halo is referred to as the **host** halo. \n",
    "\n",
    "*Briefly, for every host\n",
    "halo in the Outer Rim, we randomly select a host halo in\n",
    "MDPL2 of similar mass, and map the galaxy content of the\n",
    "selected MDPL2 halo into the Outer Rim halo, preserving\n",
    "the halo-centric positions and velocities of the galaxies.*\n",
    "\n",
    "The **source** halos also pertain to the UMachine catalog, and give the ID and mass values for matching to MDPL2. \n",
    "\n",
    "We then add extra properties by running the Galacticus semi-analytic model on the Alpha Quadrant (a smaller analog to Outer Rim), and creating a set of galaxies with properly correlated properties which are used as a library from which we select in color and redshift space to add complexity. \n",
    "\n",
    "Generally speaking for halo properties you'll want to look at those of the **target halo**, however the host halo information for the matching halo from the Universe Machine simulation is retained as well. Please look at https://arxiv.org/pdf/1907.06530 if this is confusing, especially Figure 1. "
   ]
  },
  {
   "cell_type": "code",
   "execution_count": null,
   "id": "f2529352-cd45-4fe9-87a6-44b9efb8b891",
   "metadata": {
    "tags": []
   },
   "outputs": [],
   "source": [
    "for item in gc_cdc2.list_all_native_quantities():\n",
    "    if 'target_halo' in item:\n",
    "        print(item)\n",
    "print(' ')\n",
    "for item in gc_cdc2.list_all_native_quantities():\n",
    "    if 'host_halo' in item:\n",
    "        print(item)\n",
    "print(' ')\n",
    "for item in gc_cdc2.list_all_native_quantities():\n",
    "    if 'source_halo' in item:\n",
    "        print(item)"
   ]
  },
  {
   "cell_type": "markdown",
   "id": "7b549013-4c70-442b-b969-39214e125c9d",
   "metadata": {},
   "source": [
    "## Properties \n",
    "\n",
    "The target halo information has \n",
    "\n",
    "- redshift \n",
    "- central potential point x,y,z in comoving Mpc/h \n",
    "- mean halo velocity vx, vy, vz in km/s\n",
    "- halo mass in Msun/h \n",
    "- halo ID -> a cosmoDC2-specific halo ID \n",
    "- fof halo ID -> the fof halo tag corresponding to the Outer-Rim simulation (note this is only unique per simulation step)\n",
    "\n",
    "The host halo (where the host-centric galaxy positions come from) information has \n",
    " \n",
    "- central position in MDPL2 simulation x,y,z in comoving Mpc/h \n",
    "- mean halo velocity vx, vy, vz in km/s\n",
    "- halo mass in Msun/h\n",
    "\n",
    "The source halo information has \n",
    "\n",
    "- source halo id (halo tag from the MDPL2 simulation) \n",
    "- halo mass in Msun/h\n",
    "\n",
    "\n",
    "**Notes**: You will occassionally find fill values, this happens in several situations, e.g. synthetic field galaxies added without host halos. These are typically either 0 or -1. While GCR quantities are typically converted to GCR conventions, native quantities are not, so please double check units (especially note that GCR masses are in Msun, native quantities are in Msun/h)"
   ]
  },
  {
   "cell_type": "code",
   "execution_count": null,
   "id": "1b48ca4d-01dd-49c1-b2bc-665438f7dcdf",
   "metadata": {
    "tags": []
   },
   "outputs": [],
   "source": [
    "# let's add some plots to better understand these here\n",
    "# start by asking for a representative set of target halo quantities and normal information for a small set of cluster-mass halos\n",
    "# we set the is_central flag to ensure we only have one galaxy per halo\n",
    "\n",
    "cluster_data = gc_cdc2.get_quantities(['ra','dec', 'x','vx', 'redshift', 'halo_mass', 'halo_id','baseDC2/target_halo_mass','baseDC2/target_halo_id',\n",
    "                                      'baseDC2/target_halo_x','baseDC2/target_halo_vx', 'baseDC2/target_halo_redshift','baseDC2/source_halo_mvir',\n",
    "                                      'baseDC2/host_halo_mvir'], \n",
    "                                 filters=['is_central', 'halo_mass > 1e14', 'redshift < 0.2']) \n"
   ]
  },
  {
   "cell_type": "markdown",
   "id": "f442ea3c-bb92-4837-b932-ef1d60097f2f",
   "metadata": {},
   "source": [
    "Firstly let's check that the masses of the host halos match exactly to the source halos, as these should be duplicate data:"
   ]
  },
  {
   "cell_type": "code",
   "execution_count": null,
   "id": "e1564ed5-229b-4173-ad7b-4013c29853d1",
   "metadata": {
    "tags": []
   },
   "outputs": [],
   "source": [
    "(cluster_data['baseDC2/host_halo_mvir']==cluster_data['baseDC2/source_halo_mvir']).all()"
   ]
  },
  {
   "cell_type": "markdown",
   "id": "e5603f5c-b982-4f97-bb01-e8b6181eed13",
   "metadata": {},
   "source": [
    "We can then check that the x positions and velocities from the central galaxies line up with the x positions and velocities of the halos"
   ]
  },
  {
   "cell_type": "code",
   "execution_count": null,
   "id": "906ae89b-20df-4534-a32b-788c23975b45",
   "metadata": {
    "tags": []
   },
   "outputs": [],
   "source": [
    "plt.figure()\n",
    "plt.scatter(cluster_data['x'], cluster_data['baseDC2/target_halo_x'])\n",
    "plt.plot(np.linspace(45,250,200),np.linspace(45,250,200),'k--')\n",
    "plt.show()\n",
    "plt.figure()\n",
    "plt.scatter(cluster_data['vx'], cluster_data['baseDC2/target_halo_vx'])\n",
    "plt.plot(np.linspace(-400,800,200),np.linspace(-400,800,200),'k--')\n",
    "plt.show()"
   ]
  },
  {
   "cell_type": "markdown",
   "id": "d184f0f6-7434-46a1-a4ab-635732626334",
   "metadata": {},
   "source": [
    "Next let's look at the redshift  - there's more scatter there because the line-of-sight velocity is also taken into account in the redshift measurement, and the halo redshift is the cosmological redshift (you can get these to match by selecting the cosmological redshift for the galaxies). \n",
    "\n",
    "The masses line up *only* if you take into account the change in units between halo_mass (in Msun) and the target_halo_mass (in Msun/h)."
   ]
  },
  {
   "cell_type": "code",
   "execution_count": null,
   "id": "a657c2a4-5ab8-47f0-9983-b3c6800b3477",
   "metadata": {
    "tags": []
   },
   "outputs": [],
   "source": [
    "h = gc_cdc2.cosmology.H0.value/100.\n",
    "\n",
    "plt.figure()\n",
    "plt.scatter(cluster_data['redshift'], cluster_data['baseDC2/target_halo_redshift'])\n",
    "plt.plot(np.linspace(0.18,0.2,200),np.linspace(0.18,0.2,200),'k--')\n",
    "plt.xlim([0.18,0.2])\n",
    "plt.ylim([0.18,0.2])\n",
    "\n",
    "plt.show()\n",
    "plt.figure()\n",
    "plt.scatter(np.log10(cluster_data['halo_mass']), np.log10(cluster_data['baseDC2/target_halo_mass']/h)) # note h factor here\n",
    "plt.plot(np.linspace(14,15.5,200),np.linspace(14,15.5,200),'k--')\n",
    "plt.show()"
   ]
  },
  {
   "cell_type": "markdown",
   "id": "7baa17fc-1103-4a59-b248-9f3f0374138c",
   "metadata": {},
   "source": [
    "Finally we can see that the halo id matches with the target halo id (note this likely doesn't match with the fof halo id as the id convention has been altered to ensure unique identifiers)"
   ]
  },
  {
   "cell_type": "code",
   "execution_count": null,
   "id": "5758195c-251a-4648-8065-9249e3c79da2",
   "metadata": {
    "tags": []
   },
   "outputs": [],
   "source": [
    "print((cluster_data['halo_id']==cluster_data['baseDC2/target_halo_id']).all())"
   ]
  },
  {
   "cell_type": "markdown",
   "id": "315ea69d-c628-4dea-9dca-a1e11cffe599",
   "metadata": {},
   "source": [
    "### Skysim\n",
    "\n",
    "We take this one step farther with skysim by addding access to extra quantities of the target halos. There are two types of labels here, sod_halo quantities which are M200c quantities from the Outer Rim simulation, and target_halo quantities which are later derived quantities\n",
    "\n",
    "- sod_halo_mass is the M200c value for the halo (Msun/h)\n",
    "- sod_halo_radius is the R200c value (Mpc/h comoving)\n",
    "- sod_halo_cdelta is the concentration c (unitless)\n",
    "- sod_halo_cdelta_error is the error in the concentration measurement\n",
    "\n",
    "For the target halo quantities we then add further information on their orientation and ellipcitity. Note that these quantities only exist from the simulation above a certain mass limit, which is 10,000 particles or a mass of 10^13 (not the right number, add here) or above. Below this we orient galaxies according to a random draw from a distribution, and the corresponding values are given instead. \n",
    "\n",
    "These are \n",
    "\n",
    "- target_halo_axis_A_x,y,z - direction of the halo major axis (eigenvector of the inertia tensor)\n",
    "- target_halo_axis_A,B,C_length - the length of the halo axes in Mpc/h\n",
    "- target_halo_axis_ellipticity,prolaticity -> look at the exact axis ratio to e/p conversion in the github here: https://github.com/LSSTDESC/cosmodc2/blob/4a41384fa49f29e1a6c9b18d1cbe016c58b3731d/cosmodc2/triaxial_satellite_distributions/axis_ratio_model.py\n",
    "\n",
    "*note these are from I believe the simple inertia tensor of the FOF halo particles\n",
    "\n",
    "\n",
    "\n"
   ]
  },
  {
   "cell_type": "code",
   "execution_count": null,
   "id": "28d97da0-e8a7-400c-b865-280373d08cdf",
   "metadata": {
    "tags": []
   },
   "outputs": [],
   "source": [
    "for item in gc_sky.list_all_native_quantities():\n",
    "    if item not in gc_cdc2.list_all_native_quantities():\n",
    "        if 'target_halo' in item:\n",
    "            print(item)\n",
    "print(' ')\n",
    "for item in gc_sky.list_all_native_quantities():\n",
    "    if item not in gc_cdc2.list_all_native_quantities():\n",
    "        if 'sod_halo' in item:\n",
    "            print(item)\n"
   ]
  },
  {
   "cell_type": "markdown",
   "id": "7c68d887-0612-47fb-a7a0-9d8d6c4a780f",
   "metadata": {},
   "source": [
    "Let's plot some skysim data"
   ]
  },
  {
   "cell_type": "code",
   "execution_count": null,
   "id": "f150994b-2e60-4236-91a6-6d0eb14ff310",
   "metadata": {
    "tags": []
   },
   "outputs": [],
   "source": [
    "cluster_data = gc_sky.get_quantities(['ra','dec', 'x','vx', 'redshift', 'halo_mass', 'halo_id',\n",
    "                                       'baseDC2/target_halo_mass','baseDC2/sod_halo_mass','baseDC2/sod_halo_cdelta','baseDC2/sod_halo_radius',\n",
    "                                      'baseDC2/target_halo_ellipticity','baseDC2/target_halo_prolaticity', 'baseDC2/target_halo_axis_A_length',\n",
    "                                     'baseDC2/target_halo_axis_B_length', 'baseDC2/target_halo_axis_C_length'], \n",
    "                                 filters=['is_central', 'halo_mass > 1e14', 'redshift < 0.2']) \n"
   ]
  },
  {
   "cell_type": "markdown",
   "id": "29b5b4cf-ab7c-4f26-9e67-b28063e024db",
   "metadata": {},
   "source": [
    "First let's look at the standard SOD quantiites - SOD masses should roughly agree with FOF masses, with a fair bit of scatter. The concentrations should roughly have values between 1 and 10 with a large amount of scatter. Fill values for the concentration are -1 for a failed measurement and -101 for a halo which doesn't have SOD measurements.   "
   ]
  },
  {
   "cell_type": "code",
   "execution_count": null,
   "id": "b40de9dc-34e8-4ec9-9236-88597cfcf12f",
   "metadata": {
    "tags": []
   },
   "outputs": [],
   "source": [
    "h = gc_sky.cosmology.H0.value/100.\n",
    "\n",
    "plt.figure()\n",
    "plt.scatter(np.log10(cluster_data['halo_mass']), np.log10(cluster_data['baseDC2/sod_halo_mass']/h) # note h here\n",
    "plt.plot(np.linspace(14,15.5,200),np.linspace(14,15.5,200),'k--')\n",
    "plt.show()\n",
    "plt.figure()\n",
    "plt.scatter(np.log10(cluster_data['baseDC2/sod_halo_mass']/h), cluster_data['baseDC2/sod_halo_cdelta']) # note h here\n",
    "plt.show()"
   ]
  },
  {
   "cell_type": "markdown",
   "id": "d2632c59-c9ec-4db7-97c2-16e6665cf548",
   "metadata": {},
   "source": [
    "Now let's look at the axis length, this should be on the same order of magnitude as the r200 value"
   ]
  },
  {
   "cell_type": "code",
   "execution_count": null,
   "id": "ae3397ba-6a33-4ab3-9878-cb40f852e369",
   "metadata": {
    "tags": []
   },
   "outputs": [],
   "source": [
    "plt.figure()\n",
    "plt.scatter(cluster_data['baseDC2/sod_halo_radius'],cluster_data['baseDC2/target_halo_axis_A_length']) # note check for h-unit and a questions\n",
    "plt.plot(np.linspace(0.4,1.5,200),np.linspace(0.4,1.5,200),'k--')\n",
    "plt.show()"
   ]
  },
  {
   "cell_type": "markdown",
   "id": "f7f86b60-86cf-49c6-812b-5bb57e0ea59d",
   "metadata": {},
   "source": [
    "Finally ellipticity and prolaticity should be dependent on the axis ratios - we take the equations exactly from the code to confirm the definitions"
   ]
  },
  {
   "cell_type": "code",
   "execution_count": null,
   "id": "30369257-5613-46d1-bdd0-c744ed7460d3",
   "metadata": {
    "tags": []
   },
   "outputs": [],
   "source": [
    "\n",
    "def calculate_ellipticity_prolaticity_from_axis_ratios(b, c):\n",
    "    \"\"\"\n",
    "    \"\"\"\n",
    "    b = np.atleast_1d(b)\n",
    "    c = np.atleast_1d(c)\n",
    "    assert np.all(b > 0), \"b must be strictly positive\"\n",
    "    assert np.all(b <= 1), \"b cannot exceed unity\"\n",
    "    assert np.all(c > 0), \"c must be strictly positive\"\n",
    "    assert np.all(b >= c), \"c cannot exceed b\"\n",
    "\n",
    "    lam = 1. + b**2 + c**2\n",
    "    num = 1. - c**2\n",
    "    denom = 2*lam\n",
    "    e = num/denom\n",
    "    p = (1. - 2*b**2 + c**2)/denom\n",
    "    return e, p\n"
   ]
  },
  {
   "cell_type": "code",
   "execution_count": null,
   "id": "33268fbf-6e91-4c77-b4f3-80a86867aef7",
   "metadata": {
    "tags": []
   },
   "outputs": [],
   "source": [
    "ax1 = cluster_data['baseDC2/target_halo_axis_C_length']/cluster_data['baseDC2/target_halo_axis_A_length']\n",
    "ax2 = cluster_data['baseDC2/target_halo_axis_B_length']/cluster_data['baseDC2/target_halo_axis_A_length']\n",
    "ellip,prolat = calculate_ellipticity_prolaticity_from_axis_ratios(ax2, ax1)\n",
    "\n",
    "plt.figure()\n",
    "plt.scatter(cluster_data['baseDC2/target_halo_ellipticity'],ellip) # note check for h-unit and a questions\n",
    "plt.plot(np.linspace(0.0,0.5,200),np.linspace(0.0,0.5,200),'k--')\n",
    "plt.show()"
   ]
  },
  {
   "cell_type": "markdown",
   "id": "eb75390b-2724-44bc-8848-a0a0d4eda245",
   "metadata": {},
   "source": [
    "We leave it as an exercise to the reader to use and investigate the properties however you'd like, but before we end this tutorial let's match up the galaxies to their host halos to put it all together"
   ]
  },
  {
   "cell_type": "code",
   "execution_count": null,
   "id": "7187a85e-be79-4192-9c7d-e85a08a8860e",
   "metadata": {
    "tags": []
   },
   "outputs": [],
   "source": [
    "# first we read in both the galaxy data and the halo data (halo data involves cutting on an is_central flag to keep unique halos\n",
    "# and here we've cut on halo mass and redshift as well to match to specific clusters)\n",
    "\n",
    "galaxy_data = gc_sky.get_quantities(['ra', 'dec', 'mag_r', 'halo_id'], filters=['mag_r < 19','redshift < 0.25'])\n",
    "cluster_data = gc_sky.get_quantities(['ra','dec', 'halo_mass', 'halo_id', 'baseDC2/sod_halo_mass','baseDC2/target_halo_ellipticity'], \n",
    "                                 filters=['is_central', 'halo_mass > 1e14', 'redshift < 0.2'])"
   ]
  },
  {
   "cell_type": "markdown",
   "id": "ff9ca2e6-a78f-4c78-a9cd-f9510438d423",
   "metadata": {},
   "source": [
    "We now plot galaxies in the first three halos, matching using the halo id, as in other tutorials, but this time also printing the sod halo mass"
   ]
  },
  {
   "cell_type": "code",
   "execution_count": null,
   "id": "1546c979-de35-489c-8fb2-5b3c12eb136d",
   "metadata": {},
   "outputs": [],
   "source": [
    "cluster_data = Table(cluster_data)\n",
    "for i, cluster in enumerate(cluster_data):\n",
    "    if (i >= 3):\n",
    "        break # plot only the first 3\n",
    "    members = GCRQuery('halo_id == {}'.format(cluster['halo_id'])).filter(galaxy_data)\n",
    "    plt.figure()\n",
    "    plt.scatter(\n",
    "        members['ra'], \n",
    "        members['dec'], \n",
    "        s=(19-members['mag_r'])*8, \n",
    "        label='Galaxy Members [{}]'.format(len(members['ra']))\n",
    "    )\n",
    "    plt.plot(cluster['ra'], cluster['dec'], 'xr', label='Cluster Center')\n",
    "    plt.legend(loc='best', framealpha=0.3)\n",
    "    plt.xlabel(r'ra [deg]')\n",
    "    plt.ylabel(r'dec [deg]')\n",
    "    plt.title('Halo ID:  {}\\nHalo Mass:  {:.2e} Msun\\nSOD halo mass: {:.2e} Msun/h'.format(cluster['halo_id'], cluster['halo_mass'], cluster['baseDC2/sod_halo_mass']))\n",
    "plt.show()\n"
   ]
  },
  {
   "cell_type": "markdown",
   "id": "5aaf2a46-0e0f-4f88-a4b2-df7b5eaafb57",
   "metadata": {},
   "source": [
    "## FAQs - _CosmoDC2_\n",
    "\n",
    "**Known issues/ limitations**\n",
    "- The color distribution has some discreteness?\n",
    "  - This is a limitation of the sampling method, causing some redshift-related discreteness. See the paper for more details \n",
    "- The red sequence looks too strong?\n",
    "  - This had to be amplified for redmapper to run successfully. This has complicated selection functions and we couldn't both maintain full realism and meet the requirement for redmapper to run with the person-power available. If you need more realistic colors please consider using the more recent Roman-Rubin simulations\n",
    "- I found some odd duplicate clusters?\n",
    "  - There was a bug in cosmoDC2 where ranks disagreed as to the ownership of some fragment halos, this led to a very small number of doubled-up halos in the map. Since this exists in the image simulation we chose not to fix this bug in cosmoDC2 for consistency. To find this you could cut on halo mass and then see if you have two halos of the same mass with different IDs in the same location and exclude those from your sample, but the recommended solution if you don't need images is to use skysim to look at the halo catalog which doesn't have this issue and has a much larger sky area so more clusters to look at. \n",
    "\n",
    "**IDS**\n",
    "- Why are there negative target_halo_ids?\n",
    "  - Negative target_halo_ids exist when the merger-tree object associated with the halo is a fragment halo, this happens when we want to distinguish fly-by type events from true mergers. You can extract the FOF halo tag from this fragment ID. \n",
    "  - The target_halo_fof_halo_id value for these fragment objects is assigned to be 0\n",
    "- Why does the distribution of target_halo_ids look weird?\n",
    "  - the fragment IDs use bit masking to combine the FOF halo id with a fragment index, this results in a slightly strange looking distribution for fragment IDs. \n",
    "- Why is my source_halo_id -1 or 0? \n",
    "  - These are fill values, there is no source halo from the Umachine catalog. This could be a synthetic source added to amplify the cluster red sequence, or a background unclustered galaxy added to adjust the number density (in this case target_halo_id may also be -1 or 0).   \n",
    "  \n",
    "**Masses**\n",
    "- Why are the halo masses different to the target halo masses?\n",
    "  - See above notes on units, the halo mass is in Msun, and the target halo mass is in Msun/h (h=0.71 for this simulation)\n",
    "  \n",
    "**Simulation** \n",
    "- Where can I find information on the cosmology/ other details of the Outer Rim simulation? Or of cosmoDC2?\n",
    "  - The best place to look is the cosmoDC2 paper, found here: https://arxiv.org/pdf/1907.06530\n",
    "  - More information can be found in the Outer Rim paper: https://arxiv.org/abs/1904.11970 \n",
    "- Can I get the base simulation data? \n",
    "  - Yes, a subset of the data can be found here https://cosmology.alcf.anl.gov/ this includes a sample of snapshot data, and lightcone data \n",
    "    including halo catalogs \n",
    "    \n",
    "## FAQs - _Skysim_\n",
    "\n",
    "- What is the difference between CosmoDC2 and skysim?\n",
    "  - Skysim is a more recent and much larger extragalactic catalog, incorporating improvements and bug fixes to cosmoDC2 using the same or similar base methods and simulations. These include higher resolution weak lensing, fixes to the lensing deflection angles, color model improvements, triaxiality, and additional halo information. \n",
    "\n",
    "**IDS**\n",
    "- Why is the halo catalog slightly different to CosmoDC2?\n",
    "  - See above known issue in cosmoDC2 with a very small number of duplicate halos, we also have different cuts on the galaxy magnitudes which result in a different halo sample. \n",
    "  \n",
    "**Masses**\n",
    "- My SOD mass/ other quantities are 0 or -1?\n",
    "  - This means one of three things, the halo mass might be too low for an SOD measurement, an SOD measurement may have failed, or this could be a synthetic field galaxy which is not associated with a halo. \n",
    "\n",
    "\n"
   ]
  },
  {
   "cell_type": "code",
   "execution_count": null,
   "id": "a3754230-8697-4845-a9cb-6dff3c56eb69",
   "metadata": {},
   "outputs": [],
   "source": []
  }
 ],
 "metadata": {
  "kernelspec": {
   "display_name": "desc-python",
   "language": "python",
   "name": "desc-python"
  },
  "language_info": {
   "codemirror_mode": {
    "name": "ipython",
    "version": 3
   },
   "file_extension": ".py",
   "mimetype": "text/x-python",
   "name": "python",
   "nbconvert_exporter": "python",
   "pygments_lexer": "ipython3",
   "version": "3.10.13"
  }
 },
 "nbformat": 4,
 "nbformat_minor": 5
}

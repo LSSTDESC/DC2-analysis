{
 "cells": [
  {
   "cell_type": "markdown",
   "metadata": {},
   "source": [
    "# Emulating the LSST DRP Source Catalog with CosmoDC2Realizer\n",
    "\n",
    "__Author:__ Ji Won Park (@jiwoncpark), __Last Run:__ 2018-12-14 (by @jiwoncpark)\n",
    "\n",
    "__Goals:__\n",
    "- In Part 1 (this notebook), learn how CosmoDC2Realizer emulates the LSST DRP Source Catalog from galaxies in the CosmoDC2 extragalactic catalog and point sources in the truth catalog\n",
    "- In Part 2 (coming up), learn how SprinkledCosmoDC2Realizer emulates the LSST DRP Source Catalog by \"sprinkling\" lensed quasars from the OM10 catalog across the CosmoDC2 field, in the manner of the DC2 Sprinkler module.\n",
    "\n",
    "The following notebook was referenced to access and query the truth catalog:\n",
    "\n",
    "    Scott Daniel's DC2 Tutorial truth_gcr_intro.ipynb"
   ]
  },
  {
   "cell_type": "code",
   "execution_count": 1,
   "metadata": {},
   "outputs": [],
   "source": [
    "import os, sys\n",
    "import numpy as np\n",
    "import pandas as pd \n",
    "pd.options.display.max_columns = None\n",
    "import matplotlib.pyplot as plt\n",
    "import os, sys\n",
    "# Utility functions for CosmoDC2Realizer\n",
    "sys.path.insert(0, 'hackurdc2_utils')\n",
    "import units\n",
    "import moments\n",
    "import cosmodc2realizer_helper as helper\n",
    "# For reading in the OpSim database\n",
    "import sqlite3\n",
    "import healpy\n",
    "# For accessing and querying the CosmoDC2 extragalactic catalog and truth catalog\n",
    "import GCRCatalogs\n",
    "from GCR import GCRQuery\n",
    "%matplotlib inline\n",
    "%load_ext autoreload\n",
    "%autoreload 2"
   ]
  },
  {
   "cell_type": "markdown",
   "metadata": {},
   "source": [
    "## About CosmoDC2Realizer\n",
    "\n",
    "`CosmoDC2Realizer` is a framework that emulates the LSST DRP Source Catalog. It takes in two DC2 catalogs--the extragalactic and truth catalogs, which contain properties of extended galaxy sources and point sources (e.g. stars, AGNs), respectively--and the OpSim database, which contain the per-visit observation conditions.\n",
    "\n",
    "__Note on Dependencies:__\n",
    "\n",
    "Although `CosmoDC2Realizer` is designed as a class within an LSSTDESC package called `SLRealizer`, we do not interface with the class in this notebook. The emphasis, instead, is to go over the logic of`CosmoDC2Realizer`. So we set aside some class helper modules in the directory `hackurdc2_utils` and use them directly.\n",
    "\n",
    "`CosmoDC2Realizer` does explicitly loop over each blended system to generate the Source Catalog. But it makes heavy use of `NumPy` and `Pandas` to vectorize the moment calculation across the Gaussian components of the system, for an enhanced performance.\n",
    "\n",
    "__Assumptions:__\n",
    "- _Gaussian mixtures to allow analytical moment calculation._ Emulation is made fast by bypassing image generation; we model each object as a mixture of Gaussians and the point-spread function (PSF) as a circular Gaussian so that we can _analytically_ compute the first and second moments required to populate the Source Catalog. Because the galaxies in the extragalactic catalog are modeled as Sersic profiles (de Vaucouleurs bulge and exponential disk), we approximate each Sersic component as a mixture of Gaussians as introduced in Hogg and Lang 2013 (HL13).\n",
    "- _A sufficiently good deblender._ We also assume a fairly good deblender with a fixed deblending scale of 0.5\"--chosen because it roughly corresponds to the full-width half maximum (FWHM) of the best LSST seeing. All sources located within the line-of-sight deblending scale of an object for a given visit will contribute to the moments of that object. Such objects that become blended together are referred to as \"neighbors\" here."
   ]
  },
  {
   "cell_type": "markdown",
   "metadata": {},
   "source": [
    "## 1. Choosing the OpSim fields\n",
    "The OpSim database is organized in terms of 5292 viewing fields generated from a tesselation of the sky ([OpSim catalog schema documentation](https://www.lsst.org/scientists/simulations/opsim/summary-table-column-descriptions-v335)). The observing schedule and conditions are the same within each field so, for computational efficiency, CosmoDC2Realizer first identifies the set of fields over which to realize the comprising objects.\n",
    "\n",
    "The `data` directory already contains all the OpSim data we'll need so running the cells with the jupyter magic `%%time` in this section won't be necessary."
   ]
  },
  {
   "cell_type": "code",
   "execution_count": 4,
   "metadata": {},
   "outputs": [],
   "source": [
    "# Where we'll store our data files\n",
    "data_dir = 'data'"
   ]
  },
  {
   "cell_type": "code",
   "execution_count": null,
   "metadata": {},
   "outputs": [],
   "source": [
    "# Download OpSim db and gunzip\n",
    "# Running this cell is not necessary.\n",
    "# If you want to but it doesn't run, simply run it in the terminal.\n",
    "!mkdir data\n",
    "!cd data\n",
    "!wget opsim.lsst.org/runs/minion_1016/data/minion_1016_sqlite.db.gz\n",
    "!gunzip -k minion_1016_sqlite.db.gz"
   ]
  },
  {
   "cell_type": "code",
   "execution_count": 8,
   "metadata": {},
   "outputs": [
    {
     "name": "stdout",
     "output_type": "stream",
     "text": [
      "[('Session',), ('Config',), ('Field',), ('ObsHistory',), ('Proposal',), ('SeqHistory',), ('SlewHistory',), ('SlewActivities',), ('SlewState',), ('SlewMaxSpeeds',), ('TimeHistory',), ('ObsHistory_Proposal',), ('Cloud',), ('Seeing',), ('Log',), ('Config_File',), ('Proposal_Field',), ('SeqHistory_ObsHistory',), ('MissedHistory',), ('SeqHistory_MissedHistory',), ('Summary',)]\n",
      "CPU times: user 1.21 ms, sys: 781 µs, total: 1.99 ms\n",
      "Wall time: 28.4 ms\n"
     ]
    }
   ],
   "source": [
    "%%time\n",
    "# Read in the minion_1016 opsim database\n",
    "opsim_v3 = os.path.join(data_dir, 'minion_1016_sqlite.db')\n",
    "conn = sqlite3.connect(opsim_v3)\n",
    "\n",
    "# See which tables the db file has\n",
    "cursor = conn.cursor()\n",
    "cursor.execute(\"SELECT name FROM sqlite_master WHERE type='table';\")\n",
    "print(cursor.fetchall())"
   ]
  },
  {
   "cell_type": "markdown",
   "metadata": {},
   "source": [
    "We are primarily interested in two tables of the `minion_1016` database: `ObsHistory` containing the observation conditions and `Field` containing the field positions."
   ]
  },
  {
   "cell_type": "code",
   "execution_count": 32,
   "metadata": {},
   "outputs": [
    {
     "name": "stdout",
     "output_type": "stream",
     "text": [
      "CPU times: user 30.8 s, sys: 5.74 s, total: 36.5 s\n",
      "Wall time: 36.6 s\n"
     ]
    }
   ],
   "source": [
    "%%time \n",
    "# ~ 40s in Jupyter-dev\n",
    "# Save the tables ObsHistory and Field as Pandas DataFrames\n",
    "obs_history = pd.read_sql(sql='SELECT * from ObsHistory', con=conn)\n",
    "field = pd.read_sql(sql='SELECT * from Field', con=conn)"
   ]
  },
  {
   "cell_type": "markdown",
   "metadata": {},
   "source": [
    "For speed considerations, we will only work with galaxies in `cosmoDC2_v1.0_9556`, a version of the extragalactic catalog restricted to one healpixel. This healpixel, it turns out, roughly coincides with the OpSim field with ID 1188 so we pre-save a subset of the `ObsHistory` table with the columns we'll need."
   ]
  },
  {
   "cell_type": "code",
   "execution_count": 34,
   "metadata": {},
   "outputs": [],
   "source": [
    "# Information about Field 1188\n",
    "field_id = 1188\n",
    "field_info = field.loc[field['fieldID']==field_id]\n",
    "field_ra, field_dec = field_info['fieldRA'].item(), field_info['fieldDec'].item()\n",
    "field_radius = 0.5*3.5 # deg"
   ]
  },
  {
   "cell_type": "markdown",
   "metadata": {},
   "source": [
    "## 2. Getting galaxies\n",
    "We query the extragalactic catalog for objects that lie in this field. As mentioned earlier, we load `cosmoDC2_v1.0_9556` rather than the full cosmoDC2 catalog in this notebook for fast demonstration."
   ]
  },
  {
   "cell_type": "code",
   "execution_count": 35,
   "metadata": {},
   "outputs": [
    {
     "name": "stdout",
     "output_type": "stream",
     "text": [
      "CPU times: user 3.73 s, sys: 1.05 s, total: 4.78 s\n",
      "Wall time: 6.01 s\n"
     ]
    }
   ],
   "source": [
    "%%time\n",
    "# ~10s in Jupyter-dev\n",
    "catalog = GCRCatalogs.load_catalog('cosmoDC2_v1.0_9556')\n",
    "# 'cosmoDC2_v1.0_image' takes ~14 sec\n",
    "quantities = ['galaxy_id', 'ra_true', 'dec_true', 'redshift_true', \n",
    "              'size_bulge_true', 'size_minor_bulge_true', 'sersic_bulge', 'ellipticity_1_bulge_true',\n",
    "              'ellipticity_2_bulge_true', 'ellipticity_bulge_true',\n",
    "              'size_disk_true', 'size_minor_disk_true', 'sersic_disk', 'ellipticity_1_disk_true',\n",
    "              'ellipticity_2_disk_true', 'ellipticity_disk_true',\n",
    "              'bulge_to_total_ratio_i',\n",
    "              'mag_true_u_lsst',\n",
    "              'mag_true_g_lsst',\n",
    "              'mag_true_r_lsst',\n",
    "              'mag_true_i_lsst',\n",
    "              'mag_true_z_lsst',\n",
    "              'mag_true_Y_lsst',\n",
    "              'halo_mass',]\n",
    "\n",
    "cuts = [# A loose magnitude cut\n",
    "        GCRQuery('mag_true_g_lsst < 27'), \n",
    "        # Query halo masses likely to host an AGN\n",
    "        GCRQuery('halo_mass > 1.e13'),\n",
    "        # Query sources belonging to Field 1188\n",
    "        GCRQuery('((ra_true - %f)**2.0 + (dec_true - %f)**2.0)**0.5 < %f' %(field_ra, field_dec, field_radius)),\n",
    "        #GCRQuery('abs(dec_true - %f) < %f' %(field_dec, field_radius)),\n",
    "        ]\n",
    "# Add filters as necessary!\n",
    "galaxies = catalog.get_quantities(quantities, filters=cuts)\n",
    "galaxies = pd.DataFrame(galaxies)"
   ]
  },
  {
   "cell_type": "markdown",
   "metadata": {},
   "source": [
    "## 3. Getting line-of-sight neighbors\n",
    "For each galaxy, any other galaxy or point source (unlensed AGN or star) that lie within its blending scale will be its line-of-sight neighbor. Galaxy neighbors will simply be taken from the extragalactic catalog, which we've already fetched. Point-source neighbors will be taken from the truth catalog as below.\n",
    "\n",
    "### Getting the neighbors (unlensed AGNs and stars) from the truth catalog"
   ]
  },
  {
   "cell_type": "code",
   "execution_count": 38,
   "metadata": {},
   "outputs": [],
   "source": [
    "# truth_catalog = GCRCatalogs.load_catalog('dc2_truth_run1.1_static')\n",
    "truth_catalog = GCRCatalogs.load_catalog('dc2_truth_run1.1', {'md5': None})\n",
    "\n",
    "truth_catalog_columns = ['object_id', 'ra', 'dec', 'star', 'agn', 'sprinkled', 'healpix_2048',\n",
    "                        'u', 'g', 'r', 'i', 'z', 'y',]"
   ]
  },
  {
   "cell_type": "code",
   "execution_count": 44,
   "metadata": {},
   "outputs": [
    {
     "name": "stdout",
     "output_type": "stream",
     "text": [
      "CPU times: user 31.6 s, sys: 4.25 s, total: 35.8 s\n",
      "Wall time: 35.9 s\n"
     ]
    }
   ],
   "source": [
    "%%time\n",
    "# ~40 in Jupyter-dev\n",
    "cuts = ['(star==1) | (agn==1)',\n",
    "        'sprinkled==0',\n",
    "        '((ra - %f)**2.0 + (dec - %f)**2.0)**0.5 < %f' %(field_ra, field_dec, field_radius),\n",
    "       ]\n",
    "\n",
    "# around 15s on Jupyter-dev\n",
    "point_neighbors = truth_catalog.get_quantities(truth_catalog_columns, filters=cuts)\n",
    "point_neighbors = pd.DataFrame(point_neighbors)"
   ]
  },
  {
   "cell_type": "code",
   "execution_count": 46,
   "metadata": {},
   "outputs": [],
   "source": [
    "# Some config constants to define before entering loop\n",
    "deblending_scale = 0.5 # arcsec\n",
    "field_ids = [1188,]\n",
    "field_radius = units.deg_to_arcsec(field_radius) # deg"
   ]
  },
  {
   "cell_type": "code",
   "execution_count": 47,
   "metadata": {},
   "outputs": [],
   "source": [
    "# Some unit conversion and column renaming\n",
    "obs_history_path = os.path.join(data_dir, 'obs_history.csv')\n",
    "field_path = os.path.join(data_dir, 'field.csv')\n",
    "galaxies_path = os.path.join(data_dir, 'galaxies.csv')\n",
    "point_neighbors_path = os.path.join(data_dir, 'point_neighbors.csv')\n",
    "\n",
    "obs_history = helper._format_obs_history(obs_history, field_ids, obs_history_path)\n",
    "field = helper._format_field(field, field_path)\n",
    "galaxies = helper._format_extragal_catalog(galaxies, galaxies_path)\n",
    "point_neighbors = helper._format_truth_catalog(point_neighbors, point_neighbors_path)"
   ]
  },
  {
   "cell_type": "code",
   "execution_count": 57,
   "metadata": {},
   "outputs": [
    {
     "name": "stderr",
     "output_type": "stream",
     "text": [
      "/opt/lsst/software/stack/python/miniconda3-4.5.4/envs/lsst-scipipe-fcd27eb/lib/python3.6/site-packages/ipykernel/__main__.py:72: FutureWarning: Sorting because non-concatenation axis is not aligned. A future version\n",
      "of pandas will change to not sort by default.\n",
      "\n",
      "To accept the future behavior, pass 'sort=False'.\n",
      "\n",
      "To retain the current behavior and silence the warning, pass 'sort=True'.\n",
      "\n"
     ]
    },
    {
     "name": "stdout",
     "output_type": "stream",
     "text": [
      "100 systems completed\n",
      "200 systems completed\n",
      "300 systems completed\n",
      "400 systems completed\n",
      "500 systems completed\n",
      "600 systems completed\n",
      "700 systems completed\n",
      "800 systems completed\n",
      "900 systems completed\n",
      "1000 systems completed\n",
      "CPU times: user 6min 47s, sys: 25.4 s, total: 7min 13s\n",
      "Wall time: 7min 13s\n"
     ]
    },
    {
     "name": "stderr",
     "output_type": "stream",
     "text": [
      "/opt/lsst/software/stack/python/miniconda3-4.5.4/envs/lsst-scipipe-fcd27eb/lib/python3.6/site-packages/ipykernel/__main__.py:76: FutureWarning: Sorting because non-concatenation axis is not aligned. A future version\n",
      "of pandas will change to not sort by default.\n",
      "\n",
      "To accept the future behavior, pass 'sort=False'.\n",
      "\n",
      "To retain the current behavior and silence the warning, pass 'sort=True'.\n",
      "\n"
     ]
    }
   ],
   "source": [
    "%%time\n",
    "source_cols = ['objectId', 'ccdVisitId', \n",
    "               'apFlux', 'Ix', 'Iy', 'Ixx', 'Iyy', 'Ixy', \n",
    "               'Ixx_PSF', 'sky', 'apFluxErr', 'expMJD',\n",
    "               'num_star_neighbors', 'num_agn_neighbors', 'num_sprinkled_neighbors']\n",
    "\n",
    "source = pd.DataFrame(columns=source_cols)\n",
    "\n",
    "for field_id in field_ids:\n",
    "    # Note: Much of the field querying is redundant to what we did in advance\n",
    "    # in this notebook, outside the loop.\n",
    "    # Query obs_history for the field of interest\n",
    "    obs_history_in_field = obs_history.loc[obs_history['Field_fieldID']==field_id].copy()\n",
    "    # Find field center for field id by querying the field table of OpSim db\n",
    "    field_info = field.loc[field['fieldID']==field_id]\n",
    "    field_ra, field_dec = field_info['fieldRA'].item(), field_info['fieldDec'].item()\n",
    "    # Query extragalactic catalog for galaxies within field\n",
    "    galaxies_in_field, galaxies_in_field_idx = helper.get_neighbors(galaxies, field_ra, field_dec, field_radius)\n",
    "    num_galaxies = len(galaxies_in_field_idx)\n",
    "    # Query truth catalog for stars/AGNs within field\n",
    "    points_in_field, _ = helper.get_neighbors(point_neighbors, field_ra, field_dec, field_radius)\n",
    "    # Initialize DataFrame to populate before joining with obs_history_in_field\n",
    "    source_in_field = pd.DataFrame(columns=source_cols)\n",
    "\n",
    "    for gal_idx in range(1000): #range(num_galaxies):\n",
    "        # Central galaxy\n",
    "        central_gal = galaxies_in_field.iloc[gal_idx]\n",
    "        ra_center, dec_center = central_gal['ra'], central_gal['dec'] # pos of central galaxy\n",
    "        \n",
    "        ##########################\n",
    "        # Find blended neighbors #\n",
    "        ##########################\n",
    "        # Galaxy neighbors (extended) : includes the central galaxy, not just neighbors\n",
    "        all_gal, all_gal_idx = helper.get_neighbors(galaxies_in_field, ra_center, dec_center, deblending_scale) \n",
    "        num_gal_neighbors = len(all_gal_idx) - 1 # subtract central galaxy itself\n",
    "        # Stars/AGN neighbors (point)\n",
    "        point, point_idx = helper.get_neighbors(points_in_field, ra_center, dec_center, deblending_scale) \n",
    "        num_star_neighbors = point['star'].sum()\n",
    "        num_agn_neighbors = point['agn'].sum()\n",
    "        num_sprinkled_neighbors = point['sprinkled'].sum()\n",
    "\n",
    "        #################\n",
    "        # Sersic to MoG #\n",
    "        #################\n",
    "        # Separate galaxy catalog into bulge and disk\n",
    "        bulge, disk, all_gal = helper.separate_bulge_disk(all_gal)\n",
    "        # Deconstruct bulge/disk into MoG\n",
    "        bulge_mog = helper.sersic_to_mog(sersic_df=bulge, bulge_or_disk='bulge')\n",
    "        disk_mog = helper.sersic_to_mog(sersic_df=disk, bulge_or_disk='disk')\n",
    "        point_mog = helper.point_to_mog(point_df=point)\n",
    "        # Concat the three\n",
    "        full_mog = pd.concat([bulge_mog, disk_mog, point_mog], axis=0)\n",
    "        \n",
    "        # Add some metadata\n",
    "        full_mog['objectId'] = central_gal['galaxy_id'] # identifier for blended system\n",
    "        full_mog['num_gal_neighbors'] = num_gal_neighbors\n",
    "        full_mog['num_star_neighbors'] = num_star_neighbors\n",
    "        full_mog['num_agn_neighbors'] = num_agn_neighbors\n",
    "        full_mog['num_sprinkled_neighbors'] = num_sprinkled_neighbors\n",
    "        \n",
    "        # Join with observations\n",
    "        mog_observed = helper.join_with_observation(full_mog, obs_history_in_field)\n",
    "        # Remove unobserved fluxes (only keep flux of observed filter)\n",
    "        mog_observed = helper.collapse_unobserved_fluxes(mog_observed)\n",
    "        # Calculate moment contribution of each Gaussian of blended system\n",
    "        mog_observed = moments.calculate_total_flux(mog_observed)\n",
    "        mog_observed = moments.calculate_1st_moments(mog_observed)\n",
    "        mog_observed = moments.calculate_2nd_moments(mog_observed)\n",
    "        # Collapse MoGs into one blended system\n",
    "        blended = moments.collapse_mog(mog_observed)\n",
    "        blended = moments.apply_environment(blended)\n",
    "        \n",
    "        source_in_field = pd.concat([source_in_field, blended], axis=0)\n",
    "        if (gal_idx + 1) %100 == 0:\n",
    "            print(\"%d systems completed\" %(gal_idx + 1))\n",
    "        \n",
    "    source = pd.concat([source, source_in_field], axis=0)"
   ]
  },
  {
   "cell_type": "markdown",
   "metadata": {},
   "source": [
    "Here are sample light curves of a blended system consisting of 2 galaxies."
   ]
  },
  {
   "cell_type": "code",
   "execution_count": 113,
   "metadata": {},
   "outputs": [],
   "source": [
    "# Add a 'filter' column to the Source Catalog by joining with the obs_history table\n",
    "source['ccdVisitId'] = source['ccdVisitId'].astype(int)\n",
    "obs_history_in_field = obs_history_in_field[['ccdVisitId', 'filter']].copy()\n",
    "source = pd.merge(source, obs_history_in_field, on='ccdVisitId', how='left')"
   ]
  },
  {
   "cell_type": "code",
   "execution_count": 120,
   "metadata": {},
   "outputs": [],
   "source": [
    "# Choose a random system with 2 galaxies blended together.\n",
    "sample_id = source.loc[source['num_gal_neighbors']==1]['objectId'].unique()[1]\n",
    "sample_lc = source.loc[source['objectId']==sample_id][['filter', 'apFlux', 'expMJD', 'ccdVisitId', 'apFluxErr']]"
   ]
  },
  {
   "cell_type": "code",
   "execution_count": 121,
   "metadata": {},
   "outputs": [
    {
     "data": {
      "text/plain": [
       "Text(0.5,0,'expMJD')"
      ]
     },
     "execution_count": 121,
     "metadata": {},
     "output_type": "execute_result"
    },
    {
     "data": {
      "image/png": "[encoded data removed]",
      "text/plain": [
       "<Figure size 432x288 with 1 Axes>"
      ]
     },
     "metadata": {
      "needs_background": "light"
     },
     "output_type": "display_data"
    }
   ],
   "source": [
    "# Plot light curve\n",
    "color_dict = {'u': 'm', 'g': 'b', 'r': 'c', 'i': 'g', 'z': 'y', 'y': 'r'}\n",
    "for bp in 'ugrizy':\n",
    "    times = sample_lc.loc[sample_lc['filter']==bp]['expMJD'].values\n",
    "    fluxes = sample_lc.loc[sample_lc['filter']==bp]['apFlux'].values\n",
    "    mags = units.flux_to_mag(fluxes, from_unit='nMgy')\n",
    "    plt.plot(times, mags, color_dict[bp] + '.', label=bp)\n",
    "plt.legend(loc='center left', bbox_to_anchor=(1, 0.5))\n",
    "plt.ylabel('magnitude')\n",
    "plt.xlabel('expMJD')"
   ]
  }
 ],
 "metadata": {
  "kernelspec": {
   "display_name": "desc-stack",
   "language": "python",
   "name": "desc-stack"
  },
  "language_info": {
   "codemirror_mode": {
    "name": "ipython",
    "version": 3
   },
   "file_extension": ".py",
   "mimetype": "text/x-python",
   "name": "python",
   "nbconvert_exporter": "python",
   "pygments_lexer": "ipython3",
   "version": "3.6.6"
  }
 },
 "nbformat": 4,
 "nbformat_minor": 2
}

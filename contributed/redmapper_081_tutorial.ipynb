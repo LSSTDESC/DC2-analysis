{
 "cells": [
  {
   "cell_type": "markdown",
   "id": "40694ffa-0ec8-4474-b6bd-9131f26a2c07",
   "metadata": {},
   "source": [
    "# Read And Play with redMaPPer Catalog from cosmoDC2 v1.1.4 and DC2 DR6"
   ]
  },
  {
   "cell_type": "markdown",
   "id": "cb79c295-3ad9-4ec2-82aa-da4c6b954cf5",
   "metadata": {},
   "source": [
    "This tutorial describes access to the redMaPPer v0.8.1 run on cosmoDC2 (truth input catalog) and DC2 DR6 (observed catalog).  Access to the catalogs is via GCRCatalogs."
   ]
  },
  {
   "cell_type": "code",
   "execution_count": null,
   "id": "9c82d19a-b655-4e60-8394-25ef4a41931d",
   "metadata": {},
   "outputs": [],
   "source": [
    "import GCRCatalogs\n",
    "from astropy.table import Table\n",
    "import esutil\n",
    "import numpy as np\n",
    "import matplotlib.pyplot as plt\n"
   ]
  },
  {
   "cell_type": "markdown",
   "id": "09b398cf-e23e-4a67-a5e6-c814f863356e",
   "metadata": {},
   "source": [
    "## Working with the cosmoDC2 redMaPPer Catalog"
   ]
  },
  {
   "cell_type": "markdown",
   "id": "d1080bf3-f869-4c44-8e6d-2efb68867f74",
   "metadata": {},
   "source": [
    "First we read in the \"truth\" cluster catalog. The catalog that is distributed has been cut to lambda>20, which means that there are the equivalent of 20 red galaxies brighter than 0.2L* within the optimal cluster radius. This corresponds to a mass threshold of appriximately 1e14 M_sun."
   ]
  },
  {
   "cell_type": "code",
   "execution_count": null,
   "id": "d2e80b80-1704-4a42-a47d-508a3010cb6e",
   "metadata": {},
   "outputs": [],
   "source": [
    "# Get the redMaPPer catalog\n",
    "gc = GCRCatalogs.load_catalog('cosmoDC2_v1.1.4_redmapper_v0.8.1')"
   ]
  },
  {
   "cell_type": "code",
   "execution_count": null,
   "id": "7b8bef71-ee97-4e1a-8155-d5fb191e3bc5",
   "metadata": {},
   "outputs": [],
   "source": [
    "# Select out the cluster and member quantities into different lists\n",
    "quantities = gc.list_all_quantities()\n",
    "# These are the quantities that describe the clusters and the central galaxies\n",
    "cluster_quantities = [q for q in quantities if 'member' not in q]\n",
    "# These are the quantities that describe the members\n",
    "member_quantities = [q for q in quantities if 'member' in q]\n"
   ]
  },
  {
   "cell_type": "code",
   "execution_count": null,
   "id": "3eeabdef-0ce3-40a3-af07-a07a022235ac",
   "metadata": {},
   "outputs": [],
   "source": [
    "# The clusters and members are linked via \"cluster_id\"\n",
    "print(cluster_quantities)"
   ]
  },
  {
   "cell_type": "code",
   "execution_count": null,
   "id": "d4254253-d74c-4710-b256-f394c534f57a",
   "metadata": {},
   "outputs": [],
   "source": [
    "print(member_quantities)"
   ]
  },
  {
   "cell_type": "code",
   "execution_count": null,
   "id": "a1b24df0-4c06-4daa-931c-2f0c5e125049",
   "metadata": {},
   "outputs": [],
   "source": [
    "# Read in the cluster and member data\n",
    "cluster_data = Table(gc.get_quantities(cluster_quantities))\n",
    "member_data = Table(gc.get_quantities(member_quantities))"
   ]
  },
  {
   "cell_type": "code",
   "execution_count": null,
   "id": "6b166375-4974-4f7f-b06f-459cf1dbf708",
   "metadata": {},
   "outputs": [],
   "source": [
    "# Compare the cluster photo-z to the central galaxy true redshift\n",
    "plt.hexbin(cluster_data['redshift'], cluster_data['redshift_true_cg'], bins='log')\n",
    "plt.plot([0.1, 1.15], [0.1, 1.15], 'k--')\n",
    "plt.xlabel('z_lambda')\n",
    "plt.ylabel('z_spec_central')"
   ]
  },
  {
   "cell_type": "markdown",
   "id": "945b44ac-08ef-4fcf-9bde-e3029b763d90",
   "metadata": {},
   "source": [
    "This is a plot comparing the cluster photo-z (z_lambda) which is computed by fitting all the members to the red-sequence model simultaneously, to the true (spectroscopic) redshift of the central galaxy (z_spec_central). The photo-z performance is very good, made possible by the fact that (a) cluster redshift finding can be very precise by fitting 20 red galaxies simultaneously, and (b) the extragalactic catalog is blissfully free of systematics. However, there are some outliers. As shown below these outliers are where redMaPPer has chosen an incorrect central galaxy, so the central redshift doesn't agree with the cluster redshift, but the average of the member redshifts is consistent with the cluster redshift."
   ]
  },
  {
   "cell_type": "markdown",
   "id": "0296cbda-02cc-4829-b25e-608a147fafa9",
   "metadata": {},
   "source": [
    "Now let's match the cluster centrals and members by the galaxy ID to look at the central colors"
   ]
  },
  {
   "cell_type": "code",
   "execution_count": null,
   "id": "e7c74912-e217-4146-a9bc-70224f66b962",
   "metadata": {},
   "outputs": [],
   "source": [
    "# First, we will want to read in the \"truth\" as a comparison\n",
    "# Note that we're just reading in the small subset for a faster comparison\n",
    "# Nevertheless, this takes a bit of time.\n",
    "gc_truth = GCRCatalogs.load_catalog('cosmoDC2_v1.1.4_small')\n",
    "quantities_wanted = ['mag_true_g_lsst', 'mag_true_r_lsst', 'mag_true_i_lsst', 'mag_true_z_lsst', 'mag_true_y_lsst', 'redshift']\n",
    "query = GCRCatalogs.GCRQuery('(is_central == True) & (halo_mass > 5e13)')\n",
    "truth_data = Table(gc_truth.get_quantities(quantities_wanted, [query]))"
   ]
  },
  {
   "cell_type": "code",
   "execution_count": null,
   "id": "f18fccb6-4853-4b63-b6f5-03d2a4923394",
   "metadata": {},
   "outputs": [],
   "source": [
    "# Match by id\n",
    "uid, ind = np.unique(cluster_data['id_cen_0'], return_index=True)\n",
    "a, b = esutil.numpy_util.match(cluster_data['id_cen_0'][ind], member_data['id_member'])\n",
    "print(a.size)"
   ]
  },
  {
   "cell_type": "code",
   "execution_count": null,
   "id": "344506cf-62d6-46c4-9076-295e7d752789",
   "metadata": {},
   "outputs": [],
   "source": [
    "plt.plot(truth_data['redshift'], truth_data['mag_true_g_lsst'] - truth_data['mag_true_r_lsst'], 'b+', label='True Centrals')\n",
    "plt.plot(cluster_data['redshift'][ind[a]], member_data['mag_g_lsst_member'][b] - member_data['mag_r_lsst_member'][b], 'r.', label='redMaPPer Centrals')\n",
    "plt.xlim(0.0, 1.2)\n",
    "plt.ylim(0.6,2.0)\n",
    "plt.legend()\n",
    "plt.xlabel('cluster redshift')\n",
    "plt.ylabel('g-r of central galaxy')"
   ]
  },
  {
   "cell_type": "markdown",
   "id": "ac9d6e41-8c5e-4112-8746-7d5dd828958c",
   "metadata": {},
   "source": [
    "The above plot is a comparison of the the g-r color as a function of redshift of \"true\" centrals (from the extragalactic catalog), in blue, to the color as a function of redshift of redMaPPer centrals (in red). redMaPPer only finds the red centrals, and thus any halo/cluster with a blue central will be miscentered by redMaPPer (the true rate of clusters with blue centrals at z<1.0 is of some debate). Other than that, the color distribution of centrals found by redMaPPer is consistent with that of the true centrals. The g-r color is most reliable at z<0.4 due to the location of the 4000A break."
   ]
  },
  {
   "cell_type": "code",
   "execution_count": null,
   "id": "447805a3-d5e9-4c52-9fb0-d2a515e29ad0",
   "metadata": {},
   "outputs": [],
   "source": [
    "plt.plot(truth_data['redshift'], truth_data['mag_true_r_lsst'] - truth_data['mag_true_i_lsst'], 'b+', label='True Centrals')\n",
    "plt.plot(cluster_data['redshift'][ind[a]], member_data['mag_r_lsst_member'][b] - member_data['mag_i_lsst_member'][b], 'r.', label='redMaPPer Centrals')\n",
    "plt.xlim(0.0, 1.2)\n",
    "plt.ylim(0.4, 1.3)\n",
    "plt.legend()\n",
    "plt.xlabel('cluster redshift')\n",
    "plt.ylabel('r-i of central galaxy')"
   ]
  },
  {
   "cell_type": "markdown",
   "id": "aa0c0bed-01fb-4156-95b0-6a8da544d6cc",
   "metadata": {},
   "source": [
    "Same as the plot above, except for the r-i color. This is more reliable at z<0.8. The hitch between 0.35<z<0.40 is a feature of the extragalactic catalog that is not seen in real data."
   ]
  },
  {
   "cell_type": "code",
   "execution_count": null,
   "id": "f44ff412-d060-433d-9224-30eada4bd21d",
   "metadata": {},
   "outputs": [],
   "source": [
    "plt.plot(truth_data['redshift'], truth_data['mag_true_i_lsst'] - truth_data['mag_true_z_lsst'], 'b+', label='True Centrals')\n",
    "plt.plot(cluster_data['redshift'][ind[a]], member_data['mag_i_lsst_member'][b] - member_data['mag_z_lsst_member'][b], 'r.', label='redMaPPer Centrals')\n",
    "plt.xlim(0.0, 1.2)\n",
    "plt.ylim(0.2, 1.0)\n",
    "plt.legend()\n",
    "plt.xlabel('cluster redshift')\n",
    "plt.ylabel('i-z of central galaxy')"
   ]
  },
  {
   "cell_type": "markdown",
   "id": "a63d5d52-d8a1-46c7-a3cc-6cec53c00157",
   "metadata": {},
   "source": [
    "Same as the plots above, except for the i-z color. This is most useful at 0.7<z<1.0."
   ]
  },
  {
   "cell_type": "code",
   "execution_count": null,
   "id": "48aa15a6-580c-431b-b5fe-9dc96216278f",
   "metadata": {},
   "outputs": [],
   "source": [
    "plt.plot(truth_data['redshift'], truth_data['mag_true_z_lsst'] - truth_data['mag_true_y_lsst'], 'b+', label='True Centrals')\n",
    "plt.plot(cluster_data['redshift'][ind[a]], member_data['mag_z_lsst_member'][b] - member_data['mag_y_lsst_member'][b], 'r.', label='redMaPPer Centrals')\n",
    "plt.xlim(0.0, 1.2)\n",
    "plt.ylim(0.1, 0.8)\n",
    "plt.legend()\n",
    "plt.xlabel('cluster redshift')\n",
    "plt.ylabel('z-y of central galaxy')"
   ]
  },
  {
   "cell_type": "markdown",
   "id": "5e2d3322-63b6-4c8d-b52f-da946a26f12b",
   "metadata": {},
   "source": [
    "Same as the plots above, except for the z-y color. If the y-band galaxy measurements are reliable in real LSST data, this will allow robust red-sequence cluster finding to z<~1.2."
   ]
  },
  {
   "cell_type": "markdown",
   "id": "56788114-71d0-4df6-bcf7-69680d799101",
   "metadata": {},
   "source": [
    "### Match Clusters and Members to look at the median member redshift"
   ]
  },
  {
   "cell_type": "markdown",
   "id": "ab2f6fa5-6b21-4d8f-a026-410901790e95",
   "metadata": {},
   "source": [
    "In this section we are going to compare clusters to members and look at the median member redshift. This is only possible with synthetic catalogs where we have true redshifts for all members."
   ]
  },
  {
   "cell_type": "code",
   "execution_count": null,
   "id": "9c8735cc-2884-409e-942f-f397cffdde0c",
   "metadata": {},
   "outputs": [],
   "source": [
    "# Clean out any members without ztrue information\n",
    "# There are a few of these due to a very small id-matching bug that was fixed in post-processing for ~99.9% of the members.\n",
    "ok, = np.where(member_data['redshift_true_member'] > 0.0)\n",
    "mem = member_data[ok]"
   ]
  },
  {
   "cell_type": "code",
   "execution_count": null,
   "id": "56e79f4f-3158-4e77-b9f6-87fa4a3ae3f5",
   "metadata": {},
   "outputs": [],
   "source": [
    "# match clusters to members using cluster_id\n",
    "a, b = esutil.numpy_util.match(cluster_data['cluster_id'], mem['cluster_id_member'])\n",
    "# Use the reverse indicies from esutil histogram to group these into cluster bins\n",
    "h, rev = esutil.stat.histogram(a, rev=True)\n",
    "mem_zmedian = np.zeros(len(cluster_data))\n",
    "for i in range(len(cluster_data)):\n",
    "    i1a = rev[rev[i]: rev[i + 1]]\n",
    "    mem_zmedian[i] = np.median(mem['redshift_true_member'][i1a])"
   ]
  },
  {
   "cell_type": "code",
   "execution_count": null,
   "id": "4fc5641c-08ee-4510-95af-ad5d6a6e137a",
   "metadata": {},
   "outputs": [],
   "source": [
    "plt.plot(cluster_data['redshift'], mem_zmedian, 'r.')\n",
    "plt.plot([0.1, 1.2], [0.1, 1.2], 'k--')\n",
    "plt.xlabel('z_lambda')\n",
    "plt.ylabel('Median true redshift from members')"
   ]
  },
  {
   "cell_type": "markdown",
   "id": "815961fd-67dd-4180-8727-6bcbb76268b9",
   "metadata": {},
   "source": [
    "This is a plot of the median true redshift of the members vs the cluster photo-z (z_lambda). The outliers seen above are gone, showing that these outliers where the central galaxy did not agree with the cluster photo-z were due to miscentering and not due to problems with the photo-zs."
   ]
  },
  {
   "cell_type": "markdown",
   "id": "abce181e-083e-4e5e-b8df-1a159434e7ae",
   "metadata": {},
   "source": [
    "## Looking at redMaPPer from DC2 DR6"
   ]
  },
  {
   "cell_type": "code",
   "execution_count": null,
   "id": "9200567d-53c5-48be-83b8-7998e14b25e0",
   "metadata": {},
   "outputs": [],
   "source": [
    "# Get the redMaPPer catalog\n",
    "gc_dr6 = GCRCatalogs.load_catalog('dc2_redmapper_run2.2i_dr6_wfd_v0.8.1')"
   ]
  },
  {
   "cell_type": "code",
   "execution_count": null,
   "id": "ae43cb41-50cc-431b-bda4-261efe72805c",
   "metadata": {},
   "outputs": [],
   "source": [
    "# Read in the cluster and member data\n",
    "cluster_data_dr6 = Table(gc_dr6.get_quantities(cluster_quantities))\n",
    "member_data_dr6 = Table(gc_dr6.get_quantities(member_quantities))"
   ]
  },
  {
   "cell_type": "code",
   "execution_count": null,
   "id": "2a9d62fb-18a2-4b4c-bb18-c059e4f7c5af",
   "metadata": {},
   "outputs": [],
   "source": [
    "# Do some simple ra/dec matching\n",
    "htm = esutil.htm.HTM(11)\n",
    "matcher = esutil.htm.Matcher(11, cluster_data['ra'], cluster_data['dec'])\n",
    "matches = matcher.match(cluster_data_dr6['ra'], cluster_data_dr6['dec'],\n",
    "                        10/60.0,\n",
    "                        maxmatch=1)\n",
    "i1 = matches[1]\n",
    "i2 = matches[0]\n",
    "print(i1.size)"
   ]
  },
  {
   "cell_type": "code",
   "execution_count": null,
   "id": "51cfafaf-0bf7-400a-a407-df0b98af6f25",
   "metadata": {},
   "outputs": [],
   "source": [
    "gd, = np.where(np.abs(cluster_data['redshift'][i1] - cluster_data_dr6['redshift'][i2]) < 0.05)"
   ]
  },
  {
   "cell_type": "code",
   "execution_count": null,
   "id": "197c0ddc-d562-4aab-935a-3a0d97e28c29",
   "metadata": {},
   "outputs": [],
   "source": [
    "plt.plot(cluster_data['redshift'][i1], cluster_data_dr6['redshift'][i2], 'r.')\n",
    "plt.plot(cluster_data['redshift'][i1[gd]], cluster_data_dr6['redshift'][i2[gd]], 'b+')\n",
    "plt.xlabel('z_lambda_cosmodc2')\n",
    "plt.ylabel('z_lambda_dr6')\n",
    "plt.plot([0.1, 1.2], [0.1, 1.2], 'k--')\n"
   ]
  },
  {
   "cell_type": "code",
   "execution_count": null,
   "id": "13fed0fc-0626-4ed2-9a11-215b6cff45e9",
   "metadata": {},
   "outputs": [],
   "source": [
    "plt.hexbin(cluster_data['richness'][i1[gd]], cluster_data_dr6['richness'][i2[gd]], bins='log')\n",
    "plt.xlabel('lambda_cosmodc2')\n",
    "plt.ylabel('lambda_dr6')\n",
    "plt.plot([20, 200], [20, 200], 'r--')"
   ]
  },
  {
   "cell_type": "code",
   "execution_count": null,
   "id": "f8352f8e-fa05-478e-b815-5dc87c92822d",
   "metadata": {},
   "outputs": [],
   "source": [
    "plt.hexbin(cluster_data['redshift'][i1[gd]], cluster_data_dr6['richness'][i2[gd]]/cluster_data['richness'][i1[gd]], bins='log', extent=[0.15, 1.2, 0, 2])\n",
    "plt.xlabel('z_lambda_cosmodc2')\n",
    "plt.ylabel('lambda_dr6/lambda_cosmodc2')\n",
    "plt.plot([0.15, 1.2], [1.0, 1.0], 'r--')"
   ]
  },
  {
   "cell_type": "code",
   "execution_count": null,
   "id": "d9cf8a56-54eb-4c45-8e1d-39e57071e75f",
   "metadata": {},
   "outputs": [],
   "source": []
  }
 ],
 "metadata": {
  "kernelspec": {
   "display_name": "desc-stack-weekly-latest",
   "language": "python",
   "name": "desc-stack-weekly-latest"
  },
  "language_info": {
   "codemirror_mode": {
    "name": "ipython",
    "version": 3
   },
   "file_extension": ".py",
   "mimetype": "text/x-python",
   "name": "python",
   "nbconvert_exporter": "python",
   "pygments_lexer": "ipython3",
   "version": "3.8.8"
  }
 },
 "nbformat": 4,
 "nbformat_minor": 5
}

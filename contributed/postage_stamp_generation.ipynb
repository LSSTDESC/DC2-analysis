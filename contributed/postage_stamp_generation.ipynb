{
 "cells": [
  {
   "cell_type": "markdown",
   "metadata": {},
   "source": [
    "### This notebook generates postage stamps to examine anamolous objects found in FoFResults.ipynb.\n",
    "### This notebook uses the tutorial code found here: \n",
    "\n",
    "https://github.com/LSSTDESC/DC2-analysis/blob/master/tutorials/dm_butler_postage_stamps.ipynb\n",
    "\n",
    "### Owners: Bhairav Valera, Michael Wood-Vasey (owner of tutorial code)"
   ]
  },
  {
   "cell_type": "code",
   "execution_count": null,
   "metadata": {},
   "outputs": [],
   "source": [
    "import os\n",
    "import numpy as np\n",
    "import random\n",
    "import lsst.daf.persistence as dafPersist\n",
    "import lsst.afw.geom as afwGeom\n",
    "import lsst.afw.coord as afwCoord\n",
    "import lsst.afw.image as afwImage\n",
    "import lsst.afw.display as afwDisplay\n",
    "\n",
    "from astropy.table import Table\n",
    "from astropy.visualization import ZScaleInterval"
   ]
  },
  {
   "cell_type": "code",
   "execution_count": null,
   "metadata": {},
   "outputs": [],
   "source": [
    "import matplotlib.pyplot as plt\n",
    "plt.rcParams['figure.figsize'] = (6, 6)\n",
    "zscale = ZScaleInterval()"
   ]
  },
  {
   "cell_type": "markdown",
   "metadata": {},
   "source": [
    "These cells are from the tutorial notebook as a foundation for creating postage stamp images."
   ]
  },
  {
   "cell_type": "code",
   "execution_count": null,
   "metadata": {},
   "outputs": [],
   "source": [
    "def cutout_coadd_ra_dec(butler, ra, dec, filter='r', datasetType='deepCoadd', **kwargs):\n",
    "    radec = afwGeom.SpherePoint(ra, dec, afwGeom.degrees)\n",
    "    return cutout_coadd_spherepoint(butler, radec, filter=filter, datasetType=datasetType)\n",
    "\n",
    "def cutout_coadd_spherepoint(butler, radec, filter='r', datasetType='deepCoadd',\n",
    "                             skymap=None, cutoutSideLength=51, **kwargs):\n",
    "    cutoutSize = afwGeom.ExtentI(cutoutSideLength, cutoutSideLength)\n",
    "    if skymap is None:\n",
    "        skymap = butler.get(\"%s_skyMap\" % datasetType)\n",
    "     # Look up the tract, patch for the RA, Dec\n",
    "    tractInfo = skymap.findTract(radec)\n",
    "    patchInfo = tractInfo.findPatch(radec)\n",
    "    xy = afwGeom.PointI(tractInfo.getWcs().skyToPixel(radec))\n",
    "    bbox = afwGeom.BoxI(xy - cutoutSize//2, cutoutSize)\n",
    "    coaddId = {'tract': tractInfo.getId(), 'patch': \"%d,%d\" % patchInfo.getIndex(), 'filter': filter}\n",
    "    cutout_image = butler.get(datasetType+'_sub', bbox=bbox, immediate=True, dataId=coaddId)\n",
    "    return cutout_image"
   ]
  },
  {
   "cell_type": "code",
   "execution_count": null,
   "metadata": {},
   "outputs": [],
   "source": [
    "def make_cutout_image(butler, ra, dec, filter='r', vmin=None, vmax=None, label=None,\n",
    "                      show=True, saveplot=False, savefits=False,\n",
    "                      datasetType='deepCoadd'):\n",
    "    cutout_image = cutout_coadd_ra_dec(butler, ra, dec, filter=filter, datasetType='deepCoadd')\n",
    "    if savefits:\n",
    "        if isinstance(savefits, str):\n",
    "            filename = savefits\n",
    "        else:\n",
    "            filename = 'postage-stamp.fits'\n",
    "        cutout_image.writeFits(filename)\n",
    "    \n",
    "    radec = afwGeom.SpherePoint(ra, dec, afwGeom.degrees)\n",
    "    xy = cutout_image.getWcs().skyToPixel(radec)\n",
    "    \n",
    "    if vmin is None or vmax is None:\n",
    "        vmin, vmax = zscale.get_limits(cutout_image.image.array)\n",
    "\n",
    "    plt.imshow(cutout_image.image.array, vmin=vmin, vmax=vmax, cmap='binary_r', origin='lower')\n",
    "    plt.colorbar()\n",
    "    plt.scatter(xy.getX() - cutout_image.getX0(), xy.getY() - cutout_image.getY0(),\n",
    "                color='none', edgecolor='red', marker='o', s=200)\n",
    "    if label is not None:\n",
    "        plt.title(label)\n",
    "    if saveplot:\n",
    "        if isinstance(saveplot, str):\n",
    "            filename = saveplot\n",
    "        else:\n",
    "            filename = 'postage-stamp.png'\n",
    "        plt.savefig(filename)\n",
    "    if show:\n",
    "        plt.show()\n",
    "\n",
    "    return cutout_image"
   ]
  },
  {
   "cell_type": "markdown",
   "metadata": {},
   "source": [
    "The `%store -r` command reads any locally stored data. These lists are taken from the `FoFResults.ipynb` notebook."
   ]
  },
  {
   "cell_type": "code",
   "execution_count": null,
   "metadata": {},
   "outputs": [],
   "source": [
    "%store -r bright_objects_filtered_idx01\n",
    "%store -r bright_objects_filtered_ra01\n",
    "%store -r bright_objects_filtered_dec01\n",
    "\n",
    "%store -r bright_objects_filtered_idx11\n",
    "%store -r bright_objects_filtered_ra11\n",
    "%store -r bright_objects_filtered_dec11"
   ]
  },
  {
   "cell_type": "code",
   "execution_count": null,
   "metadata": {},
   "outputs": [],
   "source": [
    "bright_objects_filtered_idx01 = np.array(bright_objects_filtered_idx01).tolist()\n",
    "bright_objects_filtered_ra01 = np.array(bright_objects_filtered_ra01).tolist()\n",
    "bright_objects_filtered_dec01 = np.array(bright_objects_filtered_dec01).tolist()\n",
    "\n",
    "bright_objects_filtered_idx11 = np.array(bright_objects_filtered_idx11).tolist()\n",
    "bright_objects_filtered_ra11 = np.array(bright_objects_filtered_ra11).tolist()\n",
    "bright_objects_filtered_dec11 = np.array(bright_objects_filtered_dec11).tolist()"
   ]
  },
  {
   "cell_type": "code",
   "execution_count": null,
   "metadata": {},
   "outputs": [],
   "source": [
    "repo = '/global/projecta/projectdirs/lsst/global/in2p3/Run1.1/output'\n",
    "butler = dafPersist.Butler(repo)"
   ]
  },
  {
   "cell_type": "code",
   "execution_count": null,
   "metadata": {},
   "outputs": [],
   "source": [
    "bright_objects_table01 = Table([bright_objects_filtered_idx01,\n",
    "                              bright_objects_filtered_ra01,\n",
    "                              bright_objects_filtered_dec01], names=('ID', 'RA', 'DEC'), \n",
    "                              meta={'name' : 'bright_objects_table01'})\n",
    "\n",
    "bright_objects_table11 = Table([bright_objects_filtered_idx11,\n",
    "                              bright_objects_filtered_ra11,\n",
    "                              bright_objects_filtered_dec11], names=('ID', 'RA', 'DEC'), \n",
    "                              meta={'name' : 'bright_objects_table11'})\n",
    "\n",
    "print(bright_objects_table01)\n",
    "print(bright_objects_table11)"
   ]
  },
  {
   "cell_type": "code",
   "execution_count": null,
   "metadata": {},
   "outputs": [],
   "source": [
    "subfolder = 'Stamps'\n",
    "if not os.path.exists(subfolder):\n",
    "    os.mkdir(subfolder)"
   ]
  },
  {
   "cell_type": "markdown",
   "metadata": {},
   "source": [
    "Reducing the size of the table (initially ~13000 rows) to just a few stamps. "
   ]
  },
  {
   "cell_type": "code",
   "execution_count": null,
   "metadata": {},
   "outputs": [],
   "source": [
    "random_bright_table11 = Table([[0], [float(0)], [float(0)]], names=('ID', 'RA', 'DEC'), \n",
    "                              meta={'name' : 'bright_objects_table01'})\n",
    "count = 0\n",
    "while count < 5:\n",
    "    row = random.choice(bright_objects_table11)\n",
    "    random_bright_table11.add_row(row)\n",
    "    count+=1\n",
    "random_bright_table11.remove_row(0)"
   ]
  },
  {
   "cell_type": "markdown",
   "metadata": {},
   "source": [
    "Creating the stamps, as shown in the tutorial notebook."
   ]
  },
  {
   "cell_type": "code",
   "execution_count": null,
   "metadata": {},
   "outputs": [],
   "source": [
    "frame = 1\n",
    "vmin, vmax = -0.5, +1.75\n",
    "filter = 'u'\n",
    "show = True\n",
    "saveplot = False\n",
    "datasetType = 'deepCoadd'\n",
    "\n",
    "for objectId, ra, dec in random_bright_table11:\n",
    "    plt.figure(frame)\n",
    "    plt.clf()\n",
    "    basename = \"Stamps/%s_%s_%s\" % (datasetType, objectId, filter)\n",
    "    saveplot = \"%s.png\" % basename\n",
    "    cutout = make_cutout_image(butler, ra, dec, filter=filter, vmin=vmin, vmax=vmax,\n",
    "                      label=\"Object ID: %d\" % objectId,\n",
    "                      show=show, saveplot=saveplot)"
   ]
  },
  {
   "cell_type": "code",
   "execution_count": null,
   "metadata": {},
   "outputs": [],
   "source": []
  }
 ],
 "metadata": {
  "kernelspec": {
   "display_name": "Python [conda env:myenv]",
   "language": "python",
   "name": "conda-env-myenv-py"
  },
  "language_info": {
   "codemirror_mode": {
    "name": "ipython",
    "version": 3
   },
   "file_extension": ".py",
   "mimetype": "text/x-python",
   "name": "python",
   "nbconvert_exporter": "python",
   "pygments_lexer": "ipython3",
   "version": "3.6.5"
  }
 },
 "nbformat": 4,
 "nbformat_minor": 2
}

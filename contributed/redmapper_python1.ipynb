{
 "cells": [
  {
   "cell_type": "markdown",
   "metadata": {},
   "source": [
    "Read And Play with redMaPPer Catalog from cosmoDC2 v1.1.4\n",
    "---------------------------------------------------------\n",
    "\n",
    "This notebook shows how to read in the new redMaPPer catalog run on cosmoDC2 v1.1.4.\n",
    "\n",
    "For reference, the commands to get the data that were used as an input to redmapper were:\n",
    "```python\n",
    "import GCRCatalogs\n",
    "from astropy.table import Table\n",
    "\n",
    "gc = GCRCatalogs.load_catalog('cosmoDC2_v1.1.4')\n",
    "quantities_wanted = ['galaxy_id', 'ra', 'dec', 'redshift', \n",
    "                     'mag_true_g_lsst', 'mag_true_r_lsst', 'mag_true_i_lsst',\n",
    "                     'mag_true_z_lsst', 'mag_true_y_lsst', 'halo_id',\n",
    "                     'halo_mass', 'is_central']\n",
    "query = GCRCatalogs.GCRQuery('mag_true_z_lsst < 25.5')\n",
    "data = Table(gc.get_quantities(quantities_wanted, [query]))\n",
    "data.write('cosmoDC2_v1.1.4_raw.fits', format='fits')\n",
    "```"
   ]
  },
  {
   "cell_type": "code",
   "execution_count": null,
   "metadata": {},
   "outputs": [],
   "source": [
    "# Until this is merged, you need my version of gcr-catalogs\n",
    "import sys\n",
    "sys.path.insert(0, '/global/homes/e/erykoff/src/erykoff/gcr-catalogs')"
   ]
  },
  {
   "cell_type": "code",
   "execution_count": null,
   "metadata": {},
   "outputs": [],
   "source": [
    "import GCRCatalogs\n",
    "from astropy.table import Table\n",
    "import esutil\n",
    "import numpy as np\n",
    "import matplotlib.pyplot as plt"
   ]
  },
  {
   "cell_type": "code",
   "execution_count": null,
   "metadata": {},
   "outputs": [],
   "source": [
    "# Get the redMaPPer catalog\n",
    "gc = GCRCatalogs.load_catalog('cosmoDC2_v1.1.4_redmapper_v0.2.1py')"
   ]
  },
  {
   "cell_type": "code",
   "execution_count": null,
   "metadata": {},
   "outputs": [],
   "source": [
    "# Select out the cluster and member quantities into different lists\n",
    "quantities = gc.list_all_quantities()\n",
    "cluster_quantities = [q for q in quantities if 'member' not in q]\n",
    "member_quantities = [q for q in quantities if 'member' in q]"
   ]
  },
  {
   "cell_type": "code",
   "execution_count": null,
   "metadata": {},
   "outputs": [],
   "source": [
    "# Read in the cluster and member data\n",
    "cluster_data = Table(gc.get_quantities(cluster_quantities))\n",
    "member_data = Table(gc.get_quantities(member_quantities))"
   ]
  },
  {
   "cell_type": "code",
   "execution_count": null,
   "metadata": {},
   "outputs": [],
   "source": [
    "# Compare the cluster photo-z to the central galaxy redshift\n",
    "plt.plot(cluster_data['redshift'], cluster_data['redshift_true_cg'], 'r.')\n",
    "plt.plot([0.1, 1.2], [0.1, 1.2], 'k--')\n",
    "plt.xlabel('z_lambda')\n",
    "plt.ylabel('z_spec_central')"
   ]
  },
  {
   "cell_type": "markdown",
   "metadata": {},
   "source": [
    "Note that the outliers here are all miscentered clusters"
   ]
  },
  {
   "cell_type": "markdown",
   "metadata": {},
   "source": [
    "## Now let's match the cluster centrals and members by the galaxy ID to look at the central colors"
   ]
  },
  {
   "cell_type": "code",
   "execution_count": null,
   "metadata": {},
   "outputs": [],
   "source": [
    "# First, we will want to read in the \"truth\" as a comparison\n",
    "gc_truth = GCRCatalogs.load_catalog('cosmoDC2_v1.1.4_small')\n",
    "quantities_wanted = ['mag_true_g_lsst', 'mag_true_r_lsst', 'mag_true_i_lsst', 'mag_true_z_lsst', 'mag_true_y_lsst', 'redshift']\n",
    "query = GCRCatalogs.GCRQuery('(is_central == True) & (halo_mass > 5e13)')\n",
    "truth_data = Table(gc_truth.get_quantities(quantities_wanted, [query]))"
   ]
  },
  {
   "cell_type": "code",
   "execution_count": null,
   "metadata": {},
   "outputs": [],
   "source": [
    "a, b = esutil.numpy_util.match(cluster_data['id_cen_0'], member_data['id_member'])"
   ]
  },
  {
   "cell_type": "code",
   "execution_count": null,
   "metadata": {},
   "outputs": [],
   "source": [
    "plt.plot(truth_data['redshift'], truth_data['mag_true_g_lsst'] - truth_data['mag_true_r_lsst'], 'b+', label='True Centrals')\n",
    "plt.plot(cluster_data['redshift'][a], member_data['mag_g_lsst_member'][b] - member_data['mag_r_lsst_member'][b], 'r.', label='redMaPPer Centrals')\n",
    "plt.xlim(0.0, 1.2)\n",
    "plt.ylim(0.6,2.0)\n",
    "plt.legend()\n",
    "plt.xlabel('cluster redshift')\n",
    "plt.ylabel('g-r of central galaxy')"
   ]
  },
  {
   "cell_type": "code",
   "execution_count": null,
   "metadata": {},
   "outputs": [],
   "source": [
    "plt.plot(truth_data['redshift'], truth_data['mag_true_r_lsst'] - truth_data['mag_true_i_lsst'], 'b+', label='True Centrals')\n",
    "plt.plot(cluster_data['redshift'][a], member_data['mag_r_lsst_member'][b] - member_data['mag_i_lsst_member'][b], 'r.', label='redMaPPer Centrals')\n",
    "plt.xlim(0.0, 1.2)\n",
    "plt.ylim(0.4, 1.3)\n",
    "plt.legend()\n",
    "plt.xlabel('cluster redshift')\n",
    "plt.ylabel('r-i of central galaxy')"
   ]
  },
  {
   "cell_type": "code",
   "execution_count": null,
   "metadata": {},
   "outputs": [],
   "source": [
    "plt.plot(truth_data['redshift'], truth_data['mag_true_i_lsst'] - truth_data['mag_true_z_lsst'], 'b+', label='True Centrals')\n",
    "plt.plot(cluster_data['redshift'][a], member_data['mag_i_lsst_member'][b] - member_data['mag_z_lsst_member'][b], 'r.', label='redMaPPer Centrals')\n",
    "plt.xlim(0.0, 1.2)\n",
    "plt.ylim(0.2, 1.0)\n",
    "plt.legend()\n",
    "plt.xlabel('cluster redshift')\n",
    "plt.ylabel('i-z of central galaxy')"
   ]
  },
  {
   "cell_type": "code",
   "execution_count": null,
   "metadata": {},
   "outputs": [],
   "source": [
    "plt.plot(truth_data['redshift'], truth_data['mag_true_z_lsst'] - truth_data['mag_true_y_lsst'], 'b+', label='True Centrals')\n",
    "plt.plot(cluster_data['redshift'][a], member_data['mag_z_lsst_member'][b] - member_data['mag_y_lsst_member'][b], 'r.', label='redMaPPer Centrals')\n",
    "plt.xlim(0.0, 1.2)\n",
    "plt.ylim(0.1, 0.8)\n",
    "plt.legend()\n",
    "plt.xlabel('cluster redshift')\n",
    "plt.ylabel('z-y of central galaxy')"
   ]
  },
  {
   "cell_type": "markdown",
   "metadata": {},
   "source": [
    "## Match Clusters and Members to look at the median member redshift\n",
    "This is only possible with mock catalogs where we have true redshifts for all members"
   ]
  },
  {
   "cell_type": "code",
   "execution_count": null,
   "metadata": {},
   "outputs": [],
   "source": [
    "# Clean out any members without ztrue information\n",
    "ok, = np.where(member_data['redshift_true_member'] > 0.0)\n",
    "mem = member_data[ok]"
   ]
  },
  {
   "cell_type": "code",
   "execution_count": null,
   "metadata": {},
   "outputs": [],
   "source": [
    "# match clusters to members using cluster_id\n",
    "a, b = esutil.numpy_util.match(cluster_data['cluster_id'], mem['cluster_id_member'])\n",
    "# Use the reverse indicies from esutil histogram to group these into cluster bins\n",
    "h, rev = esutil.stat.histogram(a, rev=True)\n",
    "mem_zmedian = np.zeros(len(cluster_data))\n",
    "for i in range(len(cluster_data)):\n",
    "    i1a = rev[rev[i]: rev[i + 1]]\n",
    "    mem_zmedian[i] = np.median(mem['redshift_true_member'][i1a])\n"
   ]
  },
  {
   "cell_type": "code",
   "execution_count": null,
   "metadata": {},
   "outputs": [],
   "source": [
    "plt.plot(cluster_data['redshift'], mem_zmedian, 'r.')\n",
    "plt.plot([0.1, 1.2], [0.1, 1.2], 'k--')\n",
    "plt.xlabel('z_lambda')\n",
    "plt.ylabel('Median true redshift from members')"
   ]
  },
  {
   "cell_type": "markdown",
   "metadata": {},
   "source": [
    "The outliers from above are gone ... those were miscentered clusters."
   ]
  },
  {
   "cell_type": "markdown",
   "metadata": {},
   "source": [
    "## Look at cluster richness and redshift"
   ]
  },
  {
   "cell_type": "code",
   "execution_count": null,
   "metadata": {},
   "outputs": [],
   "source": [
    "plt.hexbin(cluster_data['redshift'], np.log10(cluster_data['richness']), bins='log')\n",
    "plt.xlabel('Cluster Redshift')\n",
    "plt.ylabel('log10(Cluster Richness)')"
   ]
  },
  {
   "cell_type": "code",
   "execution_count": null,
   "metadata": {},
   "outputs": [],
   "source": []
  }
 ],
 "metadata": {
  "kernelspec": {
   "display_name": "desc-stack",
   "language": "python",
   "name": "desc-stack"
  },
  "language_info": {
   "codemirror_mode": {
    "name": "ipython",
    "version": 3
   },
   "file_extension": ".py",
   "mimetype": "text/x-python",
   "name": "python",
   "nbconvert_exporter": "python",
   "pygments_lexer": "ipython3",
   "version": "3.6.6"
  }
 },
 "nbformat": 4,
 "nbformat_minor": 2
}

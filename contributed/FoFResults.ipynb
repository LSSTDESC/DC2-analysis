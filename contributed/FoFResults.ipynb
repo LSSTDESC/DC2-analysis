{
 "cells": [
  {
   "cell_type": "markdown",
   "metadata": {},
   "source": [
    "### This notebook uses a current PR of gcr-catalogs, make sure you clone the PR and add it to `sys.path`\n",
    "```\n",
    "git clone -b coadd_reader git@github.com:djperrefort/gcr-catalogs.git\n",
    "```\n",
    "\n",
    "This notebook also requires `FoFCatalogMatching`: https://github.com/yymao/FoFCatalogMatching"
   ]
  },
  {
   "cell_type": "markdown",
   "metadata": {},
   "source": [
    "### This notebook tests the FoF Catalog Matching algorithm for truth and coadd catalogs, run 1.1\n",
    "### Owners: Anže Slosar, Bhairav Valera"
   ]
  },
  {
   "cell_type": "code",
   "execution_count": null,
   "metadata": {},
   "outputs": [],
   "source": [
    "import sys\n",
    "sys.path.insert(0, '/global/common/software/lsst/common/miniconda/current/lib/python3.6/site-packages')\n",
    "sys.path.insert(0, '/global/homes/b/bhairav/gcr-catalogs')\n",
    "import numpy as np\n",
    "import FoFCatalogMatching\n",
    "import GCRCatalogs\n",
    "import operator\n",
    "from astropy.coordinates import SkyCoord\n",
    "from GCR import GCRQuery\n",
    "from scipy.optimize import curve_fit\n",
    "from collections import defaultdict\n",
    "from matplotlib.colors import LogNorm"
   ]
  },
  {
   "cell_type": "code",
   "execution_count": null,
   "metadata": {},
   "outputs": [],
   "source": [
    "import matplotlib.pyplot as plt\n",
    "import matplotlib\n",
    "%matplotlib inline"
   ]
  },
  {
   "cell_type": "markdown",
   "metadata": {},
   "source": [
    "Getting the complete truth and coadd catalogs without tract restrictions."
   ]
  },
  {
   "cell_type": "code",
   "execution_count": null,
   "metadata": {
    "scrolled": true
   },
   "outputs": [],
   "source": [
    "coaddCat = GCRCatalogs.load_catalog('dc2_coadd_run1.1p')\n",
    "refCat = GCRCatalogs.load_catalog('dc2_truth_run1.1', {'md5': None})"
   ]
  },
  {
   "cell_type": "markdown",
   "metadata": {},
   "source": [
    "Adding quantity modifiers in order for the HSC filters to act on the coadd catalog. "
   ]
  },
  {
   "cell_type": "code",
   "execution_count": null,
   "metadata": {},
   "outputs": [],
   "source": [
    "refCat.add_quantity_modifier('i_mag_cmodel', \n",
    "                              (lambda x: -2.5 * np.log10(x) + 27.0, 'i_modelfit_CModel_flux'), \n",
    "                              overwrite=True)\n",
    "refCat.add_quantity_modifier('i_SN_cmodel', \n",
    "                              (np.divide, 'i_modelfit_CModel_flux', 'i_modelfit_CModel_fluxSigma'), \n",
    "                              overwrite=True)\n",
    "refCat.add_quantity_modifier('HSM_res', \n",
    "                              'ext_shapeHSM_HsmShapeRegauss_resolution', \n",
    "                              overwrite=True)\n",
    "refCat.add_quantity_modifier('HSM_ell', \n",
    "                              (np.hypot, 'ext_shapeHSM_HsmShapeRegauss_e1', 'ext_shapeHSM_HsmShapeRegauss_e2'), \n",
    "                              overwrite=True)\n",
    "refCat.add_quantity_modifier('psf_size', \n",
    "                              (lambda xx, yy, xy: 0.168*2.355*(xx*yy - xy*xy)**0.25, 'i_base_SdssShape_psf_xx', 'i_base_SdssShape_psf_yy', 'i_base_SdssShape_psf_xy'),\n",
    "                              overwrite=True)\n",
    "\n",
    "coaddCat.add_quantity_modifier('i_mag_cmodel', \n",
    "                              (lambda x: -2.5 * np.log10(x) + 27.0, 'i_modelfit_CModel_flux'), \n",
    "                              overwrite=True)\n",
    "coaddCat.add_quantity_modifier('i_SN_cmodel', \n",
    "                              (np.divide, 'i_modelfit_CModel_flux', 'i_modelfit_CModel_fluxSigma'), \n",
    "                              overwrite=True)\n",
    "coaddCat.add_quantity_modifier('HSM_res', \n",
    "                              'ext_shapeHSM_HsmShapeRegauss_resolution', \n",
    "                              overwrite=True)\n",
    "coaddCat.add_quantity_modifier('HSM_ell', \n",
    "                              (np.hypot, 'ext_shapeHSM_HsmShapeRegauss_e1', 'ext_shapeHSM_HsmShapeRegauss_e2'), \n",
    "                              overwrite=True)\n",
    "coaddCat.add_quantity_modifier('psf_size', \n",
    "                              (lambda xx, yy, xy: 0.168*2.355*(xx*yy - xy*xy)**0.25, 'i_base_SdssShape_psf_xx', 'i_base_SdssShape_psf_yy', 'i_base_SdssShape_psf_xy'),\n",
    "                              overwrite=True)"
   ]
  },
  {
   "cell_type": "markdown",
   "metadata": {},
   "source": [
    "Filters on the sample size for right ascension/declination as well as u and i-band magnitudes decreases runtime for matching."
   ]
  },
  {
   "cell_type": "code",
   "execution_count": null,
   "metadata": {
    "scrolled": true
   },
   "outputs": [],
   "source": [
    "ra_min, ra_max = 55.5, 56.0\n",
    "dec_min, dec_max = -29.0, -28.5\n",
    "\n",
    "coord_filter = GCRQuery(\n",
    "    'ra >= {}'.format(ra_min),\n",
    "    'ra < {}'.format(ra_max),\n",
    "    'dec >= {}'.format(dec_min),\n",
    "    'dec < {}'.format(dec_max)\n",
    ")\n",
    "\n",
    "mag_cutIn = GCRQuery(\n",
    "    (np.isfinite, 'lsst_u'),\n",
    "    'lsst_u < 45',\n",
    "#    (np.isfinite, 'i_magLSST'),\n",
    "#    'i_magLSST < 24.5',\n",
    ")\n",
    "mag_cutOut = GCRQuery(\n",
    "    (np.isfinite, 'mag_i_lsst'),\n",
    "    'mag_i_lsst < 24.5'\n",
    ")"
   ]
  },
  {
   "cell_type": "markdown",
   "metadata": {},
   "source": [
    "This cell contains a list of the HSC lensing cuts that are applied to the coadd catalog to investigate any objects that deviate from what is expected from a certain position in the sky. They are included here just for documentation purposes. `lensing_cuts` is an array of filters that can be applied to the coadd catalog."
   ]
  },
  {
   "cell_type": "code",
   "execution_count": null,
   "metadata": {},
   "outputs": [],
   "source": [
    "#GCRQuery((np.isnan, 'i_modelfit_CModel_flux')), # (from this and below) remove nan entries\n",
    "#GCRQuery((np.isnan, 'ext_shapeHSM_HsmShapeRegauss_resolution')),\n",
    "#GCRQuery((np.isnan, 'ext_shapeHSM_HsmShapeRegauss_e1')),\n",
    "#GCRQuery((np.isnan, 'ext_shapeHSM_HsmShapeRegauss_e2')),\n",
    "#GCRQuery('detect_isPrimary'), # (from this and below) basic flag cuts \n",
    "#GCRQuery('deblend_skipped'),\n",
    "#GCRQuery('base_PixelFlags_flag_edge'),\n",
    "#GCRQuery('base_PixelFlags_flag_interpolatedCenter'),\n",
    "#GCRQuery('base_PixelFlags_flag_saturatedCenter'),\n",
    "#GCRQuery('base_PixelFlags_flag_crCenter'),\n",
    "#GCRQuery('base_PixelFlags_flag_bad'),\n",
    "#GCRQuery('base_PixelFlags_flag_suspectCenter'),\n",
    "#GCRQuery('base_PixelFlags_flag_clipped'),\n",
    "#GCRQuery('ext_shapeHSM_HsmShapeRegauss_flag'),\n",
    "#GCRQuery('i_SN_cmodel >= 10'), # (from this and below) cut on object properties\n",
    "#GCRQuery('HSM_res >= 0.3'),\n",
    "#GCRQuery('HSM_ell < 2.0'),\n",
    "#GCRQuery('ext_shapeHSM_HsmShapeRegauss_sigma <= 0.4'),\n",
    "#GCRQuery('i_mag_cmodel < 24.5'), # FIXME: Doesnt have exinction correction\n",
    "#GCRQuery('base_Blendedness_abs_flux < 10**(-0.375)'),\n",
    "lensing_cuts = [\n",
    "    GCRQuery(\n",
    "    'ra >= {}'.format(ra_min),\n",
    "    'ra < {}'.format(ra_max),\n",
    "    'dec >= {}'.format(dec_min),\n",
    "    'dec < {}'.format(dec_max))\n",
    "    #GCRQuery('mag_i < 24.5')\n",
    "]"
   ]
  },
  {
   "cell_type": "markdown",
   "metadata": {},
   "source": [
    "Getting all relevant quantities. Note that the filters aren't used in order to examine the entire set of data. Restrictions can either be applied using a list or through just one `GCRQuery()`.\n",
    "In order to apply any filters:\n",
    "```\n",
    "coordinatesCoaddCat = coaddCat.get_quantities([.....], filters=lensing_cuts)\n",
    "```\n",
    "as a set (list) of different filters or\n",
    "```\n",
    "coordinatesRefCat = refCat.get_quantities([.....], filters=[coord_filter]) \n",
    "```\n",
    "as just one set of filters."
   ]
  },
  {
   "cell_type": "code",
   "execution_count": null,
   "metadata": {},
   "outputs": [],
   "source": [
    "coordinatesCoaddCat = coaddCat.get_quantities(['ra', 'dec',\n",
    "                                               'i_modelfit_CModel_flux',\n",
    "                                               'ext_shapeHSM_HsmShapeRegauss_resolution',\n",
    "                                               'ext_shapeHSM_HsmShapeRegauss_e1',\n",
    "                                               'ext_shapeHSM_HsmShapeRegauss_e2',\n",
    "                                               'detect_isPrimary',\n",
    "                                               'deblend_skipped',\n",
    "                                               'base_PixelFlags_flag_edge',\n",
    "                                               'base_PixelFlags_flag_interpolatedCenter',\n",
    "                                               'base_PixelFlags_flag_saturatedCenter',\n",
    "                                               'base_PixelFlags_flag_crCenter',\n",
    "                                               'base_PixelFlags_flag_bad',\n",
    "                                               'base_PixelFlags_flag_suspectCenter',\n",
    "                                               'base_PixelFlags_flag_clipped',\n",
    "                                               'ext_shapeHSM_HsmShapeRegauss_flag',\n",
    "                                               'i_SN_cmodel',\n",
    "                                               'HSM_res',\n",
    "                                               'HSM_ell',\n",
    "                                               'ext_shapeHSM_HsmShapeRegauss_sigma',\n",
    "                                               'i_mag_cmodel',\n",
    "                                               'base_Blendedness_abs_flux',\n",
    "                                               'mag_u',\n",
    "                                               'mag_g',\n",
    "                                               'mag_r',\n",
    "                                               'mag_i',\n",
    "                                               'mag_z',\n",
    "                                               'mag_y'                                               \n",
    "                                              ])#, filters=lensing_cuts)\n",
    "\n",
    "coordinatesRefCat = refCat.get_quantities(['ra', 'dec',\n",
    "                                           'mag_true_u',\n",
    "                                           'mag_true_g',\n",
    "                                           'mag_true_r',\n",
    "                                           'mag_true_i',\n",
    "                                           'mag_true_z',\n",
    "                                           'mag_true_y'])#, filters=[coord_filter])"
   ]
  },
  {
   "cell_type": "markdown",
   "metadata": {},
   "source": [
    "Running catalog matching takes ~20 mins for a separation (linking length) of 1 arcsecond. The runtime for 2 arcseconds is ~1 hour. Larger linking lengths have not been tested but definitely will take a much longer time to run."
   ]
  },
  {
   "cell_type": "code",
   "execution_count": null,
   "metadata": {},
   "outputs": [],
   "source": [
    "results = FoFCatalogMatching.match(\n",
    "    catalog_dict=dict(ref=coordinatesRefCat, coadd=coordinatesCoaddCat),\n",
    "    linking_lengths=1.0,\n",
    "    catalog_len_getter=lambda x: len(x['ra']))"
   ]
  },
  {
   "cell_type": "markdown",
   "metadata": {},
   "source": [
    "The next two cells sort results into bins based on the quality of the matches. Scale represents the number of objects within each bin. [1][1] bin represents perfect matches (1 truth matched with 1 coadd). [1][0] represents objects that are in truth that were not detected in coadd. [0][1] represents \"fake\" detections. Higher bins point to blending issues."
   ]
  },
  {
   "cell_type": "code",
   "execution_count": null,
   "metadata": {},
   "outputs": [],
   "source": [
    "ref_mask = results['catalog_key'] == 'ref'\n",
    "coadd_mask = ~ref_mask\n",
    "n_groups = results['group_id'].max() + 1\n",
    "n_ref = np.bincount(results['group_id'][ref_mask], minlength=n_groups)\n",
    "n_coadd = np.bincount(results['group_id'][coadd_mask], minlength=n_groups)\n",
    "n_max = max(n_ref.max(), n_coadd.max()) + 1\n",
    "hist_2d = np.bincount(n_coadd * n_max + n_ref, minlength=n_max*n_max).reshape(n_max, n_max)"
   ]
  },
  {
   "cell_type": "code",
   "execution_count": null,
   "metadata": {},
   "outputs": [],
   "source": [
    "plt.figure(figsize=(10, 10))\n",
    "e = (-0.5, n_max, -0.5, n_max)\n",
    "plt.imshow(hist_2d, extent=e, origin='lower', norm=LogNorm())\n",
    "plt.xlabel('Number of ref objects')\n",
    "plt.ylabel('Number of coadd objects')\n",
    "plt.axis([-0.5, 5, -0.5, 5])\n",
    "cbar = plt.colorbar()\n",
    "plt.savefig('matching_histogram.png', dpi = 300)"
   ]
  },
  {
   "cell_type": "markdown",
   "metadata": {},
   "source": [
    "Getting relevant masks (all objects in a particular bin) and then indexing them based on their objectIDs."
   ]
  },
  {
   "cell_type": "code",
   "execution_count": null,
   "metadata": {},
   "outputs": [],
   "source": [
    "one_to_one_group_mask = np.in1d(results['group_id'], np.flatnonzero((n_ref == 1) & (n_coadd == 1)))\n",
    "zero_to_one_group_mask = np.in1d(results['group_id'], np.flatnonzero((n_ref == 0) & (n_coadd == 1)))\n",
    "ref_idx11 = results['row_index'][one_to_one_group_mask & ref_mask]\n",
    "coadd_idx11 = results['row_index'][one_to_one_group_mask & coadd_mask]\n",
    "ref_idx01 = results['row_index'][zero_to_one_group_mask & ref_mask]\n",
    "coadd_idx01 = results['row_index'][zero_to_one_group_mask & coadd_mask]"
   ]
  },
  {
   "cell_type": "markdown",
   "metadata": {},
   "source": [
    "The astroPy module allows us to easily calculate angular separation between different objects using the `SkyCoord` class. The indices `ref_idx11` and `coadd_idx11` are used to verify that the perfect matches indeed reference the same objects. The first plot shows how accurate the matching is with most objects having almost no variation in their right ascension/declination.  "
   ]
  },
  {
   "cell_type": "code",
   "execution_count": null,
   "metadata": {},
   "outputs": [],
   "source": [
    "ref_sc = SkyCoord(coordinatesRefCat['ra'][ref_idx11], coordinatesRefCat['dec'][ref_idx11], unit=\"deg\")\n",
    "coadd_sc = SkyCoord(coordinatesCoaddCat['ra'][coadd_idx11], coordinatesCoaddCat['dec'][coadd_idx11], unit=\"deg\")\n",
    "delta_ra = (coadd_sc.ra.arcsec - ref_sc.ra.arcsec)\n",
    "delta_dec = (coadd_sc.dec.arcsec - ref_sc.dec.arcsec)\n",
    "delta_arcsec = ref_sc.separation(coadd_sc).arcsec"
   ]
  },
  {
   "cell_type": "code",
   "execution_count": null,
   "metadata": {},
   "outputs": [],
   "source": [
    "plt.figure(figsize=(10, 10))\n",
    "plt.xlabel(r'$\\Delta$ RA[arcseconds]')\n",
    "plt.ylabel(r'$\\Delta$ Dec[arcseconds]')\n",
    "plt.hist2d(delta_ra, delta_dec, bins=40, norm=LogNorm());\n",
    "cbar = plt.colorbar()\n",
    "plt.savefig('deltaRA-DEC.png', dpi = 300)"
   ]
  },
  {
   "cell_type": "markdown",
   "metadata": {},
   "source": [
    "The angular separation plot shows that most matches occured at a small arcsecond separation. An exponential fit is a good predictor of how many objects are expected at a given arcsecond separation."
   ]
  },
  {
   "cell_type": "code",
   "execution_count": null,
   "metadata": {},
   "outputs": [],
   "source": [
    "#Plotting Delta angle for the outputs\n",
    "plt.figure(figsize=(10, 10))\n",
    "values, edges, _ = plt.hist(delta_arcsec, bins=1000)\n",
    "plt.xlim(0, 1.0)\n",
    "plt.title('Delta angle')\n",
    "plt.xlabel(r'$\\Delta$ angle [arcsec]')\n",
    "plt.ylabel('Frequency')\n",
    "plt.savefig('DeltaAngle.png', dpi = 300)"
   ]
  },
  {
   "cell_type": "code",
   "execution_count": null,
   "metadata": {},
   "outputs": [],
   "source": [
    "plt.figure(figsize = (10, 10))\n",
    "plt.plot(edges[:-1], values, label='True')\n",
    "x_data = edges[:-1]\n",
    "y_data = values\n",
    "plt.plot(edges[:-1], values*0., 'k:')\n",
    "def fitfunction1(x, a, b):\n",
    "    y = a * x * np.exp(-b * x ** 0.38)\n",
    "    return y\n",
    "(A, B), _ = curve_fit(fitfunction1, x_data, y_data)\n",
    "plt.plot(x_data, fitfunction1(x_data, A, B), label='fitted')\n",
    "plt.title('Fitted with the form a * x * exp(-b * x ** 0.38)')\n",
    "plt.xlabel('$\\Delta$ Angle [arcsec]')\n",
    "plt.ylabel('Frequency')\n",
    "leg = plt.legend()\n",
    "leg_lines = leg.get_lines()\n",
    "plt.setp(leg_lines, linewidth=4000)\n",
    "ax = plt.gca()\n",
    "ax.legend(loc='lower left')\n",
    "plt.savefig('functionFit2.png', dpi = 300)"
   ]
  },
  {
   "cell_type": "markdown",
   "metadata": {},
   "source": [
    "The `lensing_filters` list contains all of the HSC Lensing Cuts to be applied to the coadd catalog. The list is parsed and each filter can be applied individually or all at once. What is returned is an array of the number of objects that either passed or failed the lensing cuts. The results are then plotted in the next cell."
   ]
  },
  {
   "cell_type": "code",
   "execution_count": null,
   "metadata": {},
   "outputs": [],
   "source": [
    "lensing_filters = ['None',\n",
    "              '@i_modelfit_CModel_flux',\n",
    "              '@ext_shapeHSM_HsmShapeRegauss_resolution',\n",
    "              '@ext_shapeHSM_HsmShapeRegauss_e1', \n",
    "              '@ext_shapeHSM_HsmShapeRegauss_e2',\n",
    "              'detect_isPrimary',\n",
    "              '~deblend_skipped',\n",
    "              '~base_PixelFlags_flag_edge',\n",
    "              '~base_PixelFlags_flag_interpolatedCenter',\n",
    "              '~base_PixelFlags_flag_saturatedCenter',\n",
    "              '~base_PixelFlags_flag_crCenter',\n",
    "              '~base_PixelFlags_flag_bad',\n",
    "              '~base_PixelFlags_flag_suspectCenter',\n",
    "              '~base_PixelFlags_flag_clipped',\n",
    "              '~ext_shapeHSM_HsmShapeRegauss_flag',\n",
    "              'i_SN_cmodel >= 10',\n",
    "              'HSM_res >= 0.3',\n",
    "              'HSM_ell < 2.0',\n",
    "              'ext_shapeHSM_HsmShapeRegauss_sigma <= 0.4',\n",
    "              'i_mag_cmodel < 24.5',\n",
    "              'base_Blendedness_abs_flux < 0.42169650342',\n",
    "              'All'\n",
    "             ]\n",
    "\n",
    "allFiltersList = []\n",
    "\n",
    "def listParser(listOfFilters):\n",
    "    rel_ops = set(['<', '<=', '>', '>='])\n",
    "    operatorsTable = {'<' : operator.lt,\n",
    "                      '>' : operator.gt,\n",
    "                      '<=' : operator.le,\n",
    "                      '>=' : operator.ge}\n",
    "    values_list01 = []\n",
    "    values_list11 = []\n",
    "    AllA, AllB = None, None\n",
    "    \n",
    "    for x in listOfFilters:\n",
    "        if x=='None':\n",
    "            a=np.ones(len(coadd_idx01),dtype=bool)\n",
    "            b=np.ones(len(coadd_idx11),dtype=bool)\n",
    "        elif x==\"All\":\n",
    "            a=AllA\n",
    "            b=AllB\n",
    "            AF_coadd_idx01 = coadd_idx01[np.where(a)]\n",
    "            AF_coadd_idx11 = coadd_idx11[np.where(b)]\n",
    "            NAF_coadd_idx01 = coadd_idx01[np.where(~a)]\n",
    "            NAF_coadd_idx11 = coadd_idx11[np.where(~b)]\n",
    "            AF_ref_idx11 = ref_idx11[np.where(b)]\n",
    "            NAF_ref_idx11 = ref_idx11[np.where(~b)]\n",
    "        elif not any(r in x for r in rel_ops):\n",
    "            notNan=False\n",
    "            logicalNot=False\n",
    "            if x[0]=='@':\n",
    "                notNan=True\n",
    "                x=x[1:]\n",
    "            elif x[0]=='~':\n",
    "                logicalNot=True\n",
    "                x=x[1:]\n",
    "            a = coordinatesCoaddCat[x][coadd_idx01]\n",
    "            b = coordinatesCoaddCat[x][coadd_idx11]\n",
    "            if notNan:\n",
    "                a=~np.isnan(a)\n",
    "                b=~np.isnan(b)\n",
    "            elif logicalNot:\n",
    "                a=~a\n",
    "                b=~b\n",
    "        else:\n",
    "            filterName,op,value=x.split(' ')\n",
    "            value=np.float(value)\n",
    "            a = operatorsTable[op](coordinatesCoaddCat[filterName][coadd_idx01], value)\n",
    "            b = operatorsTable[op](coordinatesCoaddCat[filterName][coadd_idx11], value)\n",
    "        values_list01.append(np.sum(a))\n",
    "        values_list11.append(np.sum(b))\n",
    "        if AllA is None:\n",
    "            AllA=a\n",
    "            AllB=b\n",
    "        else:\n",
    "            AllA = AllA & a\n",
    "            AllB = AllB & b\n",
    "    return np.array(values_list01), np.array(values_list11), AF_coadd_idx01, AF_coadd_idx11, NAF_coadd_idx01, NAF_coadd_idx11, AF_ref_idx11, NAF_ref_idx11\n",
    "\n",
    "values_list01, values_list11, AF_coadd_idx01, AF_coadd_idx11, NAF_coadd_idx01, NAF_coadd_idx11, AF_ref_idx11, NAF_ref_idx11 = listParser(lensing_filters)"
   ]
  },
  {
   "cell_type": "code",
   "execution_count": null,
   "metadata": {},
   "outputs": [],
   "source": [
    "xaxis = list(range(len(lensing_filters)))\n",
    "normedList01 = values_list01/values_list01.max()\n",
    "normedList11 = values_list11/values_list11.max()\n",
    "plt.figure(figsize=(10, 10))\n",
    "plt.title('Effect of HSC lensing cuts')\n",
    "plt.scatter(xaxis, normedList11, label='(1,1) bin', edgecolors='black', s=100)\n",
    "plt.scatter(xaxis, normedList01, label='(0,1) bin', edgecolors='black', s=100)\n",
    "plt.xticks(np.arange(len(values_list11)), lensing_filters, rotation=90)\n",
    "plt.xlabel('Filters')\n",
    "plt.ylabel('Number of members [log]')\n",
    "ax = plt.gca()\n",
    "ax.legend()\n",
    "ax.set_yscale('log')\n",
    "ax.grid(color='black', linestyle='-', linewidth=0.3)\n",
    "plt.ylim(2e-4, 1.2)\n",
    "plt.savefig('HSCLensingCuts', dpi = 300)"
   ]
  },
  {
   "cell_type": "markdown",
   "metadata": {},
   "source": [
    "Getting the the actual values of the passed or failed objects to examine them further. Indexing the passed/failed objects allows quick access to the values of interest."
   ]
  },
  {
   "cell_type": "code",
   "execution_count": null,
   "metadata": {},
   "outputs": [],
   "source": [
    "accepted_i_mag_cmodel_01 = coordinatesCoaddCat['i_mag_cmodel'][AF_coadd_idx01]\n",
    "naccepted_i_mag_cmodel_01 = coordinatesCoaddCat['i_mag_cmodel'][NAF_coadd_idx01]\n",
    "accepted_i_mag_cmodel_11 = coordinatesCoaddCat['i_mag_cmodel'][AF_coadd_idx11]\n",
    "naccepted_i_mag_cmodel_11 = coordinatesCoaddCat['i_mag_cmodel'][NAF_coadd_idx11]"
   ]
  },
  {
   "cell_type": "code",
   "execution_count": null,
   "metadata": {},
   "outputs": [],
   "source": [
    "accepted_i_ref11 = coordinatesRefCat['mag_true_i'][AF_ref_idx11]\n",
    "naccepted_i_ref11 = coordinatesRefCat['mag_true_i'][NAF_ref_idx11]\n",
    "accepted_i_coadd11 = coordinatesCoaddCat['mag_i'][AF_coadd_idx11]\n",
    "naccepted_i_coadd11 = coordinatesCoaddCat['mag_i'][NAF_coadd_idx11]\n",
    "\n",
    "accepted_u_ref11 = coordinatesRefCat['mag_true_u'][AF_ref_idx11]\n",
    "naccepted_u_ref11 = coordinatesRefCat['mag_true_u'][NAF_ref_idx11]\n",
    "accepted_u_coadd11 = coordinatesCoaddCat['mag_u'][AF_coadd_idx11]\n",
    "naccepted_u_coadd11 = coordinatesCoaddCat['mag_u'][NAF_coadd_idx11]"
   ]
  },
  {
   "cell_type": "markdown",
   "metadata": {},
   "source": [
    "Comparing i-band magnitudes in the coadd catalog and truth catalog after a lensing cut. This can be done with any other quantity given that the indices are universal. "
   ]
  },
  {
   "cell_type": "code",
   "execution_count": null,
   "metadata": {
    "scrolled": false
   },
   "outputs": [],
   "source": [
    "plt.figure(figsize=(10,10))\n",
    "plt.scatter(accepted_i_ref11, accepted_i_mag_cmodel_11, label='accepted', edgecolors='black')\n",
    "plt.title('i_mag_cmodel vs mag_i_truth after filters [1][1] bin')\n",
    "plt.xlabel('Truth')\n",
    "plt.ylabel('Coadd')"
   ]
  },
  {
   "cell_type": "code",
   "execution_count": null,
   "metadata": {},
   "outputs": [],
   "source": [
    "plt.figure(figsize=(10, 10))\n",
    "plt.hist2d(accepted_i_ref11, accepted_i_mag_cmodel_11, bins=100, norm=LogNorm())\n",
    "ax = plt.gca()\n",
    "x = np.linspace(*ax.get_xlim())\n",
    "ax.plot(x, x, 'k-')\n",
    "plt.colorbar()\n",
    "plt.title('i_mag_cmodel vs mag_i_truth after filters [1][1] bin: histogram, logarithmic scale')\n",
    "plt.xlabel('ref')\n",
    "plt.ylabel('coadd')"
   ]
  },
  {
   "cell_type": "markdown",
   "metadata": {},
   "source": [
    "Any anomalously bright objects can be found using their index. The `for` loops pick out any objects that match the conditions. To examine any objects within the coadd cat that have passed the filters:\n",
    "```\n",
    "for index in AF_coadd_idx##:\n",
    "    if some condition:\n",
    "        listOfObjects.append(index)\n",
    "```\n",
    "The `%store` function is proprietary to Jupyter Notebooks. It will locally store any value, list, array, etc for access in another notebook. It can then be read by the `%store -r` function (see `postage_stamp_generation.ipynb`)."
   ]
  },
  {
   "cell_type": "code",
   "execution_count": null,
   "metadata": {},
   "outputs": [],
   "source": [
    "bright_objects_filtered_idx01 = []\n",
    "bright_objects_filtered_idx11 = []\n",
    "\n",
    "for index in AF_coadd_idx01:\n",
    "    if coordinatesCoaddCat['i_mag_cmodel'][index] < 19:\n",
    "        bright_objects_filtered_idx01.append(index)\n",
    "for index in AF_coadd_idx11:\n",
    "    if coordinatesCoaddCat['i_mag_cmodel'][index] < 19:\n",
    "        bright_objects_filtered_idx11.append(index)\n",
    "\n",
    "bright_objects_filtered_ra01 = coordinatesCoaddCat['ra'][bright_objects_filtered_idx01]\n",
    "bright_objects_filtered_dec01 = coordinatesCoaddCat['dec'][bright_objects_filtered_idx01]\n",
    "%store bright_objects_filtered_idx01\n",
    "%store bright_objects_filtered_ra01\n",
    "%store bright_objects_filtered_dec01\n",
    "\n",
    "bright_objects_filtered_ra11 = coordinatesCoaddCat['ra'][bright_objects_filtered_idx11]\n",
    "bright_objects_filtered_dec11 = coordinatesCoaddCat['dec'][bright_objects_filtered_idx11]\n",
    "%store bright_objects_filtered_idx11\n",
    "%store bright_objects_filtered_ra11\n",
    "%store bright_objects_filtered_dec11"
   ]
  },
  {
   "cell_type": "code",
   "execution_count": null,
   "metadata": {},
   "outputs": [],
   "source": []
  }
 ],
 "metadata": {
  "kernelspec": {
   "display_name": "desc-python",
   "language": "python",
   "name": "desc-python"
  },
  "language_info": {
   "codemirror_mode": {
    "name": "ipython",
    "version": 3
   },
   "file_extension": ".py",
   "mimetype": "text/x-python",
   "name": "python",
   "nbconvert_exporter": "python",
   "pygments_lexer": "ipython3",
   "version": "3.6.2"
  }
 },
 "nbformat": 4,
 "nbformat_minor": 2
}

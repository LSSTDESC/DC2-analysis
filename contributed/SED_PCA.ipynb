{
 "cells": [
  {
   "cell_type": "markdown",
   "metadata": {},
   "source": [
    "This notebook examines the approximate SEDs supplied by cosmoDC2 for a sample of galaxies that are \n",
    "centrals and are flagged as being on the red sequence (RS). Some sample SEDs are plotted in bins of stellar mass and redshift. Then we apply a PCA algorithm to decompose the SEDs into principal components. \n",
    "We plot the first few eigenvectors and we plot the distribution of the first two PCA coefficients in bins of stellar mass and redshift to see if there any trenda that could be exploited for modeling the SEDs of these galaxies.\n",
    "Eve Kovacs and Andrew Hearin"
   ]
  },
  {
   "cell_type": "code",
   "execution_count": null,
   "metadata": {},
   "outputs": [],
   "source": [
    "%matplotlib inline\n",
    "from matplotlib import pyplot as plt\n",
    "import numpy as np \n",
    "import h5py\n",
    "import os\n",
    "import re\n",
    "import sys\n",
    "sys.path.insert(0, '/global/u1/k/kovacs/gcr-catalogs_cosmoDC2_v1.1')\n",
    "import GCRCatalogs\n",
    "import math"
   ]
  },
  {
   "cell_type": "code",
   "execution_count": null,
   "metadata": {},
   "outputs": [],
   "source": [
    "def stringSplitByIntegers(x):\n",
    "        r = re.compile('(\\d+)')\n",
    "        l = r.split(x)\n",
    "        return [int(y) if y.isdigit() else y for y in l]"
   ]
  },
  {
   "cell_type": "markdown",
   "metadata": {},
   "source": [
    "Use a single healpixel (9556) to assemble a data set from cosmoDC2_v1.1.4. "
   ]
  },
  {
   "cell_type": "code",
   "execution_count": null,
   "metadata": {},
   "outputs": [],
   "source": [
    "catalogs = ['cosmoDC2_v1.1.4_9556']\n",
    "gcs = []\n",
    "for catalog in catalogs:\n",
    "    gc = GCRCatalogs.load_catalog(catalog)\n",
    "    gcs.append(gc)\n",
    "    \n",
    "keys = gcs[0].list_all_native_quantities()\n",
    "rs_keys = [k for k in keys if 'sequence' in k]\n",
    "print (rs_keys)\n",
    "keys = gcs[0].list_all_quantities()\n",
    "mass_keys = [k for k in keys if 'mass' in k]\n",
    "\n",
    "SED_keys = sorted([k for k in keys if 'sed' in k and 'no_host' not in k], key=stringSplitByIntegers)\n",
    "SED_nodust_keys = [k for k in keys if 'sed' in k and 'no_host' in k]\n",
    "print (mass_keys, SED_keys)\n",
    "filters = ['g', 'r', 'i', 'z']\n",
    "mag_keys = ['mag_{}_lsst'.format(f) for f in filters]\n",
    "Mag_keys = ['Mag_true_{}_lsst_z0'.format(f) for f in filters]\n",
    "print(mag_keys, Mag_keys)\n",
    "quantities = ['galaxy_id', 'redshift', 'is_central'] + mag_keys + Mag_keys + rs_keys + mass_keys + SED_keys"
   ]
  },
  {
   "cell_type": "code",
   "execution_count": null,
   "metadata": {},
   "outputs": [],
   "source": [
    "catdata = {}\n",
    "for catalog, gc in zip(catalogs, gcs):\n",
    "    catdata[catalog] = gc.get_quantities(quantities)\n",
    "    data = catdata[catalog]\n",
    "    data['g-r'] = data['mag_g_lsst'] - data['mag_r_lsst']\n",
    "    data['r-i'] = data['mag_r_lsst'] - data['mag_i_lsst'] \n",
    "    #print(list(data.keys()))\n",
    "    \n",
    "print(list(catdata.keys()))"
   ]
  },
  {
   "cell_type": "markdown",
   "metadata": {},
   "source": [
    "Define functions to get the wavelengths associated with each SED filter and return the fluxes."
   ]
  },
  {
   "cell_type": "code",
   "execution_count": null,
   "metadata": {},
   "outputs": [],
   "source": [
    "def get_lambdas(sed_keys):\n",
    "    lambdas = np.asarray([re.findall('\\d+', k) for k in sorted(sed_keys, key=stringSplitByIntegers)])\n",
    "    return lambdas[...,0].astype(np.float) + lambdas[...,1].astype(np.float)/2.\n",
    "\n",
    "\n",
    "def get_fluxes(data, sed_keys, mask=None, number=None):\n",
    "    if mask is None:\n",
    "        mask = np.ones(len(data[sed_keys[0]]), type=bool)\n",
    "    if number is None:\n",
    "        number = len(data[sed_keys[0]][mask])\n",
    "    number = min(number, len(data[sed_keys[0]][mask]))\n",
    "    fluxes = np.zeros((len(sed_keys), number))\n",
    "    for n, k in enumerate(sorted(sed_keys, key=stringSplitByIntegers)):\n",
    "        fluxes[n] = data[k][mask][0:number]\n",
    "    \n",
    "    return fluxes.T"
   ]
  },
  {
   "cell_type": "code",
   "execution_count": null,
   "metadata": {},
   "outputs": [],
   "source": [
    "sed_keys = sorted([k for k in SED_keys if 'disk' not in k and 'bulge' not in k], key=stringSplitByIntegers) \n",
    "lambda_c = get_lambdas(sed_keys)\n",
    "print(lambda_c)\n",
    "NSED = len(lambda_c)\n",
    "print(NSED)"
   ]
  },
  {
   "cell_type": "markdown",
   "metadata": {},
   "source": [
    "Define a function to run the PCA decomposition on the fluxes. The define a function to loop over the selected galaxy sample, gin in mass and redshift and\n",
    "1) plot some sample SEDs\n",
    "2) Evaluate the PCA eigenvectors and coeeficients"
   ]
  },
  {
   "cell_type": "code",
   "execution_count": null,
   "metadata": {},
   "outputs": [],
   "source": [
    "from sklearn.decomposition import PCA as sklPCA\n",
    "def get_PCA_fit(fluxes):\n",
    "    pca = sklPCA(n_components=fluxes.shape[1])\n",
    "    __=pca.fit(fluxes)\n",
    "    evecs = pca.components_\n",
    "    coeffs = np.array(pca.transform(fluxes))\n",
    "    return evecs, coeffs"
   ]
  },
  {
   "cell_type": "code",
   "execution_count": null,
   "metadata": {},
   "outputs": [],
   "source": [
    "def analyse_SEDs(data, sed_keys, lambda_c, mstar_cuts, z_cuts, mask=None, number=None, colors=None,\n",
    "                 plot_SED=False, pca=False, catalog='', figdir='./', mask_label='', NPCA=5):\n",
    "    results={}\n",
    "    if mask is None:\n",
    "        mask = np.ones(len(data[sed_keys[0]]), dtype=bool)\n",
    "    print('#'+mask_label, np.count_nonzero(mask))\n",
    "    for zcutlo, zcuthi in zip(z_cuts[0:-1], z_cuts[1:]):\n",
    "        zlabel = '${} < z < {}$'.format(zcutlo, zcuthi)\n",
    "        zmask = (data['redshift'] > zcutlo) & (data['redshift'] <= zcuthi)\n",
    "        print('#z=',zcutlo, zcuthi, np.count_nonzero(zmask))\n",
    "        for mcutlo, mcuthi in zip(mstar_cuts[0:-1], mstar_cuts[1:]):\n",
    "            mmask =  (data['stellar_mass'] > mcutlo) & (data['stellar_mass'] <= mcuthi)\n",
    "            print('#M*=',np.count_nonzero(mmask))\n",
    "            mlabel = '${} < log(M*/M_\\odot) < {}$'.format(math.log10(mcutlo), math.log10(mcuthi))\n",
    "            mask_this = mmask & zmask & mask\n",
    "            print('#all=',np.count_nonzero(mask_this))\n",
    "            if plot_SED:\n",
    "                fig, axall = plt.subplots(1, 2, figsize=(16, 5))\n",
    "            elif pca:\n",
    "                fig, axall = plt.subplots(1, 2, figsize=(16, 5))\n",
    "            for i, c in enumerate(components):\n",
    "                key = 'z_{}_{}_{}<M<{}_{}'.format(zcutlo, zcuthi, mcutlo, mcuthi, c)\n",
    "                results[key] = {}\n",
    "                sed_keys = sorted([k for k in SED_keys if c in k], key=stringSplitByIntegers)\n",
    "                #print('galaxy_ids=', data['galaxy_id'][mask_this][0:len(fluxes)])\n",
    "                ax = axall.flat[i]\n",
    "                if plot_SED:\n",
    "                    fluxes = get_fluxes(data, sed_keys, mask=mask_this, number=number)\n",
    "                    for n, (flux, color) in enumerate(zip(fluxes, colors[0:len(fluxes)])):\n",
    "                        mag = -2.5*np.log10(flux)\n",
    "                        ax.plot(lambda_c, mag, color=color)\n",
    "                    \n",
    "                    ax.set_xlabel('$\\lambda$')\n",
    "                    ax.set_ylabel('Magnitude')\n",
    "                    ax.set_ylim(ax.get_ylim()[::-1])\n",
    "                    fig_id ='SED'\n",
    "                elif pca:\n",
    "                    fluxes = get_fluxes(data, sed_keys, mask=mask_this)\n",
    "                    #print(fluxes.shape)\n",
    "                    evecs, coeffs = get_PCA_fit(fluxes)\n",
    "                    #print(evecs.shape, fluxes.shape)\n",
    "                    results[key][c+'_evecs'] = evecs\n",
    "                    results[key][c+'_coeffs'] = coeffs\n",
    "                    ax = axall.flat[i]\n",
    "                    for n, (evec, color) in enumerate(zip(evecs[0:NPCA], colors[0:NPCA])):\n",
    "                        ax.plot(lambda_c, evec, label=' '.join(['Eigenvector', str(n)]), color=color)\n",
    "                    ax.set_xlabel('$\\lambda$')\n",
    "                    ax.set_ylabel('PCA Component')\n",
    "                    ax.legend(loc='best', fontsize='small')\n",
    "                    fig_id = 'PCAcomponents'\n",
    "                    \n",
    "                label  = ', '.join([mlabel, zlabel])\n",
    "                ax.set_title(', '.join([mask_label, label, c+' component']))\n",
    "            \n",
    "            figname = '{}_{}_lt_logM_le_{:.1f}_{:.2f}_lt_z_le_{:.2f}_{}.png'.format(fig_id, math.log10(mcutlo),\n",
    "                        math.log10(mcuthi), zcutlo, zcuthi, catalog)        \n",
    "            print('Saving {}'.format(figname))\n",
    "            figfile = os.path.join(figdir, figname)\n",
    "            fig.savefig(figfile, bbox_inches='tight')                    \n",
    "                    \n",
    "    return results"
   ]
  },
  {
   "cell_type": "markdown",
   "metadata": {},
   "source": [
    "Now set up the mask to select galaxies that are centrals and RS members and make plots. We keep the disk and bulge components separate."
   ]
  },
  {
   "cell_type": "code",
   "execution_count": null,
   "metadata": {},
   "outputs": [],
   "source": [
    "data = catdata[catalogs[0]]\n",
    "#components = ['', 'disk', 'bulge']\n",
    "components = ['disk', 'bulge']\n",
    "figdir='./'\n",
    "code ='ri'\n",
    "number=10\n",
    "colors = ['black', 'r', 'y', 'g', 'blue', 'm', 'orange', 'c', 'pink', 'purple']\n",
    "rsmask = (data['is_central']) & (data['baseDC2/is_on_red_sequence_' + code])\n",
    "print('#RS=', np.count_nonzero(rsmask))\n",
    "mstar_cuts = np.logspace(9., 12., 4)\n",
    "zcuts = np.linspace(0., 1.5, 4)\n",
    "#make plots of some representative SEDs\n",
    "results = analyse_SEDs(data, sed_keys, lambda_c, mstar_cuts, zcuts, mask=rsmask, number=number, plot_SED=True,\n",
    "             colors=colors, catalog=catalogs[0], figdir=figdir, mask_label='RS Centrals')"
   ]
  },
  {
   "cell_type": "markdown",
   "metadata": {},
   "source": [
    "The following cell evaluates the PCA decomposition for the above mass and redshift bins. However, the number of objects in each bins is limited and the decomposition becomes noisy after the first 2 components. We will skip this cell and instead move on to using the whole sample."
   ]
  },
  {
   "cell_type": "code",
   "execution_count": null,
   "metadata": {},
   "outputs": [],
   "source": [
    "#results = analyse_SEDs(data, sed_keys, lambda_c, mstar_cuts, zcuts, mask=rsmask, number=number, pca=True, NPCA=5,\n",
    "#             colors=colors, catalog=catalogs[0], figdir=figdir, mask_label='RS Centrals')"
   ]
  },
  {
   "cell_type": "code",
   "execution_count": null,
   "metadata": {},
   "outputs": [],
   "source": [
    "#get PCA decomposition for entire dataset with mask\n",
    "def PCA_data(data, sed_keys, mask=None, components=[], NPCA=None):\n",
    "    if mask is None:\n",
    "        mask = np.ones(len(data[sed_keys[0]]), dtype=bool)\n",
    "    print('#=', np.count_nonzero(mask))\n",
    "    if NPCA is None:\n",
    "        NPCA = len([k for k in sed_keys if components[0] in k])\n",
    "    print('NPCA=',NPCA)\n",
    "    evectors = {}\n",
    "    #initialize new data columns\n",
    "    \n",
    "    for c in components:\n",
    "        #initialize new data columns\n",
    "        sed_keys = sorted([k for k in SED_keys if c in k], key=stringSplitByIntegers)\n",
    "        fluxes = get_fluxes(data, sed_keys, mask=mask)\n",
    "        evecs, coeffs = get_PCA_fit(fluxes)\n",
    "        print('shapes:', evecs.shape, coeffs.shape)\n",
    "        for npca in range(NPCA):\n",
    "            #initialize new data columns to nans\n",
    "            newkey = '_'.join(['PCA', c, str(npca)])\n",
    "            data[newkey] = np.array([np.nan]*len(mask))\n",
    "            #fill selected rows with coefficients\n",
    "            #print(len(data[newkey][mask]), len(coeffs[:,npca]))\n",
    "            data[newkey][mask] = coeffs[:,npca]\n",
    "        evectors[c] = evecs\n",
    "    \n",
    "    return evectors, data\n",
    "\n",
    "\n",
    "def plot_evectors(evectors, lambda_c, components=components, colors=None, \n",
    "                  catalog='', figdir='./', mask_label='', NPCA=5):\n",
    "    fig, axall = plt.subplots(1, 2, figsize=(16, 5))\n",
    "    for i, c in enumerate(components):\n",
    "        ax = axall.flat[i]\n",
    "        for n, (evec, color) in enumerate(zip(evectors[c][0:NPCA], colors[0:NPCA])):\n",
    "            ax.plot(lambda_c, evec, label=' '.join(['Eigenvector', str(n)]), color=color)\n",
    "            ax.set_xlabel('$\\lambda$')\n",
    "            ax.set_ylabel('PCA Component')\n",
    "            ax.legend(loc='best', fontsize='small')\n",
    "            fig_id = 'PCAcomponents'\n",
    "            ax.set_title(', '.join([mask_label, c+' component']))\n",
    "            \n",
    "    figname = '{}_{}.png'.format(fig_id, catalog)\n",
    "    print('Saving {}'.format(figname))\n",
    "    figfile = os.path.join(figdir, figname)\n",
    "    fig.savefig(figfile, bbox_inches='tight')    "
   ]
  },
  {
   "cell_type": "markdown",
   "metadata": {},
   "source": [
    "Note that we have added the PCA coefficients to the data dict. This is so we can subdivide by mass and redshift later and look for trends. We add some checks to make sure that the code is working as expected."
   ]
  },
  {
   "cell_type": "code",
   "execution_count": null,
   "metadata": {},
   "outputs": [],
   "source": [
    "evectors, data = PCA_data(data, sed_keys, mask=rsmask, components=components, NPCA=NSED)\n",
    "print([k for k in data.keys() if 'PCA' in k])\n",
    "print(evectors.keys())"
   ]
  },
  {
   "cell_type": "markdown",
   "metadata": {},
   "source": [
    "Plot the first 5 eigenvectors. The 0th component captures the basic shape of the SED. Components 3 and 4 are starting to look noisy."
   ]
  },
  {
   "cell_type": "code",
   "execution_count": null,
   "metadata": {},
   "outputs": [],
   "source": [
    "plot_evectors(evectors, lambda_c, components=components, colors=colors, \n",
    "              catalog=catalogs[0], figdir=figdir, mask_label='RS Centrals')"
   ]
  },
  {
   "cell_type": "markdown",
   "metadata": {},
   "source": [
    "Now select some properties to use to search for correlations with the PCA coefficients. Stellar mass, halo mass and colors are good candidates for properties that may be correclated with the coefficients. Define a function to compute the colors from magnitudes and add them to the data dict."
   ]
  },
  {
   "cell_type": "code",
   "execution_count": null,
   "metadata": {},
   "outputs": [],
   "source": [
    "properties = ['stellar_mass', 'halo_mass', 'r-i', 'g-r']\n",
    "#bands = ['u', 'g', 'r', 'i', 'z', 'y']\n",
    "bands = ['g', 'r', 'i', 'z']\n",
    "frames =['rest', 'obs']\n",
    "Mtemplate = 'Mag_true_{}_lsst_z0'\n",
    "mtemplate = 'mag_{}_lsst'\n",
    "def get_colors(bands, color_dict, key_template):\n",
    "    newkeys = []\n",
    "    frame = 'rest' if 'z0' in key_template else 'obs'\n",
    "    for b1, b2 in zip(bands[0:-1], bands[1:]):\n",
    "        k1 = key_template.format(b1)\n",
    "        k2 = key_template.format(b2)\n",
    "        newkey = '('+b1+'-'+b2+')_'+frame\n",
    "        newkeys.append(newkey)\n",
    "        color_dict[newkey] = color_dict[k1] - color_dict[k2]\n",
    "        \n",
    "    print('Added keys:', newkeys)\n",
    "    \n",
    "    return color_dict\n",
    "\n",
    "data = get_colors(bands, data, Mtemplate)\n",
    "data = get_colors(bands, data, mtemplate)\n",
    "print(data['(r-i)_rest'][0:20])"
   ]
  },
  {
   "cell_type": "markdown",
   "metadata": {},
   "source": [
    "Define a function to plot the distribution of a selected PCA coefficient versus some property for different redshift ranges."
   ]
  },
  {
   "cell_type": "code",
   "execution_count": null,
   "metadata": {},
   "outputs": [],
   "source": [
    "#plot PCA coefficients\n",
    "def plot_coefficients(data, npca, properties, z_cuts, components=[], mask=None, cmap='cool',\n",
    "                      Nxbins=50, Nybins=50, catalog='', figdir='./', mask_label=''):\n",
    "    \n",
    "    if mask is None:\n",
    "        mask = np.ones(len(data['PCA_disk_0']), dtype=bool)\n",
    "    print('#'+mask_label, np.count_nonzero(mask))\n",
    "    for p in properties:\n",
    "        nrows = len(z_cuts[0:-1])\n",
    "        fig, axall = plt.subplots(nrows, 2, figsize=(16, nrows*5))\n",
    "        for nz, (zcutlo, zcuthi) in enumerate(zip(z_cuts[0:-1], z_cuts[1:])):\n",
    "            zlabel = '${} < z < {}$'.format(zcutlo, zcuthi)\n",
    "            zmask = (data['redshift'] > zcutlo) & (data['redshift'] <= zcuthi)\n",
    "            print('#z=',zcutlo, zcuthi, np.count_nonzero(zmask))\n",
    "            mask_this = zmask & mask\n",
    "            print('#all=',np.count_nonzero(mask_this))\n",
    "            for i, c in enumerate(components):\n",
    "                ax = axall.flat[nz*2+i]\n",
    "                ykey = '_'.join(['PCA', c, str(npca)])               \n",
    "                if 'mass' in p:\n",
    "                    xdata = np.log10(data[p])                    \n",
    "                    subscript = '*' if 'stellar' in p else 'halo' \n",
    "                    xlabel = ''.join(['$\\log10(M_{',subscript,'}/M_{\\odot})$'])\n",
    "                else:\n",
    "                    xlabel = p\n",
    "                    xdata = data[p]\n",
    "                print(c, np.min(data[ykey][mask_this]), np.max(data[ykey][mask_this]))\n",
    "                CD2, xedges, yedges = np.histogram2d(xdata[mask_this], data[ykey][mask_this],\n",
    "                                                     bins=(Nxbins, Nybins))\n",
    "                CD2masked = np.ma.masked_where(CD2.T==0.0, CD2.T)\n",
    "                hd2 = ax.pcolormesh(xedges, yedges, CD2masked, cmap=cmap)#, alpha=alpha2d)\n",
    "                cb2 = plt.colorbar(hd2, ax=ax)\n",
    "                #ax.plot(xdata[mask_this], data[ykey][mask_this], label=mask_label, color=color, alpha=0.3)\n",
    "                ax.set_xlabel(xlabel)\n",
    "                ax.set_ylabel('PCA Coefficient '+str(npca))\n",
    "                #ax.legend(loc='best', fontsize='small')\n",
    "                fig_id = '_'.join(['PCAcoefficient',str(npca),'vs',p])\n",
    "                ax.set_title(', '.join([mask_label, zlabel, c+' component']))\n",
    "            \n",
    "        figname = '{}_{:.2f}_lt_z_le_{:.2f}_{}.png'.format(fig_id, zcutlo, \n",
    "                                                            zcuthi, catalog)\n",
    "        print('Saving {}'.format(figname))\n",
    "        figfile = os.path.join(figdir, figname)\n",
    "        fig.savefig(figfile, bbox_inches='tight')    "
   ]
  },
  {
   "cell_type": "markdown",
   "metadata": {},
   "source": [
    "Make a further selection on stellar mass > 1e9, since we are interested in BGCs. Plots the beahvaior of PCA coefficient 0. Note the correlation with stellar mass for the bulge component. No correlations are observed with color, which is expected since we colors would characterize changes in shape from 0th eigenvector."
   ]
  },
  {
   "cell_type": "code",
   "execution_count": null,
   "metadata": {},
   "outputs": [],
   "source": [
    "properties = ['stellar_mass', 'halo_mass', '(r-i)_rest', '(g-r)_rest']\n",
    "print(components)\n",
    "mass_mask = data['stellar_mass'] > 1e9\n",
    "mask_all = mass_mask & rsmask\n",
    "plot_coefficients(data, 0, properties, zcuts, mask=mask_all, components=components, \n",
    "                      catalog=catalogs[0], figdir=figdir, mask_label='RS Centrals, M* > 1e9')"
   ]
  },
  {
   "cell_type": "markdown",
   "metadata": {},
   "source": [
    "Now look at the behavior of PCA coefficent 1. There is still some correlation with stellar mass, and a very mild correlation with color for the disk component. However nothing striking is seen."
   ]
  },
  {
   "cell_type": "code",
   "execution_count": null,
   "metadata": {},
   "outputs": [],
   "source": [
    "plot_coefficients(data, 1, properties, zcuts, mask=mask_all, components=components, \n",
    "                      catalog=catalogs[0], figdir=figdir, mask_label='RS Centrals, M* > 1e9')"
   ]
  },
  {
   "cell_type": "markdown",
   "metadata": {},
   "source": [
    "Finally for completeness, here are the plost for PCA coefficient 2. No significant correlations are observed."
   ]
  },
  {
   "cell_type": "code",
   "execution_count": null,
   "metadata": {},
   "outputs": [],
   "source": [
    "plot_coefficients(data, 2, properties, zcuts, mask=mask_all, components=components, \n",
    "                      catalog=catalogs[0], figdir=figdir, mask_label='RS Centrals, M* > 1e9')"
   ]
  },
  {
   "cell_type": "code",
   "execution_count": null,
   "metadata": {},
   "outputs": [],
   "source": []
  }
 ],
 "metadata": {
  "kernelspec": {
   "display_name": "desc-python",
   "language": "python",
   "name": "desc-python"
  },
  "language_info": {
   "codemirror_mode": {
    "name": "ipython",
    "version": 3
   },
   "file_extension": ".py",
   "mimetype": "text/x-python",
   "name": "python",
   "nbconvert_exporter": "python",
   "pygments_lexer": "ipython3",
   "version": "3.6.6"
  }
 },
 "nbformat": 4,
 "nbformat_minor": 2
}

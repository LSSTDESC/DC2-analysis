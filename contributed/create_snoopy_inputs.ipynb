{
 "cells": [
  {
   "cell_type": "markdown",
   "metadata": {},
   "source": [
    "# Examining SN hubble residuals VS Host Galaxy Properties"
   ]
  },
  {
   "cell_type": "code",
   "execution_count": null,
   "metadata": {},
   "outputs": [],
   "source": [
    "import os\n",
    "from random import random\n",
    "\n",
    "from astropy.table import Table\n",
    "from matplotlib import pyplot as plt\n",
    "\n",
    "import GCRCatalogs\n"
   ]
  },
  {
   "cell_type": "code",
   "execution_count": null,
   "metadata": {},
   "outputs": [],
   "source": [
    "# Cosmo DC2 contains host galaxy properties\n",
    "cosmo_gc = GCRCatalogs.load_catalog('cosmoDC2_v1.1.4_small')\n",
    "\n",
    "# Truth Variable Summary catalog specifies variable type and ids of SN and hosts\n",
    "truth_variable_summary_gc = GCRCatalogs.load_catalog('dc2_truth_run1.2_variable_summary')\n",
    "\n",
    "# Truth Variable Light Curve catalog contains the \"observed\" light curves\n",
    "truth_variable_gc = GCRCatalogs.load_catalog('dc2_truth_run1.2_variable_lightcurve')\n",
    "\n",
    "# Truth Variable Light Curve catalog contains target meta data (ra, dec, redshift, etc.)\n",
    "truth_static_gc = GCRCatalogs.load_catalog('dc2_truth_run1.2_static')\n"
   ]
  },
  {
   "cell_type": "code",
   "execution_count": null,
   "metadata": {},
   "outputs": [],
   "source": [
    "def get_supernovae():\n",
    "    \"\"\"Return supernovae from the Truth Variable Summary Catalog\n",
    "    \n",
    "    Returns:\n",
    "        A dictionary of arrays with keys 'galaxy_id', 'uniqueId', 'ra', and 'dec'\n",
    "    \"\"\"\n",
    "    \n",
    "    supernovae = truth_variable_summary_gc.get_quantities(\n",
    "        ['galaxy_id', 'uniqueId', 'ra', 'dec'], \n",
    "        native_filters=['sn == 1', 'galaxy_id != -1']\n",
    "    )\n",
    "    \n",
    "    return supernovae"
   ]
  },
  {
   "cell_type": "code",
   "execution_count": null,
   "metadata": {},
   "outputs": [],
   "source": [
    "def write_snoopy_file(out_path, **kwargs):\n",
    "    \"\"\"Creates a snoopy input file out_path/name.txt\n",
    "    \n",
    "    Args:\n",
    "        out_path         (str): Where to write the input file\n",
    "        name             (str): The name of the target\n",
    "        redshift       (float): The redshift of the target    \n",
    "        ra             (float): The ra of the target\n",
    "        dec            (float): The dec of the target\n",
    "        <u, g, r, i, z> (dict): The date ('mjd') and magnitude ('mag')\n",
    "    \"\"\"\n",
    "    \n",
    "    file_text = f'{kwargs[\"name\"]} {kwargs[\"redshift\"]} {kwargs[\"ra\"]} {kwargs[\"dec\"]}\\n'\n",
    "    \n",
    "    # Todo: Specify LSST filters including y\n",
    "    band_names = {'u': 'u_s', \n",
    "                  'g': 'g_s',\n",
    "                  'r': 'r_s',\n",
    "                  'i': 'i_s',\n",
    "                  'z': 'z_s'}\n",
    "    \n",
    "    for band, name in band_names.items():\n",
    "        if band not in kwargs:\n",
    "            continue\n",
    "            \n",
    "        file_text += f'filter {name}\\n'\n",
    "        \n",
    "        for mjd, mag in zip(kwargs[band]['mjd'], kwargs[band]['mag']):\n",
    "            # Todo: Specify the actual error\n",
    "            file_text += f'{mjd} {mag} {0.01 * mag}\\n'\n",
    "    \n",
    "    with open(out_path, 'w') as ofile:\n",
    "        ofile.write(file_text)\n",
    "    "
   ]
  },
  {
   "cell_type": "code",
   "execution_count": null,
   "metadata": {},
   "outputs": [],
   "source": [
    "def create_snoopy_inputs(out_dir, supernovae):\n",
    "    \"\"\"Generate snoopy input files for supernova in the truth catalouge\n",
    "    \n",
    "    Args:\n",
    "        out_dir     (str): The directory to write input files to\n",
    "        supernovae (dict): Catalog data returned by get_supernovae\n",
    "    \"\"\"\n",
    "\n",
    "    os.makedirs(out_dir, exist_ok=True)\n",
    "    meta_table_path = os.path.join(out_dir, 'meta_data.csv')\n",
    "    meta_table = Table(names=['target', 'stellat_mass', 'sfr'])\n",
    "    \n",
    "    iter_data = zip(supernovae['ra'], supernovae['dec'], supernovae['uniqueId'], supernovae['galaxy_id'])\n",
    "    for ra, dec, sn_id, gal_id in iter_data:\n",
    "        \n",
    "        # Todo: Specify actual redshift\n",
    "        redshift = 3 * random() #truth_static_gc.get_quantities(['redshift'], filters=[f'object_id == {gal_id}'])\n",
    "\n",
    "        # Truth variable catalog is SQL based so individual queries go by quickly\n",
    "        u = truth_variable_gc.get_quantities(['mjd', 'mag'], filters=['filter == 0'], native_filters=['sn == 1', f'uniqueId == {sn_id}'])\n",
    "        g = truth_variable_gc.get_quantities(['mjd', 'mag'], filters=['filter == 1'], native_filters=['sn == 1', f'uniqueId == {sn_id}'])\n",
    "        r = truth_variable_gc.get_quantities(['mjd', 'mag'], filters=['filter == 2'], native_filters=['sn == 1', f'uniqueId == {sn_id}'])\n",
    "        i = truth_variable_gc.get_quantities(['mjd', 'mag'], filters=['filter == 3'], native_filters=['sn == 1', f'uniqueId == {sn_id}'])\n",
    "        z = truth_variable_gc.get_quantities(['mjd', 'mag'], filters=['filter == 4'], native_filters=['sn == 1', f'uniqueId == {sn_id}'])\n",
    "        y = truth_variable_gc.get_quantities(['mjd', 'mag'], filters=['filter == 5'], native_filters=['sn == 1', f'uniqueId == {sn_id}'])\n",
    "\n",
    "        # Skip SN with no observations\n",
    "        bands = (u, g, r, i , z, y)\n",
    "        if sum((len(x['mjd']) for x in bands)) == 0:\n",
    "            # print(f'No Observations: {sn_id}\\n')  \n",
    "            continue\n",
    "\n",
    "        # meta_data = cosmo_gc.get_quantities(['baseDC2/obs_sfr', 'stellar_mass'], filters=[f'galaxy_id == {gal_id}'])\n",
    "        # meta_table.add_row(... meta_data ...)\n",
    "        \n",
    "        out_path = os.path.join(out_dir, f'{sn_id}.txt')\n",
    "        write_snoopy_file(\n",
    "            out_path,\n",
    "            u=u,\n",
    "            g=g,\n",
    "            r=r,\n",
    "            i=i,\n",
    "            z=z,\n",
    "            name=sn_id,\n",
    "            redshift=redshift,\n",
    "            ra=ra,\n",
    "            dec=dec\n",
    "        )\n"
   ]
  },
  {
   "cell_type": "code",
   "execution_count": null,
   "metadata": {},
   "outputs": [],
   "source": [
    "# Get supernova data from the truth variable summary catalog\n",
    "supernovae = get_supernovae()\n",
    "print(supernovae)\n",
    "\n",
    "# Generate input files for snoopy\n",
    "create_snoopy_inputs('./snoopy_data', supernovae)\n"
   ]
  },
  {
   "cell_type": "code",
   "execution_count": null,
   "metadata": {},
   "outputs": [],
   "source": []
  }
 ],
 "metadata": {
  "kernelspec": {
   "display_name": "desc-python",
   "language": "python",
   "name": "desc-python"
  },
  "language_info": {
   "codemirror_mode": {
    "name": "ipython",
    "version": 3
   },
   "file_extension": ".py",
   "mimetype": "text/x-python",
   "name": "python",
   "nbconvert_exporter": "python",
   "pygments_lexer": "ipython3",
   "version": "3.6.6"
  }
 },
 "nbformat": 4,
 "nbformat_minor": 2
}

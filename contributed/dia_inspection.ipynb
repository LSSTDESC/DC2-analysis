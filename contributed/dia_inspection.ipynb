{
 "cells": [
  {
   "cell_type": "markdown",
   "metadata": {},
   "source": [
    "### Inspect Subtraction in Detail\n",
    "Michael Wood-Vasey\n",
    "\n",
    "2019-08-09\n",
    "\n",
    "Some starting points to inspect DIA Processing\n",
    "\n",
    "After working through this Notebook, a person should be able to\n",
    "1. Load a set of coadd, science, difference image for a given visit, filter, tract+path.\n",
    "2. Load a postage stamps of coadd, science, and difference images\n",
    "3. Load the PSF object for an image and inspect the size of the PSF.\n",
    "4. Subtract two PSFs from different images\n",
    "\n",
    "Future Goals of this Notebook:\n",
    "5. Understand PSF of each image and how the Image Difference software calculated the convolution between them.\n",
    "6. Inspect convolution kernels in both ZOGY and A&L."
   ]
  },
  {
   "cell_type": "code",
   "execution_count": null,
   "metadata": {},
   "outputs": [],
   "source": [
    "import math\n",
    "import os\n",
    "import sys\n",
    "\n",
    "import numpy as np\n",
    "\n",
    "import lsst.afw.display as afwDisplay\n",
    "import lsst.afw.geom as afwGeom\n",
    "from lsst.daf.persistence import Butler\n",
    "from lsst.geom import SpherePoint"
   ]
  },
  {
   "cell_type": "code",
   "execution_count": null,
   "metadata": {},
   "outputs": [],
   "source": [
    "# The Postage Stamp routines are saved in a separate file here in the same folder as this Notebook\n",
    "from image_stamp import make_cutout_image"
   ]
  },
  {
   "cell_type": "code",
   "execution_count": null,
   "metadata": {},
   "outputs": [],
   "source": [
    "import matplotlib.pyplot as plt\n",
    "%matplotlib inline"
   ]
  },
  {
   "cell_type": "markdown",
   "metadata": {},
   "source": [
    "Inspecting a set of subtractions provided by Bob Armstrong:\n",
    "#desc-dc2-dia\n",
    "\n",
    "2019-05-03\n",
    "\n",
    "Bob:\n",
    "\"\n",
    "I have processed a new batch of difference images for Run 1.2p.  This new batch creates templates from the  first two years that only uses visits with seeing < 0.7.  It then produces difference images for visits from the remaining years.  It combines all the filters except for u-band where there were not enough visits in the first two years.  This new run also produces forced photometry on the templates at the diaObject positions.  It uses the same default settings of Alard-Lupton for difference image as the run before.\n",
    "\""
   ]
  },
  {
   "cell_type": "code",
   "execution_count": null,
   "metadata": {},
   "outputs": [],
   "source": [
    "repo = '/global/cscratch1/sd/rearmstr/new_templates/diffim_template'"
   ]
  },
  {
   "cell_type": "markdown",
   "metadata": {},
   "source": [
    "------"
   ]
  },
  {
   "cell_type": "code",
   "execution_count": null,
   "metadata": {},
   "outputs": [],
   "source": [
    "butler = Butler(repo)"
   ]
  },
  {
   "cell_type": "markdown",
   "metadata": {},
   "source": [
    "Here is the information necessary to find our sample images.  These are called \"Data IDs\" in the DM Science Pipeline language.\n",
    "\n",
    "The template is fixed for the given repo.  Then we pick a good subtraction and a subtraction with clear ringing."
   ]
  },
  {
   "cell_type": "code",
   "execution_count": null,
   "metadata": {},
   "outputs": [],
   "source": [
    "tract, patch, filt = 4849, '6,6', 'r'\n",
    "template_id = {'tract': tract, 'patch': patch, 'filter': filt}\n",
    "good_id = {'visit': 1181556, 'raftName': 'R12', 'detector': 45, 'filter': filt}\n",
    "ring_id = {'visit': 1203190, 'detector': 38, 'filter': filt}"
   ]
  },
  {
   "cell_type": "markdown",
   "metadata": {},
   "source": [
    "Note that the calexps are from the central Run 1.2p processing, which is a parent of the repo used for these difference image tests."
   ]
  },
  {
   "cell_type": "code",
   "execution_count": null,
   "metadata": {},
   "outputs": [],
   "source": [
    "tmpl = butler.get(datasetType='deepCoadd', dataId=template_id)\n",
    "\n",
    "new_good = butler.get(datasetType='calexp', dataId=good_id)\n",
    "sub_good = butler.get(datasetType='deepDiff_differenceExp', dataId=good_id)\n",
    "\n",
    "new_ring = butler.get(datasetType='calexp', dataId=ring_id)\n",
    "sub_ring = butler.get(datasetType='deepDiff_differenceExp', dataId=ring_id)"
   ]
  },
  {
   "cell_type": "code",
   "execution_count": null,
   "metadata": {},
   "outputs": [],
   "source": [
    "# Reading the diaSrc catalogs needs an updated DM Science Pipelines version to work.  \n",
    "src_good = butler.get(datasetType='deepDiff_diaSrc', dataId=good_id)\n",
    "src_ring = butler.get(datasetType='deepDiff_diaSrc', dataId=ring_id)\n",
    "\n",
    "# The `src_good` and `src_ring` are the AFW Tables from the catalogs\n",
    "# You might be more familar with them as AstroPy tables.\n",
    "src_good = src_good.asAstropy()\n",
    "src_ring = src_ring.asAstropy()"
   ]
  },
  {
   "cell_type": "code",
   "execution_count": null,
   "metadata": {},
   "outputs": [],
   "source": [
    "sample_star = {'ra': 53.069214, 'dec': -28.343584}\n",
    "sample_agn = {'ra': 53.135801, 'dec': -28.426165, 'diaObjectId': 21326977935867913}"
   ]
  },
  {
   "cell_type": "code",
   "execution_count": null,
   "metadata": {},
   "outputs": [],
   "source": [
    "ra, dec = sample_agn['ra'], sample_agn['dec']"
   ]
  },
  {
   "cell_type": "code",
   "execution_count": null,
   "metadata": {},
   "outputs": [],
   "source": [
    "title = 'Template: AGN'\n",
    "agn_tmpl_cutout = make_cutout_image(butler, template_id, ra, dec, dataset_type='deepCoadd', title=title)"
   ]
  },
  {
   "cell_type": "code",
   "execution_count": null,
   "metadata": {},
   "outputs": [],
   "source": [
    "title = 'Good Subtraction: AGN'\n",
    "agn_good_cutout = make_cutout_image(butler, good_id, ra, dec, dataset_type='deepDiff_differenceExp', title=title)"
   ]
  },
  {
   "cell_type": "code",
   "execution_count": null,
   "metadata": {},
   "outputs": [],
   "source": [
    "title = 'Ringing Subtraction: AGN'\n",
    "agn_ring_cutout = make_cutout_image(butler, ring_id, ra, dec, dataset_type='deepDiff_differenceExp', title=title)"
   ]
  },
  {
   "cell_type": "code",
   "execution_count": null,
   "metadata": {},
   "outputs": [],
   "source": [
    "ra, dec = sample_star['ra'], sample_star['dec']"
   ]
  },
  {
   "cell_type": "code",
   "execution_count": null,
   "metadata": {},
   "outputs": [],
   "source": [
    "title = 'Template: Star'\n",
    "star_tmpl_cutout = make_cutout_image(butler, template_id, ra, dec, dataset_type='deepCoadd', title=title)"
   ]
  },
  {
   "cell_type": "code",
   "execution_count": null,
   "metadata": {},
   "outputs": [],
   "source": [
    "title = 'Good Subtraction: Star'\n",
    "star_good_cutout = make_cutout_image(butler, good_id, ra, dec, dataset_type='deepDiff_differenceExp', title=title)"
   ]
  },
  {
   "cell_type": "markdown",
   "metadata": {},
   "source": [
    "We can show the subtraction in the reference frame of the template, but note that this resamples the pixels.  I mostly present it here to show how to do it.\n",
    "\n",
    "In the subtraction process itself, the opposite thing was done.  The template was warped to the science image."
   ]
  },
  {
   "cell_type": "code",
   "execution_count": null,
   "metadata": {},
   "outputs": [],
   "source": [
    "title = 'Good Subtraction: Star -- warped to template frame'\n",
    "star_good_cutout = make_cutout_image(butler, good_id, ra, dec, dataset_type='deepDiff_differenceExp', title=title,\n",
    "                                     warp_to_exposure=star_tmpl_cutout)"
   ]
  },
  {
   "cell_type": "code",
   "execution_count": null,
   "metadata": {},
   "outputs": [],
   "source": [
    "title = 'Ringing Subtraction: Star'\n",
    "star_ring_cutout = make_cutout_image(butler, ring_id, ra, dec, dataset_type='deepDiff_differenceExp', title=title)"
   ]
  },
  {
   "cell_type": "code",
   "execution_count": null,
   "metadata": {},
   "outputs": [],
   "source": [
    "title = 'Ringing Subtraction: Star - warped to template frame'\n",
    "star_ring_cutout = make_cutout_image(butler, ring_id, ra, dec, dataset_type='deepDiff_differenceExp', title=title,\n",
    "                                     warp_to_exposure=star_tmpl_cutout)"
   ]
  },
  {
   "cell_type": "markdown",
   "metadata": {},
   "source": [
    "## PSF\n",
    "\n",
    "Let's look at the PSFs of each image and see if we can predict the ringing seen above.\n",
    "\n",
    "First a quick convenience function to translate shape to FWHM."
   ]
  },
  {
   "cell_type": "code",
   "execution_count": null,
   "metadata": {},
   "outputs": [],
   "source": [
    "def psf_fwhm(quad_shape):\n",
    "    \"\"\"FWHM in pixels\"\"\"\n",
    "    xx, yy, xy = quad_shape.getIxx(), quad_shape.getIyy(), quad_shape.getIxy()\n",
    "    fwhm_pixels = 2.355 * (xx * yy - xy * xy) ** 0.25\n",
    "    return fwhm_pixels"
   ]
  },
  {
   "cell_type": "markdown",
   "metadata": {},
   "source": [
    "And we're also going to want to look at the Fourier transform of this PSF so we'll write a function for that:"
   ]
  },
  {
   "cell_type": "code",
   "execution_count": null,
   "metadata": {},
   "outputs": [],
   "source": [
    "from collections import namedtuple"
   ]
  },
  {
   "cell_type": "code",
   "execution_count": null,
   "metadata": {},
   "outputs": [],
   "source": [
    "PSF_FFT = namedtuple('PSF_FFT', ['image', 'freq', 'fft', 'power'])\n",
    "\n",
    "def show_fft(image):\n",
    "    \"\"\"Calculate and Show the FFT of the input array.\n",
    "    \n",
    "    Shows the 2D FFT and a 1D slice through x and y frequencies\n",
    "    \"\"\"\n",
    "    (n, _) = np.shape(image)\n",
    "    fft = np.fft.fft2(image)\n",
    "    freq = np.fft.fftfreq(n)\n",
    "    # Shift to center point\n",
    "    fft = np.fft.fftshift(fft)\n",
    "    freq = np.fft.fftshift(freq)\n",
    "    power = np.abs(fft)**2\n",
    "\n",
    "    _, axes = plt.subplots(1, 2, figsize=(12, 6))\n",
    "    axes[0].imshow(power)\n",
    "    axes[1].step(freq, power[:, n//2], where='mid', label='x')\n",
    "    axes[1].step(freq, power[n//2, :], where='mid', label='y')\n",
    "    axes[1].set_xlabel('Frequency [1/pixel]')\n",
    "    axes[1].set_ylabel('Power')\n",
    "    axes[1].legend()\n",
    "        \n",
    "    return PSF_FFT(image, freq, fft, power)"
   ]
  },
  {
   "cell_type": "code",
   "execution_count": null,
   "metadata": {},
   "outputs": [],
   "source": [
    "radec = SpherePoint(ra, dec, afwGeom.degrees)"
   ]
  },
  {
   "cell_type": "code",
   "execution_count": null,
   "metadata": {},
   "outputs": [],
   "source": [
    "tmpl_psf = tmpl.getPsf()\n",
    "\n",
    "xy = afwGeom.PointD(tmpl.getWcs().skyToPixel(radec))\n",
    "\n",
    "tmpl_quad_shape = tmpl_psf.computeShape(xy)\n",
    "tmpl_kernel_image = tmpl_psf.computeKernelImage(xy)\n",
    "\n",
    "print(tmpl_quad_shape)\n",
    "print(f'FWHM: {psf_fwhm(tmpl_quad_shape)} pixels')"
   ]
  },
  {
   "cell_type": "code",
   "execution_count": null,
   "metadata": {},
   "outputs": [],
   "source": [
    "display = afwDisplay.Display(backend='matplotlib')\n",
    "display.mtv(tmpl_kernel_image)\n",
    "display.show_colorbar()"
   ]
  },
  {
   "cell_type": "code",
   "execution_count": null,
   "metadata": {},
   "outputs": [],
   "source": [
    "new_good_psf = new_good.getPsf()\n",
    "xy = afwGeom.PointD(new_good.getWcs().skyToPixel(radec))\n",
    "\n",
    "new_good_quad_shape = new_good_psf.computeShape(xy)\n",
    "new_good_kernel_image = new_good_psf.computeKernelImage(xy)\n",
    "\n",
    "print(new_good_quad_shape)\n",
    "print(f'FWHM: {psf_fwhm(new_good_quad_shape)} pixels')"
   ]
  },
  {
   "cell_type": "code",
   "execution_count": null,
   "metadata": {},
   "outputs": [],
   "source": [
    "display = afwDisplay.Display(backend='matplotlib')\n",
    "display.mtv(new_good_kernel_image)\n",
    "display.show_colorbar()"
   ]
  },
  {
   "cell_type": "code",
   "execution_count": null,
   "metadata": {},
   "outputs": [],
   "source": [
    "new_ring_psf = new_ring.getPsf()\n",
    "\n",
    "xy = afwGeom.PointD(new_ring.getWcs().skyToPixel(radec))\n",
    "\n",
    "new_ring_quad_shape = new_ring_psf.computeShape(xy)\n",
    "new_ring_kernel_image = new_ring_psf.computeKernelImage(xy)\n",
    "\n",
    "print(new_ring_quad_shape)\n",
    "print(f'FWHM: {psf_fwhm(new_ring_quad_shape)} pixels')"
   ]
  },
  {
   "cell_type": "code",
   "execution_count": null,
   "metadata": {},
   "outputs": [],
   "source": [
    "display = afwDisplay.Display(backend='matplotlib')\n",
    "display.mtv(new_ring_kernel_image)\n",
    "display.show_colorbar()"
   ]
  },
  {
   "cell_type": "code",
   "execution_count": null,
   "metadata": {},
   "outputs": [],
   "source": [
    "tmpl_psf_fft = show_fft(tmpl_kernel_image.array)"
   ]
  },
  {
   "cell_type": "markdown",
   "metadata": {},
   "source": [
    "Seems reasonable.  The Fourier Transform of a Gaussian is a Gaussian.  The PSF is largely Gaussian, and so is the FFT."
   ]
  },
  {
   "cell_type": "code",
   "execution_count": null,
   "metadata": {},
   "outputs": [],
   "source": [
    "new_good_psf_fft = show_fft(new_good_kernel_image.array)"
   ]
  },
  {
   "cell_type": "code",
   "execution_count": null,
   "metadata": {},
   "outputs": [],
   "source": [
    "new_ring_psf_fft = show_fft(new_ring_kernel_image.array)"
   ]
  },
  {
   "cell_type": "code",
   "execution_count": null,
   "metadata": {},
   "outputs": [],
   "source": [
    "def gaussian(x, mu=0, sigma=1, norm=None):\n",
    "    \"\"\"Return a normalized Gaussian evaluated along x\"\"\"\n",
    "    if norm is None:\n",
    "        norm = (1 / (np.sqrt(2*np.pi) * sigma))\n",
    "    return norm * np.exp(-(np.asarray(x) - mu)**2/(2*sigma**2))"
   ]
  },
  {
   "cell_type": "code",
   "execution_count": null,
   "metadata": {},
   "outputs": [],
   "source": [
    "def plot_slice_psf(psf_fft, psf_shape, label='', color=None):\n",
    "    n, _ = np.shape(psf_fft.image)\n",
    "    pixels = np.arange(-n//2 + 1, n//2 + 1)\n",
    "    plt.step(pixels, psf_fft.image[:, n//2], where='mid',\n",
    "             label=f'{label}_x', color=color, linestyle='-')\n",
    "    plt.step(pixels, psf_fft.image[n//2, :], where='mid',\n",
    "             label=f'{label}_y', color=color, linestyle='--')\n",
    "    sigma_to_fwhm = 2 * math.sqrt(2 * math.log(2))\n",
    "    fwhm_to_sigma = 1 / sigma_to_fwhm\n",
    "    sigma = fwhm_to_sigma * psf_fwhm(psf_shape)\n",
    "    smooth_pixels = np.linspace(-n//2 + 1, n//2 + 1, 101)\n",
    "    plt.plot(smooth_pixels,\n",
    "             gaussian(smooth_pixels, sigma=sigma, norm=psf_fft.image[n//2, n//2]),\n",
    "             color=color, ls=':', label=fr'$\\sigma={sigma:0.2f}$')"
   ]
  },
  {
   "cell_type": "code",
   "execution_count": null,
   "metadata": {},
   "outputs": [],
   "source": [
    "plot_slice_psf(tmpl_psf_fft, tmpl_quad_shape, label='tmpl', color='blue')\n",
    "plot_slice_psf(new_good_psf_fft, new_good_quad_shape, label='good', color='green')\n",
    "plot_slice_psf(new_ring_psf_fft, new_ring_quad_shape, label='ring', color='orange')\n",
    "\n",
    "plt.xticks(np.linspace(-10, +10, 21))\n",
    "plt.xlim(-10, +10)\n",
    "plt.legend();"
   ]
  },
  {
   "cell_type": "markdown",
   "metadata": {},
   "source": [
    "The PSFs are normalized in 2D to a sum of 1.\n",
    "They are not normalized to 1 in a 1D slices."
   ]
  },
  {
   "cell_type": "code",
   "execution_count": null,
   "metadata": {},
   "outputs": [],
   "source": [
    "print(np.sum(tmpl_kernel_image.array))\n",
    "print(np.sum(new_good_kernel_image.array))\n",
    "print(np.sum(new_ring_kernel_image.array))"
   ]
  },
  {
   "cell_type": "code",
   "execution_count": null,
   "metadata": {},
   "outputs": [],
   "source": [
    "print(np.sum(tmpl_psf_fft.image[:, tmpl_n//2]))\n",
    "print(np.sum(new_good_psf_fft.image[:, good_n//2]))\n",
    "print(np.sum(new_ring_psf_fft.image[:, ring_n//2]))"
   ]
  },
  {
   "cell_type": "markdown",
   "metadata": {},
   "source": [
    "------\n",
    "Now let's show the difference between the PSF models\n",
    "\n",
    "We above computed the realized PSF models as `tmpl_kernel_image`, `new_good_kernel_image`, `new_ring_kernel_image`.\n",
    "\n",
    "By default the PSF images as created based on the PSF size.  So the image with a larger PSF will generate larger PSF stamps.  To aid comparison below we'll create images of the same size so that we can compare them."
   ]
  },
  {
   "cell_type": "code",
   "execution_count": null,
   "metadata": {},
   "outputs": [],
   "source": [
    "new_good_len = len(new_good_kernel_image.array)\n",
    "tmpl_len = len(tmpl_kernel_image.array)\n",
    "min_len = min(new_good_len, tmpl_len)\n",
    "\n",
    "def get_center_box(im, size):\n",
    "    nx, ny = im.array.shape\n",
    "    bbox = afwGeom.Box2I(minimum=afwGeom.Point2I(x=-size//2+1, y=-size//2+1),\n",
    "                         maximum=afwGeom.Point2I(x=+size//2, y=+size//2))\n",
    "    return im[bbox]\n",
    "\n",
    "new_good_center = get_center_box(new_good_kernel_image, min_len)\n",
    "tmpl_center = get_center_box(tmpl_kernel_image, min_len)\n",
    "\n",
    "# Renorm\n",
    "new_good_center /= np.sum(new_good_center.array)\n",
    "tmpl_center /= np.sum(tmpl_center.array)\n",
    "\n",
    "from copy import copy, deepcopy\n",
    "diff = deepcopy(new_good_center)\n",
    "diff -= tmpl_center"
   ]
  },
  {
   "cell_type": "code",
   "execution_count": null,
   "metadata": {},
   "outputs": [],
   "source": [
    "display = afwDisplay.Display(backend='matplotlib')\n",
    "display.mtv(diff)\n",
    "display.show_colorbar('normalized counts')"
   ]
  },
  {
   "cell_type": "code",
   "execution_count": null,
   "metadata": {},
   "outputs": [],
   "source": [
    "# Check normalizations\n",
    "print(np.sum(tmpl_center.array))\n",
    "print(np.sum(new_good_center.array))\n",
    "print(np.sum(diff.array))"
   ]
  },
  {
   "cell_type": "markdown",
   "metadata": {},
   "source": [
    "### Appendix\n",
    "#### A. Just Get Me the Files!"
   ]
  },
  {
   "cell_type": "markdown",
   "metadata": {},
   "source": [
    "While the following feature is not meant to be supported in the long-term (the Butler may eventually provide access to datasets across filesystems, remote, cloud buckets, etc.), for debugging and visualization it remains useful to get the direct filename.  We can get that using the Butler `getUri` function (\"get Uniform Resource Identifier\")."
   ]
  },
  {
   "cell_type": "code",
   "execution_count": null,
   "metadata": {},
   "outputs": [],
   "source": [
    "template_file = butler.getUri(datasetType='deepCoadd', dataId=template_id)\n",
    "good_new_file = butler.getUri(datasetType='calexp', dataId=good_id)\n",
    "ring_new_file = butler.getUri(datasetType='calexp', dataId=ring_id)\n",
    "good_sub_file = butler.getUri(datasetType='deepDiff_differenceExp', dataId=good_id)\n",
    "ring_sub_file = butler.getUri(datasetType='deepDiff_differenceExp', dataId=ring_id)"
   ]
  },
  {
   "cell_type": "markdown",
   "metadata": {},
   "source": [
    "If, for example you wanted to download these files to you local machine, you could do the following:\n",
    "    \n",
    "This isn't the recommended approach and doesn't scale to lots of subtractions, but I (MWV) found it useful when investigating things are our very early stages in understanding DC2 DIA."
   ]
  },
  {
   "cell_type": "code",
   "execution_count": null,
   "metadata": {},
   "outputs": [],
   "source": [
    "machine = 'cori.nersc.gov'\n",
    "files_to_copy = [template_file, good_new_file, ring_new_file, good_sub_file, ring_sub_file]\n",
    "\n",
    "for f in files_to_copy:\n",
    "    print(f'rsync {machine}:{f} ./')"
   ]
  }
 ],
 "metadata": {
  "kernelspec": {
   "display_name": "desc-dia",
   "language": "python",
   "name": "desc-dia"
  },
  "language_info": {
   "codemirror_mode": {
    "name": "ipython",
    "version": 3
   },
   "file_extension": ".py",
   "mimetype": "text/x-python",
   "name": "python",
   "nbconvert_exporter": "python",
   "pygments_lexer": "ipython3",
   "version": "3.7.5"
  }
 },
 "nbformat": 4,
 "nbformat_minor": 4
}

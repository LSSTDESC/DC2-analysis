{
 "cells": [
  {
   "cell_type": "markdown",
   "metadata": {},
   "source": [
    "### Inspect Subtraction in Detail\n",
    "Michael Wood-Vasey\n",
    "\n",
    "2019-06-27\n",
    "\n",
    "Some starting points to inspect DIA Processing\n",
    "\n",
    "After working through this Notebook, a person should be able to\n",
    "1. Load a set of coadd, science, difference image for a given visit, filter, tract+path.\n",
    "2. Load a postage stamps of coadd, science, and difference images\n",
    "3. Load the PSF object for an image and inspect the size of the PSF.\n",
    "4. Subtract two PSFs from different images\n",
    "\n",
    "Future Goals of this Notebook:\n",
    "5. Understand PSF of each image and how the Image Difference software calculated the convolution between them.\n",
    "6. Inspect convolution kernels in both ZOGY and A&L."
   ]
  },
  {
   "cell_type": "code",
   "execution_count": null,
   "metadata": {},
   "outputs": [],
   "source": [
    "import os\n",
    "import sys\n",
    "\n",
    "import numpy as np\n",
    "\n",
    "import lsst.afw.display as afwDisplay\n",
    "import lsst.afw.geom as afwGeom\n",
    "from lsst.daf.persistence import Butler\n",
    "from lsst.geom import SpherePoint"
   ]
  },
  {
   "cell_type": "code",
   "execution_count": null,
   "metadata": {},
   "outputs": [],
   "source": [
    "# The Postage Stamp routines are saved in a separate file here in the same folder as this Notebook\n",
    "from image_stamp import make_cutout_image"
   ]
  },
  {
   "cell_type": "code",
   "execution_count": null,
   "metadata": {},
   "outputs": [],
   "source": [
    "import matplotlib.pyplot as plt\n",
    "%matplotlib inline"
   ]
  },
  {
   "cell_type": "markdown",
   "metadata": {},
   "source": [
    "Inspecting a set of subtractions provided by Bob Armstrong:\n",
    "#desc-dc2-dia\n",
    "\n",
    "2019-05-03\n",
    "\n",
    "Bob:\n",
    "\"\n",
    "I have processed a new batch of difference images for Run 1.2p.  This new batch creates templates from the  first two years that only uses visits with seeing < 0.7.  It then produces difference images for visits from the remaining years.  It combines all the filters except for u-band where there were not enough visits in the first two years.  This new run also produces forced photometry on the templates at the diaObject positions.  It uses the same default settings of Alard-Lupton for difference image as the run before.\n",
    "\""
   ]
  },
  {
   "cell_type": "code",
   "execution_count": null,
   "metadata": {},
   "outputs": [],
   "source": [
    "repo = '/global/cscratch1/sd/rearmstr/new_templates/diffim_template'"
   ]
  },
  {
   "cell_type": "markdown",
   "metadata": {},
   "source": [
    "------"
   ]
  },
  {
   "cell_type": "code",
   "execution_count": null,
   "metadata": {},
   "outputs": [],
   "source": [
    "butler = Butler(repo)"
   ]
  },
  {
   "cell_type": "markdown",
   "metadata": {},
   "source": [
    "Here is the information necessary to find our sample images.  These are called \"Data IDs\" in the DM Science Pipeline language.\n",
    "\n",
    "The template is fixed for the given repo.  Then we pick a good subtraction and a subtraction with clear ringing."
   ]
  },
  {
   "cell_type": "code",
   "execution_count": null,
   "metadata": {},
   "outputs": [],
   "source": [
    "tract, patch, filt = 4849, '6,6', 'r'\n",
    "template_id = {'tract': tract, 'patch': patch, 'filter': filt}\n",
    "good_id = {'visit': 1181556, 'raftName': 'R12', 'detector': 45, 'filter': filt}\n",
    "ring_id = {'visit': 1203190, 'detector': 38, 'filter': filt}"
   ]
  },
  {
   "cell_type": "markdown",
   "metadata": {},
   "source": [
    "Note that the calexps are from the central Run 1.2p processing, which is a parent of the repo used for these difference image tests."
   ]
  },
  {
   "cell_type": "code",
   "execution_count": null,
   "metadata": {},
   "outputs": [],
   "source": [
    "tmpl = butler.get(datasetType='deepCoadd', dataId=template_id)\n",
    "\n",
    "new_good = butler.get(datasetType='calexp', dataId=good_id)\n",
    "sub_good = butler.get(datasetType='deepDiff_differenceExp', dataId=good_id)\n",
    "\n",
    "new_ring = butler.get(datasetType='calexp', dataId=ring_id)\n",
    "sub_ring = butler.get(datasetType='deepDiff_differenceExp', dataId=ring_id)"
   ]
  },
  {
   "cell_type": "code",
   "execution_count": null,
   "metadata": {},
   "outputs": [],
   "source": [
    "# Reading the diaSrc catalogs needs an updated DM Science Pipelines version to work.  \n",
    "# src_good = butler.get(datasetType='deepDiff_diaSrc', dataId=good_id)\n",
    "# src_ring = butler.get(datasetType='deepDiff_diaSrc', dataId=ring_id)\n",
    "\n",
    "# The `src_good` and `src_ring` are the AFW Tables from the catalogs\n",
    "# You might be more familar with them as AstroPy tables.\n",
    "# src_good = src_good.asAstropy()\n",
    "# src_ring = src_ring.asAstropy()"
   ]
  },
  {
   "cell_type": "code",
   "execution_count": null,
   "metadata": {},
   "outputs": [],
   "source": [
    "sample_star = {'ra': 53.069214, 'dec': -28.343584}\n",
    "sample_agn = {'ra': 53.135801, 'dec': -28.426165, 'diaObjectId': 21326977935867913}"
   ]
  },
  {
   "cell_type": "code",
   "execution_count": null,
   "metadata": {},
   "outputs": [],
   "source": [
    "ra, dec = sample_agn['ra'], sample_agn['dec']"
   ]
  },
  {
   "cell_type": "code",
   "execution_count": null,
   "metadata": {},
   "outputs": [],
   "source": [
    "title = 'Template: AGN'\n",
    "agn_tmpl_cutout = make_cutout_image(butler, template_id, ra, dec, dataset_type='deepCoadd', title=title)"
   ]
  },
  {
   "cell_type": "code",
   "execution_count": null,
   "metadata": {},
   "outputs": [],
   "source": [
    "title = 'Good Subtraction: AGN'\n",
    "agn_good_cutout = make_cutout_image(butler, good_id, ra, dec, dataset_type='deepDiff_differenceExp', title=title)"
   ]
  },
  {
   "cell_type": "code",
   "execution_count": null,
   "metadata": {},
   "outputs": [],
   "source": [
    "title = 'Ringing Subtraction: AGN'\n",
    "agn_ring_cutout = make_cutout_image(butler, ring_id, ra, dec, dataset_type='deepDiff_differenceExp', title=title)"
   ]
  },
  {
   "cell_type": "code",
   "execution_count": null,
   "metadata": {},
   "outputs": [],
   "source": [
    "ra, dec = sample_star['ra'], sample_star['dec']"
   ]
  },
  {
   "cell_type": "code",
   "execution_count": null,
   "metadata": {},
   "outputs": [],
   "source": [
    "title = 'Template: Star'\n",
    "star_tmpl_cutout = make_cutout_image(butler, template_id, ra, dec, dataset_type='deepCoadd', title=title)"
   ]
  },
  {
   "cell_type": "code",
   "execution_count": null,
   "metadata": {},
   "outputs": [],
   "source": [
    "title = 'Good Subtraction: Star'\n",
    "star_good_cutout = make_cutout_image(butler, good_id, ra, dec, dataset_type='deepDiff_differenceExp', title=title)"
   ]
  },
  {
   "cell_type": "markdown",
   "metadata": {},
   "source": [
    "We can show the subtraction in the reference frame of the template, but note that this resamples the pixels.  I mostly present it here to show how to do it.\n",
    "\n",
    "In the subtraction process itself, the opposite thing was done.  The template was warped to the science image."
   ]
  },
  {
   "cell_type": "code",
   "execution_count": null,
   "metadata": {},
   "outputs": [],
   "source": [
    "title = 'Good Subtraction: Star -- warped to template frame'\n",
    "star_good_cutout = make_cutout_image(butler, good_id, ra, dec, dataset_type='deepDiff_differenceExp', title=title,\n",
    "                                     warp_to_exposure=star_tmpl_cutout)"
   ]
  },
  {
   "cell_type": "code",
   "execution_count": null,
   "metadata": {},
   "outputs": [],
   "source": [
    "title = 'Ringing Subtraction: Star'\n",
    "star_ring_cutout = make_cutout_image(butler, ring_id, ra, dec, dataset_type='deepDiff_differenceExp', title=title)"
   ]
  },
  {
   "cell_type": "code",
   "execution_count": null,
   "metadata": {},
   "outputs": [],
   "source": [
    "title = 'Ringing Subtraction: Star - warped to template frame'\n",
    "star_ring_cutout = make_cutout_image(butler, ring_id, ra, dec, dataset_type='deepDiff_differenceExp', title=title,\n",
    "                                     warp_to_exposure=star_tmpl_cutout)"
   ]
  },
  {
   "cell_type": "code",
   "execution_count": null,
   "metadata": {},
   "outputs": [],
   "source": [
    "radec = SpherePoint(ra, dec, afwGeom.degrees)"
   ]
  },
  {
   "cell_type": "code",
   "execution_count": null,
   "metadata": {},
   "outputs": [],
   "source": [
    "new_good_psf = new_good.getPsf()\n",
    "xy = afwGeom.PointD(new_good.getWcs().skyToPixel(radec))\n",
    "\n",
    "new_good_quad_shape = new_good_psf.computeShape(xy)\n",
    "new_good_kernel_image = new_good_psf.computeKernelImage(xy)\n",
    "\n",
    "print(new_good_quad_shape)"
   ]
  },
  {
   "cell_type": "code",
   "execution_count": null,
   "metadata": {},
   "outputs": [],
   "source": [
    "display = afwDisplay.Display(backend='matplotlib')\n",
    "display.mtv(new_good_kernel_image)\n",
    "display.show_colorbar()"
   ]
  },
  {
   "cell_type": "code",
   "execution_count": null,
   "metadata": {},
   "outputs": [],
   "source": [
    "new_ring_psf = new_ring.getPsf()\n",
    "\n",
    "xy = afwGeom.PointD(new_ring.getWcs().skyToPixel(radec))\n",
    "\n",
    "new_ring_quad_shape = new_ring_psf.computeShape(xy)\n",
    "new_ring_kernel_image = new_ring_psf.computeKernelImage(xy)\n",
    "\n",
    "print(new_ring_quad_shape)"
   ]
  },
  {
   "cell_type": "code",
   "execution_count": null,
   "metadata": {},
   "outputs": [],
   "source": [
    "display = afwDisplay.Display(backend='matplotlib')\n",
    "display.mtv(new_ring_kernel_image)\n",
    "display.show_colorbar()"
   ]
  },
  {
   "cell_type": "code",
   "execution_count": null,
   "metadata": {},
   "outputs": [],
   "source": [
    "tmpl_psf = tmpl.getPsf()\n",
    "\n",
    "xy = afwGeom.PointD(tmpl.getWcs().skyToPixel(radec))\n",
    "\n",
    "tmpl_quad_shape = tmpl_psf.computeShape(xy)\n",
    "tmpl_kernel_image = tmpl_psf.computeKernelImage(xy)\n",
    "\n",
    "print(tmpl_quad_shape)"
   ]
  },
  {
   "cell_type": "code",
   "execution_count": null,
   "metadata": {},
   "outputs": [],
   "source": [
    "display = afwDisplay.Display(backend='matplotlib')\n",
    "display.mtv(tmpl_kernel_image)\n",
    "display.show_colorbar()"
   ]
  },
  {
   "cell_type": "code",
   "execution_count": null,
   "metadata": {},
   "outputs": [],
   "source": [
    "new_good_len = len(new_good_kernel_image.array)\n",
    "tmpl_len = len(tmpl_kernel_image.array)\n",
    "min_len = min(new_good_len, tmpl_len)\n",
    "\n",
    "def get_center_box(im, size):\n",
    "    nx, ny = im.array.shape\n",
    "    bbox = afwGeom.Box2I(minimum=afwGeom.Point2I(x=-size//2+1, y=-size//2+1),\n",
    "                         maximum=afwGeom.Point2I(x=+size//2, y=+size//2))\n",
    "    return im[bbox]\n",
    "\n",
    "new_good_center = get_center_box(new_good_kernel_image, min_len)\n",
    "tmpl_center = get_center_box(tmpl_kernel_image, min_len)\n",
    "\n",
    "# Renorm\n",
    "new_good_center /= np.sum(new_good_center.array)\n",
    "tmpl_center /= np.sum(tmpl_center.array)\n",
    "\n",
    "from copy import copy, deepcopy\n",
    "diff = deepcopy(new_good_center)\n",
    "diff -= tmpl_center"
   ]
  },
  {
   "cell_type": "code",
   "execution_count": null,
   "metadata": {},
   "outputs": [],
   "source": [
    "display = afwDisplay.Display(backend='matplotlib')\n",
    "display.mtv(diff)\n",
    "display.show_colorbar()"
   ]
  },
  {
   "cell_type": "code",
   "execution_count": null,
   "metadata": {},
   "outputs": [],
   "source": [
    "# Check normalizations\n",
    "print(np.sum(tmpl_center.array))\n",
    "print(np.sum(new_good_center.array))\n",
    "print(np.sum(diff.array))"
   ]
  },
  {
   "cell_type": "markdown",
   "metadata": {},
   "source": [
    "### Appendix\n",
    "#### A. Just Get Me the Files!"
   ]
  },
  {
   "cell_type": "markdown",
   "metadata": {},
   "source": [
    "While the following feature is not meant to be supported in the long-term (the Butler may eventually provide access to datasets across filesystems, remote, cloud buckets, etc.), for debugging and visualization it remains useful to get the direct filename.  We can get that using the Butler `getUri` function (\"get Uniform Resource Identifier\")."
   ]
  },
  {
   "cell_type": "code",
   "execution_count": null,
   "metadata": {},
   "outputs": [],
   "source": [
    "template_file = butler.getUri(datasetType='deepCoadd', dataId=template_id)\n",
    "good_new_file = butler.getUri(datasetType='calexp', dataId=good_id)\n",
    "ring_new_file = butler.getUri(datasetType='calexp', dataId=ring_id)\n",
    "good_sub_file = butler.getUri(datasetType='deepDiff_differenceExp', dataId=good_id)\n",
    "ring_sub_file = butler.getUri(datasetType='deepDiff_differenceExp', dataId=ring_id)"
   ]
  },
  {
   "cell_type": "markdown",
   "metadata": {},
   "source": [
    "If, for example you wanted to download these files to you local machine, you could do the following:\n",
    "    \n",
    "This isn't the recommended approach and doesn't scale to lots of subtractions, but I (MWV) found it useful when investigating things are our very early stages in understanding DC2 DIA."
   ]
  },
  {
   "cell_type": "code",
   "execution_count": null,
   "metadata": {},
   "outputs": [],
   "source": [
    "machine = 'cori.nersc.gov'\n",
    "files_to_copy = [template_file, good_new_file, ring_new_file, good_sub_file, ring_sub_file]\n",
    "\n",
    "for f in files_to_copy:\n",
    "    print(f'rsync {machine}:{f} ./')"
   ]
  }
 ],
 "metadata": {
  "kernelspec": {
   "display_name": "desc-stack",
   "language": "python",
   "name": "desc-stack"
  },
  "language_info": {
   "codemirror_mode": {
    "name": "ipython",
    "version": 3
   },
   "file_extension": ".py",
   "mimetype": "text/x-python",
   "name": "python",
   "nbconvert_exporter": "python",
   "pygments_lexer": "ipython3",
   "version": "3.7.3"
  }
 },
 "nbformat": 4,
 "nbformat_minor": 2
}

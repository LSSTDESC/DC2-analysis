{
 "cells": [
  {
   "cell_type": "code",
   "execution_count": null,
   "metadata": {},
   "outputs": [],
   "source": [
    "#written by Marina Ricci\n",
    "#last revisioon 30/11/18\n",
    "\n",
    "#purposes: handling cosmoDC2 catalog and investigating the properties of galaxy clusters\n",
    "\n",
    "#TODO\n",
    "# include dn/dz \n",
    "# include M*(z)\n",
    "# include NFW parametrisation"
   ]
  },
  {
   "cell_type": "code",
   "execution_count": null,
   "metadata": {},
   "outputs": [],
   "source": [
    "import numpy as np\n",
    "from matplotlib import pyplot as plt\n",
    "import GCRCatalogs\n",
    "from GCR import GCRQuery\n",
    "from astropy.cosmology import FlatLambdaCDM\n",
    "import astropy.units as u\n",
    "from scipy.stats import normaltest\n",
    "import matplotlib.colors as clr\n",
    "%matplotlib inline\n",
    "\n",
    "# see all available catalogs\n",
    "print(sorted(GCRCatalogs.get_available_catalogs(False)))"
   ]
  },
  {
   "cell_type": "code",
   "execution_count": null,
   "metadata": {},
   "outputs": [],
   "source": [
    "# load a calalog\n",
    "catalog = GCRCatalogs.load_catalog('cosmoDC2_v1.1.4_image')\n",
    "catalog1 = GCRCatalogs.load_catalog('cosmoDC2_v1.1.4_small')\n",
    "print(catalog1.get_catalog_info())\n",
    "# see all available quantities\n",
    "print(sorted(catalog1.list_all_quantities()))"
   ]
  },
  {
   "cell_type": "code",
   "execution_count": null,
   "metadata": {},
   "outputs": [],
   "source": [
    "cosmo = FlatLambdaCDM(H0=71, Om0=0.2648, Ob0=0.0448) #not 100% sure it is the same cosmo as in the simu"
   ]
  },
  {
   "cell_type": "markdown",
   "metadata": {},
   "source": [
    "# Selection of halos with Mass >1e14 (referred to as clusters in the following) in the selected sub-sample"
   ]
  },
  {
   "cell_type": "code",
   "execution_count": null,
   "metadata": {},
   "outputs": [],
   "source": [
    "# load quantities\n",
    "data = catalog.get_quantities(['ra', 'dec','redshift','redshift_true','halo_mass', 'halo_id','is_central','mag_i_lsst','mag_Y_lsst'], native_filters=['healpix_pixel == 9813'])\n",
    "#data = catalog.get_quantities(['ra', 'dec','redshift','redshift_true','halo_mass', 'halo_id','is_central','mag_i_lsst','mag_Y_lsst'],native_filters=['healpix_pixel<9821','healpix_pixel>9810'])#9807 - 9821\n",
    "cluster_data = catalog1.get_quantities(['ra', 'dec','redshift','redshift_true','halo_mass', 'halo_id','is_central','mag_r_lsst','mag_i_lsst','mag_Y_lsst','Mag_true_u_lsst_z0','Mag_true_g_lsst_z0','Mag_true_i_lsst_z0'], filters=['halo_mass > 1e14'])"
   ]
  },
  {
   "cell_type": "code",
   "execution_count": null,
   "metadata": {},
   "outputs": [],
   "source": [
    "#data = catalog.get_quantities(['ra', 'dec','redshift','redshift_true','halo_mass', 'halo_id','is_central','mag_i_lsst','mag_Y_lsst'],native_filters=['healpix_pixel<9821','healpix_pixel>9810'])#9807 - 9821"
   ]
  },
  {
   "cell_type": "markdown",
   "metadata": {},
   "source": [
    "# 0 - some statistics"
   ]
  },
  {
   "cell_type": "markdown",
   "metadata": {},
   "source": [
    "## - Number of objects in the two sample loaded ##"
   ]
  },
  {
   "cell_type": "code",
   "execution_count": null,
   "metadata": {},
   "outputs": [],
   "source": [
    "print (data['is_central'].size)\n",
    "print (cluster_data['is_central'].size)"
   ]
  },
  {
   "cell_type": "markdown",
   "metadata": {},
   "source": [
    "## - Fraction of satellite galaxies in the two sample loaded"
   ]
  },
  {
   "cell_type": "code",
   "execution_count": null,
   "metadata": {},
   "outputs": [],
   "source": [
    "print (\"fraction of satellite galaxies\", 1-np.sum(data['is_central'])/data['is_central'].size)\n",
    "print (\"fraction of satellite galaxies\", 1-np.sum(cluster_data['is_central'])/cluster_data['is_central'].size)"
   ]
  },
  {
   "cell_type": "markdown",
   "metadata": {},
   "source": [
    "## - Number of clusters"
   ]
  },
  {
   "cell_type": "code",
   "execution_count": null,
   "metadata": {},
   "outputs": [],
   "source": [
    "mhalo0=(data['halo_mass']>1e14)*(data['is_central'])\n",
    "mhalomem0=(data['halo_mass']>1e14)\n",
    "print (np.sum(mhalo0))\n",
    "\n",
    "mhalo=(cluster_data['is_central'])\n",
    "print (np.sum(mhalo))"
   ]
  },
  {
   "cell_type": "markdown",
   "metadata": {},
   "source": [
    "## *From now we mainly use the cluster catalog*"
   ]
  },
  {
   "cell_type": "markdown",
   "metadata": {},
   "source": [
    "# 1 - Cluster mass-redshift distribution"
   ]
  },
  {
   "cell_type": "code",
   "execution_count": null,
   "metadata": {},
   "outputs": [],
   "source": [
    "plt.figure()\n",
    "plt.plot(cluster_data['redshift'][mhalo],cluster_data['halo_mass'][mhalo],'k.')\n",
    "plt.yscale('log')\n",
    "plt.xlabel('z')\n",
    "plt.ylabel('$M_{h}$');"
   ]
  },
  {
   "cell_type": "code",
   "execution_count": null,
   "metadata": {},
   "outputs": [],
   "source": [
    "plt.figure()\n",
    "a=np.histogram(cluster_data['redshift'][mhalo],bins=25,range=[0,2.5])\n",
    "plt.errorbar(a[1][:-1]+0.05,a[0]/(a[1][1]-a[1][0]),yerr=np.sqrt(a[0])/(a[1][1]-a[1][0]))\n",
    "plt.xlabel('z')\n",
    "plt.ylabel('dn/dz');"
   ]
  },
  {
   "cell_type": "markdown",
   "metadata": {},
   "source": [
    "# **Add cosmo expectations?**"
   ]
  },
  {
   "cell_type": "markdown",
   "metadata": {},
   "source": [
    "# 2 - Ra-dec distribution of the clusters"
   ]
  },
  {
   "cell_type": "code",
   "execution_count": null,
   "metadata": {},
   "outputs": [],
   "source": [
    "plt.figure()\n",
    "plt.plot(cluster_data['ra'],cluster_data['dec'],'c.',alpha=0.5,label='satellites')\n",
    "plt.plot(cluster_data['ra'][mhalo],cluster_data['dec'][mhalo],'k.',label='centrals')\n",
    "plt.legend(loc=3)\n",
    "plt.xlabel('RA')\n",
    "plt.ylabel('Dec.');"
   ]
  },
  {
   "cell_type": "markdown",
   "metadata": {},
   "source": [
    "# 3 - Magnitude as a function of redshift for central and satellite galaxies"
   ]
  },
  {
   "cell_type": "code",
   "execution_count": null,
   "metadata": {},
   "outputs": [],
   "source": [
    "plt.figure()\n",
    "#plt.hist2d(data['redshift'],data['mag_i_lsst'],bins=[60,80],cmap='jet')\n",
    "#plt.hist2d(cluster_data['redshift'],cluster_data['mag_i_lsst'],bins=[60,80],cmap='jet')\n",
    "plt.plot(cluster_data['redshift'],cluster_data['mag_i_lsst'],'c.',alpha=0.05,label='satellites')\n",
    "plt.plot(cluster_data['redshift'][mhalo],cluster_data['mag_i_lsst'][mhalo],'k.',label='centrals')\n",
    "\n",
    "#plt.colorbar()\n",
    "plt.legend(loc=4)\n",
    "plt.xlabel('z')\n",
    "plt.ylabel('mag i');\n"
   ]
  },
  {
   "cell_type": "markdown",
   "metadata": {},
   "source": [
    "### *Why is there no faint galaxies in haloes at low redshift? (see also LF plot in section 6). The same is true for galaxies outside of haloes.*"
   ]
  },
  {
   "cell_type": "markdown",
   "metadata": {},
   "source": [
    "# 4 - Number of member galaxies as a function of mass"
   ]
  },
  {
   "cell_type": "code",
   "execution_count": null,
   "metadata": {},
   "outputs": [],
   "source": [
    "ngal = np.zeros(np.sum(mhalo))\n",
    "for i in range(np.sum(mhalo)):\n",
    "    ngal[i] = ((GCRQuery('halo_id == {}'.format(cluster_data['halo_id'][mhalo][i])).filter(cluster_data))['ra']).size\n",
    "    "
   ]
  },
  {
   "cell_type": "code",
   "execution_count": null,
   "metadata": {},
   "outputs": [],
   "source": [
    "plt.scatter(cluster_data['halo_mass'][mhalo],ngal,c=cluster_data['redshift'][mhalo],s=40,cmap='jet',vmax=1.5)\n",
    "clb=plt.colorbar()\n",
    "clb.set_label('z')\n",
    "plt.yscale('log')\n",
    "plt.xscale('log')\n",
    "plt.title('Number of FoF members vs FoF halo mass')\n",
    "plt.xlabel('$M_{h} (M_{\\odot})$')\n",
    "plt.ylabel('$N_{gal}$');\n",
    "#plt.plot(cluster_data['halo_mass'][mhalo],cluster_data['halo_mass'][mhalo]/1e12,'k') #to add an arbitrary line with slope = 1 for vizualisation purpose"
   ]
  },
  {
   "cell_type": "code",
   "execution_count": null,
   "metadata": {},
   "outputs": [],
   "source": [
    "rmax=0.75 #Mpc \n",
    "\n",
    "ngal_cut = np.zeros(np.sum(mhalo))\n",
    "\n",
    "for i in range(np.sum(mhalo)):\n",
    "    halo=cluster_data['halo_id'][mhalo][i]\n",
    "    ra_ref = cluster_data['ra'][(cluster_data['halo_id']==halo)*mhalo]\n",
    "    dec_ref = cluster_data['dec'][(cluster_data['halo_id']==halo)*mhalo]\n",
    "    z_ref = cluster_data['redshift'][(cluster_data['halo_id']==halo)*mhalo]\n",
    "    ngal_cut[i]=(np.sum((cosmo.kpc_proper_per_arcmin(z_ref).value*(np.sqrt((cluster_data['ra'][(cluster_data['halo_id']==halo)]-ra_ref)**2+(cluster_data['dec'][(cluster_data['halo_id']==halo)]-dec_ref)**2))*60./1e3)<rmax))\n",
    "  "
   ]
  },
  {
   "cell_type": "markdown",
   "metadata": {},
   "source": [
    "### *To have a representative richness-mass relation we need to count galaxies with cuts both in radius and apparent magnitude*"
   ]
  },
  {
   "cell_type": "code",
   "execution_count": null,
   "metadata": {},
   "outputs": [],
   "source": [
    "plt.scatter(cluster_data['halo_mass'][mhalo],ngal_cut,c=cluster_data['redshift'][mhalo],s=40,cmap='jet',vmax=1.)\n",
    "clb=plt.colorbar()\n",
    "clb.set_label('z')\n",
    "plt.yscale('log')\n",
    "plt.xscale('log')\n",
    "plt.title('Number of FoF members within r='+str(rmax)+'Mpc vs FoF halo mass')\n",
    "plt.xlabel('$M_{h} (M_{\\odot})$')\n",
    "plt.ylabel('$N_{gal}$ (r<'+str(rmax)+'Mpc)');\n",
    "#plt.plot(cluster_data['halo_mass'][mhalo],cluster_data['halo_mass'][mhalo]/1e12,'k') #to add an arbitrary line with slope = 1 for vizualisation purpose"
   ]
  },
  {
   "cell_type": "markdown",
   "metadata": {},
   "source": [
    "### *It would be great to have physical masses and radius...*"
   ]
  },
  {
   "cell_type": "markdown",
   "metadata": {},
   "source": [
    "# 5 - Galaxy projected density profiles in clusters "
   ]
  },
  {
   "cell_type": "code",
   "execution_count": null,
   "metadata": {},
   "outputs": [],
   "source": [
    "#compute the distance of each member to the central galaxies for the haloes in different mass/z bins\n",
    "\n",
    "cond = [(cluster_data['redshift']<0.5)*(cluster_data['halo_mass']<1.5e14),\\\n",
    "        (cluster_data['redshift']>0.5)*(cluster_data['redshift']<1)*(cluster_data['halo_mass']<1.5e14),\\\n",
    "        (cluster_data['redshift']>1.0)*(cluster_data['redshift']<1.5)*(cluster_data['halo_mass']<1.5e14),\\\n",
    "        (cluster_data['redshift']<0.5)*(cluster_data['halo_mass']>2e14)*(cluster_data['halo_mass']<3e14),\\\n",
    "        (cluster_data['redshift']>0.5)*(cluster_data['redshift']<1)*(cluster_data['halo_mass']>2e14)*(cluster_data['halo_mass']<3e14),\\\n",
    "       ]\n",
    "halo_list = [cluster_data['halo_id'][mhalo*cond[0]],cluster_data['halo_id'][mhalo*cond[1]],cluster_data['halo_id'][mhalo*cond[2]],cluster_data['halo_id'][mhalo*cond[3]],cluster_data['halo_id'][mhalo*cond[4]]]\n",
    "dist_Mpc = [[],[],[],[],[]]\n",
    "k = 0\n",
    "Nclus = [len(halo_list[0]),len(halo_list[1]),len(halo_list[2]),len(halo_list[3]),len(halo_list[4])]\n",
    "for j in halo_list:\n",
    "    for halo in j :\n",
    "        ra_ref = cluster_data['ra'][(cluster_data['halo_id']==halo)*mhalo]\n",
    "        dec_ref = cluster_data['dec'][(cluster_data['halo_id']==halo)*mhalo]\n",
    "        z_ref = cluster_data['redshift'][(cluster_data['halo_id']==halo)*mhalo]\n",
    "        dist_Mpc[k].append(cosmo.kpc_proper_per_arcmin(z_ref).value*(np.sqrt((cluster_data['ra'][(cluster_data['halo_id']==halo)]-ra_ref)**2+(cluster_data['dec'][(cluster_data['halo_id']==halo)]-dec_ref)**2))*60./1e3)\n",
    "    k = k+1\n",
    "dist_Mpc[0] = np.array(np.hstack(dist_Mpc[0]))\n",
    "dist_Mpc[1] = np.array(np.hstack(dist_Mpc[1]))\n",
    "dist_Mpc[2] = np.array(np.hstack(dist_Mpc[2]))\n",
    "dist_Mpc[3] = np.array(np.hstack(dist_Mpc[3]))\n",
    "dist_Mpc[4] = np.array(np.hstack(dist_Mpc[4]))\n",
    "\n",
    "print (\"Number of clusters in each bin\", Nclus)"
   ]
  },
  {
   "cell_type": "code",
   "execution_count": null,
   "metadata": {},
   "outputs": [],
   "source": [
    "#compute the composite projected density profiles in each mass/z bin\n",
    "\n",
    "dist_hist0=np.histogram(dist_Mpc[0][dist_Mpc[0]>0],bins=100,range=[0,7])\n",
    "dist_hist1=np.histogram(dist_Mpc[1][dist_Mpc[1]>0],bins=100,range=[0,7])\n",
    "dist_hist2=np.histogram(dist_Mpc[2][dist_Mpc[2]>0],bins=100,range=[0,7])\n",
    "dist_hist3=np.histogram(dist_Mpc[3][dist_Mpc[3]>0],bins=100,range=[0,7])\n",
    "dist_hist4=np.histogram(dist_Mpc[4][dist_Mpc[4]>0],bins=100,range=[0,7])\n",
    "bin_center = 0.5*(dist_hist0[1][1]-dist_hist0[1][0])+dist_hist0[1][0:-1]"
   ]
  },
  {
   "cell_type": "code",
   "execution_count": null,
   "metadata": {},
   "outputs": [],
   "source": [
    "plt.figure()\n",
    "plt.title('cluster profiles at different redshift (for $M_{h}<1.5x10^{14}M_\\odot$)')\n",
    "plt.plot(bin_center,dist_hist0[0]/(Nclus[0]*3.14*bin_center**2),'b',label = 'z<0.5')\n",
    "plt.plot(bin_center,dist_hist1[0]/(Nclus[1]*3.14*bin_center**2),'c',label = '0.5<z<1.0')\n",
    "plt.plot(bin_center,dist_hist2[0]/(Nclus[2]*3.14*bin_center**2),'r',label = '1.0<z<1.5')\n",
    "#plt.errorbar(bin_center,dist_hist0[0]/(Nclus[0]*3.14*bin_center**2),yerr=np.sqrt(dist_hist0[0])/(Nclus[0]*3.14*bin_center**2)) # to add errorbars (negeligeable)\n",
    "plt.yscale('log')\n",
    "plt.xscale('log')\n",
    "plt.ylabel('<Ngal> ($Mpc^{-2}$)');\n",
    "plt.xlabel('r (Mpc)');\n",
    "plt.ylim(0.00001,1e4)\n",
    "plt.xlim(0.03,6)\n",
    "plt.legend(frameon =False)\n",
    "\n",
    "plt.figure()\n",
    "plt.title('cluster profiles at different masses')\n",
    "plt.plot(bin_center,dist_hist0[0]/(Nclus[0]*3.14*bin_center**2),'b',label = 'z<0.5 & $M_{h}<1.5x10^{14}M_\\odot$')\n",
    "plt.plot(bin_center,dist_hist0[0]/(Nclus[3]*3.14*bin_center**2),'b--',label = 'z<0.5 & $(2<M_{h}<3)x10^{14}M_\\odot$')\n",
    "plt.plot(bin_center,dist_hist1[0]/(Nclus[1]*3.14*bin_center**2),'c',label = '0.5<z<0.1 & $M_{h}<1.5x10^{14}M_\\odot$')\n",
    "plt.plot(bin_center,dist_hist1[0]/(Nclus[4]*3.14*bin_center**2),'c--',label = '0.5<z<0.1 & $(2<M_{h}<3)x10^{14}M_\\odot$')\n",
    "plt.yscale('log')\n",
    "plt.xscale('log')\n",
    "plt.ylabel('<Ngal> ($Mpc^{-2}$)');\n",
    "plt.xlabel('r (Mpc)');\n",
    "plt.ylim(0.00001,1e4)\n",
    "plt.xlim(0.03,6)\n",
    "plt.legend(loc='lower left',frameon =False)"
   ]
  },
  {
   "cell_type": "markdown",
   "metadata": {},
   "source": [
    "### *At first sight does not look like NFW (or maybe truncated...)*\n",
    "### *Signal up to r~2-3Mpc*\n",
    "### *Concentration seems to increase with redshift at fixed mass and amplitude seems to increase with mass at fixed redshift*\n",
    "### *Need to apply a magnitude cut and plot a model*"
   ]
  },
  {
   "cell_type": "markdown",
   "metadata": {},
   "source": [
    "# 6 - Galaxy luminosity functions in clusters "
   ]
  },
  {
   "cell_type": "code",
   "execution_count": null,
   "metadata": {},
   "outputs": [],
   "source": [
    "#compute the composite projected i-band luminosity function for haloes in different mass/z bins\n",
    "\n",
    "condLF = [(cluster_data['redshift']>0.25)*(cluster_data['redshift']<0.35)*(cluster_data['halo_mass']<1.5e14),\\\n",
    "        (cluster_data['redshift']>0.55)*(cluster_data['redshift']<0.65)*(cluster_data['halo_mass']<1.5e14),\\\n",
    "        (cluster_data['redshift']>0.90)*(cluster_data['redshift']<1.1)*(cluster_data['halo_mass']<1.5e14),\\\n",
    "        (cluster_data['redshift']>1.30)*(cluster_data['redshift']<1.6)*(cluster_data['halo_mass']<1.5e14)]\n",
    "\n",
    "#halo_listLF = [cluster_data['halo_id'][mhalo*condLF[0]],cluster_data['halo_id'][mhalo*condLF[1]],cluster_data['halo_id'][mhalo*condLF[2]],cluster_data['halo_id'][mhalo*condLF[3]]]\n",
    "#mag_i = [[],[],[],[]]\n",
    "#central_mag = [[],[],[],[]]\n",
    "#bcg_mag = [[],[],[],[]]\n",
    "#magabs = [[],[],[],[]]\n",
    "#central_magabs = [[],[],[],[]]\n",
    "#bcg_magabs = [[],[],[],[]]\n",
    "#k = 0\n",
    "#for j in halo_listLF:\n",
    "#    for halo in j : \n",
    "#        central_mag[k].append(cluster_data['mag_i_lsst'][(cluster_data['halo_id']==halo)*(cluster_data['is_central'])][0])\n",
    "#        central_magabs[k].append(cluster_data['Mag_true_i_lsst_z0'][(cluster_data['halo_id']==halo)*(cluster_data['is_central'])][0])\n",
    "#        bcg_mag[k].append(np.min(cluster_data['mag_i_lsst'][(cluster_data['halo_id']==halo)]))\n",
    "#        bcg_magabs[k].append(np.max(cluster_data['Mag_true_i_lsst_z0'][(cluster_data['halo_id']==halo)]))\n",
    "        \n",
    "#    k = k+1\n",
    "    \n",
    "Nclus = [len(halo_listLF[0]),len(halo_listLF[1]),len(halo_listLF[2]),len(halo_listLF[3])]\n",
    "print (\"Number of clusters in each bin\", Nclus)"
   ]
  },
  {
   "cell_type": "code",
   "execution_count": null,
   "metadata": {},
   "outputs": [],
   "source": [
    "#plt.figure()\n",
    "#plt.hist(np.array(bcg_mag[0])-np.array(central_mag[0]),bins=12,range=[-1.2,0],alpha=0.3,label = '0.25<z<0.35')\n",
    "#plt.hist(np.array(bcg_mag[1])-np.array(central_mag[1]),bins=12,range=[-1.2,0],alpha=0.3,label = '0.55<z<0.65')\n",
    "#plt.hist(np.array(bcg_mag[2])-np.array(central_mag[2]),bins=12,range=[-1.2,0],alpha=0.3,label = '0.9<z<0.1')\n",
    "#plt.hist(np.array(bcg_mag[3])-np.array(central_mag[3]),bins=12,range=[-1.2,0],alpha=0.3,label = '1.4<z<1.5')\n",
    "#plt.ylabel('counts')\n",
    "#plt.xlabel('i-mag$_{BCG}$ - i-mag$_{central}$');"
   ]
  },
  {
   "cell_type": "code",
   "execution_count": null,
   "metadata": {},
   "outputs": [],
   "source": [
    "#fraction of halos for which the BCG in i band is not the central in each redshift bin\n",
    "#for i in range(4):\n",
    "#    print (np.sum((np.array(bcg_mag[i])-np.array(central_mag[i]))<0)/Nclus[i])\n"
   ]
  },
  {
   "cell_type": "markdown",
   "metadata": {},
   "source": [
    "## *The fraction of halos for which the brightest galaxy in the i band is not the central increases with redshift (seems understandable)*"
   ]
  },
  {
   "cell_type": "code",
   "execution_count": null,
   "metadata": {},
   "outputs": [],
   "source": [
    "LF_hist0=np.histogram(cluster_data['mag_i_lsst'][condLF[0]*(~mhalo)],bins=30,range=[15,30])\n",
    "LF_hist1=np.histogram(cluster_data['mag_i_lsst'][condLF[1]*(~mhalo)],bins=30,range=[15,30])\n",
    "LF_hist2=np.histogram(cluster_data['mag_i_lsst'][condLF[2]*(~mhalo)],bins=30,range=[15,30])\n",
    "LF_hist3=np.histogram(cluster_data['mag_i_lsst'][condLF[3]*(~mhalo)],bins=30,range=[15,30])\n",
    "bin_center = 0.5*(LF_hist0[1][1]-LF_hist0[1][0])+LF_hist0[1][0:-1]\n",
    "\n",
    "LFa_hist0=np.histogram(cluster_data['Mag_true_i_lsst_z0'][condLF[0]*(~mhalo)],bins=30,range=[-24.5,-13.5])\n",
    "LFa_hist1=np.histogram(cluster_data['Mag_true_i_lsst_z0'][condLF[1]*(~mhalo)],bins=30,range=[-24.5,-13.5])\n",
    "LFa_hist2=np.histogram(cluster_data['Mag_true_i_lsst_z0'][condLF[2]*(~mhalo)],bins=30,range=[-24.5,-13.5])\n",
    "LFa_hist3=np.histogram(cluster_data['Mag_true_i_lsst_z0'][condLF[3]*(~mhalo)],bins=30,range=[-24.5,-13.5])\n",
    "bin_center_a = 0.5*(LFa_hist0[1][1]-LFa_hist0[1][0])+LFa_hist0[1][0:-1]"
   ]
  },
  {
   "cell_type": "code",
   "execution_count": null,
   "metadata": {},
   "outputs": [],
   "source": [
    "plt.figure()\n",
    "plt.title('cluster LF at different redshift (for $M_{h}<1.5x10^{14}M_\\odot$)')\n",
    "plt.plot(bin_center,(bin_center[1]-bin_center[0])*LF_hist0[0]/(Nclus[0]),'b.-',label = '0.25<z<0.35')\n",
    "plt.plot(bin_center,(bin_center[1]-bin_center[0])*LF_hist1[0]/(Nclus[1]),'c.-',label = '0.55<z<0.65')\n",
    "plt.plot(bin_center,(bin_center[1]-bin_center[0])*LF_hist2[0]/(Nclus[2]),'r.-',label = '0.90<z<1.10')\n",
    "plt.plot(bin_center,(bin_center[1]-bin_center[0])*LF_hist3[0]/(Nclus[3]),'m.-',label = '1.30<z<1.60')\n",
    "plt.yscale('log')\n",
    "plt.ylabel('<Ngal> (mag$^{-1}$)');\n",
    "plt.xlabel('i-band app mag');\n",
    "plt.legend(frameon =False)\n",
    "plt.ylim(0.01,20)"
   ]
  },
  {
   "cell_type": "code",
   "execution_count": null,
   "metadata": {},
   "outputs": [],
   "source": [
    "plt.figure()\n",
    "plt.title('cluster LF at different redshift (for $M_{h}<1.5x10^{14}M_\\odot$)')\n",
    "plt.plot(bin_center_a,(bin_center_a[1]-bin_center_a[0])*LFa_hist0[0]/(Nclus[0]),'b.-',label = '0.25<z<0.35')\n",
    "plt.plot(bin_center_a,(bin_center_a[1]-bin_center_a[0])*LFa_hist1[0]/(Nclus[1]),'c.-',label = '0.55<z<0.65')\n",
    "plt.plot(bin_center_a,(bin_center_a[1]-bin_center_a[0])*LFa_hist2[0]/(Nclus[2]),'r.-',label = '0.90<z<1.10')\n",
    "plt.plot(bin_center_a,(bin_center_a[1]-bin_center_a[0])*LFa_hist3[0]/(Nclus[3]),'m.-',label = '1.30<z<1.60')\n",
    "plt.yscale('log')\n",
    "plt.ylabel('<Ngal> (mag$^{-1}$)');\n",
    "plt.xlabel('i-band abs mag');\n",
    "plt.legend(frameon =False)\n",
    "plt.ylim(0.01,20)"
   ]
  },
  {
   "cell_type": "code",
   "execution_count": null,
   "metadata": {},
   "outputs": [],
   "source": [
    "#test if the central galaxy luminosity distribution is gaussian (null hypothesis taht the distribution is normal)\n",
    "print ('test in bins of apparent mag')\n",
    "print (normaltest(central_mag[0]))\n",
    "print (normaltest(central_mag[1]))\n",
    "print (normaltest(central_mag[2]))\n",
    "print (normaltest(central_mag[3]))\n",
    "\n",
    "print ('test in bins of absolute mag')\n",
    "print (normaltest(central_magabs[0]))\n",
    "print (normaltest(central_magabs[1]))\n",
    "print (normaltest(central_magabs[2]))\n",
    "print (normaltest(central_magabs[3]))\n"
   ]
  },
  {
   "cell_type": "markdown",
   "metadata": {},
   "source": [
    "### *Sharp unexpected decline in the LF at mag fainter than i = ~-18 (see also plot with mag as fct (z) in section 3)* \n",
    "### *At very first sight, LF seem OK for galaxies brighter than i ~ -20 (with a shape similar to a double Schechter function), but need more investigation* \n",
    "### *Central galaxy luminosity distribution are compatible with being gaussians (as expected)*"
   ]
  },
  {
   "cell_type": "markdown",
   "metadata": {},
   "source": [
    "# 7 - Color-magnitude diagrams in clusters"
   ]
  },
  {
   "cell_type": "code",
   "execution_count": null,
   "metadata": {},
   "outputs": [],
   "source": [
    "plt.hist2d(cluster_data['Mag_true_g_lsst_z0'],cluster_data['Mag_true_u_lsst_z0']-cluster_data['Mag_true_g_lsst_z0'], bins=50, cmap='PuBu',norm=clr.LogNorm());\n",
    "plt.plot(cluster_data['Mag_true_g_lsst_z0'][mhalo],cluster_data['Mag_true_u_lsst_z0'][mhalo]-cluster_data['Mag_true_g_lsst_z0'][mhalo],'k.',alpha=0.1)\n",
    "plt.xlabel('$M_{g}$')\n",
    "plt.ylabel('$M_{u}-M_{g}$');"
   ]
  },
  {
   "cell_type": "code",
   "execution_count": null,
   "metadata": {},
   "outputs": [],
   "source": [
    "cond = [(cluster_data['redshift']<0.5)*(cluster_data['halo_mass']<1.5e14),\\\n",
    "        (cluster_data['redshift']>0.5)*(cluster_data['redshift']<1)*(cluster_data['halo_mass']<1.5e14),\\\n",
    "        (cluster_data['redshift']>1.0)*(cluster_data['redshift']<1.5)*(cluster_data['halo_mass']<1.5e14),\\\n",
    "        (cluster_data['redshift']<0.5)*(cluster_data['halo_mass']>2e14)*(cluster_data['halo_mass']<3e14),\\\n",
    "        (cluster_data['redshift']>0.5)*(cluster_data['redshift']<1)*(cluster_data['halo_mass']>2e14)*(cluster_data['halo_mass']<3e14),\\\n",
    "       ]\n",
    "halo_list = [cluster_data['halo_id'][mhalo*cond[0]],cluster_data['halo_id'][mhalo*cond[1]],cluster_data['halo_id'][mhalo*cond[2]],cluster_data['halo_id'][mhalo*cond[3]],cluster_data['halo_id'][mhalo*cond[4]]]\n",
    "dist_Mpc = [[],[],[],[],[]]\n",
    "k = 0\n",
    "Nclus = [len(halo_list[0]),len(halo_list[1]),len(halo_list[2]),len(halo_list[3]),len(halo_list[4])]\n",
    "for j in halo_list:\n",
    "    for halo in j :\n",
    "        ra_ref = cluster_data['ra'][(cluster_data['halo_id']==halo)*mhalo]\n",
    "        dec_ref = cluster_data['dec'][(cluster_data['halo_id']==halo)*mhalo]\n",
    "        z_ref = cluster_data['redshift'][(cluster_data['halo_id']==halo)*mhalo]\n",
    "        dist_Mpc[k].append(cosmo.kpc_proper_per_arcmin(z_ref).value*(np.sqrt((cluster_data['ra'][(cluster_data['halo_id']==halo)]-ra_ref)**2+(cluster_data['dec'][(cluster_data['halo_id']==halo)]-dec_ref)**2))*60./1e3)\n",
    "    k = k+1\n",
    "dist_Mpc[0] = np.array(np.hstack(dist_Mpc[0]))\n",
    "dist_Mpc[1] = np.array(np.hstack(dist_Mpc[1]))\n",
    "dist_Mpc[2] = np.array(np.hstack(dist_Mpc[2]))\n",
    "dist_Mpc[3] = np.array(np.hstack(dist_Mpc[3]))\n",
    "dist_Mpc[4] = np.array(np.hstack(dist_Mpc[4]))\n",
    "\n",
    "print (\"Number of clusters in each bin\", Nclus)"
   ]
  },
  {
   "cell_type": "code",
   "execution_count": null,
   "metadata": {},
   "outputs": [],
   "source": [
    "plt.hist2d(cluster_data['Mag_true_g_lsst_z0'][cond[0]],cluster_data['Mag_true_u_lsst_z0'][cond[0]]-cluster_data['Mag_true_g_lsst_z0'][cond[0]], bins=50, cmap='PuBu',norm=clr.LogNorm());\n",
    "plt.plot(cluster_data['Mag_true_g_lsst_z0'][cond[0]*mhalo],cluster_data['Mag_true_u_lsst_z0'][cond[0]*mhalo]-cluster_data['Mag_true_g_lsst_z0'][cond[0]*mhalo],'k.',alpha=0.2)\n",
    "plt.xlabel('$M_{g}$')\n",
    "plt.ylabel('$M_{u}-M_{g}$');\n"
   ]
  },
  {
   "cell_type": "code",
   "execution_count": null,
   "metadata": {},
   "outputs": [],
   "source": [
    "for i in range(1,4):\n",
    "    plt.subplot(3, 1, i)\n",
    "    plt.hist2d(cluster_data['Mag_true_g_lsst_z0'][cond[i-1]],cluster_data['Mag_true_u_lsst_z0'][cond[i-1]]-cluster_data['Mag_true_g_lsst_z0'][cond[i-1]], bins=50, cmap='PuBu',norm=clr.LogNorm());\n",
    "    plt.plot(cluster_data['Mag_true_g_lsst_z0'][cond[i-1]*mhalo],cluster_data['Mag_true_u_lsst_z0'][cond[i-1]*mhalo]-cluster_data['Mag_true_g_lsst_z0'][cond[i-1]*mhalo],'k.',alpha=0.2)\n",
    "    plt.xlim(-24.5,-13)\n",
    "    plt.ylim(0,2)"
   ]
  },
  {
   "cell_type": "markdown",
   "metadata": {},
   "source": [
    "## *Looks a bit weird, need more investigation*"
   ]
  }
 ],
 "metadata": {
  "kernelspec": {
   "display_name": "Python 3",
   "language": "python",
   "name": "python3"
  },
  "language_info": {
   "codemirror_mode": {
    "name": "ipython",
    "version": 3
   },
   "file_extension": ".py",
   "mimetype": "text/x-python",
   "name": "python",
   "nbconvert_exporter": "python",
   "pygments_lexer": "ipython3",
   "version": "3.6.3"
  }
 },
 "nbformat": 4,
 "nbformat_minor": 2
}

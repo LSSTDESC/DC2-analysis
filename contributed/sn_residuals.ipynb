{
 "cells": [
  {
   "cell_type": "markdown",
   "metadata": {},
   "source": [
    "# Examining SN hubble residuals VS Host Galaxy Properties\n",
    "\n",
    "#### Goal:\n",
    "This notebook will (eventually) fit and standardize simulated supernova observations using the Snoopy package to determine variations in the Hubble residual with host galaxy properties. \n",
    "\n",
    "#### Current Issues:\n",
    "- Light curves are currently being fit with DES filters, not LSST filters\n",
    "- Simulated light curves do not have error values. We are using 1% of the principal value as a placeholder\n",
    "- Due to an issue with the simulated catalogs, redshifts values cannot be matched to each supernova. We use a random value to allow for continued development while the issue is addressed."
   ]
  },
  {
   "cell_type": "markdown",
   "metadata": {},
   "source": [
    "## Setup\n",
    "\n",
    "Using the `GCRCatalogs` package we create catalog reader instances to access the necessary catalogs. For clarity we provide a few brief summaries:\n",
    "\n",
    "- **Cosmo DC2:** Contains host galaxy properties used as inputs to simulated images\n",
    "- **Truth Variable Summary Catalog:** Specifies metadata (type, object id, host id) of variable objects\n",
    "- **Truth Variable Light Curve Catalog:** Contains the \"observed\" light curves including MJD and magnitudes\n",
    "- **Truth Static Catalog:** A snapshot in time of the Truth Variable Light Curve Catalog containing additional target data (Ra, Dec, redshift, etc.)"
   ]
  },
  {
   "cell_type": "code",
   "execution_count": null,
   "metadata": {},
   "outputs": [],
   "source": [
    "import os\n",
    "from glob import glob\n",
    "from random import random\n",
    "\n",
    "import matplotlib.pyplot as plt\n",
    "import numpy as np\n",
    "#import snpy\n",
    "from astropy.table import Table\n",
    "from IPython.display import clear_output\n",
    "from matplotlib import pyplot as plt\n",
    "\n",
    "import GCRCatalogs\n"
   ]
  },
  {
   "cell_type": "code",
   "execution_count": null,
   "metadata": {},
   "outputs": [],
   "source": [
    "# Catalog readers\n",
    "cosmo_gc = GCRCatalogs.load_catalog('cosmoDC2_v1.1.4_small')\n",
    "truth_variable_summary_gc = GCRCatalogs.load_catalog('dc2_truth_run1.2_variable_summary')\n",
    "truth_variable_gc = GCRCatalogs.load_catalog('dc2_truth_run1.2_variable_lightcurve')\n",
    "truth_static_gc = GCRCatalogs.load_catalog('dc2_truth_run1.2_static')\n",
    "\n",
    "# To store intermediate files\n",
    "snoopy_dir = './snoopy_data'\n"
   ]
  },
  {
   "cell_type": "markdown",
   "metadata": {},
   "source": [
    "## Creating Snoopy Inputs\n",
    "\n",
    "Snoopy requires lightcurves to be specified as a series of input files. We create those files here."
   ]
  },
  {
   "cell_type": "code",
   "execution_count": null,
   "metadata": {},
   "outputs": [],
   "source": [
    "def get_supernovae_data():\n",
    "    \"\"\"Return supernovae data from the Truth Variable Summary Catalog\n",
    "    \n",
    "    Returns:\n",
    "        A dictionary of arrays with keys 'galaxy_id', 'uniqueId', 'ra', and 'dec'\n",
    "    \"\"\"\n",
    "    \n",
    "    supernovae = truth_variable_summary_gc.get_quantities(\n",
    "        ['galaxy_id', 'uniqueId', 'ra', 'dec'], \n",
    "        native_filters=['sn == 1', 'galaxy_id != -1']\n",
    "    )\n",
    "    \n",
    "    return supernovae\n"
   ]
  },
  {
   "cell_type": "code",
   "execution_count": null,
   "metadata": {},
   "outputs": [],
   "source": [
    "def write_snoopy_file(out_path, **kwargs):\n",
    "    \"\"\"Creates a snoopy input file out_path/name.txt\n",
    "    \n",
    "    Args:\n",
    "        out_path         (str): Where to write the input file\n",
    "        name             (str): The name of the target\n",
    "        redshift       (float): The redshift of the target    \n",
    "        ra             (float): The ra of the target\n",
    "        dec            (float): The dec of the target\n",
    "        <u, g, r, i, z> (dict): The date ('mjd') and magnitude ('mag')\n",
    "    \"\"\"\n",
    "    \n",
    "    file_text = f'{kwargs[\"name\"]} {kwargs[\"redshift\"]} {kwargs[\"ra\"]} {kwargs[\"dec\"]}\\n'\n",
    "    \n",
    "    # Todo: Specify LSST filters including y\n",
    "    band_names = {'u': 'u_s', \n",
    "                  'g': 'g_s',\n",
    "                  'r': 'r_s',\n",
    "                  'i': 'i_s',\n",
    "                  'z': 'z_s'}\n",
    "    \n",
    "    for band, name in band_names.items():\n",
    "        if band not in kwargs:\n",
    "            continue\n",
    "            \n",
    "        file_text += f'filter {name}\\n'\n",
    "        \n",
    "        for mjd, mag in zip(kwargs[band]['mjd'], kwargs[band]['mag']):\n",
    "            # Todo: Specify the actual error\n",
    "            file_text += f'{mjd} {mag} {0.01 * mag}\\n'\n",
    "    \n",
    "    with open(out_path, 'w') as ofile:\n",
    "        ofile.write(file_text)\n",
    "    "
   ]
  },
  {
   "cell_type": "code",
   "execution_count": null,
   "metadata": {},
   "outputs": [],
   "source": [
    "def create_snoopy_inputs(out_dir, supernovae):\n",
    "    \"\"\"Generate snoopy input files for supernova in the truth catalouge\n",
    "    \n",
    "    Args:\n",
    "        out_dir     (str): The directory to write input files to\n",
    "        supernovae (dict): Catalog data returned by get_supernovae_data\n",
    "    \n",
    "    Returns:\n",
    "        A list of created file paths\n",
    "    \"\"\"\n",
    "\n",
    "    os.makedirs(out_dir, exist_ok=True)\n",
    "    meta_table_path = os.path.join(out_dir, 'meta_data.csv')\n",
    "    return_paths_list = []\n",
    "    meta_table = Table(names=['target', 'stellat_mass', 'sfr'])\n",
    "    iter_data = zip(supernovae['ra'], supernovae['dec'], supernovae['uniqueId'], supernovae['galaxy_id'])\n",
    "    for ra, dec, sn_id, gal_id in iter_data:\n",
    "        \n",
    "        # Todo: Specify actual redshift\n",
    "        redshift = 3 * random()  # truth_static_gc.get_quantities(['redshift'], filters=[f'object_id == {gal_id}'])\n",
    "\n",
    "        # Truth variable catalog is SQL based so individual queries go by quickly\n",
    "        u = truth_variable_gc.get_quantities(['mjd', 'mag'], filters=['filter == 0'], native_filters=['sn == 1', f'uniqueId == {sn_id}'])\n",
    "        g = truth_variable_gc.get_quantities(['mjd', 'mag'], filters=['filter == 1'], native_filters=['sn == 1', f'uniqueId == {sn_id}'])\n",
    "        r = truth_variable_gc.get_quantities(['mjd', 'mag'], filters=['filter == 2'], native_filters=['sn == 1', f'uniqueId == {sn_id}'])\n",
    "        i = truth_variable_gc.get_quantities(['mjd', 'mag'], filters=['filter == 3'], native_filters=['sn == 1', f'uniqueId == {sn_id}'])\n",
    "        z = truth_variable_gc.get_quantities(['mjd', 'mag'], filters=['filter == 4'], native_filters=['sn == 1', f'uniqueId == {sn_id}'])\n",
    "        y = truth_variable_gc.get_quantities(['mjd', 'mag'], filters=['filter == 5'], native_filters=['sn == 1', f'uniqueId == {sn_id}'])\n",
    "\n",
    "        # Skip SN with no observations\n",
    "        bands = (u, g, r, i , z, y)\n",
    "        if sum((len(x['mjd']) for x in bands)) == 0:\n",
    "            # print(f'No Observations: {sn_id}\\n')  \n",
    "            continue\n",
    "\n",
    "        #meta_data = cosmo_gc.get_quantities(['baseDC2/obs_sfr', 'stellar_mass'], filters=[f'galaxy_id == {gal_id}'])\n",
    "        # meta_table.add_row(... meta_data ...)\n",
    "        \n",
    "        out_path = os.path.join(out_dir, f'{sn_id}.txt')\n",
    "        write_snoopy_file(\n",
    "            out_path,\n",
    "            u=u,\n",
    "            g=g,\n",
    "            r=r,\n",
    "            i=i,\n",
    "            z=z,\n",
    "            name=sn_id,\n",
    "            redshift=redshift,\n",
    "            ra=ra,\n",
    "            dec=dec\n",
    "        )\n",
    "        \n",
    "        return_paths_list.append(out_path)\n",
    "    \n",
    "    return return_paths_list\n"
   ]
  },
  {
   "cell_type": "code",
   "execution_count": null,
   "metadata": {},
   "outputs": [],
   "source": [
    "# Get supernova data from the truth variable summary catalog\n",
    "supernovae = get_supernovae_data()\n",
    "\n",
    "# Keep small subset of data for testing\n",
    "for key, array in supernovae.items():\n",
    "    supernovae[key] = array[0: 5]\n",
    "\n",
    "# Generate input files for snoopy\n",
    "snoopy_paths = create_snoopy_inputs(snoopy_dir, supernovae)\n",
    "print(f'{len(snoopy_paths)} input files created')\n"
   ]
  },
  {
   "cell_type": "markdown",
   "metadata": {},
   "source": [
    "## Curve Fitting\n",
    "\n",
    "Having saved the light curves as individual files, we run snoopy for each light curve.\n"
   ]
  },
  {
   "cell_type": "code",
   "execution_count": null,
   "metadata": {},
   "outputs": [],
   "source": [
    "dist_mod = []\n",
    "redshift = []\n",
    "\n",
    "for path in snoopy_paths:\n",
    "    try:\n",
    "        s = snpy.get_sn(file)\n",
    "        s.choose_model('max_model')\n",
    "        s.fit()\n",
    "        \n",
    "    except Error as e :\n",
    "        print('error', e, file)\n",
    "        continue\n",
    "    \n",
    "    dist_mod.append(s.get_distmod(cosmo='LambdaCDM'))\n",
    "    with open(path) as f:\n",
    "        redshift_this = float(f.readline().split(' ')[1])\n",
    "        redshift.append(redshift_this)\n"
   ]
  },
  {
   "cell_type": "code",
   "execution_count": null,
   "metadata": {},
   "outputs": [],
   "source": [
    "plt.semilogy(z, d_mod, '.')\n",
    "plt.xlabel('redshift')\n",
    "plt.ylabel(r'$\\nu$')\n"
   ]
  }
 ],
 "metadata": {
  "kernelspec": {
   "display_name": "desc-python",
   "language": "python",
   "name": "desc-python"
  },
  "language_info": {
   "codemirror_mode": {
    "name": "ipython",
    "version": 3
   },
   "file_extension": ".py",
   "mimetype": "text/x-python",
   "name": "python",
   "nbconvert_exporter": "python",
   "pygments_lexer": "ipython3",
   "version": "3.6.6"
  }
 },
 "nbformat": 4,
 "nbformat_minor": 2
}

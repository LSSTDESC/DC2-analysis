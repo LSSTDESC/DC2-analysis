{
 "cells": [
  {
   "cell_type": "code",
   "execution_count": null,
   "id": "72e22ddf-9d1d-4bcb-be28-b200c00cbd96",
   "metadata": {},
   "outputs": [],
   "source": [
    "import numpy as np\n",
    "import matplotlib.pyplot as plt\n",
    "%matplotlib inline\n",
    "import GCRCatalogs"
   ]
  },
  {
   "cell_type": "code",
   "execution_count": null,
   "id": "fee7a5c5-abcf-4e3e-9e0d-59aefcb0f27d",
   "metadata": {},
   "outputs": [],
   "source": [
    "pq_path = '/global/cfs/cdirs/lsst/shared/rubin/DP0.2/objectTable/'"
   ]
  },
  {
   "cell_type": "code",
   "execution_count": null,
   "id": "3de0f6ae-bb17-4541-b54f-39c7384e2e04",
   "metadata": {},
   "outputs": [],
   "source": [
    "from GCRCatalogs.dc2_object import DC2ObjectParquetCatalog"
   ]
  },
  {
   "cell_type": "code",
   "execution_count": null,
   "id": "de490980-9674-4612-94bc-a155aa78791e",
   "metadata": {},
   "outputs": [],
   "source": [
    "gc_dp0 = DC2ObjectParquetCatalog(base_dir=pq_path, \n",
    "                                     filename_pattern='objectTable_tract_\\d+\\_DC2_2_2i_runs_DP0_2_v23_0_1_PREOPS-905_step3_\\d+_\\w+Z.parq$')"
   ]
  },
  {
   "cell_type": "code",
   "execution_count": null,
   "id": "046401e2-f0ca-4986-9489-44e83df90f98",
   "metadata": {},
   "outputs": [],
   "source": [
    "gc_dr6 = GCRCatalogs.load_catalog('dc2_object_run2.2i_dr6')"
   ]
  },
  {
   "cell_type": "code",
   "execution_count": null,
   "id": "ecfcfca0-b6fb-41b0-a08b-7de729a089c4",
   "metadata": {},
   "outputs": [],
   "source": [
    "gc_dp0.available_tracts == gc_dr6.available_tracts"
   ]
  },
  {
   "cell_type": "code",
   "execution_count": null,
   "id": "fcdd6049-34fc-47bf-b3e9-9486a8eb4eac",
   "metadata": {},
   "outputs": [],
   "source": [
    "len(gc_dp0.available_tracts), len(gc_dr6.available_tracts)"
   ]
  },
  {
   "cell_type": "code",
   "execution_count": null,
   "id": "fb79ed62-efdc-4781-9009-9a9a05f23269",
   "metadata": {},
   "outputs": [],
   "source": [
    "tracts = [4030, 4031, 4032]"
   ]
  },
  {
   "cell_type": "code",
   "execution_count": null,
   "id": "edd6a281-ba69-4682-a7ca-0943d141fd87",
   "metadata": {},
   "outputs": [],
   "source": [
    "for qty in gc_dp0.list_all_native_quantities():\n",
    "    if 'primary' in qty.lower():\n",
    "        print(qty)"
   ]
  },
  {
   "cell_type": "code",
   "execution_count": null,
   "id": "1e2898a1-547e-4ca2-9107-51b2e004acdf",
   "metadata": {},
   "outputs": [],
   "source": [
    "qtys_dp0 = ['coord_ra', 'coord_dec', 'i_free_cModelFlux', \n",
    "            'r_free_cModelFlux', 'i_free_cModelFluxErr', 'r_free_cModelFluxErr',\n",
    "            'i_cModelFlux', 'r_cModelFlux', 'i_cModelFluxErr', 'r_cModelFluxErr',\n",
    "            'detect_isPrimary'\n",
    "           ]"
   ]
  },
  {
   "cell_type": "code",
   "execution_count": null,
   "id": "c7f8c229-8844-4f35-b362-b21f91fa0422",
   "metadata": {},
   "outputs": [],
   "source": [
    "qtys_dr6 = ['ra', 'dec', 'i_modelfit_CModel_instFlux', 'i_modelfit_CModel_instFluxErr', \n",
    "            'r_modelfit_CModel_instFlux', 'r_modelfit_CModel_instFluxErr', 'mag_i_cModel', 'mag_r_cModel']"
   ]
  },
  {
   "cell_type": "code",
   "execution_count": null,
   "id": "f789ec27-3fab-4847-b75c-915ea62d79a3",
   "metadata": {},
   "outputs": [],
   "source": [
    "data_dp0 = gc_dp0.get_quantities(qtys_dp0, native_filters='(tract > 4029) & (tract < 4033)')"
   ]
  },
  {
   "cell_type": "code",
   "execution_count": null,
   "id": "32aac2bf-c65f-4ea3-bac3-4968c782dcf0",
   "metadata": {},
   "outputs": [],
   "source": [
    "data_dr6 = gc_dr6.get_quantities(qtys_dr6, native_filters='(tract > 4029) & (tract < 4033)')"
   ]
  },
  {
   "cell_type": "code",
   "execution_count": null,
   "id": "984bd978-8ce5-4e9a-9406-f571abf24a27",
   "metadata": {},
   "outputs": [],
   "source": [
    "len(data_dp0['coord_ra'][data_dp0['detect_isPrimary']])"
   ]
  },
  {
   "cell_type": "code",
   "execution_count": null,
   "id": "ad8cc304-8aaa-4320-a4da-3baa0fd3124a",
   "metadata": {},
   "outputs": [],
   "source": [
    "len(data_dr6['ra'])"
   ]
  },
  {
   "cell_type": "code",
   "execution_count": null,
   "id": "14de9483-36a7-480f-bd51-ddc4dca530f2",
   "metadata": {},
   "outputs": [],
   "source": [
    "primary = data_dp0['detect_isPrimary']\n",
    "f, ax = plt.subplots(nrows = 1, ncols=3, figsize=(12, 3), sharey=True)\n",
    "samp=10\n",
    "ax[0].scatter(data_dp0['coord_ra'][primary][::samp], data_dp0['coord_dec'][primary][::samp], s=0.01)\n",
    "ax[1].scatter(data_dr6['ra'][::samp], data_dr6['dec'][::samp], s=0.01)\n",
    "ax[2].scatter(data_dp0['coord_ra'][primary][::samp], data_dp0['coord_dec'][primary][::samp], s=0.01)\n",
    "ax[2].scatter(data_dr6['ra'][::samp], data_dr6['dec'][::samp], s=0.01, alpha=0.2)\n",
    "ax[0].set_title('DP0.2')\n",
    "ax[1].set_title('DR6')\n",
    "ax[2].set_title('Overlay')\n",
    "for i in range(3):\n",
    "    ax[i].set_xlabel('RA [deg]', fontsize=16)\n",
    "    ax[i].set_ylabel('Dec [deg]', fontsize=16)"
   ]
  },
  {
   "cell_type": "code",
   "execution_count": null,
   "id": "a98c86ca-1a75-49ea-ab02-04698a4c582d",
   "metadata": {},
   "outputs": [],
   "source": [
    "import astropy.units as u"
   ]
  },
  {
   "cell_type": "code",
   "execution_count": null,
   "id": "34414dbf-d014-43c8-a450-958c09666e49",
   "metadata": {},
   "outputs": [],
   "source": [
    "mag_i = ((data_dp0['i_cModelFlux'][primary])*u.nJy).to(u.ABmag).value\n",
    "mag_r = ((data_dp0['r_cModelFlux'][primary])*u.nJy).to(u.ABmag).value"
   ]
  },
  {
   "cell_type": "code",
   "execution_count": null,
   "id": "7ad3f531-4484-4d73-9f43-7e3f6c51921b",
   "metadata": {},
   "outputs": [],
   "source": [
    "plt.hist(mag_i, histtype='step', range=(15, 30), bins=100, label='DP0.2')\n",
    "plt.hist(data_dr6['mag_i_cModel'], histtype='step', range=(15, 30), bins=100, label='DR6')\n",
    "plt.xlabel('i-cModelmag', fontsize=16)\n",
    "plt.ylabel('Number of sources', fontsize=16)\n",
    "plt.legend(loc='best')"
   ]
  },
  {
   "cell_type": "code",
   "execution_count": null,
   "id": "a3c1e083-7ff2-48e6-91b5-4f58d5df71f2",
   "metadata": {},
   "outputs": [],
   "source": [
    "plt.hist(mag_r, histtype='step', range=(15, 30), bins=100, label='DP0.2')\n",
    "plt.hist(data_dr6['mag_r_cModel'], histtype='step', range=(15, 30), bins=100, label='DR6')\n",
    "plt.xlabel('r-cModelmag', fontsize=16)\n",
    "plt.ylabel('Number of sources', fontsize=16)\n",
    "plt.legend(loc='best')"
   ]
  },
  {
   "cell_type": "code",
   "execution_count": null,
   "id": "0544bd02-3054-4110-a946-cebd858039c9",
   "metadata": {},
   "outputs": [],
   "source": []
  }
 ],
 "metadata": {
  "kernelspec": {
   "display_name": "desc-python",
   "language": "python",
   "name": "desc-python"
  },
  "language_info": {
   "codemirror_mode": {
    "name": "ipython",
    "version": 3
   },
   "file_extension": ".py",
   "mimetype": "text/x-python",
   "name": "python",
   "nbconvert_exporter": "python",
   "pygments_lexer": "ipython3",
   "version": "3.8.12"
  }
 },
 "nbformat": 4,
 "nbformat_minor": 5
}

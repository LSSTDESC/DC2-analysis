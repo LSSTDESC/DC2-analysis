{
 "cells": [
  {
   "cell_type": "markdown",
   "metadata": {},
   "source": [
    "# Snapshot catalogs basic\n",
    "\n",
    "> Notebook owner: Jonathan Blazek.\n",
    "\n",
    "Read in snapshot catalogs, manipulate, plot, etc.\n",
    "\n",
    "## Notes\n",
    "- Uses the latest GCRreader, which must be downloaded and added to path."
   ]
  },
  {
   "cell_type": "code",
   "execution_count": null,
   "metadata": {},
   "outputs": [],
   "source": [
    "import sys\n",
    "sys.path.insert(0, '~/code/gcr-catalogs')\n",
    "import GCRCatalogs"
   ]
  },
  {
   "cell_type": "code",
   "execution_count": null,
   "metadata": {},
   "outputs": [],
   "source": [
    "import pyccl as ccl"
   ]
  },
  {
   "cell_type": "code",
   "execution_count": null,
   "metadata": {},
   "outputs": [],
   "source": [
    "import numpy as np\n",
    "import matplotlib.pyplot as plt\n",
    "%matplotlib inline"
   ]
  },
  {
   "cell_type": "markdown",
   "metadata": {},
   "source": [
    "# Currently available snapshot catalogs\n",
    "- baseDC2_snapshot_z0.15_v0.1\n",
    "- baseDC2_snapshot_z0.15_v0.1_small\n",
    "- baseDC2_snapshot_z1.01_v0.1"
   ]
  },
  {
   "cell_type": "code",
   "execution_count": null,
   "metadata": {},
   "outputs": [],
   "source": [
    "# load catalog(s)\n",
    "gc = GCRCatalogs.load_catalog('baseDC2_snapshot_z0.15_v0.1_small')\n",
    "gc_full = GCRCatalogs.load_catalog('baseDC2_snapshot_z0.15_v0.1')"
   ]
  },
  {
   "cell_type": "code",
   "execution_count": null,
   "metadata": {},
   "outputs": [],
   "source": [
    "sorted(gc.list_all_quantities())"
   ]
  },
  {
   "cell_type": "code",
   "execution_count": null,
   "metadata": {},
   "outputs": [],
   "source": [
    "data = gc.get_quantities(['halo_mass','position_x','position_y','position_z','x'])\n",
    "data_full = gc_full.get_quantities(['halo_mass','position_x','position_y','position_z','x'])"
   ]
  },
  {
   "cell_type": "code",
   "execution_count": null,
   "metadata": {},
   "outputs": [],
   "source": [
    "#create a slice in z. Arbitrary for now.\n",
    "position_z_min = 10\n",
    "position_z_max = 20\n",
    "data1 = gc.get_quantities(['halo_mass','position_x','position_y','position_z','x'],filters=['position_z < {}'.format(position_z_max),'position_z > {}'.format(position_z_min)])\n",
    "data1_full = gc_full.get_quantities(['halo_mass','position_x','position_y','position_z','x'],filters=['position_z < {}'.format(position_z_max),'position_z > {}'.format(position_z_min)])"
   ]
  },
  {
   "cell_type": "code",
   "execution_count": null,
   "metadata": {},
   "outputs": [],
   "source": [
    "#Quick sanity check\n",
    "print(data)\n",
    "print(data1)"
   ]
  },
  {
   "cell_type": "code",
   "execution_count": null,
   "metadata": {},
   "outputs": [],
   "source": [
    "#plot a subset in (x,y)\n",
    "plt.scatter(data['position_x'][::10],data['position_y'][::10],s=.5)\n",
    "plt.xlim(0,50)\n",
    "plt.ylim(0,50)"
   ]
  },
  {
   "cell_type": "code",
   "execution_count": null,
   "metadata": {},
   "outputs": [],
   "source": [
    "#plot a subset in (x,y) for the slice in z, with point size reflecting halo mass\n",
    "min_mass = np.log10(min(data1['halo_mass'][::1]))\n",
    "area = (2.*(np.log10(data1['halo_mass'][::1])-min_mass))**2\n",
    "plt.scatter(data1['position_x'][::1],data1['position_y'][::1],s=area)\n",
    "plt.xlim(0,100)\n",
    "plt.ylim(0,100)"
   ]
  },
  {
   "cell_type": "code",
   "execution_count": null,
   "metadata": {},
   "outputs": [],
   "source": [
    "# plot the full _small data set. Note the outliers outside of the box which have been (incorrectly?) included.\n",
    "plt.scatter(data['position_x'][::1],data['position_y'][::1],s=.5)"
   ]
  },
  {
   "cell_type": "code",
   "execution_count": null,
   "metadata": {},
   "outputs": [],
   "source": [
    "# plot the z-slice of the full data set, subsampled for speed.\n",
    "plt.scatter(data1_full['position_x'][::10],data1_full['position_y'][::10],s=.5)"
   ]
  },
  {
   "cell_type": "code",
   "execution_count": null,
   "metadata": {},
   "outputs": [],
   "source": []
  }
 ],
 "metadata": {
  "kernelspec": {
   "display_name": "desc-python",
   "language": "python",
   "name": "desc-python"
  },
  "language_info": {
   "codemirror_mode": {
    "name": "ipython",
    "version": 3
   },
   "file_extension": ".py",
   "mimetype": "text/x-python",
   "name": "python",
   "nbconvert_exporter": "python",
   "pygments_lexer": "ipython3",
   "version": "3.6.6"
  }
 },
 "nbformat": 4,
 "nbformat_minor": 2
}
